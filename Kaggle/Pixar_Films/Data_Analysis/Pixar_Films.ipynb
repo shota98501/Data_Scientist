{
 "cells": [
  {
   "cell_type": "code",
   "execution_count": 1,
   "id": "964476f1",
   "metadata": {},
   "outputs": [],
   "source": [
    "import pandas as pd\n",
    "import numpy as np\n",
    "import matplotlib.pyplot as plt\n",
    "import seaborn as sns"
   ]
  },
  {
   "cell_type": "code",
   "execution_count": 2,
   "id": "6cf1eba6",
   "metadata": {},
   "outputs": [
    {
     "data": {
      "application/vnd.microsoft.datawrangler.viewer.v0+json": {
       "columns": [
        {
         "name": "index",
         "rawType": "int64",
         "type": "integer"
        },
        {
         "name": "ID",
         "rawType": "int64",
         "type": "integer"
        },
        {
         "name": "film",
         "rawType": "object",
         "type": "string"
        },
        {
         "name": "film_rating",
         "rawType": "object",
         "type": "string"
        },
        {
         "name": "cinema_score",
         "rawType": "object",
         "type": "string"
        },
        {
         "name": "release_date",
         "rawType": "object",
         "type": "string"
        },
        {
         "name": "run_time",
         "rawType": "int64",
         "type": "integer"
        },
        {
         "name": "budget",
         "rawType": "int64",
         "type": "integer"
        },
        {
         "name": "box_office_us_canada",
         "rawType": "int64",
         "type": "integer"
        },
        {
         "name": "box_office_other",
         "rawType": "int64",
         "type": "integer"
        },
        {
         "name": "box_office_worldwide",
         "rawType": "int64",
         "type": "integer"
        },
        {
         "name": "rotten_tomatoes_score",
         "rawType": "int64",
         "type": "integer"
        },
        {
         "name": "rotten_tomatoes_counts",
         "rawType": "int64",
         "type": "integer"
        },
        {
         "name": "metacritic_score",
         "rawType": "int64",
         "type": "integer"
        },
        {
         "name": "metacritic_counts",
         "rawType": "int64",
         "type": "integer"
        },
        {
         "name": "imdb_score",
         "rawType": "float64",
         "type": "float"
        },
        {
         "name": "imdb_counts",
         "rawType": "int64",
         "type": "integer"
        }
       ],
       "ref": "6224078e-4216-4775-a2a4-2c9e929bf92a",
       "rows": [
        [
         "0",
         "1",
         "Toy Story",
         "G",
         "A",
         "1995-11-22",
         "81",
         "30000000",
         "223225679",
         "171210907",
         "394436586",
         "100",
         "96",
         "95",
         "26",
         "8.3",
         "1089101"
        ],
        [
         "1",
         "2",
         "A Bug's Life",
         "G",
         "A",
         "1998-11-25",
         "95",
         "120000000",
         "162798565",
         "200460294",
         "363258859",
         "92",
         "91",
         "78",
         "23",
         "7.2",
         "319596"
        ],
        [
         "2",
         "3",
         "Toy Story 2",
         "G",
         "A+",
         "1999-11-24",
         "92",
         "90000000",
         "245852179",
         "265506097",
         "511358276",
         "100",
         "172",
         "88",
         "34",
         "7.9",
         "630573"
        ],
        [
         "3",
         "4",
         "Monsters, Inc.",
         "G",
         "A+",
         "2001-11-02",
         "92",
         "115000000",
         "255873250",
         "272900000",
         "528773250",
         "96",
         "199",
         "79",
         "35",
         "8.1",
         "1000657"
        ],
        [
         "4",
         "5",
         "Finding Nemo",
         "G",
         "A+",
         "2003-05-30",
         "100",
         "94000000",
         "339714978",
         "531300000",
         "871014978",
         "99",
         "270",
         "90",
         "38",
         "8.2",
         "1132877"
        ]
       ],
       "shape": {
        "columns": 16,
        "rows": 5
       }
      },
      "text/html": [
       "<div>\n",
       "<style scoped>\n",
       "    .dataframe tbody tr th:only-of-type {\n",
       "        vertical-align: middle;\n",
       "    }\n",
       "\n",
       "    .dataframe tbody tr th {\n",
       "        vertical-align: top;\n",
       "    }\n",
       "\n",
       "    .dataframe thead th {\n",
       "        text-align: right;\n",
       "    }\n",
       "</style>\n",
       "<table border=\"1\" class=\"dataframe\">\n",
       "  <thead>\n",
       "    <tr style=\"text-align: right;\">\n",
       "      <th></th>\n",
       "      <th>ID</th>\n",
       "      <th>film</th>\n",
       "      <th>film_rating</th>\n",
       "      <th>cinema_score</th>\n",
       "      <th>release_date</th>\n",
       "      <th>run_time</th>\n",
       "      <th>budget</th>\n",
       "      <th>box_office_us_canada</th>\n",
       "      <th>box_office_other</th>\n",
       "      <th>box_office_worldwide</th>\n",
       "      <th>rotten_tomatoes_score</th>\n",
       "      <th>rotten_tomatoes_counts</th>\n",
       "      <th>metacritic_score</th>\n",
       "      <th>metacritic_counts</th>\n",
       "      <th>imdb_score</th>\n",
       "      <th>imdb_counts</th>\n",
       "    </tr>\n",
       "  </thead>\n",
       "  <tbody>\n",
       "    <tr>\n",
       "      <th>0</th>\n",
       "      <td>1</td>\n",
       "      <td>Toy Story</td>\n",
       "      <td>G</td>\n",
       "      <td>A</td>\n",
       "      <td>1995-11-22</td>\n",
       "      <td>81</td>\n",
       "      <td>30000000</td>\n",
       "      <td>223225679</td>\n",
       "      <td>171210907</td>\n",
       "      <td>394436586</td>\n",
       "      <td>100</td>\n",
       "      <td>96</td>\n",
       "      <td>95</td>\n",
       "      <td>26</td>\n",
       "      <td>8.3</td>\n",
       "      <td>1089101</td>\n",
       "    </tr>\n",
       "    <tr>\n",
       "      <th>1</th>\n",
       "      <td>2</td>\n",
       "      <td>A Bug's Life</td>\n",
       "      <td>G</td>\n",
       "      <td>A</td>\n",
       "      <td>1998-11-25</td>\n",
       "      <td>95</td>\n",
       "      <td>120000000</td>\n",
       "      <td>162798565</td>\n",
       "      <td>200460294</td>\n",
       "      <td>363258859</td>\n",
       "      <td>92</td>\n",
       "      <td>91</td>\n",
       "      <td>78</td>\n",
       "      <td>23</td>\n",
       "      <td>7.2</td>\n",
       "      <td>319596</td>\n",
       "    </tr>\n",
       "    <tr>\n",
       "      <th>2</th>\n",
       "      <td>3</td>\n",
       "      <td>Toy Story 2</td>\n",
       "      <td>G</td>\n",
       "      <td>A+</td>\n",
       "      <td>1999-11-24</td>\n",
       "      <td>92</td>\n",
       "      <td>90000000</td>\n",
       "      <td>245852179</td>\n",
       "      <td>265506097</td>\n",
       "      <td>511358276</td>\n",
       "      <td>100</td>\n",
       "      <td>172</td>\n",
       "      <td>88</td>\n",
       "      <td>34</td>\n",
       "      <td>7.9</td>\n",
       "      <td>630573</td>\n",
       "    </tr>\n",
       "    <tr>\n",
       "      <th>3</th>\n",
       "      <td>4</td>\n",
       "      <td>Monsters, Inc.</td>\n",
       "      <td>G</td>\n",
       "      <td>A+</td>\n",
       "      <td>2001-11-02</td>\n",
       "      <td>92</td>\n",
       "      <td>115000000</td>\n",
       "      <td>255873250</td>\n",
       "      <td>272900000</td>\n",
       "      <td>528773250</td>\n",
       "      <td>96</td>\n",
       "      <td>199</td>\n",
       "      <td>79</td>\n",
       "      <td>35</td>\n",
       "      <td>8.1</td>\n",
       "      <td>1000657</td>\n",
       "    </tr>\n",
       "    <tr>\n",
       "      <th>4</th>\n",
       "      <td>5</td>\n",
       "      <td>Finding Nemo</td>\n",
       "      <td>G</td>\n",
       "      <td>A+</td>\n",
       "      <td>2003-05-30</td>\n",
       "      <td>100</td>\n",
       "      <td>94000000</td>\n",
       "      <td>339714978</td>\n",
       "      <td>531300000</td>\n",
       "      <td>871014978</td>\n",
       "      <td>99</td>\n",
       "      <td>270</td>\n",
       "      <td>90</td>\n",
       "      <td>38</td>\n",
       "      <td>8.2</td>\n",
       "      <td>1132877</td>\n",
       "    </tr>\n",
       "  </tbody>\n",
       "</table>\n",
       "</div>"
      ],
      "text/plain": [
       "   ID            film film_rating cinema_score release_date  run_time  \\\n",
       "0   1       Toy Story           G            A   1995-11-22        81   \n",
       "1   2    A Bug's Life           G            A   1998-11-25        95   \n",
       "2   3     Toy Story 2           G           A+   1999-11-24        92   \n",
       "3   4  Monsters, Inc.           G           A+   2001-11-02        92   \n",
       "4   5    Finding Nemo           G           A+   2003-05-30       100   \n",
       "\n",
       "      budget  box_office_us_canada  box_office_other  box_office_worldwide  \\\n",
       "0   30000000             223225679         171210907             394436586   \n",
       "1  120000000             162798565         200460294             363258859   \n",
       "2   90000000             245852179         265506097             511358276   \n",
       "3  115000000             255873250         272900000             528773250   \n",
       "4   94000000             339714978         531300000             871014978   \n",
       "\n",
       "   rotten_tomatoes_score  rotten_tomatoes_counts  metacritic_score  \\\n",
       "0                    100                      96                95   \n",
       "1                     92                      91                78   \n",
       "2                    100                     172                88   \n",
       "3                     96                     199                79   \n",
       "4                     99                     270                90   \n",
       "\n",
       "   metacritic_counts  imdb_score  imdb_counts  \n",
       "0                 26         8.3      1089101  \n",
       "1                 23         7.2       319596  \n",
       "2                 34         7.9       630573  \n",
       "3                 35         8.1      1000657  \n",
       "4                 38         8.2      1132877  "
      ]
     },
     "execution_count": 2,
     "metadata": {},
     "output_type": "execute_result"
    }
   ],
   "source": [
    "Data = pd.read_csv(\"../Datasets/pixar_films new.csv\")\n",
    "Data.head()"
   ]
  },
  {
   "cell_type": "code",
   "execution_count": 3,
   "id": "6237af91",
   "metadata": {},
   "outputs": [
    {
     "data": {
      "application/vnd.microsoft.datawrangler.viewer.v0+json": {
       "columns": [
        {
         "name": "index",
         "rawType": "object",
         "type": "string"
        },
        {
         "name": "0",
         "rawType": "int64",
         "type": "integer"
        }
       ],
       "ref": "ad2c45ce-5c9b-4735-9756-ec305884c363",
       "rows": [
        [
         "ID",
         "0"
        ],
        [
         "film",
         "0"
        ],
        [
         "film_rating",
         "0"
        ],
        [
         "cinema_score",
         "3"
        ],
        [
         "release_date",
         "0"
        ],
        [
         "run_time",
         "0"
        ],
        [
         "budget",
         "0"
        ],
        [
         "box_office_us_canada",
         "0"
        ],
        [
         "box_office_other",
         "0"
        ],
        [
         "box_office_worldwide",
         "0"
        ],
        [
         "rotten_tomatoes_score",
         "0"
        ],
        [
         "rotten_tomatoes_counts",
         "0"
        ],
        [
         "metacritic_score",
         "0"
        ],
        [
         "metacritic_counts",
         "0"
        ],
        [
         "imdb_score",
         "0"
        ],
        [
         "imdb_counts",
         "0"
        ]
       ],
       "shape": {
        "columns": 1,
        "rows": 16
       }
      },
      "text/plain": [
       "ID                        0\n",
       "film                      0\n",
       "film_rating               0\n",
       "cinema_score              3\n",
       "release_date              0\n",
       "run_time                  0\n",
       "budget                    0\n",
       "box_office_us_canada      0\n",
       "box_office_other          0\n",
       "box_office_worldwide      0\n",
       "rotten_tomatoes_score     0\n",
       "rotten_tomatoes_counts    0\n",
       "metacritic_score          0\n",
       "metacritic_counts         0\n",
       "imdb_score                0\n",
       "imdb_counts               0\n",
       "dtype: int64"
      ]
     },
     "execution_count": 3,
     "metadata": {},
     "output_type": "execute_result"
    }
   ],
   "source": [
    "Data.isnull().sum()"
   ]
  },
  {
   "cell_type": "code",
   "execution_count": 4,
   "id": "1f07631b",
   "metadata": {},
   "outputs": [
    {
     "data": {
      "application/vnd.microsoft.datawrangler.viewer.v0+json": {
       "columns": [
        {
         "name": "index",
         "rawType": "int64",
         "type": "integer"
        },
        {
         "name": "film",
         "rawType": "object",
         "type": "string"
        },
        {
         "name": "box_office_us_canada",
         "rawType": "int64",
         "type": "integer"
        },
        {
         "name": "box_office_other",
         "rawType": "int64",
         "type": "integer"
        },
        {
         "name": "box_office_worldwide",
         "rawType": "int64",
         "type": "integer"
        }
       ],
       "ref": "c449f563-54d5-4032-b3fb-70934f109278",
       "rows": [
        [
         "0",
         "Toy Story",
         "223225679",
         "171210907",
         "394436586"
        ],
        [
         "1",
         "A Bug's Life",
         "162798565",
         "200460294",
         "363258859"
        ],
        [
         "2",
         "Toy Story 2",
         "245852179",
         "265506097",
         "511358276"
        ],
        [
         "3",
         "Monsters, Inc.",
         "255873250",
         "272900000",
         "528773250"
        ],
        [
         "4",
         "Finding Nemo",
         "339714978",
         "531300000",
         "871014978"
        ],
        [
         "5",
         "The Incredibles",
         "261441092",
         "370001000",
         "631442092"
        ],
        [
         "6",
         "Cars",
         "244082982",
         "217900167",
         "461983149"
        ],
        [
         "7",
         "Ratatouille",
         "206445654",
         "417280431",
         "623726085"
        ],
        [
         "8",
         "WALL-E",
         "223808164",
         "297503696",
         "521311860"
        ],
        [
         "9",
         "Up",
         "293004164",
         "442094918",
         "735099082"
        ],
        [
         "10",
         "Toy Story 3",
         "415004880",
         "651964823",
         "1066969703"
        ],
        [
         "11",
         "Cars 2",
         "191452396",
         "368400000",
         "559852396"
        ],
        [
         "12",
         "Brave",
         "237283207",
         "301700000",
         "538983207"
        ],
        [
         "13",
         "Monsters University",
         "268492764",
         "475066843",
         "743559607"
        ],
        [
         "14",
         "Inside Out",
         "356461711",
         "501149463",
         "857611174"
        ],
        [
         "15",
         "The Good Dinosaur",
         "123087120",
         "209120551",
         "332207671"
        ],
        [
         "16",
         "Finding Dory",
         "486295561",
         "542275328",
         "1028570889"
        ],
        [
         "17",
         "Cars 3",
         "152901115",
         "231029541",
         "383930656"
        ],
        [
         "18",
         "Coco",
         "210460015",
         "604181157",
         "814641172"
        ],
        [
         "19",
         "Incredibles 2",
         "608581744",
         "634223615",
         "1242805359"
        ],
        [
         "20",
         "Toy Story 4",
         "434038008",
         "639356585",
         "1073394593"
        ],
        [
         "21",
         "Onward",
         "61555145",
         "80384897",
         "141940042"
        ],
        [
         "22",
         "Soul",
         "946154",
         "120957731",
         "121903885"
        ],
        [
         "23",
         "Luca",
         "1324302",
         "49788012",
         "51112314"
        ],
        [
         "24",
         "Turning Red",
         "1399001",
         "20414357",
         "21813358"
        ],
        [
         "25",
         "Lightyear",
         "118307188",
         "108118232",
         "226425420"
        ],
        [
         "26",
         "Elemental",
         "154426697",
         "342017611",
         "496444308"
        ],
        [
         "27",
         "Inside Out 2",
         "652980194",
         "1045050771",
         "1698030965"
        ]
       ],
       "shape": {
        "columns": 4,
        "rows": 28
       }
      },
      "text/html": [
       "<div>\n",
       "<style scoped>\n",
       "    .dataframe tbody tr th:only-of-type {\n",
       "        vertical-align: middle;\n",
       "    }\n",
       "\n",
       "    .dataframe tbody tr th {\n",
       "        vertical-align: top;\n",
       "    }\n",
       "\n",
       "    .dataframe thead th {\n",
       "        text-align: right;\n",
       "    }\n",
       "</style>\n",
       "<table border=\"1\" class=\"dataframe\">\n",
       "  <thead>\n",
       "    <tr style=\"text-align: right;\">\n",
       "      <th></th>\n",
       "      <th>film</th>\n",
       "      <th>box_office_us_canada</th>\n",
       "      <th>box_office_other</th>\n",
       "      <th>box_office_worldwide</th>\n",
       "    </tr>\n",
       "  </thead>\n",
       "  <tbody>\n",
       "    <tr>\n",
       "      <th>0</th>\n",
       "      <td>Toy Story</td>\n",
       "      <td>223225679</td>\n",
       "      <td>171210907</td>\n",
       "      <td>394436586</td>\n",
       "    </tr>\n",
       "    <tr>\n",
       "      <th>1</th>\n",
       "      <td>A Bug's Life</td>\n",
       "      <td>162798565</td>\n",
       "      <td>200460294</td>\n",
       "      <td>363258859</td>\n",
       "    </tr>\n",
       "    <tr>\n",
       "      <th>2</th>\n",
       "      <td>Toy Story 2</td>\n",
       "      <td>245852179</td>\n",
       "      <td>265506097</td>\n",
       "      <td>511358276</td>\n",
       "    </tr>\n",
       "    <tr>\n",
       "      <th>3</th>\n",
       "      <td>Monsters, Inc.</td>\n",
       "      <td>255873250</td>\n",
       "      <td>272900000</td>\n",
       "      <td>528773250</td>\n",
       "    </tr>\n",
       "    <tr>\n",
       "      <th>4</th>\n",
       "      <td>Finding Nemo</td>\n",
       "      <td>339714978</td>\n",
       "      <td>531300000</td>\n",
       "      <td>871014978</td>\n",
       "    </tr>\n",
       "    <tr>\n",
       "      <th>5</th>\n",
       "      <td>The Incredibles</td>\n",
       "      <td>261441092</td>\n",
       "      <td>370001000</td>\n",
       "      <td>631442092</td>\n",
       "    </tr>\n",
       "    <tr>\n",
       "      <th>6</th>\n",
       "      <td>Cars</td>\n",
       "      <td>244082982</td>\n",
       "      <td>217900167</td>\n",
       "      <td>461983149</td>\n",
       "    </tr>\n",
       "    <tr>\n",
       "      <th>7</th>\n",
       "      <td>Ratatouille</td>\n",
       "      <td>206445654</td>\n",
       "      <td>417280431</td>\n",
       "      <td>623726085</td>\n",
       "    </tr>\n",
       "    <tr>\n",
       "      <th>8</th>\n",
       "      <td>WALL-E</td>\n",
       "      <td>223808164</td>\n",
       "      <td>297503696</td>\n",
       "      <td>521311860</td>\n",
       "    </tr>\n",
       "    <tr>\n",
       "      <th>9</th>\n",
       "      <td>Up</td>\n",
       "      <td>293004164</td>\n",
       "      <td>442094918</td>\n",
       "      <td>735099082</td>\n",
       "    </tr>\n",
       "    <tr>\n",
       "      <th>10</th>\n",
       "      <td>Toy Story 3</td>\n",
       "      <td>415004880</td>\n",
       "      <td>651964823</td>\n",
       "      <td>1066969703</td>\n",
       "    </tr>\n",
       "    <tr>\n",
       "      <th>11</th>\n",
       "      <td>Cars 2</td>\n",
       "      <td>191452396</td>\n",
       "      <td>368400000</td>\n",
       "      <td>559852396</td>\n",
       "    </tr>\n",
       "    <tr>\n",
       "      <th>12</th>\n",
       "      <td>Brave</td>\n",
       "      <td>237283207</td>\n",
       "      <td>301700000</td>\n",
       "      <td>538983207</td>\n",
       "    </tr>\n",
       "    <tr>\n",
       "      <th>13</th>\n",
       "      <td>Monsters University</td>\n",
       "      <td>268492764</td>\n",
       "      <td>475066843</td>\n",
       "      <td>743559607</td>\n",
       "    </tr>\n",
       "    <tr>\n",
       "      <th>14</th>\n",
       "      <td>Inside Out</td>\n",
       "      <td>356461711</td>\n",
       "      <td>501149463</td>\n",
       "      <td>857611174</td>\n",
       "    </tr>\n",
       "    <tr>\n",
       "      <th>15</th>\n",
       "      <td>The Good Dinosaur</td>\n",
       "      <td>123087120</td>\n",
       "      <td>209120551</td>\n",
       "      <td>332207671</td>\n",
       "    </tr>\n",
       "    <tr>\n",
       "      <th>16</th>\n",
       "      <td>Finding Dory</td>\n",
       "      <td>486295561</td>\n",
       "      <td>542275328</td>\n",
       "      <td>1028570889</td>\n",
       "    </tr>\n",
       "    <tr>\n",
       "      <th>17</th>\n",
       "      <td>Cars 3</td>\n",
       "      <td>152901115</td>\n",
       "      <td>231029541</td>\n",
       "      <td>383930656</td>\n",
       "    </tr>\n",
       "    <tr>\n",
       "      <th>18</th>\n",
       "      <td>Coco</td>\n",
       "      <td>210460015</td>\n",
       "      <td>604181157</td>\n",
       "      <td>814641172</td>\n",
       "    </tr>\n",
       "    <tr>\n",
       "      <th>19</th>\n",
       "      <td>Incredibles 2</td>\n",
       "      <td>608581744</td>\n",
       "      <td>634223615</td>\n",
       "      <td>1242805359</td>\n",
       "    </tr>\n",
       "    <tr>\n",
       "      <th>20</th>\n",
       "      <td>Toy Story 4</td>\n",
       "      <td>434038008</td>\n",
       "      <td>639356585</td>\n",
       "      <td>1073394593</td>\n",
       "    </tr>\n",
       "    <tr>\n",
       "      <th>21</th>\n",
       "      <td>Onward</td>\n",
       "      <td>61555145</td>\n",
       "      <td>80384897</td>\n",
       "      <td>141940042</td>\n",
       "    </tr>\n",
       "    <tr>\n",
       "      <th>22</th>\n",
       "      <td>Soul</td>\n",
       "      <td>946154</td>\n",
       "      <td>120957731</td>\n",
       "      <td>121903885</td>\n",
       "    </tr>\n",
       "    <tr>\n",
       "      <th>23</th>\n",
       "      <td>Luca</td>\n",
       "      <td>1324302</td>\n",
       "      <td>49788012</td>\n",
       "      <td>51112314</td>\n",
       "    </tr>\n",
       "    <tr>\n",
       "      <th>24</th>\n",
       "      <td>Turning Red</td>\n",
       "      <td>1399001</td>\n",
       "      <td>20414357</td>\n",
       "      <td>21813358</td>\n",
       "    </tr>\n",
       "    <tr>\n",
       "      <th>25</th>\n",
       "      <td>Lightyear</td>\n",
       "      <td>118307188</td>\n",
       "      <td>108118232</td>\n",
       "      <td>226425420</td>\n",
       "    </tr>\n",
       "    <tr>\n",
       "      <th>26</th>\n",
       "      <td>Elemental</td>\n",
       "      <td>154426697</td>\n",
       "      <td>342017611</td>\n",
       "      <td>496444308</td>\n",
       "    </tr>\n",
       "    <tr>\n",
       "      <th>27</th>\n",
       "      <td>Inside Out 2</td>\n",
       "      <td>652980194</td>\n",
       "      <td>1045050771</td>\n",
       "      <td>1698030965</td>\n",
       "    </tr>\n",
       "  </tbody>\n",
       "</table>\n",
       "</div>"
      ],
      "text/plain": [
       "                   film  box_office_us_canada  box_office_other  \\\n",
       "0             Toy Story             223225679         171210907   \n",
       "1          A Bug's Life             162798565         200460294   \n",
       "2           Toy Story 2             245852179         265506097   \n",
       "3        Monsters, Inc.             255873250         272900000   \n",
       "4          Finding Nemo             339714978         531300000   \n",
       "5       The Incredibles             261441092         370001000   \n",
       "6                  Cars             244082982         217900167   \n",
       "7           Ratatouille             206445654         417280431   \n",
       "8                WALL-E             223808164         297503696   \n",
       "9                    Up             293004164         442094918   \n",
       "10          Toy Story 3             415004880         651964823   \n",
       "11               Cars 2             191452396         368400000   \n",
       "12                Brave             237283207         301700000   \n",
       "13  Monsters University             268492764         475066843   \n",
       "14           Inside Out             356461711         501149463   \n",
       "15    The Good Dinosaur             123087120         209120551   \n",
       "16         Finding Dory             486295561         542275328   \n",
       "17               Cars 3             152901115         231029541   \n",
       "18                 Coco             210460015         604181157   \n",
       "19        Incredibles 2             608581744         634223615   \n",
       "20          Toy Story 4             434038008         639356585   \n",
       "21               Onward              61555145          80384897   \n",
       "22                 Soul                946154         120957731   \n",
       "23                 Luca               1324302          49788012   \n",
       "24          Turning Red               1399001          20414357   \n",
       "25            Lightyear             118307188         108118232   \n",
       "26            Elemental             154426697         342017611   \n",
       "27         Inside Out 2             652980194        1045050771   \n",
       "\n",
       "    box_office_worldwide  \n",
       "0              394436586  \n",
       "1              363258859  \n",
       "2              511358276  \n",
       "3              528773250  \n",
       "4              871014978  \n",
       "5              631442092  \n",
       "6              461983149  \n",
       "7              623726085  \n",
       "8              521311860  \n",
       "9              735099082  \n",
       "10            1066969703  \n",
       "11             559852396  \n",
       "12             538983207  \n",
       "13             743559607  \n",
       "14             857611174  \n",
       "15             332207671  \n",
       "16            1028570889  \n",
       "17             383930656  \n",
       "18             814641172  \n",
       "19            1242805359  \n",
       "20            1073394593  \n",
       "21             141940042  \n",
       "22             121903885  \n",
       "23              51112314  \n",
       "24              21813358  \n",
       "25             226425420  \n",
       "26             496444308  \n",
       "27            1698030965  "
      ]
     },
     "execution_count": 4,
     "metadata": {},
     "output_type": "execute_result"
    }
   ],
   "source": [
    "Rate_Box_Office = Data[[\"film\", \"box_office_us_canada\", \"box_office_other\", \"box_office_worldwide\"]]\n",
    "Rate_Box_Office"
   ]
  },
  {
   "cell_type": "code",
   "execution_count": 5,
   "id": "90f47196",
   "metadata": {},
   "outputs": [
    {
     "data": {
      "application/vnd.microsoft.datawrangler.viewer.v0+json": {
       "columns": [
        {
         "name": "index",
         "rawType": "int64",
         "type": "integer"
        },
        {
         "name": "film",
         "rawType": "object",
         "type": "string"
        },
        {
         "name": "rotten_tomatoes_score",
         "rawType": "int64",
         "type": "integer"
        },
        {
         "name": "rotten_tomatoes_counts",
         "rawType": "int64",
         "type": "integer"
        }
       ],
       "ref": "5877946b-d8af-41b5-9abd-c60cd0b19a9b",
       "rows": [
        [
         "0",
         "Toy Story",
         "100",
         "96"
        ],
        [
         "1",
         "A Bug's Life",
         "92",
         "91"
        ],
        [
         "2",
         "Toy Story 2",
         "100",
         "172"
        ],
        [
         "3",
         "Monsters, Inc.",
         "96",
         "199"
        ],
        [
         "4",
         "Finding Nemo",
         "99",
         "270"
        ],
        [
         "5",
         "The Incredibles",
         "97",
         "250"
        ],
        [
         "6",
         "Cars",
         "75",
         "204"
        ],
        [
         "7",
         "Ratatouille",
         "96",
         "253"
        ],
        [
         "8",
         "WALL-E",
         "95",
         "261"
        ],
        [
         "9",
         "Up",
         "98",
         "297"
        ],
        [
         "10",
         "Toy Story 3",
         "98",
         "313"
        ],
        [
         "11",
         "Cars 2",
         "40",
         "220"
        ],
        [
         "12",
         "Brave",
         "79",
         "256"
        ],
        [
         "13",
         "Monsters University",
         "80",
         "203"
        ],
        [
         "14",
         "Inside Out",
         "98",
         "387"
        ],
        [
         "15",
         "The Good Dinosaur",
         "75",
         "220"
        ],
        [
         "16",
         "Finding Dory",
         "94",
         "339"
        ],
        [
         "17",
         "Cars 3",
         "69",
         "234"
        ],
        [
         "18",
         "Coco",
         "97",
         "357"
        ],
        [
         "19",
         "Incredibles 2",
         "93",
         "390"
        ],
        [
         "20",
         "Toy Story 4",
         "97",
         "459"
        ],
        [
         "21",
         "Onward",
         "88",
         "350"
        ],
        [
         "22",
         "Soul",
         "95",
         "360"
        ],
        [
         "23",
         "Luca",
         "91",
         "303"
        ],
        [
         "24",
         "Turning Red",
         "95",
         "289"
        ],
        [
         "25",
         "Lightyear",
         "74",
         "319"
        ],
        [
         "26",
         "Elemental",
         "73",
         "262"
        ],
        [
         "27",
         "Inside Out 2",
         "90",
         "313"
        ]
       ],
       "shape": {
        "columns": 3,
        "rows": 28
       }
      },
      "text/html": [
       "<div>\n",
       "<style scoped>\n",
       "    .dataframe tbody tr th:only-of-type {\n",
       "        vertical-align: middle;\n",
       "    }\n",
       "\n",
       "    .dataframe tbody tr th {\n",
       "        vertical-align: top;\n",
       "    }\n",
       "\n",
       "    .dataframe thead th {\n",
       "        text-align: right;\n",
       "    }\n",
       "</style>\n",
       "<table border=\"1\" class=\"dataframe\">\n",
       "  <thead>\n",
       "    <tr style=\"text-align: right;\">\n",
       "      <th></th>\n",
       "      <th>film</th>\n",
       "      <th>rotten_tomatoes_score</th>\n",
       "      <th>rotten_tomatoes_counts</th>\n",
       "    </tr>\n",
       "  </thead>\n",
       "  <tbody>\n",
       "    <tr>\n",
       "      <th>0</th>\n",
       "      <td>Toy Story</td>\n",
       "      <td>100</td>\n",
       "      <td>96</td>\n",
       "    </tr>\n",
       "    <tr>\n",
       "      <th>1</th>\n",
       "      <td>A Bug's Life</td>\n",
       "      <td>92</td>\n",
       "      <td>91</td>\n",
       "    </tr>\n",
       "    <tr>\n",
       "      <th>2</th>\n",
       "      <td>Toy Story 2</td>\n",
       "      <td>100</td>\n",
       "      <td>172</td>\n",
       "    </tr>\n",
       "    <tr>\n",
       "      <th>3</th>\n",
       "      <td>Monsters, Inc.</td>\n",
       "      <td>96</td>\n",
       "      <td>199</td>\n",
       "    </tr>\n",
       "    <tr>\n",
       "      <th>4</th>\n",
       "      <td>Finding Nemo</td>\n",
       "      <td>99</td>\n",
       "      <td>270</td>\n",
       "    </tr>\n",
       "    <tr>\n",
       "      <th>5</th>\n",
       "      <td>The Incredibles</td>\n",
       "      <td>97</td>\n",
       "      <td>250</td>\n",
       "    </tr>\n",
       "    <tr>\n",
       "      <th>6</th>\n",
       "      <td>Cars</td>\n",
       "      <td>75</td>\n",
       "      <td>204</td>\n",
       "    </tr>\n",
       "    <tr>\n",
       "      <th>7</th>\n",
       "      <td>Ratatouille</td>\n",
       "      <td>96</td>\n",
       "      <td>253</td>\n",
       "    </tr>\n",
       "    <tr>\n",
       "      <th>8</th>\n",
       "      <td>WALL-E</td>\n",
       "      <td>95</td>\n",
       "      <td>261</td>\n",
       "    </tr>\n",
       "    <tr>\n",
       "      <th>9</th>\n",
       "      <td>Up</td>\n",
       "      <td>98</td>\n",
       "      <td>297</td>\n",
       "    </tr>\n",
       "    <tr>\n",
       "      <th>10</th>\n",
       "      <td>Toy Story 3</td>\n",
       "      <td>98</td>\n",
       "      <td>313</td>\n",
       "    </tr>\n",
       "    <tr>\n",
       "      <th>11</th>\n",
       "      <td>Cars 2</td>\n",
       "      <td>40</td>\n",
       "      <td>220</td>\n",
       "    </tr>\n",
       "    <tr>\n",
       "      <th>12</th>\n",
       "      <td>Brave</td>\n",
       "      <td>79</td>\n",
       "      <td>256</td>\n",
       "    </tr>\n",
       "    <tr>\n",
       "      <th>13</th>\n",
       "      <td>Monsters University</td>\n",
       "      <td>80</td>\n",
       "      <td>203</td>\n",
       "    </tr>\n",
       "    <tr>\n",
       "      <th>14</th>\n",
       "      <td>Inside Out</td>\n",
       "      <td>98</td>\n",
       "      <td>387</td>\n",
       "    </tr>\n",
       "    <tr>\n",
       "      <th>15</th>\n",
       "      <td>The Good Dinosaur</td>\n",
       "      <td>75</td>\n",
       "      <td>220</td>\n",
       "    </tr>\n",
       "    <tr>\n",
       "      <th>16</th>\n",
       "      <td>Finding Dory</td>\n",
       "      <td>94</td>\n",
       "      <td>339</td>\n",
       "    </tr>\n",
       "    <tr>\n",
       "      <th>17</th>\n",
       "      <td>Cars 3</td>\n",
       "      <td>69</td>\n",
       "      <td>234</td>\n",
       "    </tr>\n",
       "    <tr>\n",
       "      <th>18</th>\n",
       "      <td>Coco</td>\n",
       "      <td>97</td>\n",
       "      <td>357</td>\n",
       "    </tr>\n",
       "    <tr>\n",
       "      <th>19</th>\n",
       "      <td>Incredibles 2</td>\n",
       "      <td>93</td>\n",
       "      <td>390</td>\n",
       "    </tr>\n",
       "    <tr>\n",
       "      <th>20</th>\n",
       "      <td>Toy Story 4</td>\n",
       "      <td>97</td>\n",
       "      <td>459</td>\n",
       "    </tr>\n",
       "    <tr>\n",
       "      <th>21</th>\n",
       "      <td>Onward</td>\n",
       "      <td>88</td>\n",
       "      <td>350</td>\n",
       "    </tr>\n",
       "    <tr>\n",
       "      <th>22</th>\n",
       "      <td>Soul</td>\n",
       "      <td>95</td>\n",
       "      <td>360</td>\n",
       "    </tr>\n",
       "    <tr>\n",
       "      <th>23</th>\n",
       "      <td>Luca</td>\n",
       "      <td>91</td>\n",
       "      <td>303</td>\n",
       "    </tr>\n",
       "    <tr>\n",
       "      <th>24</th>\n",
       "      <td>Turning Red</td>\n",
       "      <td>95</td>\n",
       "      <td>289</td>\n",
       "    </tr>\n",
       "    <tr>\n",
       "      <th>25</th>\n",
       "      <td>Lightyear</td>\n",
       "      <td>74</td>\n",
       "      <td>319</td>\n",
       "    </tr>\n",
       "    <tr>\n",
       "      <th>26</th>\n",
       "      <td>Elemental</td>\n",
       "      <td>73</td>\n",
       "      <td>262</td>\n",
       "    </tr>\n",
       "    <tr>\n",
       "      <th>27</th>\n",
       "      <td>Inside Out 2</td>\n",
       "      <td>90</td>\n",
       "      <td>313</td>\n",
       "    </tr>\n",
       "  </tbody>\n",
       "</table>\n",
       "</div>"
      ],
      "text/plain": [
       "                   film  rotten_tomatoes_score  rotten_tomatoes_counts\n",
       "0             Toy Story                    100                      96\n",
       "1          A Bug's Life                     92                      91\n",
       "2           Toy Story 2                    100                     172\n",
       "3        Monsters, Inc.                     96                     199\n",
       "4          Finding Nemo                     99                     270\n",
       "5       The Incredibles                     97                     250\n",
       "6                  Cars                     75                     204\n",
       "7           Ratatouille                     96                     253\n",
       "8                WALL-E                     95                     261\n",
       "9                    Up                     98                     297\n",
       "10          Toy Story 3                     98                     313\n",
       "11               Cars 2                     40                     220\n",
       "12                Brave                     79                     256\n",
       "13  Monsters University                     80                     203\n",
       "14           Inside Out                     98                     387\n",
       "15    The Good Dinosaur                     75                     220\n",
       "16         Finding Dory                     94                     339\n",
       "17               Cars 3                     69                     234\n",
       "18                 Coco                     97                     357\n",
       "19        Incredibles 2                     93                     390\n",
       "20          Toy Story 4                     97                     459\n",
       "21               Onward                     88                     350\n",
       "22                 Soul                     95                     360\n",
       "23                 Luca                     91                     303\n",
       "24          Turning Red                     95                     289\n",
       "25            Lightyear                     74                     319\n",
       "26            Elemental                     73                     262\n",
       "27         Inside Out 2                     90                     313"
      ]
     },
     "execution_count": 5,
     "metadata": {},
     "output_type": "execute_result"
    }
   ],
   "source": [
    "Rate_Rotten_Tomatoes = Data[[\"film\", \"rotten_tomatoes_score\", \"rotten_tomatoes_counts\"]]\n",
    "Rate_Rotten_Tomatoes"
   ]
  },
  {
   "cell_type": "code",
   "execution_count": 6,
   "id": "f599b3d9",
   "metadata": {},
   "outputs": [
    {
     "data": {
      "application/vnd.microsoft.datawrangler.viewer.v0+json": {
       "columns": [
        {
         "name": "index",
         "rawType": "int64",
         "type": "integer"
        },
        {
         "name": "film",
         "rawType": "object",
         "type": "string"
        },
        {
         "name": "metacritic_score",
         "rawType": "int64",
         "type": "integer"
        },
        {
         "name": "metacritic_counts",
         "rawType": "int64",
         "type": "integer"
        }
       ],
       "ref": "121490af-8403-484c-8be1-d6d33795a7a5",
       "rows": [
        [
         "0",
         "Toy Story",
         "95",
         "26"
        ],
        [
         "1",
         "A Bug's Life",
         "78",
         "23"
        ],
        [
         "2",
         "Toy Story 2",
         "88",
         "34"
        ],
        [
         "3",
         "Monsters, Inc.",
         "79",
         "35"
        ],
        [
         "4",
         "Finding Nemo",
         "90",
         "38"
        ],
        [
         "5",
         "The Incredibles",
         "90",
         "41"
        ],
        [
         "6",
         "Cars",
         "73",
         "39"
        ],
        [
         "7",
         "Ratatouille",
         "96",
         "37"
        ],
        [
         "8",
         "WALL-E",
         "95",
         "39"
        ],
        [
         "9",
         "Up",
         "88",
         "37"
        ],
        [
         "10",
         "Toy Story 3",
         "92",
         "39"
        ],
        [
         "11",
         "Cars 2",
         "57",
         "38"
        ],
        [
         "12",
         "Brave",
         "69",
         "37"
        ],
        [
         "13",
         "Monsters University",
         "65",
         "41"
        ],
        [
         "14",
         "Inside Out",
         "94",
         "55"
        ],
        [
         "15",
         "The Good Dinosaur",
         "66",
         "37"
        ],
        [
         "16",
         "Finding Dory",
         "77",
         "48"
        ],
        [
         "17",
         "Cars 3",
         "59",
         "41"
        ],
        [
         "18",
         "Coco",
         "81",
         "48"
        ],
        [
         "19",
         "Incredibles 2",
         "80",
         "51"
        ],
        [
         "20",
         "Toy Story 4",
         "84",
         "57"
        ],
        [
         "21",
         "Onward",
         "64",
         "56"
        ],
        [
         "22",
         "Soul",
         "83",
         "55"
        ],
        [
         "23",
         "Luca",
         "71",
         "52"
        ],
        [
         "24",
         "Turning Red",
         "83",
         "52"
        ],
        [
         "25",
         "Lightyear",
         "60",
         "57"
        ],
        [
         "26",
         "Elemental",
         "58",
         "45"
        ],
        [
         "27",
         "Inside Out 2",
         "73",
         "59"
        ]
       ],
       "shape": {
        "columns": 3,
        "rows": 28
       }
      },
      "text/html": [
       "<div>\n",
       "<style scoped>\n",
       "    .dataframe tbody tr th:only-of-type {\n",
       "        vertical-align: middle;\n",
       "    }\n",
       "\n",
       "    .dataframe tbody tr th {\n",
       "        vertical-align: top;\n",
       "    }\n",
       "\n",
       "    .dataframe thead th {\n",
       "        text-align: right;\n",
       "    }\n",
       "</style>\n",
       "<table border=\"1\" class=\"dataframe\">\n",
       "  <thead>\n",
       "    <tr style=\"text-align: right;\">\n",
       "      <th></th>\n",
       "      <th>film</th>\n",
       "      <th>metacritic_score</th>\n",
       "      <th>metacritic_counts</th>\n",
       "    </tr>\n",
       "  </thead>\n",
       "  <tbody>\n",
       "    <tr>\n",
       "      <th>0</th>\n",
       "      <td>Toy Story</td>\n",
       "      <td>95</td>\n",
       "      <td>26</td>\n",
       "    </tr>\n",
       "    <tr>\n",
       "      <th>1</th>\n",
       "      <td>A Bug's Life</td>\n",
       "      <td>78</td>\n",
       "      <td>23</td>\n",
       "    </tr>\n",
       "    <tr>\n",
       "      <th>2</th>\n",
       "      <td>Toy Story 2</td>\n",
       "      <td>88</td>\n",
       "      <td>34</td>\n",
       "    </tr>\n",
       "    <tr>\n",
       "      <th>3</th>\n",
       "      <td>Monsters, Inc.</td>\n",
       "      <td>79</td>\n",
       "      <td>35</td>\n",
       "    </tr>\n",
       "    <tr>\n",
       "      <th>4</th>\n",
       "      <td>Finding Nemo</td>\n",
       "      <td>90</td>\n",
       "      <td>38</td>\n",
       "    </tr>\n",
       "    <tr>\n",
       "      <th>5</th>\n",
       "      <td>The Incredibles</td>\n",
       "      <td>90</td>\n",
       "      <td>41</td>\n",
       "    </tr>\n",
       "    <tr>\n",
       "      <th>6</th>\n",
       "      <td>Cars</td>\n",
       "      <td>73</td>\n",
       "      <td>39</td>\n",
       "    </tr>\n",
       "    <tr>\n",
       "      <th>7</th>\n",
       "      <td>Ratatouille</td>\n",
       "      <td>96</td>\n",
       "      <td>37</td>\n",
       "    </tr>\n",
       "    <tr>\n",
       "      <th>8</th>\n",
       "      <td>WALL-E</td>\n",
       "      <td>95</td>\n",
       "      <td>39</td>\n",
       "    </tr>\n",
       "    <tr>\n",
       "      <th>9</th>\n",
       "      <td>Up</td>\n",
       "      <td>88</td>\n",
       "      <td>37</td>\n",
       "    </tr>\n",
       "    <tr>\n",
       "      <th>10</th>\n",
       "      <td>Toy Story 3</td>\n",
       "      <td>92</td>\n",
       "      <td>39</td>\n",
       "    </tr>\n",
       "    <tr>\n",
       "      <th>11</th>\n",
       "      <td>Cars 2</td>\n",
       "      <td>57</td>\n",
       "      <td>38</td>\n",
       "    </tr>\n",
       "    <tr>\n",
       "      <th>12</th>\n",
       "      <td>Brave</td>\n",
       "      <td>69</td>\n",
       "      <td>37</td>\n",
       "    </tr>\n",
       "    <tr>\n",
       "      <th>13</th>\n",
       "      <td>Monsters University</td>\n",
       "      <td>65</td>\n",
       "      <td>41</td>\n",
       "    </tr>\n",
       "    <tr>\n",
       "      <th>14</th>\n",
       "      <td>Inside Out</td>\n",
       "      <td>94</td>\n",
       "      <td>55</td>\n",
       "    </tr>\n",
       "    <tr>\n",
       "      <th>15</th>\n",
       "      <td>The Good Dinosaur</td>\n",
       "      <td>66</td>\n",
       "      <td>37</td>\n",
       "    </tr>\n",
       "    <tr>\n",
       "      <th>16</th>\n",
       "      <td>Finding Dory</td>\n",
       "      <td>77</td>\n",
       "      <td>48</td>\n",
       "    </tr>\n",
       "    <tr>\n",
       "      <th>17</th>\n",
       "      <td>Cars 3</td>\n",
       "      <td>59</td>\n",
       "      <td>41</td>\n",
       "    </tr>\n",
       "    <tr>\n",
       "      <th>18</th>\n",
       "      <td>Coco</td>\n",
       "      <td>81</td>\n",
       "      <td>48</td>\n",
       "    </tr>\n",
       "    <tr>\n",
       "      <th>19</th>\n",
       "      <td>Incredibles 2</td>\n",
       "      <td>80</td>\n",
       "      <td>51</td>\n",
       "    </tr>\n",
       "    <tr>\n",
       "      <th>20</th>\n",
       "      <td>Toy Story 4</td>\n",
       "      <td>84</td>\n",
       "      <td>57</td>\n",
       "    </tr>\n",
       "    <tr>\n",
       "      <th>21</th>\n",
       "      <td>Onward</td>\n",
       "      <td>64</td>\n",
       "      <td>56</td>\n",
       "    </tr>\n",
       "    <tr>\n",
       "      <th>22</th>\n",
       "      <td>Soul</td>\n",
       "      <td>83</td>\n",
       "      <td>55</td>\n",
       "    </tr>\n",
       "    <tr>\n",
       "      <th>23</th>\n",
       "      <td>Luca</td>\n",
       "      <td>71</td>\n",
       "      <td>52</td>\n",
       "    </tr>\n",
       "    <tr>\n",
       "      <th>24</th>\n",
       "      <td>Turning Red</td>\n",
       "      <td>83</td>\n",
       "      <td>52</td>\n",
       "    </tr>\n",
       "    <tr>\n",
       "      <th>25</th>\n",
       "      <td>Lightyear</td>\n",
       "      <td>60</td>\n",
       "      <td>57</td>\n",
       "    </tr>\n",
       "    <tr>\n",
       "      <th>26</th>\n",
       "      <td>Elemental</td>\n",
       "      <td>58</td>\n",
       "      <td>45</td>\n",
       "    </tr>\n",
       "    <tr>\n",
       "      <th>27</th>\n",
       "      <td>Inside Out 2</td>\n",
       "      <td>73</td>\n",
       "      <td>59</td>\n",
       "    </tr>\n",
       "  </tbody>\n",
       "</table>\n",
       "</div>"
      ],
      "text/plain": [
       "                   film  metacritic_score  metacritic_counts\n",
       "0             Toy Story                95                 26\n",
       "1          A Bug's Life                78                 23\n",
       "2           Toy Story 2                88                 34\n",
       "3        Monsters, Inc.                79                 35\n",
       "4          Finding Nemo                90                 38\n",
       "5       The Incredibles                90                 41\n",
       "6                  Cars                73                 39\n",
       "7           Ratatouille                96                 37\n",
       "8                WALL-E                95                 39\n",
       "9                    Up                88                 37\n",
       "10          Toy Story 3                92                 39\n",
       "11               Cars 2                57                 38\n",
       "12                Brave                69                 37\n",
       "13  Monsters University                65                 41\n",
       "14           Inside Out                94                 55\n",
       "15    The Good Dinosaur                66                 37\n",
       "16         Finding Dory                77                 48\n",
       "17               Cars 3                59                 41\n",
       "18                 Coco                81                 48\n",
       "19        Incredibles 2                80                 51\n",
       "20          Toy Story 4                84                 57\n",
       "21               Onward                64                 56\n",
       "22                 Soul                83                 55\n",
       "23                 Luca                71                 52\n",
       "24          Turning Red                83                 52\n",
       "25            Lightyear                60                 57\n",
       "26            Elemental                58                 45\n",
       "27         Inside Out 2                73                 59"
      ]
     },
     "execution_count": 6,
     "metadata": {},
     "output_type": "execute_result"
    }
   ],
   "source": [
    "Rate_Metacritic = Data[[\"film\", \"metacritic_score\", \"metacritic_counts\"]]\n",
    "Rate_Metacritic"
   ]
  },
  {
   "cell_type": "code",
   "execution_count": null,
   "id": "4cc1011c",
   "metadata": {},
   "outputs": [],
   "source": []
  }
 ],
 "metadata": {
  "kernelspec": {
   "display_name": "basic2",
   "language": "python",
   "name": "python3"
  },
  "language_info": {
   "codemirror_mode": {
    "name": "ipython",
    "version": 3
   },
   "file_extension": ".py",
   "mimetype": "text/x-python",
   "name": "python",
   "nbconvert_exporter": "python",
   "pygments_lexer": "ipython3",
   "version": "3.11.13"
  }
 },
 "nbformat": 4,
 "nbformat_minor": 5
}
