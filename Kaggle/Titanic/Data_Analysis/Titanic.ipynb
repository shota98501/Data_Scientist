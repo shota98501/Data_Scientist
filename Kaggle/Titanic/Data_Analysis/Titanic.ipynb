{
 "cells": [
  {
   "cell_type": "code",
   "execution_count": 19,
   "id": "ea20159c",
   "metadata": {},
   "outputs": [],
   "source": [
    "import pandas as pd\n",
    "import numpy as np"
   ]
  },
  {
   "cell_type": "code",
   "execution_count": 20,
   "id": "591a9876",
   "metadata": {},
   "outputs": [
    {
     "data": {
      "application/vnd.microsoft.datawrangler.viewer.v0+json": {
       "columns": [
        {
         "name": "index",
         "rawType": "int64",
         "type": "integer"
        },
        {
         "name": "PassengerId",
         "rawType": "int64",
         "type": "integer"
        },
        {
         "name": "Survived",
         "rawType": "int64",
         "type": "integer"
        },
        {
         "name": "Pclass",
         "rawType": "int64",
         "type": "integer"
        },
        {
         "name": "Name",
         "rawType": "object",
         "type": "string"
        },
        {
         "name": "Sex",
         "rawType": "object",
         "type": "string"
        },
        {
         "name": "Age",
         "rawType": "float64",
         "type": "float"
        },
        {
         "name": "SibSp",
         "rawType": "int64",
         "type": "integer"
        },
        {
         "name": "Parch",
         "rawType": "int64",
         "type": "integer"
        },
        {
         "name": "Ticket",
         "rawType": "object",
         "type": "string"
        },
        {
         "name": "Fare",
         "rawType": "float64",
         "type": "float"
        },
        {
         "name": "Cabin",
         "rawType": "object",
         "type": "unknown"
        },
        {
         "name": "Embarked",
         "rawType": "object",
         "type": "string"
        }
       ],
       "ref": "e063a1a6-7562-4202-bd89-f65e220ff5a3",
       "rows": [
        [
         "0",
         "1",
         "0",
         "3",
         "Braund, Mr. Owen Harris",
         "male",
         "22.0",
         "1",
         "0",
         "A/5 21171",
         "7.25",
         null,
         "S"
        ],
        [
         "1",
         "2",
         "1",
         "1",
         "Cumings, Mrs. John Bradley (Florence Briggs Thayer)",
         "female",
         "38.0",
         "1",
         "0",
         "PC 17599",
         "71.2833",
         "C85",
         "C"
        ],
        [
         "2",
         "3",
         "1",
         "3",
         "Heikkinen, Miss. Laina",
         "female",
         "26.0",
         "0",
         "0",
         "STON/O2. 3101282",
         "7.925",
         null,
         "S"
        ],
        [
         "3",
         "4",
         "1",
         "1",
         "Futrelle, Mrs. Jacques Heath (Lily May Peel)",
         "female",
         "35.0",
         "1",
         "0",
         "113803",
         "53.1",
         "C123",
         "S"
        ],
        [
         "4",
         "5",
         "0",
         "3",
         "Allen, Mr. William Henry",
         "male",
         "35.0",
         "0",
         "0",
         "373450",
         "8.05",
         null,
         "S"
        ]
       ],
       "shape": {
        "columns": 12,
        "rows": 5
       }
      },
      "text/html": [
       "<div>\n",
       "<style scoped>\n",
       "    .dataframe tbody tr th:only-of-type {\n",
       "        vertical-align: middle;\n",
       "    }\n",
       "\n",
       "    .dataframe tbody tr th {\n",
       "        vertical-align: top;\n",
       "    }\n",
       "\n",
       "    .dataframe thead th {\n",
       "        text-align: right;\n",
       "    }\n",
       "</style>\n",
       "<table border=\"1\" class=\"dataframe\">\n",
       "  <thead>\n",
       "    <tr style=\"text-align: right;\">\n",
       "      <th></th>\n",
       "      <th>PassengerId</th>\n",
       "      <th>Survived</th>\n",
       "      <th>Pclass</th>\n",
       "      <th>Name</th>\n",
       "      <th>Sex</th>\n",
       "      <th>Age</th>\n",
       "      <th>SibSp</th>\n",
       "      <th>Parch</th>\n",
       "      <th>Ticket</th>\n",
       "      <th>Fare</th>\n",
       "      <th>Cabin</th>\n",
       "      <th>Embarked</th>\n",
       "    </tr>\n",
       "  </thead>\n",
       "  <tbody>\n",
       "    <tr>\n",
       "      <th>0</th>\n",
       "      <td>1</td>\n",
       "      <td>0</td>\n",
       "      <td>3</td>\n",
       "      <td>Braund, Mr. Owen Harris</td>\n",
       "      <td>male</td>\n",
       "      <td>22.0</td>\n",
       "      <td>1</td>\n",
       "      <td>0</td>\n",
       "      <td>A/5 21171</td>\n",
       "      <td>7.2500</td>\n",
       "      <td>NaN</td>\n",
       "      <td>S</td>\n",
       "    </tr>\n",
       "    <tr>\n",
       "      <th>1</th>\n",
       "      <td>2</td>\n",
       "      <td>1</td>\n",
       "      <td>1</td>\n",
       "      <td>Cumings, Mrs. John Bradley (Florence Briggs Th...</td>\n",
       "      <td>female</td>\n",
       "      <td>38.0</td>\n",
       "      <td>1</td>\n",
       "      <td>0</td>\n",
       "      <td>PC 17599</td>\n",
       "      <td>71.2833</td>\n",
       "      <td>C85</td>\n",
       "      <td>C</td>\n",
       "    </tr>\n",
       "    <tr>\n",
       "      <th>2</th>\n",
       "      <td>3</td>\n",
       "      <td>1</td>\n",
       "      <td>3</td>\n",
       "      <td>Heikkinen, Miss. Laina</td>\n",
       "      <td>female</td>\n",
       "      <td>26.0</td>\n",
       "      <td>0</td>\n",
       "      <td>0</td>\n",
       "      <td>STON/O2. 3101282</td>\n",
       "      <td>7.9250</td>\n",
       "      <td>NaN</td>\n",
       "      <td>S</td>\n",
       "    </tr>\n",
       "    <tr>\n",
       "      <th>3</th>\n",
       "      <td>4</td>\n",
       "      <td>1</td>\n",
       "      <td>1</td>\n",
       "      <td>Futrelle, Mrs. Jacques Heath (Lily May Peel)</td>\n",
       "      <td>female</td>\n",
       "      <td>35.0</td>\n",
       "      <td>1</td>\n",
       "      <td>0</td>\n",
       "      <td>113803</td>\n",
       "      <td>53.1000</td>\n",
       "      <td>C123</td>\n",
       "      <td>S</td>\n",
       "    </tr>\n",
       "    <tr>\n",
       "      <th>4</th>\n",
       "      <td>5</td>\n",
       "      <td>0</td>\n",
       "      <td>3</td>\n",
       "      <td>Allen, Mr. William Henry</td>\n",
       "      <td>male</td>\n",
       "      <td>35.0</td>\n",
       "      <td>0</td>\n",
       "      <td>0</td>\n",
       "      <td>373450</td>\n",
       "      <td>8.0500</td>\n",
       "      <td>NaN</td>\n",
       "      <td>S</td>\n",
       "    </tr>\n",
       "  </tbody>\n",
       "</table>\n",
       "</div>"
      ],
      "text/plain": [
       "   PassengerId  Survived  Pclass  ...     Fare Cabin  Embarked\n",
       "0            1         0       3  ...   7.2500   NaN         S\n",
       "1            2         1       1  ...  71.2833   C85         C\n",
       "2            3         1       3  ...   7.9250   NaN         S\n",
       "3            4         1       1  ...  53.1000  C123         S\n",
       "4            5         0       3  ...   8.0500   NaN         S\n",
       "\n",
       "[5 rows x 12 columns]"
      ]
     },
     "execution_count": 20,
     "metadata": {},
     "output_type": "execute_result"
    }
   ],
   "source": [
    "train = pd.read_csv(\"../Datasets/train.csv\")\n",
    "train.head()"
   ]
  },
  {
   "cell_type": "code",
   "execution_count": 21,
   "id": "dae9dba6",
   "metadata": {},
   "outputs": [
    {
     "data": {
      "application/vnd.microsoft.datawrangler.viewer.v0+json": {
       "columns": [
        {
         "name": "index",
         "rawType": "int64",
         "type": "integer"
        },
        {
         "name": "PassengerId",
         "rawType": "int64",
         "type": "integer"
        },
        {
         "name": "Pclass",
         "rawType": "int64",
         "type": "integer"
        },
        {
         "name": "Name",
         "rawType": "object",
         "type": "string"
        },
        {
         "name": "Sex",
         "rawType": "object",
         "type": "string"
        },
        {
         "name": "Age",
         "rawType": "float64",
         "type": "float"
        },
        {
         "name": "SibSp",
         "rawType": "int64",
         "type": "integer"
        },
        {
         "name": "Parch",
         "rawType": "int64",
         "type": "integer"
        },
        {
         "name": "Ticket",
         "rawType": "object",
         "type": "string"
        },
        {
         "name": "Fare",
         "rawType": "float64",
         "type": "float"
        },
        {
         "name": "Cabin",
         "rawType": "object",
         "type": "unknown"
        },
        {
         "name": "Embarked",
         "rawType": "object",
         "type": "string"
        }
       ],
       "ref": "3e3dad26-b7b7-4e56-9f6c-ae669856dae9",
       "rows": [
        [
         "0",
         "892",
         "3",
         "Kelly, Mr. James",
         "male",
         "34.5",
         "0",
         "0",
         "330911",
         "7.8292",
         null,
         "Q"
        ],
        [
         "1",
         "893",
         "3",
         "Wilkes, Mrs. James (Ellen Needs)",
         "female",
         "47.0",
         "1",
         "0",
         "363272",
         "7.0",
         null,
         "S"
        ],
        [
         "2",
         "894",
         "2",
         "Myles, Mr. Thomas Francis",
         "male",
         "62.0",
         "0",
         "0",
         "240276",
         "9.6875",
         null,
         "Q"
        ],
        [
         "3",
         "895",
         "3",
         "Wirz, Mr. Albert",
         "male",
         "27.0",
         "0",
         "0",
         "315154",
         "8.6625",
         null,
         "S"
        ],
        [
         "4",
         "896",
         "3",
         "Hirvonen, Mrs. Alexander (Helga E Lindqvist)",
         "female",
         "22.0",
         "1",
         "1",
         "3101298",
         "12.2875",
         null,
         "S"
        ]
       ],
       "shape": {
        "columns": 11,
        "rows": 5
       }
      },
      "text/html": [
       "<div>\n",
       "<style scoped>\n",
       "    .dataframe tbody tr th:only-of-type {\n",
       "        vertical-align: middle;\n",
       "    }\n",
       "\n",
       "    .dataframe tbody tr th {\n",
       "        vertical-align: top;\n",
       "    }\n",
       "\n",
       "    .dataframe thead th {\n",
       "        text-align: right;\n",
       "    }\n",
       "</style>\n",
       "<table border=\"1\" class=\"dataframe\">\n",
       "  <thead>\n",
       "    <tr style=\"text-align: right;\">\n",
       "      <th></th>\n",
       "      <th>PassengerId</th>\n",
       "      <th>Pclass</th>\n",
       "      <th>Name</th>\n",
       "      <th>Sex</th>\n",
       "      <th>Age</th>\n",
       "      <th>SibSp</th>\n",
       "      <th>Parch</th>\n",
       "      <th>Ticket</th>\n",
       "      <th>Fare</th>\n",
       "      <th>Cabin</th>\n",
       "      <th>Embarked</th>\n",
       "    </tr>\n",
       "  </thead>\n",
       "  <tbody>\n",
       "    <tr>\n",
       "      <th>0</th>\n",
       "      <td>892</td>\n",
       "      <td>3</td>\n",
       "      <td>Kelly, Mr. James</td>\n",
       "      <td>male</td>\n",
       "      <td>34.5</td>\n",
       "      <td>0</td>\n",
       "      <td>0</td>\n",
       "      <td>330911</td>\n",
       "      <td>7.8292</td>\n",
       "      <td>NaN</td>\n",
       "      <td>Q</td>\n",
       "    </tr>\n",
       "    <tr>\n",
       "      <th>1</th>\n",
       "      <td>893</td>\n",
       "      <td>3</td>\n",
       "      <td>Wilkes, Mrs. James (Ellen Needs)</td>\n",
       "      <td>female</td>\n",
       "      <td>47.0</td>\n",
       "      <td>1</td>\n",
       "      <td>0</td>\n",
       "      <td>363272</td>\n",
       "      <td>7.0000</td>\n",
       "      <td>NaN</td>\n",
       "      <td>S</td>\n",
       "    </tr>\n",
       "    <tr>\n",
       "      <th>2</th>\n",
       "      <td>894</td>\n",
       "      <td>2</td>\n",
       "      <td>Myles, Mr. Thomas Francis</td>\n",
       "      <td>male</td>\n",
       "      <td>62.0</td>\n",
       "      <td>0</td>\n",
       "      <td>0</td>\n",
       "      <td>240276</td>\n",
       "      <td>9.6875</td>\n",
       "      <td>NaN</td>\n",
       "      <td>Q</td>\n",
       "    </tr>\n",
       "    <tr>\n",
       "      <th>3</th>\n",
       "      <td>895</td>\n",
       "      <td>3</td>\n",
       "      <td>Wirz, Mr. Albert</td>\n",
       "      <td>male</td>\n",
       "      <td>27.0</td>\n",
       "      <td>0</td>\n",
       "      <td>0</td>\n",
       "      <td>315154</td>\n",
       "      <td>8.6625</td>\n",
       "      <td>NaN</td>\n",
       "      <td>S</td>\n",
       "    </tr>\n",
       "    <tr>\n",
       "      <th>4</th>\n",
       "      <td>896</td>\n",
       "      <td>3</td>\n",
       "      <td>Hirvonen, Mrs. Alexander (Helga E Lindqvist)</td>\n",
       "      <td>female</td>\n",
       "      <td>22.0</td>\n",
       "      <td>1</td>\n",
       "      <td>1</td>\n",
       "      <td>3101298</td>\n",
       "      <td>12.2875</td>\n",
       "      <td>NaN</td>\n",
       "      <td>S</td>\n",
       "    </tr>\n",
       "  </tbody>\n",
       "</table>\n",
       "</div>"
      ],
      "text/plain": [
       "   PassengerId  Pclass  ... Cabin Embarked\n",
       "0          892       3  ...   NaN        Q\n",
       "1          893       3  ...   NaN        S\n",
       "2          894       2  ...   NaN        Q\n",
       "3          895       3  ...   NaN        S\n",
       "4          896       3  ...   NaN        S\n",
       "\n",
       "[5 rows x 11 columns]"
      ]
     },
     "execution_count": 21,
     "metadata": {},
     "output_type": "execute_result"
    }
   ],
   "source": [
    "test = pd.read_csv(\"../Datasets/test.csv\")\n",
    "test.head()"
   ]
  },
  {
   "cell_type": "code",
   "execution_count": 22,
   "id": "da5190f6",
   "metadata": {},
   "outputs": [
    {
     "data": {
      "application/vnd.microsoft.datawrangler.viewer.v0+json": {
       "columns": [
        {
         "name": "index",
         "rawType": "int64",
         "type": "integer"
        },
        {
         "name": "Survived",
         "rawType": "int64",
         "type": "integer"
        },
        {
         "name": "Pclass",
         "rawType": "int64",
         "type": "integer"
        },
        {
         "name": "Name",
         "rawType": "object",
         "type": "string"
        },
        {
         "name": "Sex",
         "rawType": "object",
         "type": "string"
        },
        {
         "name": "Age",
         "rawType": "float64",
         "type": "float"
        }
       ],
       "ref": "f4fcf752-ab2b-4870-be10-2c825f42c957",
       "rows": [
        [
         "0",
         "0",
         "3",
         "Braund, Mr. Owen Harris",
         "male",
         "22.0"
        ],
        [
         "1",
         "1",
         "1",
         "Cumings, Mrs. John Bradley (Florence Briggs Thayer)",
         "female",
         "38.0"
        ],
        [
         "2",
         "1",
         "3",
         "Heikkinen, Miss. Laina",
         "female",
         "26.0"
        ],
        [
         "3",
         "1",
         "1",
         "Futrelle, Mrs. Jacques Heath (Lily May Peel)",
         "female",
         "35.0"
        ],
        [
         "4",
         "0",
         "3",
         "Allen, Mr. William Henry",
         "male",
         "35.0"
        ],
        [
         "5",
         "0",
         "3",
         "Moran, Mr. James",
         "male",
         null
        ],
        [
         "6",
         "0",
         "1",
         "McCarthy, Mr. Timothy J",
         "male",
         "54.0"
        ],
        [
         "7",
         "0",
         "3",
         "Palsson, Master. Gosta Leonard",
         "male",
         "2.0"
        ],
        [
         "8",
         "1",
         "3",
         "Johnson, Mrs. Oscar W (Elisabeth Vilhelmina Berg)",
         "female",
         "27.0"
        ],
        [
         "9",
         "1",
         "2",
         "Nasser, Mrs. Nicholas (Adele Achem)",
         "female",
         "14.0"
        ],
        [
         "10",
         "1",
         "3",
         "Sandstrom, Miss. Marguerite Rut",
         "female",
         "4.0"
        ],
        [
         "11",
         "1",
         "1",
         "Bonnell, Miss. Elizabeth",
         "female",
         "58.0"
        ],
        [
         "12",
         "0",
         "3",
         "Saundercock, Mr. William Henry",
         "male",
         "20.0"
        ],
        [
         "13",
         "0",
         "3",
         "Andersson, Mr. Anders Johan",
         "male",
         "39.0"
        ],
        [
         "14",
         "0",
         "3",
         "Vestrom, Miss. Hulda Amanda Adolfina",
         "female",
         "14.0"
        ],
        [
         "15",
         "1",
         "2",
         "Hewlett, Mrs. (Mary D Kingcome) ",
         "female",
         "55.0"
        ],
        [
         "16",
         "0",
         "3",
         "Rice, Master. Eugene",
         "male",
         "2.0"
        ],
        [
         "17",
         "1",
         "2",
         "Williams, Mr. Charles Eugene",
         "male",
         null
        ],
        [
         "18",
         "0",
         "3",
         "Vander Planke, Mrs. Julius (Emelia Maria Vandemoortele)",
         "female",
         "31.0"
        ],
        [
         "19",
         "1",
         "3",
         "Masselmani, Mrs. Fatima",
         "female",
         null
        ],
        [
         "20",
         "0",
         "2",
         "Fynney, Mr. Joseph J",
         "male",
         "35.0"
        ],
        [
         "21",
         "1",
         "2",
         "Beesley, Mr. Lawrence",
         "male",
         "34.0"
        ],
        [
         "22",
         "1",
         "3",
         "McGowan, Miss. Anna \"Annie\"",
         "female",
         "15.0"
        ],
        [
         "23",
         "1",
         "1",
         "Sloper, Mr. William Thompson",
         "male",
         "28.0"
        ],
        [
         "24",
         "0",
         "3",
         "Palsson, Miss. Torborg Danira",
         "female",
         "8.0"
        ],
        [
         "25",
         "1",
         "3",
         "Asplund, Mrs. Carl Oscar (Selma Augusta Emilia Johansson)",
         "female",
         "38.0"
        ],
        [
         "26",
         "0",
         "3",
         "Emir, Mr. Farred Chehab",
         "male",
         null
        ],
        [
         "27",
         "0",
         "1",
         "Fortune, Mr. Charles Alexander",
         "male",
         "19.0"
        ],
        [
         "28",
         "1",
         "3",
         "O'Dwyer, Miss. Ellen \"Nellie\"",
         "female",
         null
        ],
        [
         "29",
         "0",
         "3",
         "Todoroff, Mr. Lalio",
         "male",
         null
        ],
        [
         "30",
         "0",
         "1",
         "Uruchurtu, Don. Manuel E",
         "male",
         "40.0"
        ],
        [
         "31",
         "1",
         "1",
         "Spencer, Mrs. William Augustus (Marie Eugenie)",
         "female",
         null
        ],
        [
         "32",
         "1",
         "3",
         "Glynn, Miss. Mary Agatha",
         "female",
         null
        ],
        [
         "33",
         "0",
         "2",
         "Wheadon, Mr. Edward H",
         "male",
         "66.0"
        ],
        [
         "34",
         "0",
         "1",
         "Meyer, Mr. Edgar Joseph",
         "male",
         "28.0"
        ],
        [
         "35",
         "0",
         "1",
         "Holverson, Mr. Alexander Oskar",
         "male",
         "42.0"
        ],
        [
         "36",
         "1",
         "3",
         "Mamee, Mr. Hanna",
         "male",
         null
        ],
        [
         "37",
         "0",
         "3",
         "Cann, Mr. Ernest Charles",
         "male",
         "21.0"
        ],
        [
         "38",
         "0",
         "3",
         "Vander Planke, Miss. Augusta Maria",
         "female",
         "18.0"
        ],
        [
         "39",
         "1",
         "3",
         "Nicola-Yarred, Miss. Jamila",
         "female",
         "14.0"
        ],
        [
         "40",
         "0",
         "3",
         "Ahlin, Mrs. Johan (Johanna Persdotter Larsson)",
         "female",
         "40.0"
        ],
        [
         "41",
         "0",
         "2",
         "Turpin, Mrs. William John Robert (Dorothy Ann Wonnacott)",
         "female",
         "27.0"
        ],
        [
         "42",
         "0",
         "3",
         "Kraeff, Mr. Theodor",
         "male",
         null
        ],
        [
         "43",
         "1",
         "2",
         "Laroche, Miss. Simonne Marie Anne Andree",
         "female",
         "3.0"
        ],
        [
         "44",
         "1",
         "3",
         "Devaney, Miss. Margaret Delia",
         "female",
         "19.0"
        ],
        [
         "45",
         "0",
         "3",
         "Rogers, Mr. William John",
         "male",
         null
        ],
        [
         "46",
         "0",
         "3",
         "Lennon, Mr. Denis",
         "male",
         null
        ],
        [
         "47",
         "1",
         "3",
         "O'Driscoll, Miss. Bridget",
         "female",
         null
        ],
        [
         "48",
         "0",
         "3",
         "Samaan, Mr. Youssef",
         "male",
         null
        ],
        [
         "49",
         "0",
         "3",
         "Arnold-Franchi, Mrs. Josef (Josefine Franchi)",
         "female",
         "18.0"
        ]
       ],
       "shape": {
        "columns": 5,
        "rows": 891
       }
      },
      "text/html": [
       "<div>\n",
       "<style scoped>\n",
       "    .dataframe tbody tr th:only-of-type {\n",
       "        vertical-align: middle;\n",
       "    }\n",
       "\n",
       "    .dataframe tbody tr th {\n",
       "        vertical-align: top;\n",
       "    }\n",
       "\n",
       "    .dataframe thead th {\n",
       "        text-align: right;\n",
       "    }\n",
       "</style>\n",
       "<table border=\"1\" class=\"dataframe\">\n",
       "  <thead>\n",
       "    <tr style=\"text-align: right;\">\n",
       "      <th></th>\n",
       "      <th>Survived</th>\n",
       "      <th>Pclass</th>\n",
       "      <th>Name</th>\n",
       "      <th>Sex</th>\n",
       "      <th>Age</th>\n",
       "    </tr>\n",
       "  </thead>\n",
       "  <tbody>\n",
       "    <tr>\n",
       "      <th>0</th>\n",
       "      <td>0</td>\n",
       "      <td>3</td>\n",
       "      <td>Braund, Mr. Owen Harris</td>\n",
       "      <td>male</td>\n",
       "      <td>22.0</td>\n",
       "    </tr>\n",
       "    <tr>\n",
       "      <th>1</th>\n",
       "      <td>1</td>\n",
       "      <td>1</td>\n",
       "      <td>Cumings, Mrs. John Bradley (Florence Briggs Th...</td>\n",
       "      <td>female</td>\n",
       "      <td>38.0</td>\n",
       "    </tr>\n",
       "    <tr>\n",
       "      <th>2</th>\n",
       "      <td>1</td>\n",
       "      <td>3</td>\n",
       "      <td>Heikkinen, Miss. Laina</td>\n",
       "      <td>female</td>\n",
       "      <td>26.0</td>\n",
       "    </tr>\n",
       "    <tr>\n",
       "      <th>3</th>\n",
       "      <td>1</td>\n",
       "      <td>1</td>\n",
       "      <td>Futrelle, Mrs. Jacques Heath (Lily May Peel)</td>\n",
       "      <td>female</td>\n",
       "      <td>35.0</td>\n",
       "    </tr>\n",
       "    <tr>\n",
       "      <th>4</th>\n",
       "      <td>0</td>\n",
       "      <td>3</td>\n",
       "      <td>Allen, Mr. William Henry</td>\n",
       "      <td>male</td>\n",
       "      <td>35.0</td>\n",
       "    </tr>\n",
       "    <tr>\n",
       "      <th>...</th>\n",
       "      <td>...</td>\n",
       "      <td>...</td>\n",
       "      <td>...</td>\n",
       "      <td>...</td>\n",
       "      <td>...</td>\n",
       "    </tr>\n",
       "    <tr>\n",
       "      <th>886</th>\n",
       "      <td>0</td>\n",
       "      <td>2</td>\n",
       "      <td>Montvila, Rev. Juozas</td>\n",
       "      <td>male</td>\n",
       "      <td>27.0</td>\n",
       "    </tr>\n",
       "    <tr>\n",
       "      <th>887</th>\n",
       "      <td>1</td>\n",
       "      <td>1</td>\n",
       "      <td>Graham, Miss. Margaret Edith</td>\n",
       "      <td>female</td>\n",
       "      <td>19.0</td>\n",
       "    </tr>\n",
       "    <tr>\n",
       "      <th>888</th>\n",
       "      <td>0</td>\n",
       "      <td>3</td>\n",
       "      <td>Johnston, Miss. Catherine Helen \"Carrie\"</td>\n",
       "      <td>female</td>\n",
       "      <td>NaN</td>\n",
       "    </tr>\n",
       "    <tr>\n",
       "      <th>889</th>\n",
       "      <td>1</td>\n",
       "      <td>1</td>\n",
       "      <td>Behr, Mr. Karl Howell</td>\n",
       "      <td>male</td>\n",
       "      <td>26.0</td>\n",
       "    </tr>\n",
       "    <tr>\n",
       "      <th>890</th>\n",
       "      <td>0</td>\n",
       "      <td>3</td>\n",
       "      <td>Dooley, Mr. Patrick</td>\n",
       "      <td>male</td>\n",
       "      <td>32.0</td>\n",
       "    </tr>\n",
       "  </tbody>\n",
       "</table>\n",
       "<p>891 rows × 5 columns</p>\n",
       "</div>"
      ],
      "text/plain": [
       "     Survived  Pclass  ...     Sex   Age\n",
       "0           0       3  ...    male  22.0\n",
       "1           1       1  ...  female  38.0\n",
       "2           1       3  ...  female  26.0\n",
       "3           1       1  ...  female  35.0\n",
       "4           0       3  ...    male  35.0\n",
       "..        ...     ...  ...     ...   ...\n",
       "886         0       2  ...    male  27.0\n",
       "887         1       1  ...  female  19.0\n",
       "888         0       3  ...  female   NaN\n",
       "889         1       1  ...    male  26.0\n",
       "890         0       3  ...    male  32.0\n",
       "\n",
       "[891 rows x 5 columns]"
      ]
     },
     "execution_count": 22,
     "metadata": {},
     "output_type": "execute_result"
    }
   ],
   "source": [
    "Main = train[[\"Survived\", \"Pclass\", \"Name\", \"Sex\", \"Age\"]]\n",
    "Main"
   ]
  },
  {
   "cell_type": "code",
   "execution_count": 23,
   "id": "42ff33ce",
   "metadata": {},
   "outputs": [
    {
     "data": {
      "application/vnd.microsoft.datawrangler.viewer.v0+json": {
       "columns": [
        {
         "name": "index",
         "rawType": "int64",
         "type": "integer"
        },
        {
         "name": "Survived",
         "rawType": "int64",
         "type": "integer"
        }
       ],
       "ref": "ec42eb99-c126-4ed3-9e28-2030614705fc",
       "rows": [
        [
         "0",
         "0"
        ],
        [
         "4",
         "0"
        ],
        [
         "5",
         "0"
        ],
        [
         "6",
         "0"
        ],
        [
         "7",
         "0"
        ],
        [
         "12",
         "0"
        ],
        [
         "13",
         "0"
        ],
        [
         "16",
         "0"
        ],
        [
         "17",
         "1"
        ],
        [
         "20",
         "0"
        ],
        [
         "21",
         "1"
        ],
        [
         "23",
         "1"
        ],
        [
         "26",
         "0"
        ],
        [
         "27",
         "0"
        ],
        [
         "29",
         "0"
        ],
        [
         "30",
         "0"
        ],
        [
         "33",
         "0"
        ],
        [
         "34",
         "0"
        ],
        [
         "35",
         "0"
        ],
        [
         "36",
         "1"
        ],
        [
         "37",
         "0"
        ],
        [
         "42",
         "0"
        ],
        [
         "45",
         "0"
        ],
        [
         "46",
         "0"
        ],
        [
         "48",
         "0"
        ],
        [
         "50",
         "0"
        ],
        [
         "51",
         "0"
        ],
        [
         "54",
         "0"
        ],
        [
         "55",
         "1"
        ],
        [
         "57",
         "0"
        ],
        [
         "59",
         "0"
        ],
        [
         "60",
         "0"
        ],
        [
         "62",
         "0"
        ],
        [
         "63",
         "0"
        ],
        [
         "64",
         "0"
        ],
        [
         "65",
         "1"
        ],
        [
         "67",
         "0"
        ],
        [
         "69",
         "0"
        ],
        [
         "70",
         "0"
        ],
        [
         "72",
         "0"
        ],
        [
         "73",
         "0"
        ],
        [
         "74",
         "1"
        ],
        [
         "75",
         "0"
        ],
        [
         "76",
         "0"
        ],
        [
         "77",
         "0"
        ],
        [
         "78",
         "1"
        ],
        [
         "80",
         "0"
        ],
        [
         "81",
         "1"
        ],
        [
         "83",
         "0"
        ],
        [
         "86",
         "0"
        ]
       ],
       "shape": {
        "columns": 1,
        "rows": 577
       }
      },
      "text/plain": [
       "0      0\n",
       "4      0\n",
       "5      0\n",
       "6      0\n",
       "7      0\n",
       "      ..\n",
       "883    0\n",
       "884    0\n",
       "886    0\n",
       "889    1\n",
       "890    0\n",
       "Name: Survived, Length: 577, dtype: int64"
      ]
     },
     "execution_count": 23,
     "metadata": {},
     "output_type": "execute_result"
    }
   ],
   "source": [
    "Men = Main.loc[Main.Sex==\"male\"][\"Survived\"]\n",
    "Men"
   ]
  },
  {
   "cell_type": "code",
   "execution_count": 24,
   "id": "d5d7b323",
   "metadata": {},
   "outputs": [
    {
     "data": {
      "application/vnd.microsoft.datawrangler.viewer.v0+json": {
       "columns": [
        {
         "name": "Survived",
         "rawType": "int64",
         "type": "integer"
        },
        {
         "name": "count",
         "rawType": "int64",
         "type": "integer"
        }
       ],
       "ref": "f965de98-f666-4a66-a3b6-1745bbe69332",
       "rows": [
        [
         "0",
         "468"
        ],
        [
         "1",
         "109"
        ]
       ],
       "shape": {
        "columns": 1,
        "rows": 2
       }
      },
      "text/plain": [
       "Survived\n",
       "0    468\n",
       "1    109\n",
       "Name: count, dtype: int64"
      ]
     },
     "execution_count": 24,
     "metadata": {},
     "output_type": "execute_result"
    }
   ],
   "source": [
    "Men.value_counts()"
   ]
  },
  {
   "cell_type": "code",
   "execution_count": 25,
   "id": "06a335b2",
   "metadata": {},
   "outputs": [
    {
     "data": {
      "text/plain": [
       "0.18890814558058924"
      ]
     },
     "execution_count": 25,
     "metadata": {},
     "output_type": "execute_result"
    }
   ],
   "source": [
    "Rate_Men = sum(Men) / len(Men)\n",
    "Rate_Men"
   ]
  },
  {
   "cell_type": "code",
   "execution_count": 26,
   "id": "2dfb3d54",
   "metadata": {},
   "outputs": [
    {
     "data": {
      "application/vnd.microsoft.datawrangler.viewer.v0+json": {
       "columns": [
        {
         "name": "index",
         "rawType": "int64",
         "type": "integer"
        },
        {
         "name": "Survived",
         "rawType": "int64",
         "type": "integer"
        }
       ],
       "ref": "0777ee86-6f45-4f2d-b407-cd1cdd27b786",
       "rows": [
        [
         "1",
         "1"
        ],
        [
         "2",
         "1"
        ],
        [
         "3",
         "1"
        ],
        [
         "8",
         "1"
        ],
        [
         "9",
         "1"
        ],
        [
         "10",
         "1"
        ],
        [
         "11",
         "1"
        ],
        [
         "14",
         "0"
        ],
        [
         "15",
         "1"
        ],
        [
         "18",
         "0"
        ],
        [
         "19",
         "1"
        ],
        [
         "22",
         "1"
        ],
        [
         "24",
         "0"
        ],
        [
         "25",
         "1"
        ],
        [
         "28",
         "1"
        ],
        [
         "31",
         "1"
        ],
        [
         "32",
         "1"
        ],
        [
         "38",
         "0"
        ],
        [
         "39",
         "1"
        ],
        [
         "40",
         "0"
        ],
        [
         "41",
         "0"
        ],
        [
         "43",
         "1"
        ],
        [
         "44",
         "1"
        ],
        [
         "47",
         "1"
        ],
        [
         "49",
         "0"
        ],
        [
         "52",
         "1"
        ],
        [
         "53",
         "1"
        ],
        [
         "56",
         "1"
        ],
        [
         "58",
         "1"
        ],
        [
         "61",
         "1"
        ],
        [
         "66",
         "1"
        ],
        [
         "68",
         "1"
        ],
        [
         "71",
         "0"
        ],
        [
         "79",
         "1"
        ],
        [
         "82",
         "1"
        ],
        [
         "84",
         "1"
        ],
        [
         "85",
         "1"
        ],
        [
         "88",
         "1"
        ],
        [
         "98",
         "1"
        ],
        [
         "100",
         "0"
        ],
        [
         "106",
         "1"
        ],
        [
         "109",
         "1"
        ],
        [
         "111",
         "0"
        ],
        [
         "113",
         "0"
        ],
        [
         "114",
         "0"
        ],
        [
         "119",
         "0"
        ],
        [
         "123",
         "1"
        ],
        [
         "128",
         "1"
        ],
        [
         "132",
         "0"
        ],
        [
         "133",
         "1"
        ]
       ],
       "shape": {
        "columns": 1,
        "rows": 314
       }
      },
      "text/plain": [
       "1      1\n",
       "2      1\n",
       "3      1\n",
       "8      1\n",
       "9      1\n",
       "      ..\n",
       "880    1\n",
       "882    0\n",
       "885    0\n",
       "887    1\n",
       "888    0\n",
       "Name: Survived, Length: 314, dtype: int64"
      ]
     },
     "execution_count": 26,
     "metadata": {},
     "output_type": "execute_result"
    }
   ],
   "source": [
    "Women = Main.loc[Main.Sex==\"female\"][\"Survived\"]\n",
    "Women"
   ]
  },
  {
   "cell_type": "code",
   "execution_count": 27,
   "id": "d69b123b",
   "metadata": {},
   "outputs": [
    {
     "data": {
      "application/vnd.microsoft.datawrangler.viewer.v0+json": {
       "columns": [
        {
         "name": "Survived",
         "rawType": "int64",
         "type": "integer"
        },
        {
         "name": "count",
         "rawType": "int64",
         "type": "integer"
        }
       ],
       "ref": "8914f7a6-8cef-48f3-92df-fcba074cbc83",
       "rows": [
        [
         "1",
         "233"
        ],
        [
         "0",
         "81"
        ]
       ],
       "shape": {
        "columns": 1,
        "rows": 2
       }
      },
      "text/plain": [
       "Survived\n",
       "1    233\n",
       "0     81\n",
       "Name: count, dtype: int64"
      ]
     },
     "execution_count": 27,
     "metadata": {},
     "output_type": "execute_result"
    }
   ],
   "source": [
    "Women.value_counts()"
   ]
  },
  {
   "cell_type": "code",
   "execution_count": 28,
   "id": "80c9b8d6",
   "metadata": {},
   "outputs": [
    {
     "data": {
      "text/plain": [
       "0.7420382165605095"
      ]
     },
     "execution_count": 28,
     "metadata": {},
     "output_type": "execute_result"
    }
   ],
   "source": [
    "Rate_Women = sum(Women) / len(Women)\n",
    "Rate_Women"
   ]
  },
  {
   "cell_type": "markdown",
   "id": "a6f5391b",
   "metadata": {},
   "source": [
    "Survival Rate by Pclass and Sex"
   ]
  },
  {
   "cell_type": "code",
   "execution_count": 29,
   "id": "d5c46f02",
   "metadata": {},
   "outputs": [
    {
     "data": {
      "application/vnd.microsoft.datawrangler.viewer.v0+json": {
       "columns": [
        {
         "name": "index",
         "rawType": "int64",
         "type": "integer"
        },
        {
         "name": "Pclass",
         "rawType": "int64",
         "type": "integer"
        },
        {
         "name": "Sex",
         "rawType": "object",
         "type": "string"
        },
        {
         "name": "Survived",
         "rawType": "float64",
         "type": "float"
        }
       ],
       "ref": "0f3b8ac0-23e5-4809-b314-0edd927398f3",
       "rows": [
        [
         "0",
         "1",
         "female",
         "0.9680851063829787"
        ],
        [
         "1",
         "1",
         "male",
         "0.36885245901639346"
        ],
        [
         "2",
         "2",
         "female",
         "0.9210526315789473"
        ],
        [
         "3",
         "2",
         "male",
         "0.1574074074074074"
        ],
        [
         "4",
         "3",
         "female",
         "0.5"
        ],
        [
         "5",
         "3",
         "male",
         "0.13544668587896252"
        ]
       ],
       "shape": {
        "columns": 3,
        "rows": 6
       }
      },
      "text/html": [
       "<div>\n",
       "<style scoped>\n",
       "    .dataframe tbody tr th:only-of-type {\n",
       "        vertical-align: middle;\n",
       "    }\n",
       "\n",
       "    .dataframe tbody tr th {\n",
       "        vertical-align: top;\n",
       "    }\n",
       "\n",
       "    .dataframe thead th {\n",
       "        text-align: right;\n",
       "    }\n",
       "</style>\n",
       "<table border=\"1\" class=\"dataframe\">\n",
       "  <thead>\n",
       "    <tr style=\"text-align: right;\">\n",
       "      <th></th>\n",
       "      <th>Pclass</th>\n",
       "      <th>Sex</th>\n",
       "      <th>Survived</th>\n",
       "    </tr>\n",
       "  </thead>\n",
       "  <tbody>\n",
       "    <tr>\n",
       "      <th>0</th>\n",
       "      <td>1</td>\n",
       "      <td>female</td>\n",
       "      <td>0.968085</td>\n",
       "    </tr>\n",
       "    <tr>\n",
       "      <th>1</th>\n",
       "      <td>1</td>\n",
       "      <td>male</td>\n",
       "      <td>0.368852</td>\n",
       "    </tr>\n",
       "    <tr>\n",
       "      <th>2</th>\n",
       "      <td>2</td>\n",
       "      <td>female</td>\n",
       "      <td>0.921053</td>\n",
       "    </tr>\n",
       "    <tr>\n",
       "      <th>3</th>\n",
       "      <td>2</td>\n",
       "      <td>male</td>\n",
       "      <td>0.157407</td>\n",
       "    </tr>\n",
       "    <tr>\n",
       "      <th>4</th>\n",
       "      <td>3</td>\n",
       "      <td>female</td>\n",
       "      <td>0.500000</td>\n",
       "    </tr>\n",
       "    <tr>\n",
       "      <th>5</th>\n",
       "      <td>3</td>\n",
       "      <td>male</td>\n",
       "      <td>0.135447</td>\n",
       "    </tr>\n",
       "  </tbody>\n",
       "</table>\n",
       "</div>"
      ],
      "text/plain": [
       "   Pclass     Sex  Survived\n",
       "0       1  female  0.968085\n",
       "1       1    male  0.368852\n",
       "2       2  female  0.921053\n",
       "3       2    male  0.157407\n",
       "4       3  female  0.500000\n",
       "5       3    male  0.135447"
      ]
     },
     "execution_count": 29,
     "metadata": {},
     "output_type": "execute_result"
    }
   ],
   "source": [
    "Rate_Pclass = Main.groupby([\"Pclass\", \"Sex\"])[\"Survived\"].mean().reset_index()\n",
    "Rate_Pclass"
   ]
  },
  {
   "cell_type": "code",
   "execution_count": 30,
   "id": "11495aa9",
   "metadata": {},
   "outputs": [],
   "source": [
    "import matplotlib.pyplot as plt\n",
    "import seaborn as sns"
   ]
  },
  {
   "cell_type": "code",
   "execution_count": 31,
   "id": "c03d7846",
   "metadata": {},
   "outputs": [
    {
     "data": {
      "image/png": "[encoded data removed]",
      "text/plain": [
       "<Figure size 600x400 with 1 Axes>"
      ]
     },
     "metadata": {},
     "output_type": "display_data"
    }
   ],
   "source": [
    "plt.figure(figsize=(6,4))\n",
    "sns.barplot(data=Rate_Pclass, x=\"Pclass\", y=\"Survived\", hue=\"Sex\")\n",
    "\n",
    "plt.title(\"Survival Rate by Pclass and Sex\")\n",
    "plt.ylabel(\"Survival Rate\")\n",
    "plt.xlabel(\"Pclass\")\n",
    "plt.ylim(0,1)\n",
    "plt.legend(title=\"Sex\")\n",
    "plt.show()"
   ]
  },
  {
   "cell_type": "markdown",
   "id": "0d0a58ee",
   "metadata": {},
   "source": [
    "Machine Learning"
   ]
  },
  {
   "cell_type": "code",
   "execution_count": 32,
   "id": "e592ddeb",
   "metadata": {},
   "outputs": [],
   "source": [
    "from sklearn.model_selection import train_test_split\n",
    "from sklearn.ensemble import RandomForestClassifier\n",
    "from sklearn.metrics import accuracy_score, confusion_matrix, classification_report"
   ]
  },
  {
   "cell_type": "code",
   "execution_count": 33,
   "id": "e8cf6c8e",
   "metadata": {},
   "outputs": [],
   "source": [
    "df = train[[\"Survived\", \"Pclass\", \"Sex\", \"Age\", \"Fare\"]].dropna()"
   ]
  },
  {
   "cell_type": "code",
   "execution_count": 34,
   "id": "5842b7e0",
   "metadata": {},
   "outputs": [],
   "source": [
    "df = pd.get_dummies(df, columns=[\"Sex\"], drop_first=True)"
   ]
  },
  {
   "cell_type": "code",
   "execution_count": 35,
   "id": "f31efebe",
   "metadata": {},
   "outputs": [],
   "source": [
    "X = df.drop(\"Survived\", axis=1)\n",
    "y = df[\"Survived\"]"
   ]
  },
  {
   "cell_type": "code",
   "execution_count": 36,
   "id": "6e46058b",
   "metadata": {},
   "outputs": [
    {
     "name": "stdout",
     "output_type": "stream",
     "text": [
      "Accuracy: 0.7622377622377622\n",
      "Confusion Matrix:\n",
      ": [[70 17]\n",
      " [17 39]]\n",
      "Classfication Report:\n",
      ":               precision    recall  f1-score   support\n",
      "\n",
      "           0       0.80      0.80      0.80        87\n",
      "           1       0.70      0.70      0.70        56\n",
      "\n",
      "    accuracy                           0.76       143\n",
      "   macro avg       0.75      0.75      0.75       143\n",
      "weighted avg       0.76      0.76      0.76       143\n",
      "\n"
     ]
    },
    {
     "data": {
      "image/png": "[encoded data removed]",
      "text/plain": [
       "<Figure size 640x480 with 1 Axes>"
      ]
     },
     "metadata": {},
     "output_type": "display_data"
    }
   ],
   "source": [
    "X_train, X_test, y_train, y_test = train_test_split(X, y, test_size=0.2, random_state=42)\n",
    "\n",
    "model = RandomForestClassifier(n_estimators=100,random_state=42)\n",
    "model.fit(X_train, y_train)\n",
    "\n",
    "y_pred = model.predict(X_test)\n",
    "\n",
    "print(\"Accuracy:\", accuracy_score(y_test, y_pred))\n",
    "print(\"Confusion Matrix:\\n:\", confusion_matrix(y_test, y_pred))\n",
    "print(\"Classfication Report:\\n:\", classification_report(y_test, y_pred))\n",
    "\n",
    "importance = pd.Series(model.feature_importances_, index=X.columns)\n",
    "importance.sort_values().plot(kind=\"barh\")\n",
    "plt.title(\"Feature Importance\")\n",
    "plt.show()"
   ]
  },
  {
   "cell_type": "code",
   "execution_count": null,
   "id": "43d948d8",
   "metadata": {},
   "outputs": [],
   "source": []
  }
 ],
 "metadata": {
  "kernelspec": {
   "display_name": "basic2",
   "language": "python",
   "name": "python3"
  },
  "language_info": {
   "codemirror_mode": {
    "name": "ipython",
    "version": 3
   },
   "file_extension": ".py",
   "mimetype": "text/x-python",
   "name": "python",
   "nbconvert_exporter": "python",
   "pygments_lexer": "ipython3",
   "version": "3.11.13"
  }
 },
 "nbformat": 4,
 "nbformat_minor": 5
}
