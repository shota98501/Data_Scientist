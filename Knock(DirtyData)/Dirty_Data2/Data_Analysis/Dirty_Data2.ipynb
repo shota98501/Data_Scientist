{
 "cells": [
  {
   "cell_type": "code",
   "execution_count": 2,
   "id": "5f781bec",
   "metadata": {},
   "outputs": [],
   "source": [
    "import pandas as pd"
   ]
  },
  {
   "cell_type": "code",
   "execution_count": 3,
   "id": "eab0cbdc",
   "metadata": {},
   "outputs": [
    {
     "data": {
      "application/vnd.microsoft.datawrangler.viewer.v0+json": {
       "columns": [
        {
         "name": "index",
         "rawType": "int64",
         "type": "integer"
        },
        {
         "name": "purchase_date",
         "rawType": "object",
         "type": "string"
        },
        {
         "name": "item_name",
         "rawType": "object",
         "type": "string"
        },
        {
         "name": "item_price",
         "rawType": "float64",
         "type": "float"
        },
        {
         "name": "customer_name",
         "rawType": "object",
         "type": "string"
        }
       ],
       "ref": "8e659c07-44a6-4af7-9f08-5dee709834d6",
       "rows": [
        [
         "0",
         "2019-06-13 18:02:34",
         "商品A",
         "100.0",
         "深井菜々美"
        ],
        [
         "1",
         "2019-07-13 13:05:29",
         "商 品 S",
         null,
         "浅田賢二"
        ],
        [
         "2",
         "2019-05-11 19:42:07",
         "商 品 a",
         null,
         "南部慶二"
        ],
        [
         "3",
         "2019-02-12 23:40:45",
         "商品Z",
         "2600.0",
         "麻生莉緒"
        ],
        [
         "4",
         "2019-04-22 03:09:35",
         "商品a",
         null,
         "平田鉄二"
        ]
       ],
       "shape": {
        "columns": 4,
        "rows": 5
       }
      },
      "text/html": [
       "<div>\n",
       "<style scoped>\n",
       "    .dataframe tbody tr th:only-of-type {\n",
       "        vertical-align: middle;\n",
       "    }\n",
       "\n",
       "    .dataframe tbody tr th {\n",
       "        vertical-align: top;\n",
       "    }\n",
       "\n",
       "    .dataframe thead th {\n",
       "        text-align: right;\n",
       "    }\n",
       "</style>\n",
       "<table border=\"1\" class=\"dataframe\">\n",
       "  <thead>\n",
       "    <tr style=\"text-align: right;\">\n",
       "      <th></th>\n",
       "      <th>purchase_date</th>\n",
       "      <th>item_name</th>\n",
       "      <th>item_price</th>\n",
       "      <th>customer_name</th>\n",
       "    </tr>\n",
       "  </thead>\n",
       "  <tbody>\n",
       "    <tr>\n",
       "      <th>0</th>\n",
       "      <td>2019-06-13 18:02:34</td>\n",
       "      <td>商品A</td>\n",
       "      <td>100.0</td>\n",
       "      <td>深井菜々美</td>\n",
       "    </tr>\n",
       "    <tr>\n",
       "      <th>1</th>\n",
       "      <td>2019-07-13 13:05:29</td>\n",
       "      <td>商 品 S</td>\n",
       "      <td>NaN</td>\n",
       "      <td>浅田賢二</td>\n",
       "    </tr>\n",
       "    <tr>\n",
       "      <th>2</th>\n",
       "      <td>2019-05-11 19:42:07</td>\n",
       "      <td>商 品 a</td>\n",
       "      <td>NaN</td>\n",
       "      <td>南部慶二</td>\n",
       "    </tr>\n",
       "    <tr>\n",
       "      <th>3</th>\n",
       "      <td>2019-02-12 23:40:45</td>\n",
       "      <td>商品Z</td>\n",
       "      <td>2600.0</td>\n",
       "      <td>麻生莉緒</td>\n",
       "    </tr>\n",
       "    <tr>\n",
       "      <th>4</th>\n",
       "      <td>2019-04-22 03:09:35</td>\n",
       "      <td>商品a</td>\n",
       "      <td>NaN</td>\n",
       "      <td>平田鉄二</td>\n",
       "    </tr>\n",
       "  </tbody>\n",
       "</table>\n",
       "</div>"
      ],
      "text/plain": [
       "         purchase_date item_name  item_price customer_name\n",
       "0  2019-06-13 18:02:34       商品A       100.0         深井菜々美\n",
       "1  2019-07-13 13:05:29     商 品 S         NaN          浅田賢二\n",
       "2  2019-05-11 19:42:07     商 品 a         NaN          南部慶二\n",
       "3  2019-02-12 23:40:45       商品Z      2600.0          麻生莉緒\n",
       "4  2019-04-22 03:09:35       商品a         NaN          平田鉄二"
      ]
     },
     "execution_count": 3,
     "metadata": {},
     "output_type": "execute_result"
    }
   ],
   "source": [
    "uriage_data = pd.read_csv(\"../Datasets/uriage.csv\")\n",
    "uriage_data.head()"
   ]
  },
  {
   "cell_type": "code",
   "execution_count": 4,
   "id": "88d7ba5d",
   "metadata": {},
   "outputs": [
    {
     "data": {
      "application/vnd.microsoft.datawrangler.viewer.v0+json": {
       "columns": [
        {
         "name": "index",
         "rawType": "int64",
         "type": "integer"
        },
        {
         "name": "顧客名",
         "rawType": "object",
         "type": "string"
        },
        {
         "name": "かな",
         "rawType": "object",
         "type": "string"
        },
        {
         "name": "地域",
         "rawType": "object",
         "type": "string"
        },
        {
         "name": "メールアドレス",
         "rawType": "object",
         "type": "string"
        },
        {
         "name": "登録日",
         "rawType": "object",
         "type": "unknown"
        }
       ],
       "ref": "b8212b8e-9510-45aa-aea2-1c2e6e00cd14",
       "rows": [
        [
         "0",
         "須賀ひとみ",
         "すが ひとみ",
         "H市",
         "suga_hitomi@example.com",
         "2018/01/04"
        ],
        [
         "1",
         "岡田　 敏也",
         "おかだ としや",
         "E市",
         "okada_toshiya@example.com",
         "42782"
        ],
        [
         "2",
         "芳賀 希",
         "はが のぞみ",
         "A市",
         "haga_nozomi@example.com",
         "2018/01/07"
        ],
        [
         "3",
         "荻野  愛",
         "おぎの あい",
         "F市",
         "ogino_ai@example.com",
         "42872"
        ],
        [
         "4",
         "栗田 憲一",
         "くりた けんいち",
         "E市",
         "kurita_kenichi@example.com",
         "43127"
        ]
       ],
       "shape": {
        "columns": 5,
        "rows": 5
       }
      },
      "text/html": [
       "<div>\n",
       "<style scoped>\n",
       "    .dataframe tbody tr th:only-of-type {\n",
       "        vertical-align: middle;\n",
       "    }\n",
       "\n",
       "    .dataframe tbody tr th {\n",
       "        vertical-align: top;\n",
       "    }\n",
       "\n",
       "    .dataframe thead th {\n",
       "        text-align: right;\n",
       "    }\n",
       "</style>\n",
       "<table border=\"1\" class=\"dataframe\">\n",
       "  <thead>\n",
       "    <tr style=\"text-align: right;\">\n",
       "      <th></th>\n",
       "      <th>顧客名</th>\n",
       "      <th>かな</th>\n",
       "      <th>地域</th>\n",
       "      <th>メールアドレス</th>\n",
       "      <th>登録日</th>\n",
       "    </tr>\n",
       "  </thead>\n",
       "  <tbody>\n",
       "    <tr>\n",
       "      <th>0</th>\n",
       "      <td>須賀ひとみ</td>\n",
       "      <td>すが ひとみ</td>\n",
       "      <td>H市</td>\n",
       "      <td>suga_hitomi@example.com</td>\n",
       "      <td>2018/01/04</td>\n",
       "    </tr>\n",
       "    <tr>\n",
       "      <th>1</th>\n",
       "      <td>岡田　 敏也</td>\n",
       "      <td>おかだ としや</td>\n",
       "      <td>E市</td>\n",
       "      <td>okada_toshiya@example.com</td>\n",
       "      <td>42782</td>\n",
       "    </tr>\n",
       "    <tr>\n",
       "      <th>2</th>\n",
       "      <td>芳賀 希</td>\n",
       "      <td>はが のぞみ</td>\n",
       "      <td>A市</td>\n",
       "      <td>haga_nozomi@example.com</td>\n",
       "      <td>2018/01/07</td>\n",
       "    </tr>\n",
       "    <tr>\n",
       "      <th>3</th>\n",
       "      <td>荻野  愛</td>\n",
       "      <td>おぎの あい</td>\n",
       "      <td>F市</td>\n",
       "      <td>ogino_ai@example.com</td>\n",
       "      <td>42872</td>\n",
       "    </tr>\n",
       "    <tr>\n",
       "      <th>4</th>\n",
       "      <td>栗田 憲一</td>\n",
       "      <td>くりた けんいち</td>\n",
       "      <td>E市</td>\n",
       "      <td>kurita_kenichi@example.com</td>\n",
       "      <td>43127</td>\n",
       "    </tr>\n",
       "  </tbody>\n",
       "</table>\n",
       "</div>"
      ],
      "text/plain": [
       "      顧客名        かな  地域                     メールアドレス         登録日\n",
       "0   須賀ひとみ    すが ひとみ  H市     suga_hitomi@example.com  2018/01/04\n",
       "1  岡田　 敏也   おかだ としや  E市   okada_toshiya@example.com       42782\n",
       "2    芳賀 希    はが のぞみ  A市     haga_nozomi@example.com  2018/01/07\n",
       "3   荻野  愛    おぎの あい  F市        ogino_ai@example.com       42872\n",
       "4   栗田 憲一  くりた けんいち  E市  kurita_kenichi@example.com       43127"
      ]
     },
     "execution_count": 4,
     "metadata": {},
     "output_type": "execute_result"
    }
   ],
   "source": [
    "kokyaku_data = pd.read_excel(\"../Datasets/kokyaku_daicho.xlsx\")\n",
    "kokyaku_data.head()"
   ]
  },
  {
   "cell_type": "code",
   "execution_count": 5,
   "id": "e50818c2",
   "metadata": {},
   "outputs": [
    {
     "data": {
      "application/vnd.microsoft.datawrangler.viewer.v0+json": {
       "columns": [
        {
         "name": "index",
         "rawType": "int64",
         "type": "integer"
        },
        {
         "name": "item_name",
         "rawType": "object",
         "type": "string"
        }
       ],
       "ref": "ff7ba981-4917-43ae-8e11-35427edde7f4",
       "rows": [
        [
         "0",
         "商品A"
        ],
        [
         "1",
         "商 品 S"
        ],
        [
         "2",
         "商 品 a"
        ],
        [
         "3",
         "商品Z"
        ],
        [
         "4",
         "商品a"
        ]
       ],
       "shape": {
        "columns": 1,
        "rows": 5
       }
      },
      "text/plain": [
       "0      商品A\n",
       "1    商 品 S\n",
       "2    商 品 a\n",
       "3      商品Z\n",
       "4      商品a\n",
       "Name: item_name, dtype: object"
      ]
     },
     "execution_count": 5,
     "metadata": {},
     "output_type": "execute_result"
    }
   ],
   "source": [
    "uriage_data[\"item_name\"].head()"
   ]
  },
  {
   "cell_type": "code",
   "execution_count": 6,
   "id": "8bbf3e12",
   "metadata": {},
   "outputs": [
    {
     "data": {
      "application/vnd.microsoft.datawrangler.viewer.v0+json": {
       "columns": [
        {
         "name": "index",
         "rawType": "int64",
         "type": "integer"
        },
        {
         "name": "item_price",
         "rawType": "float64",
         "type": "float"
        }
       ],
       "ref": "f818401e-882c-44b5-88d8-e58202057803",
       "rows": [
        [
         "0",
         "100.0"
        ],
        [
         "1",
         null
        ],
        [
         "2",
         null
        ],
        [
         "3",
         "2600.0"
        ],
        [
         "4",
         null
        ]
       ],
       "shape": {
        "columns": 1,
        "rows": 5
       }
      },
      "text/plain": [
       "0     100.0\n",
       "1       NaN\n",
       "2       NaN\n",
       "3    2600.0\n",
       "4       NaN\n",
       "Name: item_price, dtype: float64"
      ]
     },
     "execution_count": 6,
     "metadata": {},
     "output_type": "execute_result"
    }
   ],
   "source": [
    "uriage_data[\"item_price\"].head()"
   ]
  },
  {
   "cell_type": "code",
   "execution_count": 7,
   "id": "28a79cca",
   "metadata": {},
   "outputs": [
    {
     "data": {
      "application/vnd.microsoft.datawrangler.viewer.v0+json": {
       "columns": [
        {
         "name": "purchase_month",
         "rawType": "object",
         "type": "string"
        },
        {
         "name": "  商品W",
         "rawType": "int64",
         "type": "integer"
        },
        {
         "name": " 商 品 n",
         "rawType": "int64",
         "type": "integer"
        },
        {
         "name": " 商品E",
         "rawType": "int64",
         "type": "integer"
        },
        {
         "name": " 商品M",
         "rawType": "int64",
         "type": "integer"
        },
        {
         "name": " 商品P",
         "rawType": "int64",
         "type": "integer"
        },
        {
         "name": " 商品S",
         "rawType": "int64",
         "type": "integer"
        },
        {
         "name": " 商品W",
         "rawType": "int64",
         "type": "integer"
        },
        {
         "name": " 商品X",
         "rawType": "int64",
         "type": "integer"
        },
        {
         "name": "商  品O",
         "rawType": "int64",
         "type": "integer"
        },
        {
         "name": "商  品Q",
         "rawType": "int64",
         "type": "integer"
        },
        {
         "name": "商  品T",
         "rawType": "int64",
         "type": "integer"
        },
        {
         "name": "商  品V",
         "rawType": "int64",
         "type": "integer"
        },
        {
         "name": "商 品 S",
         "rawType": "int64",
         "type": "integer"
        },
        {
         "name": "商 品 a",
         "rawType": "int64",
         "type": "integer"
        },
        {
         "name": "商 品 q",
         "rawType": "int64",
         "type": "integer"
        },
        {
         "name": "商 品 s",
         "rawType": "int64",
         "type": "integer"
        },
        {
         "name": "商 品A",
         "rawType": "int64",
         "type": "integer"
        },
        {
         "name": "商 品C",
         "rawType": "int64",
         "type": "integer"
        },
        {
         "name": "商 品D",
         "rawType": "int64",
         "type": "integer"
        },
        {
         "name": "商 品E",
         "rawType": "int64",
         "type": "integer"
        },
        {
         "name": "商 品F",
         "rawType": "int64",
         "type": "integer"
        },
        {
         "name": "商 品G",
         "rawType": "int64",
         "type": "integer"
        },
        {
         "name": "商 品H",
         "rawType": "int64",
         "type": "integer"
        },
        {
         "name": "商 品I",
         "rawType": "int64",
         "type": "integer"
        },
        {
         "name": "商 品K",
         "rawType": "int64",
         "type": "integer"
        },
        {
         "name": "商 品M",
         "rawType": "int64",
         "type": "integer"
        },
        {
         "name": "商 品N",
         "rawType": "int64",
         "type": "integer"
        },
        {
         "name": "商 品O",
         "rawType": "int64",
         "type": "integer"
        },
        {
         "name": "商 品P",
         "rawType": "int64",
         "type": "integer"
        },
        {
         "name": "商 品T",
         "rawType": "int64",
         "type": "integer"
        },
        {
         "name": "商 品U",
         "rawType": "int64",
         "type": "integer"
        },
        {
         "name": "商 品V",
         "rawType": "int64",
         "type": "integer"
        },
        {
         "name": "商 品X",
         "rawType": "int64",
         "type": "integer"
        },
        {
         "name": "商 品Y",
         "rawType": "int64",
         "type": "integer"
        },
        {
         "name": "商 品s",
         "rawType": "int64",
         "type": "integer"
        },
        {
         "name": "商品 A",
         "rawType": "int64",
         "type": "integer"
        },
        {
         "name": "商品 B",
         "rawType": "int64",
         "type": "integer"
        },
        {
         "name": "商品 E",
         "rawType": "int64",
         "type": "integer"
        },
        {
         "name": "商品 F",
         "rawType": "int64",
         "type": "integer"
        },
        {
         "name": "商品 H",
         "rawType": "int64",
         "type": "integer"
        },
        {
         "name": "商品 I",
         "rawType": "int64",
         "type": "integer"
        },
        {
         "name": "商品 J",
         "rawType": "int64",
         "type": "integer"
        },
        {
         "name": "商品 K",
         "rawType": "int64",
         "type": "integer"
        },
        {
         "name": "商品 M",
         "rawType": "int64",
         "type": "integer"
        },
        {
         "name": "商品 O",
         "rawType": "int64",
         "type": "integer"
        },
        {
         "name": "商品 Q",
         "rawType": "int64",
         "type": "integer"
        },
        {
         "name": "商品 R",
         "rawType": "int64",
         "type": "integer"
        },
        {
         "name": "商品 S",
         "rawType": "int64",
         "type": "integer"
        },
        {
         "name": "商品 T",
         "rawType": "int64",
         "type": "integer"
        },
        {
         "name": "商品 V",
         "rawType": "int64",
         "type": "integer"
        },
        {
         "name": "商品 X",
         "rawType": "int64",
         "type": "integer"
        },
        {
         "name": "商品 a",
         "rawType": "int64",
         "type": "integer"
        },
        {
         "name": "商品 g",
         "rawType": "int64",
         "type": "integer"
        },
        {
         "name": "商品 o",
         "rawType": "int64",
         "type": "integer"
        },
        {
         "name": "商品 v",
         "rawType": "int64",
         "type": "integer"
        },
        {
         "name": "商品 w",
         "rawType": "int64",
         "type": "integer"
        },
        {
         "name": "商品A",
         "rawType": "int64",
         "type": "integer"
        },
        {
         "name": "商品B",
         "rawType": "int64",
         "type": "integer"
        },
        {
         "name": "商品C",
         "rawType": "int64",
         "type": "integer"
        },
        {
         "name": "商品D",
         "rawType": "int64",
         "type": "integer"
        },
        {
         "name": "商品E",
         "rawType": "int64",
         "type": "integer"
        },
        {
         "name": "商品F",
         "rawType": "int64",
         "type": "integer"
        },
        {
         "name": "商品G",
         "rawType": "int64",
         "type": "integer"
        },
        {
         "name": "商品H",
         "rawType": "int64",
         "type": "integer"
        },
        {
         "name": "商品I",
         "rawType": "int64",
         "type": "integer"
        },
        {
         "name": "商品J",
         "rawType": "int64",
         "type": "integer"
        },
        {
         "name": "商品K",
         "rawType": "int64",
         "type": "integer"
        },
        {
         "name": "商品L",
         "rawType": "int64",
         "type": "integer"
        },
        {
         "name": "商品M",
         "rawType": "int64",
         "type": "integer"
        },
        {
         "name": "商品N",
         "rawType": "int64",
         "type": "integer"
        },
        {
         "name": "商品O",
         "rawType": "int64",
         "type": "integer"
        },
        {
         "name": "商品P",
         "rawType": "int64",
         "type": "integer"
        },
        {
         "name": "商品Q",
         "rawType": "int64",
         "type": "integer"
        },
        {
         "name": "商品R",
         "rawType": "int64",
         "type": "integer"
        },
        {
         "name": "商品S",
         "rawType": "int64",
         "type": "integer"
        },
        {
         "name": "商品T",
         "rawType": "int64",
         "type": "integer"
        },
        {
         "name": "商品U",
         "rawType": "int64",
         "type": "integer"
        },
        {
         "name": "商品V",
         "rawType": "int64",
         "type": "integer"
        },
        {
         "name": "商品W",
         "rawType": "int64",
         "type": "integer"
        },
        {
         "name": "商品X",
         "rawType": "int64",
         "type": "integer"
        },
        {
         "name": "商品Y",
         "rawType": "int64",
         "type": "integer"
        },
        {
         "name": "商品Z",
         "rawType": "int64",
         "type": "integer"
        },
        {
         "name": "商品a",
         "rawType": "int64",
         "type": "integer"
        },
        {
         "name": "商品c",
         "rawType": "int64",
         "type": "integer"
        },
        {
         "name": "商品d",
         "rawType": "int64",
         "type": "integer"
        },
        {
         "name": "商品e",
         "rawType": "int64",
         "type": "integer"
        },
        {
         "name": "商品g",
         "rawType": "int64",
         "type": "integer"
        },
        {
         "name": "商品i",
         "rawType": "int64",
         "type": "integer"
        },
        {
         "name": "商品j",
         "rawType": "int64",
         "type": "integer"
        },
        {
         "name": "商品k",
         "rawType": "int64",
         "type": "integer"
        },
        {
         "name": "商品l",
         "rawType": "int64",
         "type": "integer"
        },
        {
         "name": "商品o",
         "rawType": "int64",
         "type": "integer"
        },
        {
         "name": "商品p",
         "rawType": "int64",
         "type": "integer"
        },
        {
         "name": "商品r",
         "rawType": "int64",
         "type": "integer"
        },
        {
         "name": "商品s",
         "rawType": "int64",
         "type": "integer"
        },
        {
         "name": "商品t",
         "rawType": "int64",
         "type": "integer"
        },
        {
         "name": "商品v",
         "rawType": "int64",
         "type": "integer"
        },
        {
         "name": "商品x",
         "rawType": "int64",
         "type": "integer"
        },
        {
         "name": "商品y",
         "rawType": "int64",
         "type": "integer"
        }
       ],
       "ref": "b9a120cd-1a42-46fe-b5e5-44cc4e9f5ea9",
       "rows": [
        [
         "201901",
         "0",
         "1",
         "0",
         "0",
         "0",
         "0",
         "0",
         "0",
         "0",
         "0",
         "0",
         "0",
         "0",
         "0",
         "0",
         "0",
         "0",
         "0",
         "0",
         "0",
         "0",
         "0",
         "1",
         "0",
         "0",
         "0",
         "0",
         "1",
         "1",
         "1",
         "0",
         "0",
         "2",
         "0",
         "1",
         "0",
         "0",
         "0",
         "0",
         "0",
         "1",
         "0",
         "0",
         "1",
         "1",
         "0",
         "0",
         "1",
         "0",
         "1",
         "0",
         "0",
         "0",
         "0",
         "0",
         "0",
         "18",
         "13",
         "18",
         "17",
         "18",
         "15",
         "11",
         "15",
         "17",
         "17",
         "19",
         "18",
         "18",
         "15",
         "21",
         "15",
         "17",
         "21",
         "18",
         "16",
         "7",
         "21",
         "13",
         "12",
         "10",
         "0",
         "0",
         "1",
         "0",
         "0",
         "0",
         "0",
         "0",
         "1",
         "1",
         "1",
         "0",
         "0",
         "0",
         "0",
         "0",
         "0",
         "0"
        ],
        [
         "201902",
         "0",
         "0",
         "0",
         "0",
         "0",
         "0",
         "0",
         "1",
         "0",
         "0",
         "0",
         "0",
         "0",
         "0",
         "0",
         "0",
         "0",
         "0",
         "1",
         "0",
         "0",
         "0",
         "0",
         "1",
         "0",
         "0",
         "1",
         "0",
         "0",
         "0",
         "0",
         "0",
         "0",
         "0",
         "0",
         "0",
         "1",
         "0",
         "0",
         "0",
         "0",
         "0",
         "0",
         "0",
         "0",
         "0",
         "1",
         "0",
         "0",
         "0",
         "1",
         "0",
         "1",
         "1",
         "0",
         "0",
         "19",
         "13",
         "26",
         "20",
         "16",
         "14",
         "13",
         "17",
         "11",
         "13",
         "16",
         "11",
         "15",
         "19",
         "18",
         "19",
         "22",
         "21",
         "21",
         "22",
         "19",
         "21",
         "24",
         "14",
         "11",
         "1",
         "0",
         "0",
         "0",
         "0",
         "0",
         "0",
         "1",
         "0",
         "0",
         "0",
         "0",
         "0",
         "1",
         "1",
         "1",
         "0",
         "0"
        ],
        [
         "201903",
         "0",
         "0",
         "1",
         "1",
         "1",
         "0",
         "0",
         "0",
         "0",
         "0",
         "0",
         "0",
         "0",
         "0",
         "0",
         "0",
         "0",
         "0",
         "0",
         "0",
         "1",
         "0",
         "0",
         "0",
         "0",
         "0",
         "0",
         "0",
         "0",
         "0",
         "0",
         "0",
         "0",
         "0",
         "0",
         "0",
         "0",
         "0",
         "0",
         "0",
         "0",
         "1",
         "0",
         "0",
         "0",
         "0",
         "0",
         "0",
         "0",
         "0",
         "0",
         "0",
         "0",
         "0",
         "1",
         "0",
         "17",
         "21",
         "20",
         "16",
         "8",
         "26",
         "14",
         "18",
         "12",
         "15",
         "14",
         "20",
         "21",
         "13",
         "11",
         "20",
         "23",
         "16",
         "20",
         "12",
         "23",
         "17",
         "16",
         "21",
         "16",
         "0",
         "0",
         "0",
         "1",
         "0",
         "0",
         "0",
         "0",
         "0",
         "0",
         "0",
         "0",
         "0",
         "0",
         "0",
         "0",
         "0",
         "0"
        ],
        [
         "201904",
         "1",
         "0",
         "0",
         "0",
         "0",
         "0",
         "0",
         "0",
         "0",
         "1",
         "1",
         "1",
         "0",
         "0",
         "0",
         "0",
         "0",
         "0",
         "0",
         "0",
         "0",
         "0",
         "0",
         "0",
         "0",
         "0",
         "0",
         "1",
         "0",
         "0",
         "0",
         "0",
         "0",
         "3",
         "0",
         "0",
         "0",
         "0",
         "2",
         "0",
         "0",
         "0",
         "0",
         "0",
         "0",
         "0",
         "0",
         "0",
         "0",
         "0",
         "0",
         "0",
         "0",
         "0",
         "0",
         "0",
         "16",
         "19",
         "24",
         "20",
         "17",
         "15",
         "13",
         "11",
         "18",
         "13",
         "14",
         "15",
         "11",
         "20",
         "14",
         "15",
         "19",
         "20",
         "15",
         "15",
         "11",
         "14",
         "13",
         "16",
         "17",
         "0",
         "1",
         "0",
         "0",
         "1",
         "1",
         "0",
         "0",
         "0",
         "0",
         "0",
         "0",
         "0",
         "1",
         "0",
         "0",
         "0",
         "0"
        ],
        [
         "201905",
         "0",
         "0",
         "0",
         "0",
         "0",
         "1",
         "0",
         "0",
         "0",
         "0",
         "0",
         "0",
         "0",
         "2",
         "0",
         "1",
         "1",
         "0",
         "0",
         "0",
         "0",
         "0",
         "0",
         "0",
         "1",
         "1",
         "0",
         "0",
         "0",
         "0",
         "0",
         "1",
         "0",
         "0",
         "0",
         "0",
         "0",
         "0",
         "1",
         "0",
         "0",
         "1",
         "1",
         "0",
         "0",
         "1",
         "0",
         "0",
         "1",
         "0",
         "0",
         "1",
         "0",
         "0",
         "0",
         "1",
         "20",
         "14",
         "15",
         "14",
         "19",
         "17",
         "23",
         "15",
         "16",
         "10",
         "16",
         "12",
         "17",
         "19",
         "18",
         "20",
         "12",
         "22",
         "16",
         "15",
         "16",
         "8",
         "20",
         "16",
         "19",
         "0",
         "0",
         "1",
         "0",
         "0",
         "0",
         "0",
         "0",
         "0",
         "1",
         "0",
         "0",
         "0",
         "0",
         "0",
         "0",
         "0",
         "1"
        ],
        [
         "201906",
         "0",
         "0",
         "0",
         "0",
         "0",
         "0",
         "1",
         "0",
         "0",
         "0",
         "0",
         "0",
         "0",
         "0",
         "0",
         "0",
         "0",
         "1",
         "0",
         "0",
         "0",
         "1",
         "0",
         "0",
         "0",
         "0",
         "0",
         "1",
         "0",
         "0",
         "1",
         "0",
         "0",
         "0",
         "0",
         "1",
         "0",
         "0",
         "0",
         "1",
         "0",
         "0",
         "0",
         "0",
         "0",
         "0",
         "0",
         "0",
         "0",
         "1",
         "0",
         "0",
         "1",
         "0",
         "0",
         "0",
         "23",
         "12",
         "10",
         "19",
         "13",
         "18",
         "13",
         "12",
         "18",
         "22",
         "15",
         "15",
         "17",
         "16",
         "14",
         "17",
         "15",
         "16",
         "21",
         "12",
         "17",
         "19",
         "16",
         "14",
         "13",
         "0",
         "0",
         "0",
         "0",
         "0",
         "0",
         "1",
         "0",
         "0",
         "0",
         "0",
         "1",
         "0",
         "0",
         "0",
         "0",
         "1",
         "0"
        ],
        [
         "201907",
         "0",
         "0",
         "0",
         "0",
         "0",
         "0",
         "0",
         "0",
         "1",
         "0",
         "0",
         "0",
         "1",
         "0",
         "1",
         "0",
         "0",
         "0",
         "0",
         "1",
         "0",
         "0",
         "1",
         "0",
         "0",
         "0",
         "0",
         "1",
         "0",
         "0",
         "0",
         "1",
         "0",
         "0",
         "0",
         "0",
         "0",
         "1",
         "0",
         "0",
         "0",
         "0",
         "0",
         "0",
         "0",
         "0",
         "0",
         "0",
         "1",
         "1",
         "0",
         "0",
         "0",
         "0",
         "0",
         "0",
         "20",
         "20",
         "17",
         "17",
         "10",
         "17",
         "19",
         "18",
         "18",
         "23",
         "12",
         "17",
         "11",
         "15",
         "19",
         "26",
         "14",
         "17",
         "22",
         "20",
         "13",
         "26",
         "16",
         "18",
         "12",
         "0",
         "0",
         "0",
         "0",
         "0",
         "0",
         "1",
         "0",
         "0",
         "0",
         "1",
         "0",
         "2",
         "0",
         "0",
         "0",
         "0",
         "0"
        ]
       ],
       "shape": {
        "columns": 99,
        "rows": 7
       }
      },
      "text/html": [
       "<div>\n",
       "<style scoped>\n",
       "    .dataframe tbody tr th:only-of-type {\n",
       "        vertical-align: middle;\n",
       "    }\n",
       "\n",
       "    .dataframe tbody tr th {\n",
       "        vertical-align: top;\n",
       "    }\n",
       "\n",
       "    .dataframe thead th {\n",
       "        text-align: right;\n",
       "    }\n",
       "</style>\n",
       "<table border=\"1\" class=\"dataframe\">\n",
       "  <thead>\n",
       "    <tr style=\"text-align: right;\">\n",
       "      <th>item_name</th>\n",
       "      <th>商品W</th>\n",
       "      <th>商 品 n</th>\n",
       "      <th>商品E</th>\n",
       "      <th>商品M</th>\n",
       "      <th>商品P</th>\n",
       "      <th>商品S</th>\n",
       "      <th>商品W</th>\n",
       "      <th>商品X</th>\n",
       "      <th>商  品O</th>\n",
       "      <th>商  品Q</th>\n",
       "      <th>...</th>\n",
       "      <th>商品k</th>\n",
       "      <th>商品l</th>\n",
       "      <th>商品o</th>\n",
       "      <th>商品p</th>\n",
       "      <th>商品r</th>\n",
       "      <th>商品s</th>\n",
       "      <th>商品t</th>\n",
       "      <th>商品v</th>\n",
       "      <th>商品x</th>\n",
       "      <th>商品y</th>\n",
       "    </tr>\n",
       "    <tr>\n",
       "      <th>purchase_month</th>\n",
       "      <th></th>\n",
       "      <th></th>\n",
       "      <th></th>\n",
       "      <th></th>\n",
       "      <th></th>\n",
       "      <th></th>\n",
       "      <th></th>\n",
       "      <th></th>\n",
       "      <th></th>\n",
       "      <th></th>\n",
       "      <th></th>\n",
       "      <th></th>\n",
       "      <th></th>\n",
       "      <th></th>\n",
       "      <th></th>\n",
       "      <th></th>\n",
       "      <th></th>\n",
       "      <th></th>\n",
       "      <th></th>\n",
       "      <th></th>\n",
       "      <th></th>\n",
       "    </tr>\n",
       "  </thead>\n",
       "  <tbody>\n",
       "    <tr>\n",
       "      <th>201901</th>\n",
       "      <td>0</td>\n",
       "      <td>1</td>\n",
       "      <td>0</td>\n",
       "      <td>0</td>\n",
       "      <td>0</td>\n",
       "      <td>0</td>\n",
       "      <td>0</td>\n",
       "      <td>0</td>\n",
       "      <td>0</td>\n",
       "      <td>0</td>\n",
       "      <td>...</td>\n",
       "      <td>1</td>\n",
       "      <td>1</td>\n",
       "      <td>1</td>\n",
       "      <td>0</td>\n",
       "      <td>0</td>\n",
       "      <td>0</td>\n",
       "      <td>0</td>\n",
       "      <td>0</td>\n",
       "      <td>0</td>\n",
       "      <td>0</td>\n",
       "    </tr>\n",
       "    <tr>\n",
       "      <th>201902</th>\n",
       "      <td>0</td>\n",
       "      <td>0</td>\n",
       "      <td>0</td>\n",
       "      <td>0</td>\n",
       "      <td>0</td>\n",
       "      <td>0</td>\n",
       "      <td>0</td>\n",
       "      <td>1</td>\n",
       "      <td>0</td>\n",
       "      <td>0</td>\n",
       "      <td>...</td>\n",
       "      <td>0</td>\n",
       "      <td>0</td>\n",
       "      <td>0</td>\n",
       "      <td>0</td>\n",
       "      <td>0</td>\n",
       "      <td>1</td>\n",
       "      <td>1</td>\n",
       "      <td>1</td>\n",
       "      <td>0</td>\n",
       "      <td>0</td>\n",
       "    </tr>\n",
       "    <tr>\n",
       "      <th>201903</th>\n",
       "      <td>0</td>\n",
       "      <td>0</td>\n",
       "      <td>1</td>\n",
       "      <td>1</td>\n",
       "      <td>1</td>\n",
       "      <td>0</td>\n",
       "      <td>0</td>\n",
       "      <td>0</td>\n",
       "      <td>0</td>\n",
       "      <td>0</td>\n",
       "      <td>...</td>\n",
       "      <td>0</td>\n",
       "      <td>0</td>\n",
       "      <td>0</td>\n",
       "      <td>0</td>\n",
       "      <td>0</td>\n",
       "      <td>0</td>\n",
       "      <td>0</td>\n",
       "      <td>0</td>\n",
       "      <td>0</td>\n",
       "      <td>0</td>\n",
       "    </tr>\n",
       "    <tr>\n",
       "      <th>201904</th>\n",
       "      <td>1</td>\n",
       "      <td>0</td>\n",
       "      <td>0</td>\n",
       "      <td>0</td>\n",
       "      <td>0</td>\n",
       "      <td>0</td>\n",
       "      <td>0</td>\n",
       "      <td>0</td>\n",
       "      <td>0</td>\n",
       "      <td>1</td>\n",
       "      <td>...</td>\n",
       "      <td>0</td>\n",
       "      <td>0</td>\n",
       "      <td>0</td>\n",
       "      <td>0</td>\n",
       "      <td>0</td>\n",
       "      <td>1</td>\n",
       "      <td>0</td>\n",
       "      <td>0</td>\n",
       "      <td>0</td>\n",
       "      <td>0</td>\n",
       "    </tr>\n",
       "    <tr>\n",
       "      <th>201905</th>\n",
       "      <td>0</td>\n",
       "      <td>0</td>\n",
       "      <td>0</td>\n",
       "      <td>0</td>\n",
       "      <td>0</td>\n",
       "      <td>1</td>\n",
       "      <td>0</td>\n",
       "      <td>0</td>\n",
       "      <td>0</td>\n",
       "      <td>0</td>\n",
       "      <td>...</td>\n",
       "      <td>0</td>\n",
       "      <td>1</td>\n",
       "      <td>0</td>\n",
       "      <td>0</td>\n",
       "      <td>0</td>\n",
       "      <td>0</td>\n",
       "      <td>0</td>\n",
       "      <td>0</td>\n",
       "      <td>0</td>\n",
       "      <td>1</td>\n",
       "    </tr>\n",
       "    <tr>\n",
       "      <th>201906</th>\n",
       "      <td>0</td>\n",
       "      <td>0</td>\n",
       "      <td>0</td>\n",
       "      <td>0</td>\n",
       "      <td>0</td>\n",
       "      <td>0</td>\n",
       "      <td>1</td>\n",
       "      <td>0</td>\n",
       "      <td>0</td>\n",
       "      <td>0</td>\n",
       "      <td>...</td>\n",
       "      <td>0</td>\n",
       "      <td>0</td>\n",
       "      <td>0</td>\n",
       "      <td>1</td>\n",
       "      <td>0</td>\n",
       "      <td>0</td>\n",
       "      <td>0</td>\n",
       "      <td>0</td>\n",
       "      <td>1</td>\n",
       "      <td>0</td>\n",
       "    </tr>\n",
       "    <tr>\n",
       "      <th>201907</th>\n",
       "      <td>0</td>\n",
       "      <td>0</td>\n",
       "      <td>0</td>\n",
       "      <td>0</td>\n",
       "      <td>0</td>\n",
       "      <td>0</td>\n",
       "      <td>0</td>\n",
       "      <td>0</td>\n",
       "      <td>1</td>\n",
       "      <td>0</td>\n",
       "      <td>...</td>\n",
       "      <td>0</td>\n",
       "      <td>0</td>\n",
       "      <td>1</td>\n",
       "      <td>0</td>\n",
       "      <td>2</td>\n",
       "      <td>0</td>\n",
       "      <td>0</td>\n",
       "      <td>0</td>\n",
       "      <td>0</td>\n",
       "      <td>0</td>\n",
       "    </tr>\n",
       "  </tbody>\n",
       "</table>\n",
       "<p>7 rows × 99 columns</p>\n",
       "</div>"
      ],
      "text/plain": [
       "item_name         商品W   商 品 n   商品E   商品M   商品P   商品S   商品W   商品X  商  品O  \\\n",
       "purchase_month                                                             \n",
       "201901              0       1     0     0     0     0     0     0      0   \n",
       "201902              0       0     0     0     0     0     0     1      0   \n",
       "201903              0       0     1     1     1     0     0     0      0   \n",
       "201904              1       0     0     0     0     0     0     0      0   \n",
       "201905              0       0     0     0     0     1     0     0      0   \n",
       "201906              0       0     0     0     0     0     1     0      0   \n",
       "201907              0       0     0     0     0     0     0     0      1   \n",
       "\n",
       "item_name       商  品Q  ...  商品k  商品l  商品o  商品p  商品r  商品s  商品t  商品v  商品x  商品y  \n",
       "purchase_month         ...                                                    \n",
       "201901              0  ...    1    1    1    0    0    0    0    0    0    0  \n",
       "201902              0  ...    0    0    0    0    0    1    1    1    0    0  \n",
       "201903              0  ...    0    0    0    0    0    0    0    0    0    0  \n",
       "201904              1  ...    0    0    0    0    0    1    0    0    0    0  \n",
       "201905              0  ...    0    1    0    0    0    0    0    0    0    1  \n",
       "201906              0  ...    0    0    0    1    0    0    0    0    1    0  \n",
       "201907              0  ...    0    0    1    0    2    0    0    0    0    0  \n",
       "\n",
       "[7 rows x 99 columns]"
      ]
     },
     "execution_count": 7,
     "metadata": {},
     "output_type": "execute_result"
    }
   ],
   "source": [
    "uriage_data[\"purchase_date\"] =pd.to_datetime(uriage_data[\"purchase_date\"])\n",
    "uriage_data[\"purchase_month\"] = uriage_data[\"purchase_date\"].dt.strftime(\"%Y%m\")\n",
    "res =uriage_data.pivot_table(index=\"purchase_month\", columns=\"item_name\", aggfunc=\"size\", fill_value=0)\n",
    "res"
   ]
  },
  {
   "cell_type": "code",
   "execution_count": 8,
   "id": "2456d1a7",
   "metadata": {},
   "outputs": [
    {
     "data": {
      "application/vnd.microsoft.datawrangler.viewer.v0+json": {
       "columns": [
        {
         "name": "purchase_month",
         "rawType": "object",
         "type": "string"
        },
        {
         "name": "  商品W",
         "rawType": "float64",
         "type": "float"
        },
        {
         "name": " 商 品 n",
         "rawType": "float64",
         "type": "float"
        },
        {
         "name": " 商品E",
         "rawType": "float64",
         "type": "float"
        },
        {
         "name": " 商品M",
         "rawType": "float64",
         "type": "float"
        },
        {
         "name": " 商品P",
         "rawType": "float64",
         "type": "float"
        },
        {
         "name": " 商品S",
         "rawType": "float64",
         "type": "float"
        },
        {
         "name": " 商品W",
         "rawType": "float64",
         "type": "float"
        },
        {
         "name": " 商品X",
         "rawType": "float64",
         "type": "float"
        },
        {
         "name": "商  品O",
         "rawType": "float64",
         "type": "float"
        },
        {
         "name": "商  品Q",
         "rawType": "float64",
         "type": "float"
        },
        {
         "name": "商  品T",
         "rawType": "float64",
         "type": "float"
        },
        {
         "name": "商  品V",
         "rawType": "float64",
         "type": "float"
        },
        {
         "name": "商 品 S",
         "rawType": "float64",
         "type": "float"
        },
        {
         "name": "商 品 a",
         "rawType": "float64",
         "type": "float"
        },
        {
         "name": "商 品 q",
         "rawType": "float64",
         "type": "float"
        },
        {
         "name": "商 品 s",
         "rawType": "float64",
         "type": "float"
        },
        {
         "name": "商 品A",
         "rawType": "float64",
         "type": "float"
        },
        {
         "name": "商 品C",
         "rawType": "float64",
         "type": "float"
        },
        {
         "name": "商 品D",
         "rawType": "float64",
         "type": "float"
        },
        {
         "name": "商 品E",
         "rawType": "float64",
         "type": "float"
        },
        {
         "name": "商 品F",
         "rawType": "float64",
         "type": "float"
        },
        {
         "name": "商 品G",
         "rawType": "float64",
         "type": "float"
        },
        {
         "name": "商 品H",
         "rawType": "float64",
         "type": "float"
        },
        {
         "name": "商 品I",
         "rawType": "float64",
         "type": "float"
        },
        {
         "name": "商 品K",
         "rawType": "float64",
         "type": "float"
        },
        {
         "name": "商 品M",
         "rawType": "float64",
         "type": "float"
        },
        {
         "name": "商 品N",
         "rawType": "float64",
         "type": "float"
        },
        {
         "name": "商 品O",
         "rawType": "float64",
         "type": "float"
        },
        {
         "name": "商 品P",
         "rawType": "float64",
         "type": "float"
        },
        {
         "name": "商 品T",
         "rawType": "float64",
         "type": "float"
        },
        {
         "name": "商 品U",
         "rawType": "float64",
         "type": "float"
        },
        {
         "name": "商 品V",
         "rawType": "float64",
         "type": "float"
        },
        {
         "name": "商 品X",
         "rawType": "float64",
         "type": "float"
        },
        {
         "name": "商 品Y",
         "rawType": "float64",
         "type": "float"
        },
        {
         "name": "商 品s",
         "rawType": "float64",
         "type": "float"
        },
        {
         "name": "商品 A",
         "rawType": "float64",
         "type": "float"
        },
        {
         "name": "商品 B",
         "rawType": "float64",
         "type": "float"
        },
        {
         "name": "商品 E",
         "rawType": "float64",
         "type": "float"
        },
        {
         "name": "商品 F",
         "rawType": "float64",
         "type": "float"
        },
        {
         "name": "商品 H",
         "rawType": "float64",
         "type": "float"
        },
        {
         "name": "商品 I",
         "rawType": "float64",
         "type": "float"
        },
        {
         "name": "商品 J",
         "rawType": "float64",
         "type": "float"
        },
        {
         "name": "商品 K",
         "rawType": "float64",
         "type": "float"
        },
        {
         "name": "商品 M",
         "rawType": "float64",
         "type": "float"
        },
        {
         "name": "商品 O",
         "rawType": "float64",
         "type": "float"
        },
        {
         "name": "商品 Q",
         "rawType": "float64",
         "type": "float"
        },
        {
         "name": "商品 R",
         "rawType": "float64",
         "type": "float"
        },
        {
         "name": "商品 S",
         "rawType": "float64",
         "type": "float"
        },
        {
         "name": "商品 T",
         "rawType": "float64",
         "type": "float"
        },
        {
         "name": "商品 V",
         "rawType": "float64",
         "type": "float"
        },
        {
         "name": "商品 X",
         "rawType": "float64",
         "type": "float"
        },
        {
         "name": "商品 a",
         "rawType": "float64",
         "type": "float"
        },
        {
         "name": "商品 g",
         "rawType": "float64",
         "type": "float"
        },
        {
         "name": "商品 o",
         "rawType": "float64",
         "type": "float"
        },
        {
         "name": "商品 v",
         "rawType": "float64",
         "type": "float"
        },
        {
         "name": "商品 w",
         "rawType": "float64",
         "type": "float"
        },
        {
         "name": "商品A",
         "rawType": "float64",
         "type": "float"
        },
        {
         "name": "商品B",
         "rawType": "float64",
         "type": "float"
        },
        {
         "name": "商品C",
         "rawType": "float64",
         "type": "float"
        },
        {
         "name": "商品D",
         "rawType": "float64",
         "type": "float"
        },
        {
         "name": "商品E",
         "rawType": "float64",
         "type": "float"
        },
        {
         "name": "商品F",
         "rawType": "float64",
         "type": "float"
        },
        {
         "name": "商品G",
         "rawType": "float64",
         "type": "float"
        },
        {
         "name": "商品H",
         "rawType": "float64",
         "type": "float"
        },
        {
         "name": "商品I",
         "rawType": "float64",
         "type": "float"
        },
        {
         "name": "商品J",
         "rawType": "float64",
         "type": "float"
        },
        {
         "name": "商品K",
         "rawType": "float64",
         "type": "float"
        },
        {
         "name": "商品L",
         "rawType": "float64",
         "type": "float"
        },
        {
         "name": "商品M",
         "rawType": "float64",
         "type": "float"
        },
        {
         "name": "商品N",
         "rawType": "float64",
         "type": "float"
        },
        {
         "name": "商品O",
         "rawType": "float64",
         "type": "float"
        },
        {
         "name": "商品P",
         "rawType": "float64",
         "type": "float"
        },
        {
         "name": "商品Q",
         "rawType": "float64",
         "type": "float"
        },
        {
         "name": "商品R",
         "rawType": "float64",
         "type": "float"
        },
        {
         "name": "商品S",
         "rawType": "float64",
         "type": "float"
        },
        {
         "name": "商品T",
         "rawType": "float64",
         "type": "float"
        },
        {
         "name": "商品U",
         "rawType": "float64",
         "type": "float"
        },
        {
         "name": "商品V",
         "rawType": "float64",
         "type": "float"
        },
        {
         "name": "商品W",
         "rawType": "float64",
         "type": "float"
        },
        {
         "name": "商品X",
         "rawType": "float64",
         "type": "float"
        },
        {
         "name": "商品Y",
         "rawType": "float64",
         "type": "float"
        },
        {
         "name": "商品Z",
         "rawType": "float64",
         "type": "float"
        },
        {
         "name": "商品a",
         "rawType": "float64",
         "type": "float"
        },
        {
         "name": "商品c",
         "rawType": "float64",
         "type": "float"
        },
        {
         "name": "商品d",
         "rawType": "float64",
         "type": "float"
        },
        {
         "name": "商品e",
         "rawType": "float64",
         "type": "float"
        },
        {
         "name": "商品g",
         "rawType": "float64",
         "type": "float"
        },
        {
         "name": "商品i",
         "rawType": "float64",
         "type": "float"
        },
        {
         "name": "商品j",
         "rawType": "float64",
         "type": "float"
        },
        {
         "name": "商品k",
         "rawType": "float64",
         "type": "float"
        },
        {
         "name": "商品l",
         "rawType": "float64",
         "type": "float"
        },
        {
         "name": "商品o",
         "rawType": "float64",
         "type": "float"
        },
        {
         "name": "商品p",
         "rawType": "float64",
         "type": "float"
        },
        {
         "name": "商品r",
         "rawType": "float64",
         "type": "float"
        },
        {
         "name": "商品s",
         "rawType": "float64",
         "type": "float"
        },
        {
         "name": "商品t",
         "rawType": "float64",
         "type": "float"
        },
        {
         "name": "商品v",
         "rawType": "float64",
         "type": "float"
        },
        {
         "name": "商品x",
         "rawType": "float64",
         "type": "float"
        },
        {
         "name": "商品y",
         "rawType": "float64",
         "type": "float"
        }
       ],
       "ref": "24c40f65-c677-43f2-a09f-9eea6001f0d0",
       "rows": [
        [
         "201901",
         "0.0",
         "1400.0",
         "0.0",
         "0.0",
         "0.0",
         "0.0",
         "0.0",
         "0.0",
         "0.0",
         "0.0",
         "0.0",
         "0.0",
         "0.0",
         "0.0",
         "0.0",
         "0.0",
         "0.0",
         "0.0",
         "0.0",
         "0.0",
         "0.0",
         "0.0",
         "800.0",
         "0.0",
         "0.0",
         "0.0",
         "0.0",
         "1500.0",
         "1600.0",
         "2000.0",
         "0.0",
         "0.0",
         "4800.0",
         "0.0",
         "1900.0",
         "0.0",
         "0.0",
         "0.0",
         "0.0",
         "0.0",
         "900.0",
         "0.0",
         "0.0",
         "1300.0",
         "1500.0",
         "0.0",
         "0.0",
         "1900.0",
         "0.0",
         "2200.0",
         "0.0",
         "0.0",
         "0.0",
         "0.0",
         "0.0",
         "0.0",
         "1500.0",
         "1600.0",
         "5100.0",
         "6000.0",
         "6500.0",
         "7800.0",
         "7000.0",
         "10400.0",
         "13500.0",
         "16000.0",
         "16500.0",
         "19200.0",
         "19500.0",
         "21000.0",
         "27000.0",
         "20800.0",
         "25500.0",
         "36000.0",
         "28500.0",
         "28000.0",
         "12600.0",
         "41800.0",
         "27600.0",
         "24000.0",
         "20000.0",
         "0.0",
         "0.0",
         "300.0",
         "0.0",
         "0.0",
         "0.0",
         "0.0",
         "0.0",
         "1100.0",
         "1200.0",
         "1500.0",
         "0.0",
         "0.0",
         "0.0",
         "0.0",
         "0.0",
         "0.0",
         "0.0"
        ],
        [
         "201902",
         "0.0",
         "0.0",
         "0.0",
         "0.0",
         "0.0",
         "0.0",
         "0.0",
         "2400.0",
         "0.0",
         "0.0",
         "0.0",
         "0.0",
         "0.0",
         "0.0",
         "0.0",
         "0.0",
         "0.0",
         "0.0",
         "400.0",
         "0.0",
         "0.0",
         "0.0",
         "0.0",
         "900.0",
         "0.0",
         "0.0",
         "1400.0",
         "0.0",
         "0.0",
         "0.0",
         "0.0",
         "0.0",
         "0.0",
         "0.0",
         "0.0",
         "0.0",
         "0.0",
         "0.0",
         "0.0",
         "0.0",
         "0.0",
         "0.0",
         "0.0",
         "0.0",
         "0.0",
         "0.0",
         "1800.0",
         "0.0",
         "0.0",
         "0.0",
         "2400.0",
         "0.0",
         "700.0",
         "1500.0",
         "0.0",
         "0.0",
         "1700.0",
         "2400.0",
         "6000.0",
         "7600.0",
         "5500.0",
         "6600.0",
         "7000.0",
         "12800.0",
         "8100.0",
         "11000.0",
         "14300.0",
         "13200.0",
         "16900.0",
         "23800.0",
         "25500.0",
         "30400.0",
         "30600.0",
         "32400.0",
         "32300.0",
         "40000.0",
         "37800.0",
         "39600.0",
         "43700.0",
         "31200.0",
         "20000.0",
         "2600.0",
         "0.0",
         "0.0",
         "0.0",
         "0.0",
         "0.0",
         "0.0",
         "1000.0",
         "0.0",
         "0.0",
         "0.0",
         "0.0",
         "0.0",
         "1900.0",
         "2000.0",
         "2200.0",
         "0.0",
         "0.0"
        ],
        [
         "201903",
         "0.0",
         "0.0",
         "500.0",
         "1300.0",
         "1600.0",
         "0.0",
         "0.0",
         "0.0",
         "0.0",
         "0.0",
         "0.0",
         "0.0",
         "0.0",
         "0.0",
         "0.0",
         "0.0",
         "0.0",
         "0.0",
         "0.0",
         "0.0",
         "600.0",
         "0.0",
         "0.0",
         "0.0",
         "0.0",
         "0.0",
         "0.0",
         "0.0",
         "0.0",
         "0.0",
         "0.0",
         "0.0",
         "0.0",
         "0.0",
         "0.0",
         "0.0",
         "0.0",
         "0.0",
         "0.0",
         "0.0",
         "0.0",
         "1000.0",
         "0.0",
         "0.0",
         "0.0",
         "0.0",
         "0.0",
         "0.0",
         "0.0",
         "0.0",
         "0.0",
         "0.0",
         "0.0",
         "0.0",
         "0.0",
         "0.0",
         "1300.0",
         "4200.0",
         "5100.0",
         "6000.0",
         "4000.0",
         "11400.0",
         "7700.0",
         "14400.0",
         "10800.0",
         "13000.0",
         "14300.0",
         "21600.0",
         "26000.0",
         "16800.0",
         "15000.0",
         "32000.0",
         "34000.0",
         "27000.0",
         "26600.0",
         "22000.0",
         "46200.0",
         "35200.0",
         "34500.0",
         "38400.0",
         "35000.0",
         "0.0",
         "0.0",
         "0.0",
         "400.0",
         "0.0",
         "0.0",
         "0.0",
         "0.0",
         "0.0",
         "0.0",
         "0.0",
         "0.0",
         "0.0",
         "0.0",
         "0.0",
         "0.0",
         "0.0",
         "0.0"
        ],
        [
         "201904",
         "2300.0",
         "0.0",
         "0.0",
         "0.0",
         "0.0",
         "0.0",
         "0.0",
         "0.0",
         "0.0",
         "1700.0",
         "2000.0",
         "2200.0",
         "0.0",
         "0.0",
         "0.0",
         "0.0",
         "0.0",
         "0.0",
         "0.0",
         "0.0",
         "0.0",
         "0.0",
         "0.0",
         "0.0",
         "0.0",
         "0.0",
         "0.0",
         "1500.0",
         "0.0",
         "0.0",
         "0.0",
         "0.0",
         "0.0",
         "7500.0",
         "0.0",
         "0.0",
         "0.0",
         "0.0",
         "1200.0",
         "0.0",
         "0.0",
         "0.0",
         "0.0",
         "0.0",
         "0.0",
         "0.0",
         "0.0",
         "0.0",
         "0.0",
         "0.0",
         "0.0",
         "0.0",
         "0.0",
         "0.0",
         "0.0",
         "0.0",
         "1400.0",
         "2200.0",
         "6000.0",
         "7200.0",
         "8000.0",
         "7800.0",
         "9100.0",
         "7200.0",
         "14400.0",
         "13000.0",
         "12100.0",
         "15600.0",
         "14300.0",
         "22400.0",
         "18000.0",
         "22400.0",
         "28900.0",
         "30600.0",
         "28500.0",
         "28000.0",
         "16800.0",
         "19800.0",
         "20700.0",
         "38400.0",
         "32500.0",
         "0.0",
         "0.0",
         "0.0",
         "0.0",
         "500.0",
         "700.0",
         "0.0",
         "0.0",
         "0.0",
         "0.0",
         "0.0",
         "0.0",
         "0.0",
         "1900.0",
         "0.0",
         "0.0",
         "0.0",
         "0.0"
        ],
        [
         "201905",
         "0.0",
         "0.0",
         "0.0",
         "0.0",
         "0.0",
         "1900.0",
         "0.0",
         "0.0",
         "0.0",
         "0.0",
         "0.0",
         "0.0",
         "0.0",
         "100.0",
         "0.0",
         "1900.0",
         "100.0",
         "0.0",
         "0.0",
         "0.0",
         "0.0",
         "0.0",
         "0.0",
         "0.0",
         "1100.0",
         "1300.0",
         "0.0",
         "0.0",
         "0.0",
         "0.0",
         "0.0",
         "2200.0",
         "0.0",
         "0.0",
         "0.0",
         "0.0",
         "0.0",
         "0.0",
         "600.0",
         "0.0",
         "0.0",
         "1000.0",
         "1100.0",
         "0.0",
         "0.0",
         "1700.0",
         "0.0",
         "0.0",
         "2000.0",
         "0.0",
         "0.0",
         "0.0",
         "0.0",
         "0.0",
         "0.0",
         "2300.0",
         "1900.0",
         "2600.0",
         "3900.0",
         "5200.0",
         "9000.0",
         "9000.0",
         "14000.0",
         "12000.0",
         "13500.0",
         "8000.0",
         "15400.0",
         "12000.0",
         "20800.0",
         "23800.0",
         "24000.0",
         "28800.0",
         "15300.0",
         "32400.0",
         "20900.0",
         "26000.0",
         "33600.0",
         "8800.0",
         "36800.0",
         "31200.0",
         "45000.0",
         "0.0",
         "0.0",
         "300.0",
         "0.0",
         "0.0",
         "0.0",
         "0.0",
         "0.0",
         "0.0",
         "1200.0",
         "0.0",
         "0.0",
         "0.0",
         "0.0",
         "0.0",
         "0.0",
         "0.0",
         "2500.0"
        ],
        [
         "201906",
         "0.0",
         "0.0",
         "0.0",
         "0.0",
         "0.0",
         "0.0",
         "2300.0",
         "0.0",
         "0.0",
         "0.0",
         "0.0",
         "0.0",
         "0.0",
         "0.0",
         "0.0",
         "0.0",
         "0.0",
         "300.0",
         "0.0",
         "0.0",
         "0.0",
         "700.0",
         "0.0",
         "0.0",
         "0.0",
         "0.0",
         "0.0",
         "1500.0",
         "0.0",
         "0.0",
         "2100.0",
         "0.0",
         "0.0",
         "0.0",
         "0.0",
         "100.0",
         "0.0",
         "0.0",
         "0.0",
         "800.0",
         "0.0",
         "0.0",
         "0.0",
         "0.0",
         "0.0",
         "0.0",
         "0.0",
         "0.0",
         "0.0",
         "0.0",
         "0.0",
         "0.0",
         "700.0",
         "0.0",
         "0.0",
         "0.0",
         "2000.0",
         "2400.0",
         "2400.0",
         "7200.0",
         "6500.0",
         "9600.0",
         "7700.0",
         "8800.0",
         "12600.0",
         "20000.0",
         "15400.0",
         "14400.0",
         "19500.0",
         "15400.0",
         "19500.0",
         "24000.0",
         "23800.0",
         "27000.0",
         "34200.0",
         "22000.0",
         "29400.0",
         "33000.0",
         "25300.0",
         "24000.0",
         "30000.0",
         "0.0",
         "0.0",
         "0.0",
         "0.0",
         "0.0",
         "0.0",
         "900.0",
         "0.0",
         "0.0",
         "0.0",
         "0.0",
         "1600.0",
         "0.0",
         "0.0",
         "0.0",
         "0.0",
         "2400.0",
         "0.0"
        ],
        [
         "201907",
         "0.0",
         "0.0",
         "0.0",
         "0.0",
         "0.0",
         "0.0",
         "0.0",
         "0.0",
         "0.0",
         "0.0",
         "0.0",
         "0.0",
         "0.0",
         "0.0",
         "1700.0",
         "0.0",
         "0.0",
         "0.0",
         "0.0",
         "500.0",
         "0.0",
         "0.0",
         "800.0",
         "0.0",
         "0.0",
         "0.0",
         "0.0",
         "1500.0",
         "0.0",
         "0.0",
         "0.0",
         "2200.0",
         "0.0",
         "0.0",
         "0.0",
         "0.0",
         "0.0",
         "500.0",
         "0.0",
         "0.0",
         "0.0",
         "0.0",
         "0.0",
         "0.0",
         "0.0",
         "0.0",
         "0.0",
         "0.0",
         "2000.0",
         "2200.0",
         "0.0",
         "0.0",
         "0.0",
         "0.0",
         "0.0",
         "0.0",
         "1600.0",
         "3600.0",
         "4500.0",
         "6000.0",
         "4500.0",
         "9600.0",
         "11900.0",
         "12800.0",
         "13500.0",
         "17000.0",
         "9900.0",
         "20400.0",
         "13000.0",
         "18200.0",
         "25500.0",
         "38400.0",
         "18700.0",
         "25200.0",
         "38000.0",
         "34000.0",
         "23100.0",
         "52800.0",
         "32200.0",
         "38400.0",
         "27500.0",
         "0.0",
         "0.0",
         "0.0",
         "0.0",
         "0.0",
         "0.0",
         "900.0",
         "0.0",
         "0.0",
         "0.0",
         "1500.0",
         "0.0",
         "1800.0",
         "0.0",
         "0.0",
         "0.0",
         "0.0",
         "0.0"
        ]
       ],
       "shape": {
        "columns": 99,
        "rows": 7
       }
      },
      "text/html": [
       "<div>\n",
       "<style scoped>\n",
       "    .dataframe tbody tr th:only-of-type {\n",
       "        vertical-align: middle;\n",
       "    }\n",
       "\n",
       "    .dataframe tbody tr th {\n",
       "        vertical-align: top;\n",
       "    }\n",
       "\n",
       "    .dataframe thead th {\n",
       "        text-align: right;\n",
       "    }\n",
       "</style>\n",
       "<table border=\"1\" class=\"dataframe\">\n",
       "  <thead>\n",
       "    <tr style=\"text-align: right;\">\n",
       "      <th>item_name</th>\n",
       "      <th>商品W</th>\n",
       "      <th>商 品 n</th>\n",
       "      <th>商品E</th>\n",
       "      <th>商品M</th>\n",
       "      <th>商品P</th>\n",
       "      <th>商品S</th>\n",
       "      <th>商品W</th>\n",
       "      <th>商品X</th>\n",
       "      <th>商  品O</th>\n",
       "      <th>商  品Q</th>\n",
       "      <th>...</th>\n",
       "      <th>商品k</th>\n",
       "      <th>商品l</th>\n",
       "      <th>商品o</th>\n",
       "      <th>商品p</th>\n",
       "      <th>商品r</th>\n",
       "      <th>商品s</th>\n",
       "      <th>商品t</th>\n",
       "      <th>商品v</th>\n",
       "      <th>商品x</th>\n",
       "      <th>商品y</th>\n",
       "    </tr>\n",
       "    <tr>\n",
       "      <th>purchase_month</th>\n",
       "      <th></th>\n",
       "      <th></th>\n",
       "      <th></th>\n",
       "      <th></th>\n",
       "      <th></th>\n",
       "      <th></th>\n",
       "      <th></th>\n",
       "      <th></th>\n",
       "      <th></th>\n",
       "      <th></th>\n",
       "      <th></th>\n",
       "      <th></th>\n",
       "      <th></th>\n",
       "      <th></th>\n",
       "      <th></th>\n",
       "      <th></th>\n",
       "      <th></th>\n",
       "      <th></th>\n",
       "      <th></th>\n",
       "      <th></th>\n",
       "      <th></th>\n",
       "    </tr>\n",
       "  </thead>\n",
       "  <tbody>\n",
       "    <tr>\n",
       "      <th>201901</th>\n",
       "      <td>0.0</td>\n",
       "      <td>1400.0</td>\n",
       "      <td>0.0</td>\n",
       "      <td>0.0</td>\n",
       "      <td>0.0</td>\n",
       "      <td>0.0</td>\n",
       "      <td>0.0</td>\n",
       "      <td>0.0</td>\n",
       "      <td>0.0</td>\n",
       "      <td>0.0</td>\n",
       "      <td>...</td>\n",
       "      <td>1100.0</td>\n",
       "      <td>1200.0</td>\n",
       "      <td>1500.0</td>\n",
       "      <td>0.0</td>\n",
       "      <td>0.0</td>\n",
       "      <td>0.0</td>\n",
       "      <td>0.0</td>\n",
       "      <td>0.0</td>\n",
       "      <td>0.0</td>\n",
       "      <td>0.0</td>\n",
       "    </tr>\n",
       "    <tr>\n",
       "      <th>201902</th>\n",
       "      <td>0.0</td>\n",
       "      <td>0.0</td>\n",
       "      <td>0.0</td>\n",
       "      <td>0.0</td>\n",
       "      <td>0.0</td>\n",
       "      <td>0.0</td>\n",
       "      <td>0.0</td>\n",
       "      <td>2400.0</td>\n",
       "      <td>0.0</td>\n",
       "      <td>0.0</td>\n",
       "      <td>...</td>\n",
       "      <td>0.0</td>\n",
       "      <td>0.0</td>\n",
       "      <td>0.0</td>\n",
       "      <td>0.0</td>\n",
       "      <td>0.0</td>\n",
       "      <td>1900.0</td>\n",
       "      <td>2000.0</td>\n",
       "      <td>2200.0</td>\n",
       "      <td>0.0</td>\n",
       "      <td>0.0</td>\n",
       "    </tr>\n",
       "    <tr>\n",
       "      <th>201903</th>\n",
       "      <td>0.0</td>\n",
       "      <td>0.0</td>\n",
       "      <td>500.0</td>\n",
       "      <td>1300.0</td>\n",
       "      <td>1600.0</td>\n",
       "      <td>0.0</td>\n",
       "      <td>0.0</td>\n",
       "      <td>0.0</td>\n",
       "      <td>0.0</td>\n",
       "      <td>0.0</td>\n",
       "      <td>...</td>\n",
       "      <td>0.0</td>\n",
       "      <td>0.0</td>\n",
       "      <td>0.0</td>\n",
       "      <td>0.0</td>\n",
       "      <td>0.0</td>\n",
       "      <td>0.0</td>\n",
       "      <td>0.0</td>\n",
       "      <td>0.0</td>\n",
       "      <td>0.0</td>\n",
       "      <td>0.0</td>\n",
       "    </tr>\n",
       "    <tr>\n",
       "      <th>201904</th>\n",
       "      <td>2300.0</td>\n",
       "      <td>0.0</td>\n",
       "      <td>0.0</td>\n",
       "      <td>0.0</td>\n",
       "      <td>0.0</td>\n",
       "      <td>0.0</td>\n",
       "      <td>0.0</td>\n",
       "      <td>0.0</td>\n",
       "      <td>0.0</td>\n",
       "      <td>1700.0</td>\n",
       "      <td>...</td>\n",
       "      <td>0.0</td>\n",
       "      <td>0.0</td>\n",
       "      <td>0.0</td>\n",
       "      <td>0.0</td>\n",
       "      <td>0.0</td>\n",
       "      <td>1900.0</td>\n",
       "      <td>0.0</td>\n",
       "      <td>0.0</td>\n",
       "      <td>0.0</td>\n",
       "      <td>0.0</td>\n",
       "    </tr>\n",
       "    <tr>\n",
       "      <th>201905</th>\n",
       "      <td>0.0</td>\n",
       "      <td>0.0</td>\n",
       "      <td>0.0</td>\n",
       "      <td>0.0</td>\n",
       "      <td>0.0</td>\n",
       "      <td>1900.0</td>\n",
       "      <td>0.0</td>\n",
       "      <td>0.0</td>\n",
       "      <td>0.0</td>\n",
       "      <td>0.0</td>\n",
       "      <td>...</td>\n",
       "      <td>0.0</td>\n",
       "      <td>1200.0</td>\n",
       "      <td>0.0</td>\n",
       "      <td>0.0</td>\n",
       "      <td>0.0</td>\n",
       "      <td>0.0</td>\n",
       "      <td>0.0</td>\n",
       "      <td>0.0</td>\n",
       "      <td>0.0</td>\n",
       "      <td>2500.0</td>\n",
       "    </tr>\n",
       "    <tr>\n",
       "      <th>201906</th>\n",
       "      <td>0.0</td>\n",
       "      <td>0.0</td>\n",
       "      <td>0.0</td>\n",
       "      <td>0.0</td>\n",
       "      <td>0.0</td>\n",
       "      <td>0.0</td>\n",
       "      <td>2300.0</td>\n",
       "      <td>0.0</td>\n",
       "      <td>0.0</td>\n",
       "      <td>0.0</td>\n",
       "      <td>...</td>\n",
       "      <td>0.0</td>\n",
       "      <td>0.0</td>\n",
       "      <td>0.0</td>\n",
       "      <td>1600.0</td>\n",
       "      <td>0.0</td>\n",
       "      <td>0.0</td>\n",
       "      <td>0.0</td>\n",
       "      <td>0.0</td>\n",
       "      <td>2400.0</td>\n",
       "      <td>0.0</td>\n",
       "    </tr>\n",
       "    <tr>\n",
       "      <th>201907</th>\n",
       "      <td>0.0</td>\n",
       "      <td>0.0</td>\n",
       "      <td>0.0</td>\n",
       "      <td>0.0</td>\n",
       "      <td>0.0</td>\n",
       "      <td>0.0</td>\n",
       "      <td>0.0</td>\n",
       "      <td>0.0</td>\n",
       "      <td>0.0</td>\n",
       "      <td>0.0</td>\n",
       "      <td>...</td>\n",
       "      <td>0.0</td>\n",
       "      <td>0.0</td>\n",
       "      <td>1500.0</td>\n",
       "      <td>0.0</td>\n",
       "      <td>1800.0</td>\n",
       "      <td>0.0</td>\n",
       "      <td>0.0</td>\n",
       "      <td>0.0</td>\n",
       "      <td>0.0</td>\n",
       "      <td>0.0</td>\n",
       "    </tr>\n",
       "  </tbody>\n",
       "</table>\n",
       "<p>7 rows × 99 columns</p>\n",
       "</div>"
      ],
      "text/plain": [
       "item_name          商品W   商 品 n    商品E     商品M     商品P     商品S     商品W     商品X  \\\n",
       "purchase_month                                                                  \n",
       "201901             0.0  1400.0    0.0     0.0     0.0     0.0     0.0     0.0   \n",
       "201902             0.0     0.0    0.0     0.0     0.0     0.0     0.0  2400.0   \n",
       "201903             0.0     0.0  500.0  1300.0  1600.0     0.0     0.0     0.0   \n",
       "201904          2300.0     0.0    0.0     0.0     0.0     0.0     0.0     0.0   \n",
       "201905             0.0     0.0    0.0     0.0     0.0  1900.0     0.0     0.0   \n",
       "201906             0.0     0.0    0.0     0.0     0.0     0.0  2300.0     0.0   \n",
       "201907             0.0     0.0    0.0     0.0     0.0     0.0     0.0     0.0   \n",
       "\n",
       "item_name       商  品O   商  品Q  ...     商品k     商品l     商品o     商品p     商品r  \\\n",
       "purchase_month                 ...                                           \n",
       "201901            0.0     0.0  ...  1100.0  1200.0  1500.0     0.0     0.0   \n",
       "201902            0.0     0.0  ...     0.0     0.0     0.0     0.0     0.0   \n",
       "201903            0.0     0.0  ...     0.0     0.0     0.0     0.0     0.0   \n",
       "201904            0.0  1700.0  ...     0.0     0.0     0.0     0.0     0.0   \n",
       "201905            0.0     0.0  ...     0.0  1200.0     0.0     0.0     0.0   \n",
       "201906            0.0     0.0  ...     0.0     0.0     0.0  1600.0     0.0   \n",
       "201907            0.0     0.0  ...     0.0     0.0  1500.0     0.0  1800.0   \n",
       "\n",
       "item_name          商品s     商品t     商品v     商品x     商品y  \n",
       "purchase_month                                          \n",
       "201901             0.0     0.0     0.0     0.0     0.0  \n",
       "201902          1900.0  2000.0  2200.0     0.0     0.0  \n",
       "201903             0.0     0.0     0.0     0.0     0.0  \n",
       "201904          1900.0     0.0     0.0     0.0     0.0  \n",
       "201905             0.0     0.0     0.0     0.0  2500.0  \n",
       "201906             0.0     0.0     0.0  2400.0     0.0  \n",
       "201907             0.0     0.0     0.0     0.0     0.0  \n",
       "\n",
       "[7 rows x 99 columns]"
      ]
     },
     "execution_count": 8,
     "metadata": {},
     "output_type": "execute_result"
    }
   ],
   "source": [
    "res =uriage_data.pivot_table(index=\"purchase_month\", columns=\"item_name\",values=\"item_price\", aggfunc=\"sum\", fill_value=0)\n",
    "res"
   ]
  },
  {
   "cell_type": "code",
   "execution_count": 9,
   "id": "956e7ae7",
   "metadata": {},
   "outputs": [
    {
     "name": "stdout",
     "output_type": "stream",
     "text": [
      "99\n"
     ]
    }
   ],
   "source": [
    "print(len(pd.unique(uriage_data[\"item_name\"])))"
   ]
  },
  {
   "cell_type": "code",
   "execution_count": 10,
   "id": "7a338fd0",
   "metadata": {},
   "outputs": [
    {
     "data": {
      "application/vnd.microsoft.datawrangler.viewer.v0+json": {
       "columns": [
        {
         "name": "index",
         "rawType": "int64",
         "type": "integer"
        },
        {
         "name": "purchase_date",
         "rawType": "datetime64[ns]",
         "type": "datetime"
        },
        {
         "name": "item_name",
         "rawType": "object",
         "type": "string"
        },
        {
         "name": "item_price",
         "rawType": "float64",
         "type": "float"
        },
        {
         "name": "customer_name",
         "rawType": "object",
         "type": "string"
        },
        {
         "name": "purchase_month",
         "rawType": "object",
         "type": "string"
        }
       ],
       "ref": "4a25532c-8a0d-453f-bbad-51691f50c2d9",
       "rows": [
        [
         "0",
         "2019-06-13 18:02:34",
         "商品A",
         "100.0",
         "深井菜々美",
         "201906"
        ],
        [
         "1748",
         "2019-05-19 20:22:22",
         "商品A",
         "100.0",
         "松川綾女",
         "201905"
        ],
        [
         "223",
         "2019-06-25 08:13:20",
         "商品A",
         "100.0",
         "板橋隆",
         "201906"
        ],
        [
         "1742",
         "2019-06-13 16:03:17",
         "商品A",
         "100.0",
         "小平陽子",
         "201906"
        ],
        [
         "1738",
         "2019-02-10 00:28:43",
         "商品A",
         "100.0",
         "松田浩正",
         "201902"
        ],
        [
         "1721",
         "2019-02-24 19:18:05",
         "商品A",
         "100.0",
         "楠哲平",
         "201902"
        ],
        [
         "1708",
         "2019-03-27 17:10:06",
         "商品A",
         "100.0",
         "西脇礼子",
         "201903"
        ],
        [
         "1707",
         "2019-03-25 21:42:02",
         "商品A",
         "100.0",
         "浅見広司",
         "201903"
        ],
        [
         "234",
         "2019-03-23 09:32:03",
         "商品A",
         "100.0",
         "赤木だん吉",
         "201903"
        ],
        [
         "1684",
         "2019-02-17 20:25:57",
         "商品A",
         "100.0",
         "手塚雅之",
         "201902"
        ],
        [
         "497",
         "2019-02-11 03:54:57",
         "商品A",
         "100.0",
         "堀江佑",
         "201902"
        ],
        [
         "1761",
         "2019-05-04 14:44:55",
         "商品A",
         "100.0",
         "八木雅彦",
         "201905"
        ],
        [
         "1658",
         "2019-03-23 20:08:49",
         "商品A",
         "100.0",
         "片瀬長利",
         "201903"
        ],
        [
         "1544",
         "2019-01-21 11:49:01",
         "商品A",
         "100.0",
         "藤広之",
         "201901"
        ],
        [
         "1513",
         "2019-04-04 18:58:05",
         "商品A",
         "100.0",
         "河村由樹",
         "201904"
        ],
        [
         "1500",
         "2019-02-28 17:25:59",
         "商品A",
         "100.0",
         "赤木愛梨",
         "201902"
        ],
        [
         "1498",
         "2019-01-19 12:15:21",
         "商品A",
         "100.0",
         "今茜",
         "201901"
        ],
        [
         "1481",
         "2019-03-10 03:52:24",
         "商品A",
         "100.0",
         "石川まさみ",
         "201903"
        ],
        [
         "1474",
         "2019-04-11 02:22:17",
         "商品A",
         null,
         "堀北雅彦",
         "201904"
        ],
        [
         "274",
         "2019-07-27 01:45:18",
         "商品A",
         "100.0",
         "佐藤慶二",
         "201907"
        ],
        [
         "1454",
         "2019-01-16 07:35:54",
         "商品A",
         "100.0",
         "平田鉄二",
         "201901"
        ],
        [
         "1398",
         "2019-06-13 02:20:26",
         "商品A",
         "100.0",
         "高沢美咲",
         "201906"
        ],
        [
         "1394",
         "2019-07-07 21:49:14",
         "商品A",
         null,
         "楠哲平",
         "201907"
        ],
        [
         "1576",
         "2019-05-06 02:40:03",
         "商品A",
         "100.0",
         "楠哲平",
         "201905"
        ],
        [
         "211",
         "2019-02-12 02:52:39",
         "商品A",
         "100.0",
         "日野夏希",
         "201902"
        ],
        [
         "210",
         "2019-07-08 04:17:01",
         "商品A",
         "100.0",
         "平田鉄二",
         "201907"
        ],
        [
         "1835",
         "2019-06-20 12:57:54",
         "商品A",
         "100.0",
         "古川信吾",
         "201906"
        ],
        [
         "2384",
         "2019-04-27 02:50:16",
         "商品A",
         "100.0",
         "林勇",
         "201904"
        ],
        [
         "117",
         "2019-06-14 09:08:17",
         "商品A",
         "100.0",
         "深井菜々美",
         "201906"
        ],
        [
         "2352",
         "2019-07-28 07:55:39",
         "商品A",
         "100.0",
         "矢部夏空",
         "201907"
        ],
        [
         "130",
         "2019-07-17 20:28:05",
         "商品A",
         "100.0",
         "林勇",
         "201907"
        ],
        [
         "2297",
         "2019-07-06 16:00:38",
         "商品A",
         "100.0",
         "井上桃子",
         "201907"
        ],
        [
         "2278",
         "2019-07-14 03:39:51",
         "商品A",
         null,
         "岡村希",
         "201907"
        ],
        [
         "2265",
         "2019-05-23 03:08:05",
         "商品A",
         "100.0",
         "堀江佑",
         "201905"
        ],
        [
         "2254",
         "2019-05-14 21:09:50",
         "商品A",
         "100.0",
         "日野夏希",
         "201905"
        ],
        [
         "2171",
         "2019-04-28 17:39:01",
         "商品A",
         "100.0",
         "志村サダヲ",
         "201904"
        ],
        [
         "2163",
         "2019-05-02 04:38:56",
         "商品A",
         "100.0",
         "島崎礼子",
         "201905"
        ],
        [
         "2126",
         "2019-01-22 17:19:57",
         "商品A",
         "100.0",
         "堀内聡",
         "201901"
        ],
        [
         "2063",
         "2019-05-25 12:51:35",
         "商品A",
         null,
         "島英嗣",
         "201905"
        ],
        [
         "2059",
         "2019-04-28 06:16:15",
         "商品A",
         "100.0",
         "根本博明",
         "201904"
        ],
        [
         "2039",
         "2019-06-23 03:35:45",
         "商品A",
         "100.0",
         "岡田敏也",
         "201906"
        ],
        [
         "171",
         "2019-06-25 09:06:40",
         "商品A",
         "100.0",
         "小川美菜",
         "201906"
        ],
        [
         "2015",
         "2019-03-13 21:36:04",
         "商品A",
         "100.0",
         "井川里穂",
         "201903"
        ],
        [
         "2002",
         "2019-05-07 14:29:21",
         "商品A",
         "100.0",
         "島袋友以乃",
         "201905"
        ],
        [
         "1977",
         "2019-02-28 04:11:14",
         "商品A",
         null,
         "榎本薫",
         "201902"
        ],
        [
         "1954",
         "2019-01-19 03:37:27",
         "商品A",
         "100.0",
         "石崎幸子",
         "201901"
        ],
        [
         "1937",
         "2019-02-13 07:28:47",
         "商品A",
         null,
         "岩井莉緒",
         "201902"
        ],
        [
         "1902",
         "2019-06-30 21:10:15",
         "商品A",
         "100.0",
         "笹原しぼり",
         "201906"
        ],
        [
         "1892",
         "2019-07-31 01:32:47",
         "商品A",
         null,
         "井本マサカズ",
         "201907"
        ],
        [
         "1863",
         "2019-07-27 06:05:47",
         "商品A",
         "100.0",
         "黄川田博之",
         "201907"
        ]
       ],
       "shape": {
        "columns": 5,
        "rows": 2999
       }
      },
      "text/html": [
       "<div>\n",
       "<style scoped>\n",
       "    .dataframe tbody tr th:only-of-type {\n",
       "        vertical-align: middle;\n",
       "    }\n",
       "\n",
       "    .dataframe tbody tr th {\n",
       "        vertical-align: top;\n",
       "    }\n",
       "\n",
       "    .dataframe thead th {\n",
       "        text-align: right;\n",
       "    }\n",
       "</style>\n",
       "<table border=\"1\" class=\"dataframe\">\n",
       "  <thead>\n",
       "    <tr style=\"text-align: right;\">\n",
       "      <th></th>\n",
       "      <th>purchase_date</th>\n",
       "      <th>item_name</th>\n",
       "      <th>item_price</th>\n",
       "      <th>customer_name</th>\n",
       "      <th>purchase_month</th>\n",
       "    </tr>\n",
       "  </thead>\n",
       "  <tbody>\n",
       "    <tr>\n",
       "      <th>0</th>\n",
       "      <td>2019-06-13 18:02:34</td>\n",
       "      <td>商品A</td>\n",
       "      <td>100.0</td>\n",
       "      <td>深井菜々美</td>\n",
       "      <td>201906</td>\n",
       "    </tr>\n",
       "    <tr>\n",
       "      <th>1748</th>\n",
       "      <td>2019-05-19 20:22:22</td>\n",
       "      <td>商品A</td>\n",
       "      <td>100.0</td>\n",
       "      <td>松川綾女</td>\n",
       "      <td>201905</td>\n",
       "    </tr>\n",
       "    <tr>\n",
       "      <th>223</th>\n",
       "      <td>2019-06-25 08:13:20</td>\n",
       "      <td>商品A</td>\n",
       "      <td>100.0</td>\n",
       "      <td>板橋隆</td>\n",
       "      <td>201906</td>\n",
       "    </tr>\n",
       "    <tr>\n",
       "      <th>1742</th>\n",
       "      <td>2019-06-13 16:03:17</td>\n",
       "      <td>商品A</td>\n",
       "      <td>100.0</td>\n",
       "      <td>小平陽子</td>\n",
       "      <td>201906</td>\n",
       "    </tr>\n",
       "    <tr>\n",
       "      <th>1738</th>\n",
       "      <td>2019-02-10 00:28:43</td>\n",
       "      <td>商品A</td>\n",
       "      <td>100.0</td>\n",
       "      <td>松田浩正</td>\n",
       "      <td>201902</td>\n",
       "    </tr>\n",
       "    <tr>\n",
       "      <th>...</th>\n",
       "      <td>...</td>\n",
       "      <td>...</td>\n",
       "      <td>...</td>\n",
       "      <td>...</td>\n",
       "      <td>...</td>\n",
       "    </tr>\n",
       "    <tr>\n",
       "      <th>2880</th>\n",
       "      <td>2019-04-22 00:36:52</td>\n",
       "      <td>商品Y</td>\n",
       "      <td>NaN</td>\n",
       "      <td>田辺光洋</td>\n",
       "      <td>201904</td>\n",
       "    </tr>\n",
       "    <tr>\n",
       "      <th>2881</th>\n",
       "      <td>2019-04-30 14:21:09</td>\n",
       "      <td>商品Y</td>\n",
       "      <td>NaN</td>\n",
       "      <td>高原充則</td>\n",
       "      <td>201904</td>\n",
       "    </tr>\n",
       "    <tr>\n",
       "      <th>1525</th>\n",
       "      <td>2019-01-24 10:27:23</td>\n",
       "      <td>商品Y</td>\n",
       "      <td>2500.0</td>\n",
       "      <td>五十嵐春樹</td>\n",
       "      <td>201901</td>\n",
       "    </tr>\n",
       "    <tr>\n",
       "      <th>1361</th>\n",
       "      <td>2019-05-28 13:45:32</td>\n",
       "      <td>商品Y</td>\n",
       "      <td>2500.0</td>\n",
       "      <td>大崎ヒカル</td>\n",
       "      <td>201905</td>\n",
       "    </tr>\n",
       "    <tr>\n",
       "      <th>3</th>\n",
       "      <td>2019-02-12 23:40:45</td>\n",
       "      <td>商品Z</td>\n",
       "      <td>2600.0</td>\n",
       "      <td>麻生莉緒</td>\n",
       "      <td>201902</td>\n",
       "    </tr>\n",
       "  </tbody>\n",
       "</table>\n",
       "<p>2999 rows × 5 columns</p>\n",
       "</div>"
      ],
      "text/plain": [
       "           purchase_date item_name  item_price customer_name purchase_month\n",
       "0    2019-06-13 18:02:34       商品A       100.0         深井菜々美         201906\n",
       "1748 2019-05-19 20:22:22       商品A       100.0          松川綾女         201905\n",
       "223  2019-06-25 08:13:20       商品A       100.0           板橋隆         201906\n",
       "1742 2019-06-13 16:03:17       商品A       100.0          小平陽子         201906\n",
       "1738 2019-02-10 00:28:43       商品A       100.0          松田浩正         201902\n",
       "...                  ...       ...         ...           ...            ...\n",
       "2880 2019-04-22 00:36:52       商品Y         NaN          田辺光洋         201904\n",
       "2881 2019-04-30 14:21:09       商品Y         NaN          高原充則         201904\n",
       "1525 2019-01-24 10:27:23       商品Y      2500.0         五十嵐春樹         201901\n",
       "1361 2019-05-28 13:45:32       商品Y      2500.0         大崎ヒカル         201905\n",
       "3    2019-02-12 23:40:45       商品Z      2600.0          麻生莉緒         201902\n",
       "\n",
       "[2999 rows x 5 columns]"
      ]
     },
     "execution_count": 10,
     "metadata": {},
     "output_type": "execute_result"
    }
   ],
   "source": [
    "uriage_data[\"item_name\"] = uriage_data[\"item_name\"].str.upper()\n",
    "uriage_data[\"item_name\"] = uriage_data[\"item_name\"].str.replace(\" \", \"\")\n",
    "uriage_data[\"item_name\"] = uriage_data[\"item_name\"].str.replace(\"  \", \"\")\n",
    "uriage_data.sort_values(by=[\"item_name\"], ascending=True)\n"
   ]
  },
  {
   "cell_type": "code",
   "execution_count": 11,
   "id": "8f5f6199",
   "metadata": {},
   "outputs": [
    {
     "name": "stdout",
     "output_type": "stream",
     "text": [
      "['商品A' '商品S' '商品Z' '商品V' '商品O' '商品U' '商品L' '商品C' '商品I' '商品R' '商品X' '商品G'\n",
      " '商品P' '商品Q' '商品Y' '商品N' '商品W' '商品E' '商品K' '商品B' '商品F' '商品D' '商品M' '商品H'\n",
      " '商品T' '商品J']\n",
      "26\n"
     ]
    }
   ],
   "source": [
    "print(pd.unique(uriage_data[\"item_name\"]))\n",
    "print(len(pd.unique(uriage_data[\"item_name\"])))"
   ]
  },
  {
   "cell_type": "code",
   "execution_count": 12,
   "id": "68491480",
   "metadata": {},
   "outputs": [
    {
     "data": {
      "application/vnd.microsoft.datawrangler.viewer.v0+json": {
       "columns": [
        {
         "name": "index",
         "rawType": "object",
         "type": "string"
        },
        {
         "name": "0",
         "rawType": "bool",
         "type": "boolean"
        }
       ],
       "ref": "6f61d2d8-fa72-4a83-a90e-b6644976ff86",
       "rows": [
        [
         "purchase_date",
         "False"
        ],
        [
         "item_name",
         "False"
        ],
        [
         "item_price",
         "True"
        ],
        [
         "customer_name",
         "False"
        ],
        [
         "purchase_month",
         "False"
        ]
       ],
       "shape": {
        "columns": 1,
        "rows": 5
       }
      },
      "text/plain": [
       "purchase_date     False\n",
       "item_name         False\n",
       "item_price         True\n",
       "customer_name     False\n",
       "purchase_month    False\n",
       "dtype: bool"
      ]
     },
     "execution_count": 12,
     "metadata": {},
     "output_type": "execute_result"
    }
   ],
   "source": [
    "uriage_data.isnull().any(axis=0)"
   ]
  },
  {
   "cell_type": "code",
   "execution_count": 13,
   "id": "ec04ea66",
   "metadata": {},
   "outputs": [
    {
     "data": {
      "application/vnd.microsoft.datawrangler.viewer.v0+json": {
       "columns": [
        {
         "name": "index",
         "rawType": "int64",
         "type": "integer"
        },
        {
         "name": "item_price",
         "rawType": "bool",
         "type": "boolean"
        }
       ],
       "ref": "5b9d34a1-2586-4a70-bc1c-f48bf4bbd70e",
       "rows": [
        [
         "0",
         "False"
        ],
        [
         "1",
         "True"
        ],
        [
         "2",
         "True"
        ],
        [
         "3",
         "False"
        ],
        [
         "4",
         "True"
        ],
        [
         "5",
         "False"
        ],
        [
         "6",
         "True"
        ],
        [
         "7",
         "False"
        ],
        [
         "8",
         "False"
        ],
        [
         "9",
         "False"
        ],
        [
         "10",
         "False"
        ],
        [
         "11",
         "False"
        ],
        [
         "12",
         "False"
        ],
        [
         "13",
         "False"
        ],
        [
         "14",
         "True"
        ],
        [
         "15",
         "False"
        ],
        [
         "16",
         "False"
        ],
        [
         "17",
         "False"
        ],
        [
         "18",
         "False"
        ],
        [
         "19",
         "False"
        ],
        [
         "20",
         "False"
        ],
        [
         "21",
         "False"
        ],
        [
         "22",
         "False"
        ],
        [
         "23",
         "False"
        ],
        [
         "24",
         "False"
        ],
        [
         "25",
         "False"
        ],
        [
         "26",
         "False"
        ],
        [
         "27",
         "False"
        ],
        [
         "28",
         "True"
        ],
        [
         "29",
         "False"
        ],
        [
         "30",
         "False"
        ],
        [
         "31",
         "False"
        ],
        [
         "32",
         "True"
        ],
        [
         "33",
         "False"
        ],
        [
         "34",
         "False"
        ],
        [
         "35",
         "False"
        ],
        [
         "36",
         "False"
        ],
        [
         "37",
         "False"
        ],
        [
         "38",
         "False"
        ],
        [
         "39",
         "True"
        ],
        [
         "40",
         "False"
        ],
        [
         "41",
         "False"
        ],
        [
         "42",
         "False"
        ],
        [
         "43",
         "False"
        ],
        [
         "44",
         "False"
        ],
        [
         "45",
         "False"
        ],
        [
         "46",
         "False"
        ],
        [
         "47",
         "False"
        ],
        [
         "48",
         "False"
        ],
        [
         "49",
         "False"
        ]
       ],
       "shape": {
        "columns": 1,
        "rows": 2999
       }
      },
      "text/plain": [
       "0       False\n",
       "1        True\n",
       "2        True\n",
       "3       False\n",
       "4        True\n",
       "        ...  \n",
       "2994    False\n",
       "2995    False\n",
       "2996     True\n",
       "2997     True\n",
       "2998    False\n",
       "Name: item_price, Length: 2999, dtype: bool"
      ]
     },
     "execution_count": 13,
     "metadata": {},
     "output_type": "execute_result"
    }
   ],
   "source": [
    "flg_is_null = uriage_data[\"item_price\"].isnull()\n",
    "flg_is_null"
   ]
  },
  {
   "cell_type": "code",
   "execution_count": 14,
   "id": "282c9610",
   "metadata": {},
   "outputs": [
    {
     "data": {
      "application/vnd.microsoft.datawrangler.viewer.v0+json": {
       "columns": [
        {
         "name": "index",
         "rawType": "int64",
         "type": "integer"
        },
        {
         "name": "purchase_date",
         "rawType": "datetime64[ns]",
         "type": "datetime"
        },
        {
         "name": "item_name",
         "rawType": "object",
         "type": "string"
        },
        {
         "name": "item_price",
         "rawType": "float64",
         "type": "float"
        },
        {
         "name": "customer_name",
         "rawType": "object",
         "type": "string"
        },
        {
         "name": "purchase_month",
         "rawType": "object",
         "type": "string"
        }
       ],
       "ref": "1e27be68-c129-4528-a1db-2697654e4c6e",
       "rows": [
        [
         "0",
         "2019-06-13 18:02:34",
         "商品A",
         "100.0",
         "深井菜々美",
         "201906"
        ],
        [
         "1",
         "2019-07-13 13:05:29",
         "商品S",
         "1900.0",
         "浅田賢二",
         "201907"
        ],
        [
         "2",
         "2019-05-11 19:42:07",
         "商品A",
         "100.0",
         "南部慶二",
         "201905"
        ],
        [
         "3",
         "2019-02-12 23:40:45",
         "商品Z",
         "2600.0",
         "麻生莉緒",
         "201902"
        ],
        [
         "4",
         "2019-04-22 03:09:35",
         "商品A",
         "100.0",
         "平田鉄二",
         "201904"
        ]
       ],
       "shape": {
        "columns": 5,
        "rows": 5
       }
      },
      "text/html": [
       "<div>\n",
       "<style scoped>\n",
       "    .dataframe tbody tr th:only-of-type {\n",
       "        vertical-align: middle;\n",
       "    }\n",
       "\n",
       "    .dataframe tbody tr th {\n",
       "        vertical-align: top;\n",
       "    }\n",
       "\n",
       "    .dataframe thead th {\n",
       "        text-align: right;\n",
       "    }\n",
       "</style>\n",
       "<table border=\"1\" class=\"dataframe\">\n",
       "  <thead>\n",
       "    <tr style=\"text-align: right;\">\n",
       "      <th></th>\n",
       "      <th>purchase_date</th>\n",
       "      <th>item_name</th>\n",
       "      <th>item_price</th>\n",
       "      <th>customer_name</th>\n",
       "      <th>purchase_month</th>\n",
       "    </tr>\n",
       "  </thead>\n",
       "  <tbody>\n",
       "    <tr>\n",
       "      <th>0</th>\n",
       "      <td>2019-06-13 18:02:34</td>\n",
       "      <td>商品A</td>\n",
       "      <td>100.0</td>\n",
       "      <td>深井菜々美</td>\n",
       "      <td>201906</td>\n",
       "    </tr>\n",
       "    <tr>\n",
       "      <th>1</th>\n",
       "      <td>2019-07-13 13:05:29</td>\n",
       "      <td>商品S</td>\n",
       "      <td>1900.0</td>\n",
       "      <td>浅田賢二</td>\n",
       "      <td>201907</td>\n",
       "    </tr>\n",
       "    <tr>\n",
       "      <th>2</th>\n",
       "      <td>2019-05-11 19:42:07</td>\n",
       "      <td>商品A</td>\n",
       "      <td>100.0</td>\n",
       "      <td>南部慶二</td>\n",
       "      <td>201905</td>\n",
       "    </tr>\n",
       "    <tr>\n",
       "      <th>3</th>\n",
       "      <td>2019-02-12 23:40:45</td>\n",
       "      <td>商品Z</td>\n",
       "      <td>2600.0</td>\n",
       "      <td>麻生莉緒</td>\n",
       "      <td>201902</td>\n",
       "    </tr>\n",
       "    <tr>\n",
       "      <th>4</th>\n",
       "      <td>2019-04-22 03:09:35</td>\n",
       "      <td>商品A</td>\n",
       "      <td>100.0</td>\n",
       "      <td>平田鉄二</td>\n",
       "      <td>201904</td>\n",
       "    </tr>\n",
       "  </tbody>\n",
       "</table>\n",
       "</div>"
      ],
      "text/plain": [
       "        purchase_date item_name  item_price customer_name purchase_month\n",
       "0 2019-06-13 18:02:34       商品A       100.0         深井菜々美         201906\n",
       "1 2019-07-13 13:05:29       商品S      1900.0          浅田賢二         201907\n",
       "2 2019-05-11 19:42:07       商品A       100.0          南部慶二         201905\n",
       "3 2019-02-12 23:40:45       商品Z      2600.0          麻生莉緒         201902\n",
       "4 2019-04-22 03:09:35       商品A       100.0          平田鉄二         201904"
      ]
     },
     "execution_count": 14,
     "metadata": {},
     "output_type": "execute_result"
    }
   ],
   "source": [
    "for trg in list(uriage_data.loc[flg_is_null, \"item_name\"].unique()):\n",
    "    price = uriage_data.loc[(~flg_is_null) & (uriage_data[\"item_name\"] == trg), \"item_price\"].max()\n",
    "    uriage_data.loc[(flg_is_null) & (uriage_data[\"item_name\"] == trg), \"item_price\"] = price\n",
    "uriage_data.head()"
   ]
  },
  {
   "cell_type": "code",
   "execution_count": 15,
   "id": "a5171861",
   "metadata": {},
   "outputs": [
    {
     "data": {
      "application/vnd.microsoft.datawrangler.viewer.v0+json": {
       "columns": [
        {
         "name": "index",
         "rawType": "object",
         "type": "string"
        },
        {
         "name": "0",
         "rawType": "bool",
         "type": "boolean"
        }
       ],
       "ref": "5f32b37d-5fa4-4bf7-9e5b-d2233d9b17c7",
       "rows": [
        [
         "purchase_date",
         "False"
        ],
        [
         "item_name",
         "False"
        ],
        [
         "item_price",
         "False"
        ],
        [
         "customer_name",
         "False"
        ],
        [
         "purchase_month",
         "False"
        ]
       ],
       "shape": {
        "columns": 1,
        "rows": 5
       }
      },
      "text/plain": [
       "purchase_date     False\n",
       "item_name         False\n",
       "item_price        False\n",
       "customer_name     False\n",
       "purchase_month    False\n",
       "dtype: bool"
      ]
     },
     "execution_count": 15,
     "metadata": {},
     "output_type": "execute_result"
    }
   ],
   "source": [
    "uriage_data.isnull().any(axis=0)"
   ]
  },
  {
   "cell_type": "code",
   "execution_count": 16,
   "id": "2eefe89c",
   "metadata": {},
   "outputs": [
    {
     "name": "stdout",
     "output_type": "stream",
     "text": [
      "商品Aの最大額:100.0の最少額:100.0\n",
      "商品Bの最大額:200.0の最少額:200.0\n",
      "商品Cの最大額:300.0の最少額:300.0\n",
      "商品Dの最大額:400.0の最少額:400.0\n",
      "商品Eの最大額:500.0の最少額:500.0\n",
      "商品Fの最大額:600.0の最少額:600.0\n",
      "商品Gの最大額:700.0の最少額:700.0\n",
      "商品Hの最大額:800.0の最少額:800.0\n",
      "商品Iの最大額:900.0の最少額:900.0\n",
      "商品Jの最大額:1000.0の最少額:1000.0\n",
      "商品Kの最大額:1100.0の最少額:1100.0\n",
      "商品Lの最大額:1200.0の最少額:1200.0\n",
      "商品Mの最大額:1300.0の最少額:1300.0\n",
      "商品Nの最大額:1400.0の最少額:1400.0\n",
      "商品Oの最大額:1500.0の最少額:1500.0\n",
      "商品Pの最大額:1600.0の最少額:1600.0\n",
      "商品Qの最大額:1700.0の最少額:1700.0\n",
      "商品Rの最大額:1800.0の最少額:1800.0\n",
      "商品Sの最大額:1900.0の最少額:1900.0\n",
      "商品Tの最大額:2000.0の最少額:2000.0\n",
      "商品Uの最大額:2100.0の最少額:2100.0\n",
      "商品Vの最大額:2200.0の最少額:2200.0\n",
      "商品Wの最大額:2300.0の最少額:2300.0\n",
      "商品Xの最大額:2400.0の最少額:2400.0\n",
      "商品Yの最大額:2500.0の最少額:2500.0\n",
      "商品Zの最大額:2600.0の最少額:2600.0\n"
     ]
    }
   ],
   "source": [
    "for trg in list (uriage_data[\"item_name\"].sort_values().unique()):\n",
    "    print(trg + \"の最大額:\" + str(uriage_data.loc[uriage_data[\"item_name\"] == trg][\"item_price\"].max()) + \"の最少額:\" + str(uriage_data.loc[uriage_data[\"item_name\"] ==trg][\"item_price\"].min(skipna=False)))"
   ]
  },
  {
   "cell_type": "code",
   "execution_count": 17,
   "id": "223cceb0",
   "metadata": {},
   "outputs": [
    {
     "data": {
      "application/vnd.microsoft.datawrangler.viewer.v0+json": {
       "columns": [
        {
         "name": "index",
         "rawType": "int64",
         "type": "integer"
        },
        {
         "name": "顧客名",
         "rawType": "object",
         "type": "string"
        }
       ],
       "ref": "0890728d-6621-491a-ba9b-16bda82d23bc",
       "rows": [
        [
         "0",
         "須賀ひとみ"
        ],
        [
         "1",
         "岡田　 敏也"
        ],
        [
         "2",
         "芳賀 希"
        ],
        [
         "3",
         "荻野  愛"
        ],
        [
         "4",
         "栗田 憲一"
        ]
       ],
       "shape": {
        "columns": 1,
        "rows": 5
       }
      },
      "text/plain": [
       "0     須賀ひとみ\n",
       "1    岡田　 敏也\n",
       "2      芳賀 希\n",
       "3     荻野  愛\n",
       "4     栗田 憲一\n",
       "Name: 顧客名, dtype: object"
      ]
     },
     "execution_count": 17,
     "metadata": {},
     "output_type": "execute_result"
    }
   ],
   "source": [
    "kokyaku_data[\"顧客名\"].head()"
   ]
  },
  {
   "cell_type": "code",
   "execution_count": 18,
   "id": "fcf225f4",
   "metadata": {},
   "outputs": [
    {
     "data": {
      "application/vnd.microsoft.datawrangler.viewer.v0+json": {
       "columns": [
        {
         "name": "index",
         "rawType": "int64",
         "type": "integer"
        },
        {
         "name": "customer_name",
         "rawType": "object",
         "type": "string"
        }
       ],
       "ref": "18d17465-de29-4085-a407-29bb33246f4d",
       "rows": [
        [
         "0",
         "深井菜々美"
        ],
        [
         "1",
         "浅田賢二"
        ],
        [
         "2",
         "南部慶二"
        ],
        [
         "3",
         "麻生莉緒"
        ],
        [
         "4",
         "平田鉄二"
        ]
       ],
       "shape": {
        "columns": 1,
        "rows": 5
       }
      },
      "text/plain": [
       "0    深井菜々美\n",
       "1     浅田賢二\n",
       "2     南部慶二\n",
       "3     麻生莉緒\n",
       "4     平田鉄二\n",
       "Name: customer_name, dtype: object"
      ]
     },
     "execution_count": 18,
     "metadata": {},
     "output_type": "execute_result"
    }
   ],
   "source": [
    "uriage_data[\"customer_name\"].head()"
   ]
  },
  {
   "cell_type": "code",
   "execution_count": 19,
   "id": "3c3c11ea",
   "metadata": {},
   "outputs": [
    {
     "data": {
      "application/vnd.microsoft.datawrangler.viewer.v0+json": {
       "columns": [
        {
         "name": "index",
         "rawType": "int64",
         "type": "integer"
        },
        {
         "name": "顧客名",
         "rawType": "object",
         "type": "string"
        }
       ],
       "ref": "516d09b2-33c1-4e4b-8cba-0584587114c6",
       "rows": [
        [
         "0",
         "須賀ひとみ"
        ],
        [
         "1",
         "岡田敏也"
        ],
        [
         "2",
         "芳賀希"
        ],
        [
         "3",
         "荻野愛"
        ],
        [
         "4",
         "栗田憲一"
        ]
       ],
       "shape": {
        "columns": 1,
        "rows": 5
       }
      },
      "text/plain": [
       "0    須賀ひとみ\n",
       "1     岡田敏也\n",
       "2      芳賀希\n",
       "3      荻野愛\n",
       "4     栗田憲一\n",
       "Name: 顧客名, dtype: object"
      ]
     },
     "execution_count": 19,
     "metadata": {},
     "output_type": "execute_result"
    }
   ],
   "source": [
    "kokyaku_data[\"顧客名\"] = kokyaku_data[\"顧客名\"].str.replace(\"　\", \"\")\n",
    "kokyaku_data[\"顧客名\"] = kokyaku_data[\"顧客名\"].str.replace(\" \", \"\")\n",
    "kokyaku_data[\"顧客名\"].head()"
   ]
  },
  {
   "cell_type": "code",
   "execution_count": 20,
   "id": "b0758926",
   "metadata": {},
   "outputs": [
    {
     "data": {
      "application/vnd.microsoft.datawrangler.viewer.v0+json": {
       "columns": [
        {
         "name": "index",
         "rawType": "int64",
         "type": "integer"
        },
        {
         "name": "顧客名",
         "rawType": "object",
         "type": "string"
        },
        {
         "name": "かな",
         "rawType": "object",
         "type": "string"
        },
        {
         "name": "地域",
         "rawType": "object",
         "type": "string"
        },
        {
         "name": "メールアドレス",
         "rawType": "object",
         "type": "string"
        },
        {
         "name": "登録日",
         "rawType": "object",
         "type": "unknown"
        }
       ],
       "ref": "9fef80d4-6a3e-447d-86b7-db9c577ab231",
       "rows": [
        [
         "0",
         "須賀ひとみ",
         "すが ひとみ",
         "H市",
         "suga_hitomi@example.com",
         "2018/01/04"
        ],
        [
         "1",
         "岡田敏也",
         "おかだ としや",
         "E市",
         "okada_toshiya@example.com",
         "42782"
        ],
        [
         "2",
         "芳賀希",
         "はが のぞみ",
         "A市",
         "haga_nozomi@example.com",
         "2018/01/07"
        ],
        [
         "3",
         "荻野愛",
         "おぎの あい",
         "F市",
         "ogino_ai@example.com",
         "42872"
        ],
        [
         "4",
         "栗田憲一",
         "くりた けんいち",
         "E市",
         "kurita_kenichi@example.com",
         "43127"
        ]
       ],
       "shape": {
        "columns": 5,
        "rows": 5
       }
      },
      "text/html": [
       "<div>\n",
       "<style scoped>\n",
       "    .dataframe tbody tr th:only-of-type {\n",
       "        vertical-align: middle;\n",
       "    }\n",
       "\n",
       "    .dataframe tbody tr th {\n",
       "        vertical-align: top;\n",
       "    }\n",
       "\n",
       "    .dataframe thead th {\n",
       "        text-align: right;\n",
       "    }\n",
       "</style>\n",
       "<table border=\"1\" class=\"dataframe\">\n",
       "  <thead>\n",
       "    <tr style=\"text-align: right;\">\n",
       "      <th></th>\n",
       "      <th>顧客名</th>\n",
       "      <th>かな</th>\n",
       "      <th>地域</th>\n",
       "      <th>メールアドレス</th>\n",
       "      <th>登録日</th>\n",
       "    </tr>\n",
       "  </thead>\n",
       "  <tbody>\n",
       "    <tr>\n",
       "      <th>0</th>\n",
       "      <td>須賀ひとみ</td>\n",
       "      <td>すが ひとみ</td>\n",
       "      <td>H市</td>\n",
       "      <td>suga_hitomi@example.com</td>\n",
       "      <td>2018/01/04</td>\n",
       "    </tr>\n",
       "    <tr>\n",
       "      <th>1</th>\n",
       "      <td>岡田敏也</td>\n",
       "      <td>おかだ としや</td>\n",
       "      <td>E市</td>\n",
       "      <td>okada_toshiya@example.com</td>\n",
       "      <td>42782</td>\n",
       "    </tr>\n",
       "    <tr>\n",
       "      <th>2</th>\n",
       "      <td>芳賀希</td>\n",
       "      <td>はが のぞみ</td>\n",
       "      <td>A市</td>\n",
       "      <td>haga_nozomi@example.com</td>\n",
       "      <td>2018/01/07</td>\n",
       "    </tr>\n",
       "    <tr>\n",
       "      <th>3</th>\n",
       "      <td>荻野愛</td>\n",
       "      <td>おぎの あい</td>\n",
       "      <td>F市</td>\n",
       "      <td>ogino_ai@example.com</td>\n",
       "      <td>42872</td>\n",
       "    </tr>\n",
       "    <tr>\n",
       "      <th>4</th>\n",
       "      <td>栗田憲一</td>\n",
       "      <td>くりた けんいち</td>\n",
       "      <td>E市</td>\n",
       "      <td>kurita_kenichi@example.com</td>\n",
       "      <td>43127</td>\n",
       "    </tr>\n",
       "  </tbody>\n",
       "</table>\n",
       "</div>"
      ],
      "text/plain": [
       "     顧客名        かな  地域                     メールアドレス         登録日\n",
       "0  須賀ひとみ    すが ひとみ  H市     suga_hitomi@example.com  2018/01/04\n",
       "1   岡田敏也   おかだ としや  E市   okada_toshiya@example.com       42782\n",
       "2    芳賀希    はが のぞみ  A市     haga_nozomi@example.com  2018/01/07\n",
       "3    荻野愛    おぎの あい  F市        ogino_ai@example.com       42872\n",
       "4   栗田憲一  くりた けんいち  E市  kurita_kenichi@example.com       43127"
      ]
     },
     "execution_count": 20,
     "metadata": {},
     "output_type": "execute_result"
    }
   ],
   "source": [
    "kokyaku_data.head()"
   ]
  },
  {
   "cell_type": "code",
   "execution_count": 21,
   "id": "8dbe22f7",
   "metadata": {},
   "outputs": [
    {
     "data": {
      "text/plain": [
       "np.int64(22)"
      ]
     },
     "execution_count": 21,
     "metadata": {},
     "output_type": "execute_result"
    }
   ],
   "source": [
    "flg_is_serial = kokyaku_data[\"登録日\"].astype(\"str\").str.isdigit()\n",
    "flg_is_serial.sum()"
   ]
  },
  {
   "cell_type": "code",
   "execution_count": 22,
   "id": "41a2e165",
   "metadata": {},
   "outputs": [
    {
     "data": {
      "application/vnd.microsoft.datawrangler.viewer.v0+json": {
       "columns": [
        {
         "name": "index",
         "rawType": "int64",
         "type": "integer"
        },
        {
         "name": "登録日",
         "rawType": "datetime64[ns]",
         "type": "datetime"
        }
       ],
       "ref": "5b445908-acbe-4031-bdd2-06f465900dbe",
       "rows": [
        [
         "1",
         "2017-02-16 00:00:00"
        ],
        [
         "3",
         "2017-05-17 00:00:00"
        ],
        [
         "4",
         "2018-01-27 00:00:00"
        ],
        [
         "21",
         "2017-07-04 00:00:00"
        ],
        [
         "27",
         "2017-06-15 00:00:00"
        ],
        [
         "47",
         "2017-01-06 00:00:00"
        ],
        [
         "49",
         "2017-07-13 00:00:00"
        ],
        [
         "53",
         "2017-04-08 00:00:00"
        ],
        [
         "76",
         "2018-03-29 00:00:00"
        ],
        [
         "80",
         "2018-01-10 00:00:00"
        ],
        [
         "99",
         "2017-05-30 00:00:00"
        ],
        [
         "114",
         "2018-06-03 00:00:00"
        ],
        [
         "118",
         "2018-01-29 00:00:00"
        ],
        [
         "122",
         "2018-04-16 00:00:00"
        ],
        [
         "139",
         "2017-05-25 00:00:00"
        ],
        [
         "143",
         "2017-03-24 00:00:00"
        ],
        [
         "155",
         "2017-01-19 00:00:00"
        ],
        [
         "172",
         "2018-03-22 00:00:00"
        ],
        [
         "179",
         "2017-01-08 00:00:00"
        ],
        [
         "183",
         "2017-07-24 00:00:00"
        ],
        [
         "186",
         "2018-07-13 00:00:00"
        ],
        [
         "192",
         "2018-06-08 00:00:00"
        ]
       ],
       "shape": {
        "columns": 1,
        "rows": 22
       }
      },
      "text/plain": [
       "1     2017-02-16\n",
       "3     2017-05-17\n",
       "4     2018-01-27\n",
       "21    2017-07-04\n",
       "27    2017-06-15\n",
       "47    2017-01-06\n",
       "49    2017-07-13\n",
       "53    2017-04-08\n",
       "76    2018-03-29\n",
       "80    2018-01-10\n",
       "99    2017-05-30\n",
       "114   2018-06-03\n",
       "118   2018-01-29\n",
       "122   2018-04-16\n",
       "139   2017-05-25\n",
       "143   2017-03-24\n",
       "155   2017-01-19\n",
       "172   2018-03-22\n",
       "179   2017-01-08\n",
       "183   2017-07-24\n",
       "186   2018-07-13\n",
       "192   2018-06-08\n",
       "Name: 登録日, dtype: datetime64[ns]"
      ]
     },
     "execution_count": 22,
     "metadata": {},
     "output_type": "execute_result"
    }
   ],
   "source": [
    "fromSerial = pd.to_timedelta(kokyaku_data.loc[flg_is_serial, \"登録日\"].astype(\"float\") - 2, unit=\"D\") + pd.to_datetime(\"1900/1/1\")\n",
    "fromSerial"
   ]
  },
  {
   "cell_type": "code",
   "execution_count": 23,
   "id": "dc6c826a",
   "metadata": {},
   "outputs": [
    {
     "data": {
      "application/vnd.microsoft.datawrangler.viewer.v0+json": {
       "columns": [
        {
         "name": "index",
         "rawType": "int64",
         "type": "integer"
        },
        {
         "name": "登録日",
         "rawType": "datetime64[ns]",
         "type": "datetime"
        }
       ],
       "ref": "65edff18-1134-4fbc-b0c7-9a5625103559",
       "rows": [
        [
         "0",
         "2018-01-04 00:00:00"
        ],
        [
         "2",
         "2018-01-07 00:00:00"
        ],
        [
         "5",
         "2017-06-20 00:00:00"
        ],
        [
         "6",
         "2018-06-11 00:00:00"
        ],
        [
         "7",
         "2017-05-19 00:00:00"
        ],
        [
         "8",
         "2018-02-12 00:00:00"
        ],
        [
         "9",
         "2017-07-05 00:00:00"
        ],
        [
         "10",
         "2018-03-31 00:00:00"
        ],
        [
         "11",
         "2017-04-22 00:00:00"
        ],
        [
         "12",
         "2018-03-09 00:00:00"
        ],
        [
         "13",
         "2017-03-13 00:00:00"
        ],
        [
         "14",
         "2018-01-24 00:00:00"
        ],
        [
         "15",
         "2017-06-09 00:00:00"
        ],
        [
         "16",
         "2018-05-02 00:00:00"
        ],
        [
         "17",
         "2017-02-05 00:00:00"
        ],
        [
         "18",
         "2018-07-10 00:00:00"
        ],
        [
         "19",
         "2017-07-08 00:00:00"
        ],
        [
         "20",
         "2018-03-12 00:00:00"
        ],
        [
         "22",
         "2018-02-28 00:00:00"
        ],
        [
         "23",
         "2017-05-16 00:00:00"
        ],
        [
         "24",
         "2018-01-29 00:00:00"
        ],
        [
         "25",
         "2017-03-17 00:00:00"
        ],
        [
         "26",
         "2018-06-28 00:00:00"
        ],
        [
         "28",
         "2018-05-21 00:00:00"
        ],
        [
         "29",
         "2017-03-12 00:00:00"
        ],
        [
         "30",
         "2018-07-01 00:00:00"
        ],
        [
         "31",
         "2017-01-30 00:00:00"
        ],
        [
         "32",
         "2018-02-06 00:00:00"
        ],
        [
         "33",
         "2017-01-30 00:00:00"
        ],
        [
         "34",
         "2018-04-21 00:00:00"
        ],
        [
         "35",
         "2017-04-01 00:00:00"
        ],
        [
         "36",
         "2018-04-07 00:00:00"
        ],
        [
         "37",
         "2017-07-28 00:00:00"
        ],
        [
         "38",
         "2018-05-09 00:00:00"
        ],
        [
         "39",
         "2017-02-19 00:00:00"
        ],
        [
         "40",
         "2018-01-08 00:00:00"
        ],
        [
         "41",
         "2017-07-10 00:00:00"
        ],
        [
         "42",
         "2018-02-06 00:00:00"
        ],
        [
         "43",
         "2017-06-16 00:00:00"
        ],
        [
         "44",
         "2018-05-22 00:00:00"
        ],
        [
         "45",
         "2017-07-07 00:00:00"
        ],
        [
         "46",
         "2018-02-02 00:00:00"
        ],
        [
         "48",
         "2018-02-22 00:00:00"
        ],
        [
         "50",
         "2018-01-11 00:00:00"
        ],
        [
         "51",
         "2017-04-11 00:00:00"
        ],
        [
         "52",
         "2018-07-22 00:00:00"
        ],
        [
         "54",
         "2018-05-13 00:00:00"
        ],
        [
         "55",
         "2017-01-07 00:00:00"
        ],
        [
         "56",
         "2018-07-23 00:00:00"
        ],
        [
         "57",
         "2017-05-30 00:00:00"
        ]
       ],
       "shape": {
        "columns": 1,
        "rows": 178
       }
      },
      "text/plain": [
       "0     2018-01-04\n",
       "2     2018-01-07\n",
       "5     2017-06-20\n",
       "6     2018-06-11\n",
       "7     2017-05-19\n",
       "         ...    \n",
       "195   2017-06-20\n",
       "196   2018-06-20\n",
       "197   2017-04-29\n",
       "198   2019-04-19\n",
       "199   2019-04-23\n",
       "Name: 登録日, Length: 178, dtype: datetime64[ns]"
      ]
     },
     "execution_count": 23,
     "metadata": {},
     "output_type": "execute_result"
    }
   ],
   "source": [
    "fromString = pd.to_datetime(kokyaku_data.loc[~flg_is_serial, \"登録日\"])\n",
    "fromString"
   ]
  },
  {
   "cell_type": "code",
   "execution_count": 24,
   "id": "f50365c4",
   "metadata": {},
   "outputs": [
    {
     "data": {
      "application/vnd.microsoft.datawrangler.viewer.v0+json": {
       "columns": [
        {
         "name": "index",
         "rawType": "int64",
         "type": "integer"
        },
        {
         "name": "顧客名",
         "rawType": "object",
         "type": "string"
        },
        {
         "name": "かな",
         "rawType": "object",
         "type": "string"
        },
        {
         "name": "地域",
         "rawType": "object",
         "type": "string"
        },
        {
         "name": "メールアドレス",
         "rawType": "object",
         "type": "string"
        },
        {
         "name": "登録日",
         "rawType": "datetime64[ns]",
         "type": "datetime"
        }
       ],
       "ref": "be592a18-6ad7-4e91-a8cb-0f773158f78a",
       "rows": [
        [
         "0",
         "須賀ひとみ",
         "すが ひとみ",
         "H市",
         "suga_hitomi@example.com",
         "2018-01-04 00:00:00"
        ],
        [
         "1",
         "岡田敏也",
         "おかだ としや",
         "E市",
         "okada_toshiya@example.com",
         "2017-02-16 00:00:00"
        ],
        [
         "2",
         "芳賀希",
         "はが のぞみ",
         "A市",
         "haga_nozomi@example.com",
         "2018-01-07 00:00:00"
        ],
        [
         "3",
         "荻野愛",
         "おぎの あい",
         "F市",
         "ogino_ai@example.com",
         "2017-05-17 00:00:00"
        ],
        [
         "4",
         "栗田憲一",
         "くりた けんいち",
         "E市",
         "kurita_kenichi@example.com",
         "2018-01-27 00:00:00"
        ],
        [
         "5",
         "梅沢麻緒",
         "うめざわ まお",
         "A市",
         "umezawa_mao@example.com",
         "2017-06-20 00:00:00"
        ],
        [
         "6",
         "相原ひとり",
         "あいはら ひとり",
         "H市",
         "aihara_hitori@example.com",
         "2018-06-11 00:00:00"
        ],
        [
         "7",
         "新村丈史",
         "にいむら たけし",
         "B市",
         "niimura_takeshi@example.com",
         "2017-05-19 00:00:00"
        ],
        [
         "8",
         "石川まさみ",
         "いしかわ まさみ",
         "G市",
         "ishikawa_masami@example.com",
         "2018-02-12 00:00:00"
        ],
        [
         "9",
         "小栗正義",
         "おぐり まさよし",
         "G市",
         "oguri_masayoshi@example.com",
         "2017-07-05 00:00:00"
        ],
        [
         "10",
         "大倉晃司",
         "おおくら こうじ",
         "E市",
         "ookura_kouji@example.com",
         "2018-03-31 00:00:00"
        ],
        [
         "11",
         "那須蒼甫",
         "なす そうすけ",
         "A市",
         "nasu_sousuke@example.com",
         "2017-04-22 00:00:00"
        ],
        [
         "12",
         "清水裕次郎",
         "しみず ゆうじろう",
         "C市",
         "shimizu_yuujirou@example.com",
         "2018-03-09 00:00:00"
        ],
        [
         "13",
         "榊原しぼり",
         "さかきばら しぼり",
         "D市",
         "sakakibara_shibori@example.com",
         "2017-03-13 00:00:00"
        ],
        [
         "14",
         "高沢美咲",
         "たかさわ みさき",
         "E市",
         "takasawa_misaki@example.com",
         "2018-01-24 00:00:00"
        ],
        [
         "15",
         "川島友以乃",
         "かわしま ゆいの",
         "G市",
         "kawashima_yuino@example.com",
         "2017-06-09 00:00:00"
        ],
        [
         "16",
         "唐沢景子",
         "からさわ けいこ",
         "D市",
         "karasawa_keiko@example.com",
         "2018-05-02 00:00:00"
        ],
        [
         "17",
         "稲田将也",
         "いなだ まさや",
         "G市",
         "inada_masaya@example.com",
         "2017-02-05 00:00:00"
        ],
        [
         "18",
         "秋葉あき",
         "あきば あき",
         "H市",
         "akiba_aki@example.com",
         "2018-07-10 00:00:00"
        ],
        [
         "19",
         "西脇礼子",
         "にしわき れいこ",
         "H市",
         "nishiwaki_reiko@example.com",
         "2017-07-08 00:00:00"
        ],
        [
         "20",
         "内村まさみ",
         "うちむら まさみ",
         "A市",
         "uchimura_masami@example.com",
         "2018-03-12 00:00:00"
        ],
        [
         "21",
         "進藤瞬",
         "しんどう しゅん",
         "A市",
         "shinndou_shun@example.com",
         "2017-07-04 00:00:00"
        ],
        [
         "22",
         "小口豊",
         "おぐち ゆたか",
         "H市",
         "oguchi_yutaka@example.com",
         "2018-02-28 00:00:00"
        ],
        [
         "23",
         "笹原しぼり",
         "ささはら しぼり",
         "E市",
         "sasahara_shibori@example.com",
         "2017-05-16 00:00:00"
        ],
        [
         "24",
         "岩佐孝太郎",
         "いわさ こうたろう",
         "D市",
         "iwasa_koutarou@example.com",
         "2018-01-29 00:00:00"
        ],
        [
         "25",
         "河村由樹",
         "かわむら ゆき",
         "C市",
         "kawamura_yuki@example.com",
         "2017-03-17 00:00:00"
        ],
        [
         "26",
         "菅原誠治",
         "すがわら せいじ",
         "C市",
         "sugawara_seiji@example.com",
         "2018-06-28 00:00:00"
        ],
        [
         "27",
         "榎本薫",
         "えのもと かおる",
         "C市",
         "enomoto_kaoru@example.com",
         "2017-06-15 00:00:00"
        ],
        [
         "28",
         "高梨結衣",
         "たかなし ゆい",
         "C市",
         "takanashi_yui@example.com",
         "2018-05-21 00:00:00"
        ],
        [
         "29",
         "鶴岡薫",
         "つるおか かおる",
         "F市",
         "tsuruoka_kaoru@example.com",
         "2017-03-12 00:00:00"
        ],
        [
         "30",
         "藤木一恵",
         "ふじき かづえ",
         "E市",
         "fujiki_kadue@example.com",
         "2018-07-01 00:00:00"
        ],
        [
         "31",
         "森岡季衣",
         "もりおか としえ",
         "H市",
         "morioka_toshie@example.com",
         "2017-01-30 00:00:00"
        ],
        [
         "32",
         "田畑正敏",
         "たばた まさとし",
         "A市",
         "tabata_masatoshi@example.com",
         "2018-02-06 00:00:00"
        ],
        [
         "33",
         "宇野秀樹",
         "うの ひでき",
         "C市",
         "uno_hideki@example.com",
         "2017-01-30 00:00:00"
        ],
        [
         "34",
         "高原充則",
         "たかはら みつのり",
         "H市",
         "takahara_mitsunori@example.com",
         "2018-04-21 00:00:00"
        ],
        [
         "35",
         "梅村秀樹",
         "うめむら ひでき",
         "F市",
         "umemura_hideki@example.com",
         "2017-04-01 00:00:00"
        ],
        [
         "36",
         "浅田賢二",
         "あさだ けんじ",
         "C市",
         "asada_kenji@example.com",
         "2018-04-07 00:00:00"
        ],
        [
         "37",
         "石渡小雁",
         "いしわたり こがん",
         "D市",
         "ishiwatari_kogan@example.com",
         "2017-07-28 00:00:00"
        ],
        [
         "38",
         "吉岡サダヲ",
         "よしおか さだお",
         "A市",
         "yoshioka_sadawo@example.com",
         "2018-05-09 00:00:00"
        ],
        [
         "39",
         "井口寛治",
         "いぐち かんじ",
         "B市",
         "iguchi_kanji@example.com",
         "2017-02-19 00:00:00"
        ],
        [
         "40",
         "奥光洋",
         "おく みつひろ",
         "A市",
         "oku_mitsuhiro@example.com",
         "2018-01-08 00:00:00"
        ],
        [
         "41",
         "佐藤慶二",
         "さとう けいじ",
         "E市",
         "satou_keiji@example.com",
         "2017-07-10 00:00:00"
        ],
        [
         "42",
         "東光博",
         "ひがし みつひろ",
         "A市",
         "higashi_mitsuhiro@example.com",
         "2018-02-06 00:00:00"
        ],
        [
         "43",
         "高田さんま",
         "たかだ さんま",
         "D市",
         "takada_sanma@example.com",
         "2017-06-16 00:00:00"
        ],
        [
         "44",
         "合田光",
         "あいだ ひかる",
         "D市",
         "aida_hikaru@example.com",
         "2018-05-22 00:00:00"
        ],
        [
         "45",
         "深田信輔",
         "ふかだ しんすけ",
         "G市",
         "fukada_shinsuke@example.com",
         "2017-07-07 00:00:00"
        ],
        [
         "46",
         "島英嗣",
         "しま ひでつぐ",
         "D市",
         "shima_hidetsugu@example.com",
         "2018-02-02 00:00:00"
        ],
        [
         "47",
         "梅津淳子",
         "うめづ あつこ",
         "H市",
         "umedu_atsuko@example.com",
         "2017-01-06 00:00:00"
        ],
        [
         "48",
         "日比野徹",
         "ひびの とおる",
         "C市",
         "hibino_tohru@example.com",
         "2018-02-22 00:00:00"
        ],
        [
         "49",
         "熊倉綾",
         "くまくら あや",
         "H市",
         "kumakura_aya@example.com",
         "2017-07-13 00:00:00"
        ]
       ],
       "shape": {
        "columns": 5,
        "rows": 200
       }
      },
      "text/html": [
       "<div>\n",
       "<style scoped>\n",
       "    .dataframe tbody tr th:only-of-type {\n",
       "        vertical-align: middle;\n",
       "    }\n",
       "\n",
       "    .dataframe tbody tr th {\n",
       "        vertical-align: top;\n",
       "    }\n",
       "\n",
       "    .dataframe thead th {\n",
       "        text-align: right;\n",
       "    }\n",
       "</style>\n",
       "<table border=\"1\" class=\"dataframe\">\n",
       "  <thead>\n",
       "    <tr style=\"text-align: right;\">\n",
       "      <th></th>\n",
       "      <th>顧客名</th>\n",
       "      <th>かな</th>\n",
       "      <th>地域</th>\n",
       "      <th>メールアドレス</th>\n",
       "      <th>登録日</th>\n",
       "    </tr>\n",
       "  </thead>\n",
       "  <tbody>\n",
       "    <tr>\n",
       "      <th>0</th>\n",
       "      <td>須賀ひとみ</td>\n",
       "      <td>すが ひとみ</td>\n",
       "      <td>H市</td>\n",
       "      <td>suga_hitomi@example.com</td>\n",
       "      <td>2018-01-04</td>\n",
       "    </tr>\n",
       "    <tr>\n",
       "      <th>1</th>\n",
       "      <td>岡田敏也</td>\n",
       "      <td>おかだ としや</td>\n",
       "      <td>E市</td>\n",
       "      <td>okada_toshiya@example.com</td>\n",
       "      <td>2017-02-16</td>\n",
       "    </tr>\n",
       "    <tr>\n",
       "      <th>2</th>\n",
       "      <td>芳賀希</td>\n",
       "      <td>はが のぞみ</td>\n",
       "      <td>A市</td>\n",
       "      <td>haga_nozomi@example.com</td>\n",
       "      <td>2018-01-07</td>\n",
       "    </tr>\n",
       "    <tr>\n",
       "      <th>3</th>\n",
       "      <td>荻野愛</td>\n",
       "      <td>おぎの あい</td>\n",
       "      <td>F市</td>\n",
       "      <td>ogino_ai@example.com</td>\n",
       "      <td>2017-05-17</td>\n",
       "    </tr>\n",
       "    <tr>\n",
       "      <th>4</th>\n",
       "      <td>栗田憲一</td>\n",
       "      <td>くりた けんいち</td>\n",
       "      <td>E市</td>\n",
       "      <td>kurita_kenichi@example.com</td>\n",
       "      <td>2018-01-27</td>\n",
       "    </tr>\n",
       "    <tr>\n",
       "      <th>...</th>\n",
       "      <td>...</td>\n",
       "      <td>...</td>\n",
       "      <td>...</td>\n",
       "      <td>...</td>\n",
       "      <td>...</td>\n",
       "    </tr>\n",
       "    <tr>\n",
       "      <th>195</th>\n",
       "      <td>川上りえ</td>\n",
       "      <td>かわかみ りえ</td>\n",
       "      <td>G市</td>\n",
       "      <td>kawakami_rie@example.com</td>\n",
       "      <td>2017-06-20</td>\n",
       "    </tr>\n",
       "    <tr>\n",
       "      <th>196</th>\n",
       "      <td>小松季衣</td>\n",
       "      <td>こまつ としえ</td>\n",
       "      <td>E市</td>\n",
       "      <td>komatsu_toshie@example.com</td>\n",
       "      <td>2018-06-20</td>\n",
       "    </tr>\n",
       "    <tr>\n",
       "      <th>197</th>\n",
       "      <td>白鳥りえ</td>\n",
       "      <td>しらとり りえ</td>\n",
       "      <td>F市</td>\n",
       "      <td>shiratori_rie@example.com</td>\n",
       "      <td>2017-04-29</td>\n",
       "    </tr>\n",
       "    <tr>\n",
       "      <th>198</th>\n",
       "      <td>大西隆之介</td>\n",
       "      <td>おおにし りゅうのすけ</td>\n",
       "      <td>H市</td>\n",
       "      <td>oonishi_ryuunosuke@example.com</td>\n",
       "      <td>2019-04-19</td>\n",
       "    </tr>\n",
       "    <tr>\n",
       "      <th>199</th>\n",
       "      <td>福井美希</td>\n",
       "      <td>ふくい みき</td>\n",
       "      <td>D市</td>\n",
       "      <td>fukui_miki1@example.com</td>\n",
       "      <td>2019-04-23</td>\n",
       "    </tr>\n",
       "  </tbody>\n",
       "</table>\n",
       "<p>200 rows × 5 columns</p>\n",
       "</div>"
      ],
      "text/plain": [
       "       顧客名           かな  地域                         メールアドレス        登録日\n",
       "0    須賀ひとみ       すが ひとみ  H市         suga_hitomi@example.com 2018-01-04\n",
       "1     岡田敏也      おかだ としや  E市       okada_toshiya@example.com 2017-02-16\n",
       "2      芳賀希       はが のぞみ  A市         haga_nozomi@example.com 2018-01-07\n",
       "3      荻野愛       おぎの あい  F市            ogino_ai@example.com 2017-05-17\n",
       "4     栗田憲一     くりた けんいち  E市      kurita_kenichi@example.com 2018-01-27\n",
       "..     ...          ...  ..                             ...        ...\n",
       "195   川上りえ      かわかみ りえ  G市        kawakami_rie@example.com 2017-06-20\n",
       "196   小松季衣      こまつ としえ  E市      komatsu_toshie@example.com 2018-06-20\n",
       "197   白鳥りえ      しらとり りえ  F市       shiratori_rie@example.com 2017-04-29\n",
       "198  大西隆之介  おおにし りゅうのすけ  H市  oonishi_ryuunosuke@example.com 2019-04-19\n",
       "199   福井美希       ふくい みき  D市         fukui_miki1@example.com 2019-04-23\n",
       "\n",
       "[200 rows x 5 columns]"
      ]
     },
     "execution_count": 24,
     "metadata": {},
     "output_type": "execute_result"
    }
   ],
   "source": [
    "kokyaku_data[\"登録日\"] = pd.concat([fromSerial, fromString])\n",
    "kokyaku_data"
   ]
  },
  {
   "cell_type": "code",
   "execution_count": 25,
   "id": "2085d6a1",
   "metadata": {},
   "outputs": [
    {
     "name": "stdout",
     "output_type": "stream",
     "text": [
      "登録年月\n",
      "201701    15\n",
      "201702    11\n",
      "201703    14\n",
      "201704    15\n",
      "201705    14\n",
      "201706    13\n",
      "201707    17\n",
      "201801    13\n",
      "201802    15\n",
      "201803    17\n",
      "201804     5\n",
      "201805    19\n",
      "201806    13\n",
      "201807    17\n",
      "201904     2\n",
      "Name: 顧客名, dtype: int64\n",
      "200\n"
     ]
    }
   ],
   "source": [
    "kokyaku_data[\"登録年月\"] = kokyaku_data[\"登録日\"].dt.strftime(\"%Y%m\")\n",
    "rslt =kokyaku_data.groupby(\"登録年月\").count()[\"顧客名\"]\n",
    "print(rslt)\n",
    "print(len(kokyaku_data))"
   ]
  },
  {
   "cell_type": "code",
   "execution_count": 26,
   "id": "fb2cab1c",
   "metadata": {},
   "outputs": [
    {
     "data": {
      "text/plain": [
       "np.int64(0)"
      ]
     },
     "execution_count": 26,
     "metadata": {},
     "output_type": "execute_result"
    }
   ],
   "source": [
    "fig_is_serial = kokyaku_data[\"登録日\"].astype(\"str\").str.isdigit()\n",
    "fig_is_serial.sum()\n"
   ]
  },
  {
   "cell_type": "code",
   "execution_count": 28,
   "id": "b9a109ae",
   "metadata": {},
   "outputs": [
    {
     "data": {
      "application/vnd.microsoft.datawrangler.viewer.v0+json": {
       "columns": [
        {
         "name": "index",
         "rawType": "int64",
         "type": "integer"
        },
        {
         "name": "purchase_date",
         "rawType": "datetime64[ns]",
         "type": "datetime"
        },
        {
         "name": "item_name",
         "rawType": "object",
         "type": "string"
        },
        {
         "name": "item_price",
         "rawType": "float64",
         "type": "float"
        },
        {
         "name": "purchase_month",
         "rawType": "object",
         "type": "string"
        },
        {
         "name": "顧客名",
         "rawType": "object",
         "type": "string"
        },
        {
         "name": "かな",
         "rawType": "object",
         "type": "string"
        },
        {
         "name": "地域",
         "rawType": "object",
         "type": "string"
        },
        {
         "name": "メールアドレス",
         "rawType": "object",
         "type": "string"
        },
        {
         "name": "登録日",
         "rawType": "datetime64[ns]",
         "type": "datetime"
        },
        {
         "name": "登録年月",
         "rawType": "object",
         "type": "string"
        }
       ],
       "ref": "77238113-7d99-495b-9d4f-3f61598b9e7e",
       "rows": [
        [
         "0",
         "2019-06-13 18:02:34",
         "商品A",
         "100.0",
         "201906",
         "深井菜々美",
         "ふかい ななみ",
         "C市",
         "fukai_nanami@example.com",
         "2017-01-26 00:00:00",
         "201701"
        ],
        [
         "1",
         "2019-07-13 13:05:29",
         "商品S",
         "1900.0",
         "201907",
         "浅田賢二",
         "あさだ けんじ",
         "C市",
         "asada_kenji@example.com",
         "2018-04-07 00:00:00",
         "201804"
        ],
        [
         "2",
         "2019-05-11 19:42:07",
         "商品A",
         "100.0",
         "201905",
         "南部慶二",
         "なんぶ けいじ",
         "A市",
         "nannbu_keiji@example.com",
         "2018-06-19 00:00:00",
         "201806"
        ],
        [
         "3",
         "2019-02-12 23:40:45",
         "商品Z",
         "2600.0",
         "201902",
         "麻生莉緒",
         "あそう りお",
         "D市",
         "asou_rio@example.com",
         "2018-07-22 00:00:00",
         "201807"
        ],
        [
         "4",
         "2019-04-22 03:09:35",
         "商品A",
         "100.0",
         "201904",
         "平田鉄二",
         "ひらた てつじ",
         "D市",
         "hirata_tetsuji@example.com",
         "2017-06-07 00:00:00",
         "201706"
        ],
        [
         "5",
         "2019-03-20 19:16:01",
         "商品S",
         "1900.0",
         "201903",
         "堀江佑",
         "ほりえ たすく",
         "H市",
         "horie_tasuku@example.com",
         "2018-05-14 00:00:00",
         "201805"
        ],
        [
         "6",
         "2019-05-18 19:16:53",
         "商品A",
         "100.0",
         "201905",
         "深井照生",
         "ふかい てるお",
         "A市",
         "fukai_teruo@example.com",
         "2018-02-21 00:00:00",
         "201802"
        ],
        [
         "7",
         "2019-04-18 00:14:21",
         "商品V",
         "2200.0",
         "201904",
         "牧田玲那",
         "まきた れな",
         "A市",
         "makita_rena@example.com",
         "2017-05-13 00:00:00",
         "201705"
        ],
        [
         "8",
         "2019-01-10 15:51:01",
         "商品O",
         "1500.0",
         "201901",
         "堀北雅彦",
         "ほりきた まさひこ",
         "H市",
         "horikita_masahiko@example.com",
         "2017-05-05 00:00:00",
         "201705"
        ],
        [
         "9",
         "2019-01-28 10:47:03",
         "商品A",
         "100.0",
         "201901",
         "大地礼子",
         "おおち れいこ",
         "E市",
         "oochi_reiko@example.com",
         "2017-05-09 00:00:00",
         "201705"
        ],
        [
         "10",
         "2019-06-21 01:54:35",
         "商品U",
         "2100.0",
         "201906",
         "矢部惇",
         "やべ じゅん",
         "A市",
         "yabe_jun@example.com",
         "2018-05-20 00:00:00",
         "201805"
        ],
        [
         "11",
         "2019-06-08 11:32:25",
         "商品L",
         "1200.0",
         "201906",
         "岡田敏也",
         "おかだ としや",
         "E市",
         "okada_toshiya@example.com",
         "2017-02-16 00:00:00",
         "201702"
        ],
        [
         "12",
         "2019-04-08 02:00:44",
         "商品V",
         "2200.0",
         "201904",
         "浅見広司",
         "あさみ こうじ",
         "D市",
         "asami_kouji@example.com",
         "2018-06-03 00:00:00",
         "201806"
        ],
        [
         "13",
         "2019-06-19 09:50:52",
         "商品O",
         "1500.0",
         "201906",
         "熊井憲史",
         "くまい のりひと",
         "A市",
         "kumai_norihito@example.com",
         "2017-03-29 00:00:00",
         "201703"
        ],
        [
         "14",
         "2019-06-11 12:57:24",
         "商品A",
         "100.0",
         "201906",
         "黄川田博之",
         "きかわだ ひろゆき",
         "C市",
         "kikawada_hiroyuki@example.com",
         "2018-02-14 00:00:00",
         "201802"
        ],
        [
         "15",
         "2019-04-21 00:11:43",
         "商品C",
         "300.0",
         "201904",
         "尾形小雁",
         "おがた こがん",
         "B市",
         "ogata_kogan@example.com",
         "2017-03-15 00:00:00",
         "201703"
        ],
        [
         "16",
         "2019-03-28 23:24:46",
         "商品V",
         "2200.0",
         "201903",
         "神原美嘉",
         "かんばら みか",
         "D市",
         "kannbara_mika@example.com",
         "2017-03-23 00:00:00",
         "201703"
        ],
        [
         "17",
         "2019-04-06 12:00:53",
         "商品I",
         "900.0",
         "201904",
         "若杉徹",
         "わかすぎ とおる",
         "G市",
         "wakasugi_tohru@example.com",
         "2017-03-24 00:00:00",
         "201703"
        ],
        [
         "18",
         "2019-07-16 05:55:57",
         "商品R",
         "1800.0",
         "201907",
         "石渡小雁",
         "いしわたり こがん",
         "D市",
         "ishiwatari_kogan@example.com",
         "2017-07-28 00:00:00",
         "201707"
        ],
        [
         "19",
         "2019-07-03 07:04:05",
         "商品X",
         "2400.0",
         "201907",
         "東光博",
         "ひがし みつひろ",
         "A市",
         "higashi_mitsuhiro@example.com",
         "2018-02-06 00:00:00",
         "201802"
        ],
        [
         "20",
         "2019-07-05 10:49:13",
         "商品O",
         "1500.0",
         "201907",
         "日野夏希",
         "ひの なつき",
         "A市",
         "hino_natsuki@example.com",
         "2017-05-23 00:00:00",
         "201705"
        ],
        [
         "21",
         "2019-06-10 19:07:23",
         "商品G",
         "700.0",
         "201906",
         "黒谷長利",
         "くろたに ながとし",
         "A市",
         "kurotani_nagatoshi@example.com",
         "2017-04-27 00:00:00",
         "201704"
        ],
        [
         "22",
         "2019-07-10 20:28:12",
         "商品X",
         "2400.0",
         "201907",
         "田辺光洋",
         "たなべ みつひろ",
         "A市",
         "tanabe_mitsuhiro@example.com",
         "2018-07-04 00:00:00",
         "201807"
        ],
        [
         "23",
         "2019-07-10 12:44:10",
         "商品R",
         "1800.0",
         "201907",
         "戸塚美幸",
         "とづか みゆき",
         "H市",
         "toduka_miyuki@example.com",
         "2017-01-30 00:00:00",
         "201701"
        ],
        [
         "24",
         "2019-02-14 01:30:09",
         "商品P",
         "1600.0",
         "201902",
         "榊原しぼり",
         "さかきばら しぼり",
         "D市",
         "sakakibara_shibori@example.com",
         "2017-03-13 00:00:00",
         "201703"
        ],
        [
         "25",
         "2019-04-18 01:50:16",
         "商品Q",
         "1700.0",
         "201904",
         "浅田賢二",
         "あさだ けんじ",
         "C市",
         "asada_kenji@example.com",
         "2018-04-07 00:00:00",
         "201804"
        ],
        [
         "26",
         "2019-05-16 04:45:21",
         "商品Y",
         "2500.0",
         "201905",
         "明石家明",
         "あかしや あきら",
         "B市",
         "akashiya_akira@example.com",
         "2018-02-13 00:00:00",
         "201802"
        ],
        [
         "27",
         "2019-05-26 10:58:00",
         "商品P",
         "1600.0",
         "201905",
         "手塚進",
         "てづか すすむ",
         "A市",
         "teduka_susumu@example.com",
         "2018-05-01 00:00:00",
         "201805"
        ],
        [
         "28",
         "2019-01-04 12:05:04",
         "商品P",
         "1600.0",
         "201901",
         "堀江佑",
         "ほりえ たすく",
         "H市",
         "horie_tasuku@example.com",
         "2018-05-14 00:00:00",
         "201805"
        ],
        [
         "29",
         "2019-02-11 18:32:05",
         "商品R",
         "1800.0",
         "201902",
         "荻野愛",
         "おぎの あい",
         "F市",
         "ogino_ai@example.com",
         "2017-05-17 00:00:00",
         "201705"
        ],
        [
         "30",
         "2019-03-02 08:52:28",
         "商品P",
         "1600.0",
         "201903",
         "菅原誠治",
         "すがわら せいじ",
         "C市",
         "sugawara_seiji@example.com",
         "2018-06-28 00:00:00",
         "201806"
        ],
        [
         "31",
         "2019-06-29 10:01:52",
         "商品A",
         "100.0",
         "201906",
         "石田佑",
         "いしだ たすく",
         "E市",
         "ishida_tasuku@example.com",
         "2018-05-12 00:00:00",
         "201805"
        ],
        [
         "32",
         "2019-04-24 17:44:17",
         "商品N",
         "1400.0",
         "201904",
         "片瀬長利",
         "かたせ ながとし",
         "C市",
         "katase_nagatoshi@example.com",
         "2018-05-03 00:00:00",
         "201805"
        ],
        [
         "33",
         "2019-03-28 14:18:18",
         "商品R",
         "1800.0",
         "201903",
         "岡慶太",
         "おか けいた",
         "C市",
         "oka_keita@example.com",
         "2018-07-22 00:00:00",
         "201807"
        ],
        [
         "34",
         "2019-01-18 00:54:58",
         "商品W",
         "2300.0",
         "201901",
         "鈴木一哉",
         "すずき かずや",
         "C市",
         "suzuki_kazuya@example.com",
         "2017-04-09 00:00:00",
         "201704"
        ],
        [
         "35",
         "2019-01-12 03:26:36",
         "商品A",
         "100.0",
         "201901",
         "小平陽子",
         "こひら ようこ",
         "B市",
         "kohira_youko@example.com",
         "2018-01-21 00:00:00",
         "201801"
        ],
        [
         "36",
         "2019-07-27 00:08:48",
         "商品E",
         "500.0",
         "201907",
         "尾形小雁",
         "おがた こがん",
         "B市",
         "ogata_kogan@example.com",
         "2017-03-15 00:00:00",
         "201703"
        ],
        [
         "37",
         "2019-03-22 11:16:00",
         "商品K",
         "1100.0",
         "201903",
         "原口俊二",
         "はらぐち しゅんじ",
         "F市",
         "haraguchi_shunji@example.com",
         "2018-03-05 00:00:00",
         "201803"
        ],
        [
         "38",
         "2019-05-07 02:58:40",
         "商品O",
         "1500.0",
         "201905",
         "井川真悠子",
         "いがわ まゆこ",
         "F市",
         "igawa_mayuko@example.com",
         "2017-03-04 00:00:00",
         "201703"
        ],
        [
         "39",
         "2019-02-04 18:23:22",
         "商品W",
         "2300.0",
         "201902",
         "金森なつみ",
         "かなもり なつみ",
         "F市",
         "kanamori_natsumi@example.com",
         "2018-03-24 00:00:00",
         "201803"
        ],
        [
         "40",
         "2019-03-22 18:36:47",
         "商品O",
         "1500.0",
         "201903",
         "堀江佑",
         "ほりえ たすく",
         "H市",
         "horie_tasuku@example.com",
         "2018-05-14 00:00:00",
         "201805"
        ],
        [
         "41",
         "2019-05-24 21:39:20",
         "商品K",
         "1100.0",
         "201905",
         "本多フミヤ",
         "ほんだ ふみや",
         "F市",
         "honnda_fumiya@example.com",
         "2017-05-23 00:00:00",
         "201705"
        ],
        [
         "42",
         "2019-07-29 00:17:11",
         "商品B",
         "200.0",
         "201907",
         "唐沢涼",
         "からさわ りょう",
         "H市",
         "karasawa_ryou@example.com",
         "2018-02-27 00:00:00",
         "201802"
        ],
        [
         "43",
         "2019-07-25 00:59:37",
         "商品F",
         "600.0",
         "201907",
         "金森なつみ",
         "かなもり なつみ",
         "F市",
         "kanamori_natsumi@example.com",
         "2018-03-24 00:00:00",
         "201803"
        ],
        [
         "44",
         "2019-05-14 08:37:32",
         "商品P",
         "1600.0",
         "201905",
         "中田美智子",
         "なかた みちこ",
         "E市",
         "nakata_michiko@example.com",
         "2017-05-30 00:00:00",
         "201705"
        ],
        [
         "45",
         "2019-07-13 04:50:21",
         "商品X",
         "2400.0",
         "201907",
         "松谷愛子",
         "まつたに あいこ",
         "D市",
         "matsutani_aiko@example.com",
         "2018-07-30 00:00:00",
         "201807"
        ],
        [
         "46",
         "2019-02-14 03:26:40",
         "商品B",
         "200.0",
         "201902",
         "南部慶二",
         "なんぶ けいじ",
         "A市",
         "nannbu_keiji@example.com",
         "2018-06-19 00:00:00",
         "201806"
        ],
        [
         "47",
         "2019-01-17 17:36:01",
         "商品S",
         "1900.0",
         "201901",
         "黒谷長利",
         "くろたに ながとし",
         "A市",
         "kurotani_nagatoshi@example.com",
         "2017-04-27 00:00:00",
         "201704"
        ],
        [
         "48",
         "2019-03-10 15:16:10",
         "商品F",
         "600.0",
         "201903",
         "日野夏希",
         "ひの なつき",
         "A市",
         "hino_natsuki@example.com",
         "2017-05-23 00:00:00",
         "201705"
        ],
        [
         "49",
         "2019-06-27 02:36:37",
         "商品X",
         "2400.0",
         "201906",
         "深沢ひろ子",
         "ふかざわ ひろこ",
         "C市",
         "fukazawa_hiroko@example.com",
         "2018-03-17 00:00:00",
         "201803"
        ]
       ],
       "shape": {
        "columns": 10,
        "rows": 2999
       }
      },
      "text/html": [
       "<div>\n",
       "<style scoped>\n",
       "    .dataframe tbody tr th:only-of-type {\n",
       "        vertical-align: middle;\n",
       "    }\n",
       "\n",
       "    .dataframe tbody tr th {\n",
       "        vertical-align: top;\n",
       "    }\n",
       "\n",
       "    .dataframe thead th {\n",
       "        text-align: right;\n",
       "    }\n",
       "</style>\n",
       "<table border=\"1\" class=\"dataframe\">\n",
       "  <thead>\n",
       "    <tr style=\"text-align: right;\">\n",
       "      <th></th>\n",
       "      <th>purchase_date</th>\n",
       "      <th>item_name</th>\n",
       "      <th>item_price</th>\n",
       "      <th>purchase_month</th>\n",
       "      <th>顧客名</th>\n",
       "      <th>かな</th>\n",
       "      <th>地域</th>\n",
       "      <th>メールアドレス</th>\n",
       "      <th>登録日</th>\n",
       "      <th>登録年月</th>\n",
       "    </tr>\n",
       "  </thead>\n",
       "  <tbody>\n",
       "    <tr>\n",
       "      <th>0</th>\n",
       "      <td>2019-06-13 18:02:34</td>\n",
       "      <td>商品A</td>\n",
       "      <td>100.0</td>\n",
       "      <td>201906</td>\n",
       "      <td>深井菜々美</td>\n",
       "      <td>ふかい ななみ</td>\n",
       "      <td>C市</td>\n",
       "      <td>fukai_nanami@example.com</td>\n",
       "      <td>2017-01-26</td>\n",
       "      <td>201701</td>\n",
       "    </tr>\n",
       "    <tr>\n",
       "      <th>1</th>\n",
       "      <td>2019-07-13 13:05:29</td>\n",
       "      <td>商品S</td>\n",
       "      <td>1900.0</td>\n",
       "      <td>201907</td>\n",
       "      <td>浅田賢二</td>\n",
       "      <td>あさだ けんじ</td>\n",
       "      <td>C市</td>\n",
       "      <td>asada_kenji@example.com</td>\n",
       "      <td>2018-04-07</td>\n",
       "      <td>201804</td>\n",
       "    </tr>\n",
       "    <tr>\n",
       "      <th>2</th>\n",
       "      <td>2019-05-11 19:42:07</td>\n",
       "      <td>商品A</td>\n",
       "      <td>100.0</td>\n",
       "      <td>201905</td>\n",
       "      <td>南部慶二</td>\n",
       "      <td>なんぶ けいじ</td>\n",
       "      <td>A市</td>\n",
       "      <td>nannbu_keiji@example.com</td>\n",
       "      <td>2018-06-19</td>\n",
       "      <td>201806</td>\n",
       "    </tr>\n",
       "    <tr>\n",
       "      <th>3</th>\n",
       "      <td>2019-02-12 23:40:45</td>\n",
       "      <td>商品Z</td>\n",
       "      <td>2600.0</td>\n",
       "      <td>201902</td>\n",
       "      <td>麻生莉緒</td>\n",
       "      <td>あそう りお</td>\n",
       "      <td>D市</td>\n",
       "      <td>asou_rio@example.com</td>\n",
       "      <td>2018-07-22</td>\n",
       "      <td>201807</td>\n",
       "    </tr>\n",
       "    <tr>\n",
       "      <th>4</th>\n",
       "      <td>2019-04-22 03:09:35</td>\n",
       "      <td>商品A</td>\n",
       "      <td>100.0</td>\n",
       "      <td>201904</td>\n",
       "      <td>平田鉄二</td>\n",
       "      <td>ひらた てつじ</td>\n",
       "      <td>D市</td>\n",
       "      <td>hirata_tetsuji@example.com</td>\n",
       "      <td>2017-06-07</td>\n",
       "      <td>201706</td>\n",
       "    </tr>\n",
       "    <tr>\n",
       "      <th>...</th>\n",
       "      <td>...</td>\n",
       "      <td>...</td>\n",
       "      <td>...</td>\n",
       "      <td>...</td>\n",
       "      <td>...</td>\n",
       "      <td>...</td>\n",
       "      <td>...</td>\n",
       "      <td>...</td>\n",
       "      <td>...</td>\n",
       "      <td>...</td>\n",
       "    </tr>\n",
       "    <tr>\n",
       "      <th>2994</th>\n",
       "      <td>2019-02-15 02:56:39</td>\n",
       "      <td>商品Y</td>\n",
       "      <td>2500.0</td>\n",
       "      <td>201902</td>\n",
       "      <td>福島友也</td>\n",
       "      <td>ふくしま ともや</td>\n",
       "      <td>B市</td>\n",
       "      <td>fukushima_tomoya@example.com</td>\n",
       "      <td>2017-07-01</td>\n",
       "      <td>201707</td>\n",
       "    </tr>\n",
       "    <tr>\n",
       "      <th>2995</th>\n",
       "      <td>2019-06-22 04:03:43</td>\n",
       "      <td>商品M</td>\n",
       "      <td>1300.0</td>\n",
       "      <td>201906</td>\n",
       "      <td>大倉晃司</td>\n",
       "      <td>おおくら こうじ</td>\n",
       "      <td>E市</td>\n",
       "      <td>ookura_kouji@example.com</td>\n",
       "      <td>2018-03-31</td>\n",
       "      <td>201803</td>\n",
       "    </tr>\n",
       "    <tr>\n",
       "      <th>2996</th>\n",
       "      <td>2019-03-29 11:14:05</td>\n",
       "      <td>商品Q</td>\n",
       "      <td>1700.0</td>\n",
       "      <td>201903</td>\n",
       "      <td>尾形小雁</td>\n",
       "      <td>おがた こがん</td>\n",
       "      <td>B市</td>\n",
       "      <td>ogata_kogan@example.com</td>\n",
       "      <td>2017-03-15</td>\n",
       "      <td>201703</td>\n",
       "    </tr>\n",
       "    <tr>\n",
       "      <th>2997</th>\n",
       "      <td>2019-07-14 12:56:49</td>\n",
       "      <td>商品H</td>\n",
       "      <td>800.0</td>\n",
       "      <td>201907</td>\n",
       "      <td>芦田博之</td>\n",
       "      <td>あしだ ひろゆき</td>\n",
       "      <td>E市</td>\n",
       "      <td>ashida_hiroyuki@example.com</td>\n",
       "      <td>2018-07-13</td>\n",
       "      <td>201807</td>\n",
       "    </tr>\n",
       "    <tr>\n",
       "      <th>2998</th>\n",
       "      <td>2019-07-21 00:31:36</td>\n",
       "      <td>商品D</td>\n",
       "      <td>400.0</td>\n",
       "      <td>201907</td>\n",
       "      <td>石田郁恵</td>\n",
       "      <td>いしだ いくえ</td>\n",
       "      <td>B市</td>\n",
       "      <td>ishida_ikue@example.com</td>\n",
       "      <td>2017-02-05</td>\n",
       "      <td>201702</td>\n",
       "    </tr>\n",
       "  </tbody>\n",
       "</table>\n",
       "<p>2999 rows × 10 columns</p>\n",
       "</div>"
      ],
      "text/plain": [
       "           purchase_date item_name  item_price purchase_month    顧客名  \\\n",
       "0    2019-06-13 18:02:34       商品A       100.0         201906  深井菜々美   \n",
       "1    2019-07-13 13:05:29       商品S      1900.0         201907   浅田賢二   \n",
       "2    2019-05-11 19:42:07       商品A       100.0         201905   南部慶二   \n",
       "3    2019-02-12 23:40:45       商品Z      2600.0         201902   麻生莉緒   \n",
       "4    2019-04-22 03:09:35       商品A       100.0         201904   平田鉄二   \n",
       "...                  ...       ...         ...            ...    ...   \n",
       "2994 2019-02-15 02:56:39       商品Y      2500.0         201902   福島友也   \n",
       "2995 2019-06-22 04:03:43       商品M      1300.0         201906   大倉晃司   \n",
       "2996 2019-03-29 11:14:05       商品Q      1700.0         201903   尾形小雁   \n",
       "2997 2019-07-14 12:56:49       商品H       800.0         201907   芦田博之   \n",
       "2998 2019-07-21 00:31:36       商品D       400.0         201907   石田郁恵   \n",
       "\n",
       "            かな  地域                       メールアドレス        登録日    登録年月  \n",
       "0      ふかい ななみ  C市      fukai_nanami@example.com 2017-01-26  201701  \n",
       "1      あさだ けんじ  C市       asada_kenji@example.com 2018-04-07  201804  \n",
       "2      なんぶ けいじ  A市      nannbu_keiji@example.com 2018-06-19  201806  \n",
       "3       あそう りお  D市          asou_rio@example.com 2018-07-22  201807  \n",
       "4      ひらた てつじ  D市    hirata_tetsuji@example.com 2017-06-07  201706  \n",
       "...        ...  ..                           ...        ...     ...  \n",
       "2994  ふくしま ともや  B市  fukushima_tomoya@example.com 2017-07-01  201707  \n",
       "2995  おおくら こうじ  E市      ookura_kouji@example.com 2018-03-31  201803  \n",
       "2996   おがた こがん  B市       ogata_kogan@example.com 2017-03-15  201703  \n",
       "2997  あしだ ひろゆき  E市   ashida_hiroyuki@example.com 2018-07-13  201807  \n",
       "2998   いしだ いくえ  B市       ishida_ikue@example.com 2017-02-05  201702  \n",
       "\n",
       "[2999 rows x 10 columns]"
      ]
     },
     "execution_count": 28,
     "metadata": {},
     "output_type": "execute_result"
    }
   ],
   "source": [
    "join_data = pd.merge(uriage_data, kokyaku_data, left_on=\"customer_name\", right_on=\"顧客名\", how=\"left\")\n",
    "join_data = join_data.drop(\"customer_name\", axis=1)\n",
    "join_data"
   ]
  },
  {
   "cell_type": "code",
   "execution_count": 30,
   "id": "cd654ffe",
   "metadata": {},
   "outputs": [
    {
     "data": {
      "application/vnd.microsoft.datawrangler.viewer.v0+json": {
       "columns": [
        {
         "name": "index",
         "rawType": "int64",
         "type": "integer"
        },
        {
         "name": "purchase_date",
         "rawType": "datetime64[ns]",
         "type": "datetime"
        },
        {
         "name": "purchase_month",
         "rawType": "object",
         "type": "string"
        },
        {
         "name": "item_name",
         "rawType": "object",
         "type": "string"
        },
        {
         "name": "item_price",
         "rawType": "float64",
         "type": "float"
        },
        {
         "name": "顧客名",
         "rawType": "object",
         "type": "string"
        },
        {
         "name": "かな",
         "rawType": "object",
         "type": "string"
        },
        {
         "name": "地域",
         "rawType": "object",
         "type": "string"
        },
        {
         "name": "メールアドレス",
         "rawType": "object",
         "type": "string"
        },
        {
         "name": "登録日",
         "rawType": "datetime64[ns]",
         "type": "datetime"
        }
       ],
       "ref": "ee9f8877-3a57-46d2-b058-53d2c53b9f88",
       "rows": [
        [
         "0",
         "2019-06-13 18:02:34",
         "201906",
         "商品A",
         "100.0",
         "深井菜々美",
         "ふかい ななみ",
         "C市",
         "fukai_nanami@example.com",
         "2017-01-26 00:00:00"
        ],
        [
         "1",
         "2019-07-13 13:05:29",
         "201907",
         "商品S",
         "1900.0",
         "浅田賢二",
         "あさだ けんじ",
         "C市",
         "asada_kenji@example.com",
         "2018-04-07 00:00:00"
        ],
        [
         "2",
         "2019-05-11 19:42:07",
         "201905",
         "商品A",
         "100.0",
         "南部慶二",
         "なんぶ けいじ",
         "A市",
         "nannbu_keiji@example.com",
         "2018-06-19 00:00:00"
        ],
        [
         "3",
         "2019-02-12 23:40:45",
         "201902",
         "商品Z",
         "2600.0",
         "麻生莉緒",
         "あそう りお",
         "D市",
         "asou_rio@example.com",
         "2018-07-22 00:00:00"
        ],
        [
         "4",
         "2019-04-22 03:09:35",
         "201904",
         "商品A",
         "100.0",
         "平田鉄二",
         "ひらた てつじ",
         "D市",
         "hirata_tetsuji@example.com",
         "2017-06-07 00:00:00"
        ],
        [
         "5",
         "2019-03-20 19:16:01",
         "201903",
         "商品S",
         "1900.0",
         "堀江佑",
         "ほりえ たすく",
         "H市",
         "horie_tasuku@example.com",
         "2018-05-14 00:00:00"
        ],
        [
         "6",
         "2019-05-18 19:16:53",
         "201905",
         "商品A",
         "100.0",
         "深井照生",
         "ふかい てるお",
         "A市",
         "fukai_teruo@example.com",
         "2018-02-21 00:00:00"
        ],
        [
         "7",
         "2019-04-18 00:14:21",
         "201904",
         "商品V",
         "2200.0",
         "牧田玲那",
         "まきた れな",
         "A市",
         "makita_rena@example.com",
         "2017-05-13 00:00:00"
        ],
        [
         "8",
         "2019-01-10 15:51:01",
         "201901",
         "商品O",
         "1500.0",
         "堀北雅彦",
         "ほりきた まさひこ",
         "H市",
         "horikita_masahiko@example.com",
         "2017-05-05 00:00:00"
        ],
        [
         "9",
         "2019-01-28 10:47:03",
         "201901",
         "商品A",
         "100.0",
         "大地礼子",
         "おおち れいこ",
         "E市",
         "oochi_reiko@example.com",
         "2017-05-09 00:00:00"
        ],
        [
         "10",
         "2019-06-21 01:54:35",
         "201906",
         "商品U",
         "2100.0",
         "矢部惇",
         "やべ じゅん",
         "A市",
         "yabe_jun@example.com",
         "2018-05-20 00:00:00"
        ],
        [
         "11",
         "2019-06-08 11:32:25",
         "201906",
         "商品L",
         "1200.0",
         "岡田敏也",
         "おかだ としや",
         "E市",
         "okada_toshiya@example.com",
         "2017-02-16 00:00:00"
        ],
        [
         "12",
         "2019-04-08 02:00:44",
         "201904",
         "商品V",
         "2200.0",
         "浅見広司",
         "あさみ こうじ",
         "D市",
         "asami_kouji@example.com",
         "2018-06-03 00:00:00"
        ],
        [
         "13",
         "2019-06-19 09:50:52",
         "201906",
         "商品O",
         "1500.0",
         "熊井憲史",
         "くまい のりひと",
         "A市",
         "kumai_norihito@example.com",
         "2017-03-29 00:00:00"
        ],
        [
         "14",
         "2019-06-11 12:57:24",
         "201906",
         "商品A",
         "100.0",
         "黄川田博之",
         "きかわだ ひろゆき",
         "C市",
         "kikawada_hiroyuki@example.com",
         "2018-02-14 00:00:00"
        ],
        [
         "15",
         "2019-04-21 00:11:43",
         "201904",
         "商品C",
         "300.0",
         "尾形小雁",
         "おがた こがん",
         "B市",
         "ogata_kogan@example.com",
         "2017-03-15 00:00:00"
        ],
        [
         "16",
         "2019-03-28 23:24:46",
         "201903",
         "商品V",
         "2200.0",
         "神原美嘉",
         "かんばら みか",
         "D市",
         "kannbara_mika@example.com",
         "2017-03-23 00:00:00"
        ],
        [
         "17",
         "2019-04-06 12:00:53",
         "201904",
         "商品I",
         "900.0",
         "若杉徹",
         "わかすぎ とおる",
         "G市",
         "wakasugi_tohru@example.com",
         "2017-03-24 00:00:00"
        ],
        [
         "18",
         "2019-07-16 05:55:57",
         "201907",
         "商品R",
         "1800.0",
         "石渡小雁",
         "いしわたり こがん",
         "D市",
         "ishiwatari_kogan@example.com",
         "2017-07-28 00:00:00"
        ],
        [
         "19",
         "2019-07-03 07:04:05",
         "201907",
         "商品X",
         "2400.0",
         "東光博",
         "ひがし みつひろ",
         "A市",
         "higashi_mitsuhiro@example.com",
         "2018-02-06 00:00:00"
        ],
        [
         "20",
         "2019-07-05 10:49:13",
         "201907",
         "商品O",
         "1500.0",
         "日野夏希",
         "ひの なつき",
         "A市",
         "hino_natsuki@example.com",
         "2017-05-23 00:00:00"
        ],
        [
         "21",
         "2019-06-10 19:07:23",
         "201906",
         "商品G",
         "700.0",
         "黒谷長利",
         "くろたに ながとし",
         "A市",
         "kurotani_nagatoshi@example.com",
         "2017-04-27 00:00:00"
        ],
        [
         "22",
         "2019-07-10 20:28:12",
         "201907",
         "商品X",
         "2400.0",
         "田辺光洋",
         "たなべ みつひろ",
         "A市",
         "tanabe_mitsuhiro@example.com",
         "2018-07-04 00:00:00"
        ],
        [
         "23",
         "2019-07-10 12:44:10",
         "201907",
         "商品R",
         "1800.0",
         "戸塚美幸",
         "とづか みゆき",
         "H市",
         "toduka_miyuki@example.com",
         "2017-01-30 00:00:00"
        ],
        [
         "24",
         "2019-02-14 01:30:09",
         "201902",
         "商品P",
         "1600.0",
         "榊原しぼり",
         "さかきばら しぼり",
         "D市",
         "sakakibara_shibori@example.com",
         "2017-03-13 00:00:00"
        ],
        [
         "25",
         "2019-04-18 01:50:16",
         "201904",
         "商品Q",
         "1700.0",
         "浅田賢二",
         "あさだ けんじ",
         "C市",
         "asada_kenji@example.com",
         "2018-04-07 00:00:00"
        ],
        [
         "26",
         "2019-05-16 04:45:21",
         "201905",
         "商品Y",
         "2500.0",
         "明石家明",
         "あかしや あきら",
         "B市",
         "akashiya_akira@example.com",
         "2018-02-13 00:00:00"
        ],
        [
         "27",
         "2019-05-26 10:58:00",
         "201905",
         "商品P",
         "1600.0",
         "手塚進",
         "てづか すすむ",
         "A市",
         "teduka_susumu@example.com",
         "2018-05-01 00:00:00"
        ],
        [
         "28",
         "2019-01-04 12:05:04",
         "201901",
         "商品P",
         "1600.0",
         "堀江佑",
         "ほりえ たすく",
         "H市",
         "horie_tasuku@example.com",
         "2018-05-14 00:00:00"
        ],
        [
         "29",
         "2019-02-11 18:32:05",
         "201902",
         "商品R",
         "1800.0",
         "荻野愛",
         "おぎの あい",
         "F市",
         "ogino_ai@example.com",
         "2017-05-17 00:00:00"
        ],
        [
         "30",
         "2019-03-02 08:52:28",
         "201903",
         "商品P",
         "1600.0",
         "菅原誠治",
         "すがわら せいじ",
         "C市",
         "sugawara_seiji@example.com",
         "2018-06-28 00:00:00"
        ],
        [
         "31",
         "2019-06-29 10:01:52",
         "201906",
         "商品A",
         "100.0",
         "石田佑",
         "いしだ たすく",
         "E市",
         "ishida_tasuku@example.com",
         "2018-05-12 00:00:00"
        ],
        [
         "32",
         "2019-04-24 17:44:17",
         "201904",
         "商品N",
         "1400.0",
         "片瀬長利",
         "かたせ ながとし",
         "C市",
         "katase_nagatoshi@example.com",
         "2018-05-03 00:00:00"
        ],
        [
         "33",
         "2019-03-28 14:18:18",
         "201903",
         "商品R",
         "1800.0",
         "岡慶太",
         "おか けいた",
         "C市",
         "oka_keita@example.com",
         "2018-07-22 00:00:00"
        ],
        [
         "34",
         "2019-01-18 00:54:58",
         "201901",
         "商品W",
         "2300.0",
         "鈴木一哉",
         "すずき かずや",
         "C市",
         "suzuki_kazuya@example.com",
         "2017-04-09 00:00:00"
        ],
        [
         "35",
         "2019-01-12 03:26:36",
         "201901",
         "商品A",
         "100.0",
         "小平陽子",
         "こひら ようこ",
         "B市",
         "kohira_youko@example.com",
         "2018-01-21 00:00:00"
        ],
        [
         "36",
         "2019-07-27 00:08:48",
         "201907",
         "商品E",
         "500.0",
         "尾形小雁",
         "おがた こがん",
         "B市",
         "ogata_kogan@example.com",
         "2017-03-15 00:00:00"
        ],
        [
         "37",
         "2019-03-22 11:16:00",
         "201903",
         "商品K",
         "1100.0",
         "原口俊二",
         "はらぐち しゅんじ",
         "F市",
         "haraguchi_shunji@example.com",
         "2018-03-05 00:00:00"
        ],
        [
         "38",
         "2019-05-07 02:58:40",
         "201905",
         "商品O",
         "1500.0",
         "井川真悠子",
         "いがわ まゆこ",
         "F市",
         "igawa_mayuko@example.com",
         "2017-03-04 00:00:00"
        ],
        [
         "39",
         "2019-02-04 18:23:22",
         "201902",
         "商品W",
         "2300.0",
         "金森なつみ",
         "かなもり なつみ",
         "F市",
         "kanamori_natsumi@example.com",
         "2018-03-24 00:00:00"
        ],
        [
         "40",
         "2019-03-22 18:36:47",
         "201903",
         "商品O",
         "1500.0",
         "堀江佑",
         "ほりえ たすく",
         "H市",
         "horie_tasuku@example.com",
         "2018-05-14 00:00:00"
        ],
        [
         "41",
         "2019-05-24 21:39:20",
         "201905",
         "商品K",
         "1100.0",
         "本多フミヤ",
         "ほんだ ふみや",
         "F市",
         "honnda_fumiya@example.com",
         "2017-05-23 00:00:00"
        ],
        [
         "42",
         "2019-07-29 00:17:11",
         "201907",
         "商品B",
         "200.0",
         "唐沢涼",
         "からさわ りょう",
         "H市",
         "karasawa_ryou@example.com",
         "2018-02-27 00:00:00"
        ],
        [
         "43",
         "2019-07-25 00:59:37",
         "201907",
         "商品F",
         "600.0",
         "金森なつみ",
         "かなもり なつみ",
         "F市",
         "kanamori_natsumi@example.com",
         "2018-03-24 00:00:00"
        ],
        [
         "44",
         "2019-05-14 08:37:32",
         "201905",
         "商品P",
         "1600.0",
         "中田美智子",
         "なかた みちこ",
         "E市",
         "nakata_michiko@example.com",
         "2017-05-30 00:00:00"
        ],
        [
         "45",
         "2019-07-13 04:50:21",
         "201907",
         "商品X",
         "2400.0",
         "松谷愛子",
         "まつたに あいこ",
         "D市",
         "matsutani_aiko@example.com",
         "2018-07-30 00:00:00"
        ],
        [
         "46",
         "2019-02-14 03:26:40",
         "201902",
         "商品B",
         "200.0",
         "南部慶二",
         "なんぶ けいじ",
         "A市",
         "nannbu_keiji@example.com",
         "2018-06-19 00:00:00"
        ],
        [
         "47",
         "2019-01-17 17:36:01",
         "201901",
         "商品S",
         "1900.0",
         "黒谷長利",
         "くろたに ながとし",
         "A市",
         "kurotani_nagatoshi@example.com",
         "2017-04-27 00:00:00"
        ],
        [
         "48",
         "2019-03-10 15:16:10",
         "201903",
         "商品F",
         "600.0",
         "日野夏希",
         "ひの なつき",
         "A市",
         "hino_natsuki@example.com",
         "2017-05-23 00:00:00"
        ],
        [
         "49",
         "2019-06-27 02:36:37",
         "201906",
         "商品X",
         "2400.0",
         "深沢ひろ子",
         "ふかざわ ひろこ",
         "C市",
         "fukazawa_hiroko@example.com",
         "2018-03-17 00:00:00"
        ]
       ],
       "shape": {
        "columns": 9,
        "rows": 2999
       }
      },
      "text/html": [
       "<div>\n",
       "<style scoped>\n",
       "    .dataframe tbody tr th:only-of-type {\n",
       "        vertical-align: middle;\n",
       "    }\n",
       "\n",
       "    .dataframe tbody tr th {\n",
       "        vertical-align: top;\n",
       "    }\n",
       "\n",
       "    .dataframe thead th {\n",
       "        text-align: right;\n",
       "    }\n",
       "</style>\n",
       "<table border=\"1\" class=\"dataframe\">\n",
       "  <thead>\n",
       "    <tr style=\"text-align: right;\">\n",
       "      <th></th>\n",
       "      <th>purchase_date</th>\n",
       "      <th>purchase_month</th>\n",
       "      <th>item_name</th>\n",
       "      <th>item_price</th>\n",
       "      <th>顧客名</th>\n",
       "      <th>かな</th>\n",
       "      <th>地域</th>\n",
       "      <th>メールアドレス</th>\n",
       "      <th>登録日</th>\n",
       "    </tr>\n",
       "  </thead>\n",
       "  <tbody>\n",
       "    <tr>\n",
       "      <th>0</th>\n",
       "      <td>2019-06-13 18:02:34</td>\n",
       "      <td>201906</td>\n",
       "      <td>商品A</td>\n",
       "      <td>100.0</td>\n",
       "      <td>深井菜々美</td>\n",
       "      <td>ふかい ななみ</td>\n",
       "      <td>C市</td>\n",
       "      <td>fukai_nanami@example.com</td>\n",
       "      <td>2017-01-26</td>\n",
       "    </tr>\n",
       "    <tr>\n",
       "      <th>1</th>\n",
       "      <td>2019-07-13 13:05:29</td>\n",
       "      <td>201907</td>\n",
       "      <td>商品S</td>\n",
       "      <td>1900.0</td>\n",
       "      <td>浅田賢二</td>\n",
       "      <td>あさだ けんじ</td>\n",
       "      <td>C市</td>\n",
       "      <td>asada_kenji@example.com</td>\n",
       "      <td>2018-04-07</td>\n",
       "    </tr>\n",
       "    <tr>\n",
       "      <th>2</th>\n",
       "      <td>2019-05-11 19:42:07</td>\n",
       "      <td>201905</td>\n",
       "      <td>商品A</td>\n",
       "      <td>100.0</td>\n",
       "      <td>南部慶二</td>\n",
       "      <td>なんぶ けいじ</td>\n",
       "      <td>A市</td>\n",
       "      <td>nannbu_keiji@example.com</td>\n",
       "      <td>2018-06-19</td>\n",
       "    </tr>\n",
       "    <tr>\n",
       "      <th>3</th>\n",
       "      <td>2019-02-12 23:40:45</td>\n",
       "      <td>201902</td>\n",
       "      <td>商品Z</td>\n",
       "      <td>2600.0</td>\n",
       "      <td>麻生莉緒</td>\n",
       "      <td>あそう りお</td>\n",
       "      <td>D市</td>\n",
       "      <td>asou_rio@example.com</td>\n",
       "      <td>2018-07-22</td>\n",
       "    </tr>\n",
       "    <tr>\n",
       "      <th>4</th>\n",
       "      <td>2019-04-22 03:09:35</td>\n",
       "      <td>201904</td>\n",
       "      <td>商品A</td>\n",
       "      <td>100.0</td>\n",
       "      <td>平田鉄二</td>\n",
       "      <td>ひらた てつじ</td>\n",
       "      <td>D市</td>\n",
       "      <td>hirata_tetsuji@example.com</td>\n",
       "      <td>2017-06-07</td>\n",
       "    </tr>\n",
       "    <tr>\n",
       "      <th>...</th>\n",
       "      <td>...</td>\n",
       "      <td>...</td>\n",
       "      <td>...</td>\n",
       "      <td>...</td>\n",
       "      <td>...</td>\n",
       "      <td>...</td>\n",
       "      <td>...</td>\n",
       "      <td>...</td>\n",
       "      <td>...</td>\n",
       "    </tr>\n",
       "    <tr>\n",
       "      <th>2994</th>\n",
       "      <td>2019-02-15 02:56:39</td>\n",
       "      <td>201902</td>\n",
       "      <td>商品Y</td>\n",
       "      <td>2500.0</td>\n",
       "      <td>福島友也</td>\n",
       "      <td>ふくしま ともや</td>\n",
       "      <td>B市</td>\n",
       "      <td>fukushima_tomoya@example.com</td>\n",
       "      <td>2017-07-01</td>\n",
       "    </tr>\n",
       "    <tr>\n",
       "      <th>2995</th>\n",
       "      <td>2019-06-22 04:03:43</td>\n",
       "      <td>201906</td>\n",
       "      <td>商品M</td>\n",
       "      <td>1300.0</td>\n",
       "      <td>大倉晃司</td>\n",
       "      <td>おおくら こうじ</td>\n",
       "      <td>E市</td>\n",
       "      <td>ookura_kouji@example.com</td>\n",
       "      <td>2018-03-31</td>\n",
       "    </tr>\n",
       "    <tr>\n",
       "      <th>2996</th>\n",
       "      <td>2019-03-29 11:14:05</td>\n",
       "      <td>201903</td>\n",
       "      <td>商品Q</td>\n",
       "      <td>1700.0</td>\n",
       "      <td>尾形小雁</td>\n",
       "      <td>おがた こがん</td>\n",
       "      <td>B市</td>\n",
       "      <td>ogata_kogan@example.com</td>\n",
       "      <td>2017-03-15</td>\n",
       "    </tr>\n",
       "    <tr>\n",
       "      <th>2997</th>\n",
       "      <td>2019-07-14 12:56:49</td>\n",
       "      <td>201907</td>\n",
       "      <td>商品H</td>\n",
       "      <td>800.0</td>\n",
       "      <td>芦田博之</td>\n",
       "      <td>あしだ ひろゆき</td>\n",
       "      <td>E市</td>\n",
       "      <td>ashida_hiroyuki@example.com</td>\n",
       "      <td>2018-07-13</td>\n",
       "    </tr>\n",
       "    <tr>\n",
       "      <th>2998</th>\n",
       "      <td>2019-07-21 00:31:36</td>\n",
       "      <td>201907</td>\n",
       "      <td>商品D</td>\n",
       "      <td>400.0</td>\n",
       "      <td>石田郁恵</td>\n",
       "      <td>いしだ いくえ</td>\n",
       "      <td>B市</td>\n",
       "      <td>ishida_ikue@example.com</td>\n",
       "      <td>2017-02-05</td>\n",
       "    </tr>\n",
       "  </tbody>\n",
       "</table>\n",
       "<p>2999 rows × 9 columns</p>\n",
       "</div>"
      ],
      "text/plain": [
       "           purchase_date purchase_month item_name  item_price    顧客名  \\\n",
       "0    2019-06-13 18:02:34         201906       商品A       100.0  深井菜々美   \n",
       "1    2019-07-13 13:05:29         201907       商品S      1900.0   浅田賢二   \n",
       "2    2019-05-11 19:42:07         201905       商品A       100.0   南部慶二   \n",
       "3    2019-02-12 23:40:45         201902       商品Z      2600.0   麻生莉緒   \n",
       "4    2019-04-22 03:09:35         201904       商品A       100.0   平田鉄二   \n",
       "...                  ...            ...       ...         ...    ...   \n",
       "2994 2019-02-15 02:56:39         201902       商品Y      2500.0   福島友也   \n",
       "2995 2019-06-22 04:03:43         201906       商品M      1300.0   大倉晃司   \n",
       "2996 2019-03-29 11:14:05         201903       商品Q      1700.0   尾形小雁   \n",
       "2997 2019-07-14 12:56:49         201907       商品H       800.0   芦田博之   \n",
       "2998 2019-07-21 00:31:36         201907       商品D       400.0   石田郁恵   \n",
       "\n",
       "            かな  地域                       メールアドレス        登録日  \n",
       "0      ふかい ななみ  C市      fukai_nanami@example.com 2017-01-26  \n",
       "1      あさだ けんじ  C市       asada_kenji@example.com 2018-04-07  \n",
       "2      なんぶ けいじ  A市      nannbu_keiji@example.com 2018-06-19  \n",
       "3       あそう りお  D市          asou_rio@example.com 2018-07-22  \n",
       "4      ひらた てつじ  D市    hirata_tetsuji@example.com 2017-06-07  \n",
       "...        ...  ..                           ...        ...  \n",
       "2994  ふくしま ともや  B市  fukushima_tomoya@example.com 2017-07-01  \n",
       "2995  おおくら こうじ  E市      ookura_kouji@example.com 2018-03-31  \n",
       "2996   おがた こがん  B市       ogata_kogan@example.com 2017-03-15  \n",
       "2997  あしだ ひろゆき  E市   ashida_hiroyuki@example.com 2018-07-13  \n",
       "2998   いしだ いくえ  B市       ishida_ikue@example.com 2017-02-05  \n",
       "\n",
       "[2999 rows x 9 columns]"
      ]
     },
     "execution_count": 30,
     "metadata": {},
     "output_type": "execute_result"
    }
   ],
   "source": [
    "dump_data = join_data[[\"purchase_date\", \"purchase_month\", \"item_name\", \"item_price\", \"顧客名\", \"かな\", \"地域\", \"メールアドレス\", \"登録日\"]]\n",
    "dump_data"
   ]
  },
  {
   "cell_type": "code",
   "execution_count": 31,
   "id": "e7ac4768",
   "metadata": {},
   "outputs": [],
   "source": [
    "dump_data.to_csv(\"../Datasets/dump_data.csv\", index=False)"
   ]
  },
  {
   "cell_type": "code",
   "execution_count": 32,
   "id": "672165d3",
   "metadata": {},
   "outputs": [
    {
     "data": {
      "application/vnd.microsoft.datawrangler.viewer.v0+json": {
       "columns": [
        {
         "name": "index",
         "rawType": "int64",
         "type": "integer"
        },
        {
         "name": "purchase_date",
         "rawType": "object",
         "type": "string"
        },
        {
         "name": "purchase_month",
         "rawType": "int64",
         "type": "integer"
        },
        {
         "name": "item_name",
         "rawType": "object",
         "type": "string"
        },
        {
         "name": "item_price",
         "rawType": "float64",
         "type": "float"
        },
        {
         "name": "顧客名",
         "rawType": "object",
         "type": "string"
        },
        {
         "name": "かな",
         "rawType": "object",
         "type": "string"
        },
        {
         "name": "地域",
         "rawType": "object",
         "type": "string"
        },
        {
         "name": "メールアドレス",
         "rawType": "object",
         "type": "string"
        },
        {
         "name": "登録日",
         "rawType": "object",
         "type": "string"
        }
       ],
       "ref": "64316e94-00bd-43a6-a246-e62c3b12b00c",
       "rows": [
        [
         "0",
         "2019-06-13 18:02:34",
         "201906",
         "商品A",
         "100.0",
         "深井菜々美",
         "ふかい ななみ",
         "C市",
         "fukai_nanami@example.com",
         "2017-01-26"
        ],
        [
         "1",
         "2019-07-13 13:05:29",
         "201907",
         "商品S",
         "1900.0",
         "浅田賢二",
         "あさだ けんじ",
         "C市",
         "asada_kenji@example.com",
         "2018-04-07"
        ],
        [
         "2",
         "2019-05-11 19:42:07",
         "201905",
         "商品A",
         "100.0",
         "南部慶二",
         "なんぶ けいじ",
         "A市",
         "nannbu_keiji@example.com",
         "2018-06-19"
        ],
        [
         "3",
         "2019-02-12 23:40:45",
         "201902",
         "商品Z",
         "2600.0",
         "麻生莉緒",
         "あそう りお",
         "D市",
         "asou_rio@example.com",
         "2018-07-22"
        ],
        [
         "4",
         "2019-04-22 03:09:35",
         "201904",
         "商品A",
         "100.0",
         "平田鉄二",
         "ひらた てつじ",
         "D市",
         "hirata_tetsuji@example.com",
         "2017-06-07"
        ],
        [
         "5",
         "2019-03-20 19:16:01",
         "201903",
         "商品S",
         "1900.0",
         "堀江佑",
         "ほりえ たすく",
         "H市",
         "horie_tasuku@example.com",
         "2018-05-14"
        ],
        [
         "6",
         "2019-05-18 19:16:53",
         "201905",
         "商品A",
         "100.0",
         "深井照生",
         "ふかい てるお",
         "A市",
         "fukai_teruo@example.com",
         "2018-02-21"
        ],
        [
         "7",
         "2019-04-18 00:14:21",
         "201904",
         "商品V",
         "2200.0",
         "牧田玲那",
         "まきた れな",
         "A市",
         "makita_rena@example.com",
         "2017-05-13"
        ],
        [
         "8",
         "2019-01-10 15:51:01",
         "201901",
         "商品O",
         "1500.0",
         "堀北雅彦",
         "ほりきた まさひこ",
         "H市",
         "horikita_masahiko@example.com",
         "2017-05-05"
        ],
        [
         "9",
         "2019-01-28 10:47:03",
         "201901",
         "商品A",
         "100.0",
         "大地礼子",
         "おおち れいこ",
         "E市",
         "oochi_reiko@example.com",
         "2017-05-09"
        ],
        [
         "10",
         "2019-06-21 01:54:35",
         "201906",
         "商品U",
         "2100.0",
         "矢部惇",
         "やべ じゅん",
         "A市",
         "yabe_jun@example.com",
         "2018-05-20"
        ],
        [
         "11",
         "2019-06-08 11:32:25",
         "201906",
         "商品L",
         "1200.0",
         "岡田敏也",
         "おかだ としや",
         "E市",
         "okada_toshiya@example.com",
         "2017-02-16"
        ],
        [
         "12",
         "2019-04-08 02:00:44",
         "201904",
         "商品V",
         "2200.0",
         "浅見広司",
         "あさみ こうじ",
         "D市",
         "asami_kouji@example.com",
         "2018-06-03"
        ],
        [
         "13",
         "2019-06-19 09:50:52",
         "201906",
         "商品O",
         "1500.0",
         "熊井憲史",
         "くまい のりひと",
         "A市",
         "kumai_norihito@example.com",
         "2017-03-29"
        ],
        [
         "14",
         "2019-06-11 12:57:24",
         "201906",
         "商品A",
         "100.0",
         "黄川田博之",
         "きかわだ ひろゆき",
         "C市",
         "kikawada_hiroyuki@example.com",
         "2018-02-14"
        ],
        [
         "15",
         "2019-04-21 00:11:43",
         "201904",
         "商品C",
         "300.0",
         "尾形小雁",
         "おがた こがん",
         "B市",
         "ogata_kogan@example.com",
         "2017-03-15"
        ],
        [
         "16",
         "2019-03-28 23:24:46",
         "201903",
         "商品V",
         "2200.0",
         "神原美嘉",
         "かんばら みか",
         "D市",
         "kannbara_mika@example.com",
         "2017-03-23"
        ],
        [
         "17",
         "2019-04-06 12:00:53",
         "201904",
         "商品I",
         "900.0",
         "若杉徹",
         "わかすぎ とおる",
         "G市",
         "wakasugi_tohru@example.com",
         "2017-03-24"
        ],
        [
         "18",
         "2019-07-16 05:55:57",
         "201907",
         "商品R",
         "1800.0",
         "石渡小雁",
         "いしわたり こがん",
         "D市",
         "ishiwatari_kogan@example.com",
         "2017-07-28"
        ],
        [
         "19",
         "2019-07-03 07:04:05",
         "201907",
         "商品X",
         "2400.0",
         "東光博",
         "ひがし みつひろ",
         "A市",
         "higashi_mitsuhiro@example.com",
         "2018-02-06"
        ],
        [
         "20",
         "2019-07-05 10:49:13",
         "201907",
         "商品O",
         "1500.0",
         "日野夏希",
         "ひの なつき",
         "A市",
         "hino_natsuki@example.com",
         "2017-05-23"
        ],
        [
         "21",
         "2019-06-10 19:07:23",
         "201906",
         "商品G",
         "700.0",
         "黒谷長利",
         "くろたに ながとし",
         "A市",
         "kurotani_nagatoshi@example.com",
         "2017-04-27"
        ],
        [
         "22",
         "2019-07-10 20:28:12",
         "201907",
         "商品X",
         "2400.0",
         "田辺光洋",
         "たなべ みつひろ",
         "A市",
         "tanabe_mitsuhiro@example.com",
         "2018-07-04"
        ],
        [
         "23",
         "2019-07-10 12:44:10",
         "201907",
         "商品R",
         "1800.0",
         "戸塚美幸",
         "とづか みゆき",
         "H市",
         "toduka_miyuki@example.com",
         "2017-01-30"
        ],
        [
         "24",
         "2019-02-14 01:30:09",
         "201902",
         "商品P",
         "1600.0",
         "榊原しぼり",
         "さかきばら しぼり",
         "D市",
         "sakakibara_shibori@example.com",
         "2017-03-13"
        ],
        [
         "25",
         "2019-04-18 01:50:16",
         "201904",
         "商品Q",
         "1700.0",
         "浅田賢二",
         "あさだ けんじ",
         "C市",
         "asada_kenji@example.com",
         "2018-04-07"
        ],
        [
         "26",
         "2019-05-16 04:45:21",
         "201905",
         "商品Y",
         "2500.0",
         "明石家明",
         "あかしや あきら",
         "B市",
         "akashiya_akira@example.com",
         "2018-02-13"
        ],
        [
         "27",
         "2019-05-26 10:58:00",
         "201905",
         "商品P",
         "1600.0",
         "手塚進",
         "てづか すすむ",
         "A市",
         "teduka_susumu@example.com",
         "2018-05-01"
        ],
        [
         "28",
         "2019-01-04 12:05:04",
         "201901",
         "商品P",
         "1600.0",
         "堀江佑",
         "ほりえ たすく",
         "H市",
         "horie_tasuku@example.com",
         "2018-05-14"
        ],
        [
         "29",
         "2019-02-11 18:32:05",
         "201902",
         "商品R",
         "1800.0",
         "荻野愛",
         "おぎの あい",
         "F市",
         "ogino_ai@example.com",
         "2017-05-17"
        ],
        [
         "30",
         "2019-03-02 08:52:28",
         "201903",
         "商品P",
         "1600.0",
         "菅原誠治",
         "すがわら せいじ",
         "C市",
         "sugawara_seiji@example.com",
         "2018-06-28"
        ],
        [
         "31",
         "2019-06-29 10:01:52",
         "201906",
         "商品A",
         "100.0",
         "石田佑",
         "いしだ たすく",
         "E市",
         "ishida_tasuku@example.com",
         "2018-05-12"
        ],
        [
         "32",
         "2019-04-24 17:44:17",
         "201904",
         "商品N",
         "1400.0",
         "片瀬長利",
         "かたせ ながとし",
         "C市",
         "katase_nagatoshi@example.com",
         "2018-05-03"
        ],
        [
         "33",
         "2019-03-28 14:18:18",
         "201903",
         "商品R",
         "1800.0",
         "岡慶太",
         "おか けいた",
         "C市",
         "oka_keita@example.com",
         "2018-07-22"
        ],
        [
         "34",
         "2019-01-18 00:54:58",
         "201901",
         "商品W",
         "2300.0",
         "鈴木一哉",
         "すずき かずや",
         "C市",
         "suzuki_kazuya@example.com",
         "2017-04-09"
        ],
        [
         "35",
         "2019-01-12 03:26:36",
         "201901",
         "商品A",
         "100.0",
         "小平陽子",
         "こひら ようこ",
         "B市",
         "kohira_youko@example.com",
         "2018-01-21"
        ],
        [
         "36",
         "2019-07-27 00:08:48",
         "201907",
         "商品E",
         "500.0",
         "尾形小雁",
         "おがた こがん",
         "B市",
         "ogata_kogan@example.com",
         "2017-03-15"
        ],
        [
         "37",
         "2019-03-22 11:16:00",
         "201903",
         "商品K",
         "1100.0",
         "原口俊二",
         "はらぐち しゅんじ",
         "F市",
         "haraguchi_shunji@example.com",
         "2018-03-05"
        ],
        [
         "38",
         "2019-05-07 02:58:40",
         "201905",
         "商品O",
         "1500.0",
         "井川真悠子",
         "いがわ まゆこ",
         "F市",
         "igawa_mayuko@example.com",
         "2017-03-04"
        ],
        [
         "39",
         "2019-02-04 18:23:22",
         "201902",
         "商品W",
         "2300.0",
         "金森なつみ",
         "かなもり なつみ",
         "F市",
         "kanamori_natsumi@example.com",
         "2018-03-24"
        ],
        [
         "40",
         "2019-03-22 18:36:47",
         "201903",
         "商品O",
         "1500.0",
         "堀江佑",
         "ほりえ たすく",
         "H市",
         "horie_tasuku@example.com",
         "2018-05-14"
        ],
        [
         "41",
         "2019-05-24 21:39:20",
         "201905",
         "商品K",
         "1100.0",
         "本多フミヤ",
         "ほんだ ふみや",
         "F市",
         "honnda_fumiya@example.com",
         "2017-05-23"
        ],
        [
         "42",
         "2019-07-29 00:17:11",
         "201907",
         "商品B",
         "200.0",
         "唐沢涼",
         "からさわ りょう",
         "H市",
         "karasawa_ryou@example.com",
         "2018-02-27"
        ],
        [
         "43",
         "2019-07-25 00:59:37",
         "201907",
         "商品F",
         "600.0",
         "金森なつみ",
         "かなもり なつみ",
         "F市",
         "kanamori_natsumi@example.com",
         "2018-03-24"
        ],
        [
         "44",
         "2019-05-14 08:37:32",
         "201905",
         "商品P",
         "1600.0",
         "中田美智子",
         "なかた みちこ",
         "E市",
         "nakata_michiko@example.com",
         "2017-05-30"
        ],
        [
         "45",
         "2019-07-13 04:50:21",
         "201907",
         "商品X",
         "2400.0",
         "松谷愛子",
         "まつたに あいこ",
         "D市",
         "matsutani_aiko@example.com",
         "2018-07-30"
        ],
        [
         "46",
         "2019-02-14 03:26:40",
         "201902",
         "商品B",
         "200.0",
         "南部慶二",
         "なんぶ けいじ",
         "A市",
         "nannbu_keiji@example.com",
         "2018-06-19"
        ],
        [
         "47",
         "2019-01-17 17:36:01",
         "201901",
         "商品S",
         "1900.0",
         "黒谷長利",
         "くろたに ながとし",
         "A市",
         "kurotani_nagatoshi@example.com",
         "2017-04-27"
        ],
        [
         "48",
         "2019-03-10 15:16:10",
         "201903",
         "商品F",
         "600.0",
         "日野夏希",
         "ひの なつき",
         "A市",
         "hino_natsuki@example.com",
         "2017-05-23"
        ],
        [
         "49",
         "2019-06-27 02:36:37",
         "201906",
         "商品X",
         "2400.0",
         "深沢ひろ子",
         "ふかざわ ひろこ",
         "C市",
         "fukazawa_hiroko@example.com",
         "2018-03-17"
        ]
       ],
       "shape": {
        "columns": 9,
        "rows": 2999
       }
      },
      "text/html": [
       "<div>\n",
       "<style scoped>\n",
       "    .dataframe tbody tr th:only-of-type {\n",
       "        vertical-align: middle;\n",
       "    }\n",
       "\n",
       "    .dataframe tbody tr th {\n",
       "        vertical-align: top;\n",
       "    }\n",
       "\n",
       "    .dataframe thead th {\n",
       "        text-align: right;\n",
       "    }\n",
       "</style>\n",
       "<table border=\"1\" class=\"dataframe\">\n",
       "  <thead>\n",
       "    <tr style=\"text-align: right;\">\n",
       "      <th></th>\n",
       "      <th>purchase_date</th>\n",
       "      <th>purchase_month</th>\n",
       "      <th>item_name</th>\n",
       "      <th>item_price</th>\n",
       "      <th>顧客名</th>\n",
       "      <th>かな</th>\n",
       "      <th>地域</th>\n",
       "      <th>メールアドレス</th>\n",
       "      <th>登録日</th>\n",
       "    </tr>\n",
       "  </thead>\n",
       "  <tbody>\n",
       "    <tr>\n",
       "      <th>0</th>\n",
       "      <td>2019-06-13 18:02:34</td>\n",
       "      <td>201906</td>\n",
       "      <td>商品A</td>\n",
       "      <td>100.0</td>\n",
       "      <td>深井菜々美</td>\n",
       "      <td>ふかい ななみ</td>\n",
       "      <td>C市</td>\n",
       "      <td>fukai_nanami@example.com</td>\n",
       "      <td>2017-01-26</td>\n",
       "    </tr>\n",
       "    <tr>\n",
       "      <th>1</th>\n",
       "      <td>2019-07-13 13:05:29</td>\n",
       "      <td>201907</td>\n",
       "      <td>商品S</td>\n",
       "      <td>1900.0</td>\n",
       "      <td>浅田賢二</td>\n",
       "      <td>あさだ けんじ</td>\n",
       "      <td>C市</td>\n",
       "      <td>asada_kenji@example.com</td>\n",
       "      <td>2018-04-07</td>\n",
       "    </tr>\n",
       "    <tr>\n",
       "      <th>2</th>\n",
       "      <td>2019-05-11 19:42:07</td>\n",
       "      <td>201905</td>\n",
       "      <td>商品A</td>\n",
       "      <td>100.0</td>\n",
       "      <td>南部慶二</td>\n",
       "      <td>なんぶ けいじ</td>\n",
       "      <td>A市</td>\n",
       "      <td>nannbu_keiji@example.com</td>\n",
       "      <td>2018-06-19</td>\n",
       "    </tr>\n",
       "    <tr>\n",
       "      <th>3</th>\n",
       "      <td>2019-02-12 23:40:45</td>\n",
       "      <td>201902</td>\n",
       "      <td>商品Z</td>\n",
       "      <td>2600.0</td>\n",
       "      <td>麻生莉緒</td>\n",
       "      <td>あそう りお</td>\n",
       "      <td>D市</td>\n",
       "      <td>asou_rio@example.com</td>\n",
       "      <td>2018-07-22</td>\n",
       "    </tr>\n",
       "    <tr>\n",
       "      <th>4</th>\n",
       "      <td>2019-04-22 03:09:35</td>\n",
       "      <td>201904</td>\n",
       "      <td>商品A</td>\n",
       "      <td>100.0</td>\n",
       "      <td>平田鉄二</td>\n",
       "      <td>ひらた てつじ</td>\n",
       "      <td>D市</td>\n",
       "      <td>hirata_tetsuji@example.com</td>\n",
       "      <td>2017-06-07</td>\n",
       "    </tr>\n",
       "    <tr>\n",
       "      <th>...</th>\n",
       "      <td>...</td>\n",
       "      <td>...</td>\n",
       "      <td>...</td>\n",
       "      <td>...</td>\n",
       "      <td>...</td>\n",
       "      <td>...</td>\n",
       "      <td>...</td>\n",
       "      <td>...</td>\n",
       "      <td>...</td>\n",
       "    </tr>\n",
       "    <tr>\n",
       "      <th>2994</th>\n",
       "      <td>2019-02-15 02:56:39</td>\n",
       "      <td>201902</td>\n",
       "      <td>商品Y</td>\n",
       "      <td>2500.0</td>\n",
       "      <td>福島友也</td>\n",
       "      <td>ふくしま ともや</td>\n",
       "      <td>B市</td>\n",
       "      <td>fukushima_tomoya@example.com</td>\n",
       "      <td>2017-07-01</td>\n",
       "    </tr>\n",
       "    <tr>\n",
       "      <th>2995</th>\n",
       "      <td>2019-06-22 04:03:43</td>\n",
       "      <td>201906</td>\n",
       "      <td>商品M</td>\n",
       "      <td>1300.0</td>\n",
       "      <td>大倉晃司</td>\n",
       "      <td>おおくら こうじ</td>\n",
       "      <td>E市</td>\n",
       "      <td>ookura_kouji@example.com</td>\n",
       "      <td>2018-03-31</td>\n",
       "    </tr>\n",
       "    <tr>\n",
       "      <th>2996</th>\n",
       "      <td>2019-03-29 11:14:05</td>\n",
       "      <td>201903</td>\n",
       "      <td>商品Q</td>\n",
       "      <td>1700.0</td>\n",
       "      <td>尾形小雁</td>\n",
       "      <td>おがた こがん</td>\n",
       "      <td>B市</td>\n",
       "      <td>ogata_kogan@example.com</td>\n",
       "      <td>2017-03-15</td>\n",
       "    </tr>\n",
       "    <tr>\n",
       "      <th>2997</th>\n",
       "      <td>2019-07-14 12:56:49</td>\n",
       "      <td>201907</td>\n",
       "      <td>商品H</td>\n",
       "      <td>800.0</td>\n",
       "      <td>芦田博之</td>\n",
       "      <td>あしだ ひろゆき</td>\n",
       "      <td>E市</td>\n",
       "      <td>ashida_hiroyuki@example.com</td>\n",
       "      <td>2018-07-13</td>\n",
       "    </tr>\n",
       "    <tr>\n",
       "      <th>2998</th>\n",
       "      <td>2019-07-21 00:31:36</td>\n",
       "      <td>201907</td>\n",
       "      <td>商品D</td>\n",
       "      <td>400.0</td>\n",
       "      <td>石田郁恵</td>\n",
       "      <td>いしだ いくえ</td>\n",
       "      <td>B市</td>\n",
       "      <td>ishida_ikue@example.com</td>\n",
       "      <td>2017-02-05</td>\n",
       "    </tr>\n",
       "  </tbody>\n",
       "</table>\n",
       "<p>2999 rows × 9 columns</p>\n",
       "</div>"
      ],
      "text/plain": [
       "            purchase_date  purchase_month item_name  item_price    顧客名  \\\n",
       "0     2019-06-13 18:02:34          201906       商品A       100.0  深井菜々美   \n",
       "1     2019-07-13 13:05:29          201907       商品S      1900.0   浅田賢二   \n",
       "2     2019-05-11 19:42:07          201905       商品A       100.0   南部慶二   \n",
       "3     2019-02-12 23:40:45          201902       商品Z      2600.0   麻生莉緒   \n",
       "4     2019-04-22 03:09:35          201904       商品A       100.0   平田鉄二   \n",
       "...                   ...             ...       ...         ...    ...   \n",
       "2994  2019-02-15 02:56:39          201902       商品Y      2500.0   福島友也   \n",
       "2995  2019-06-22 04:03:43          201906       商品M      1300.0   大倉晃司   \n",
       "2996  2019-03-29 11:14:05          201903       商品Q      1700.0   尾形小雁   \n",
       "2997  2019-07-14 12:56:49          201907       商品H       800.0   芦田博之   \n",
       "2998  2019-07-21 00:31:36          201907       商品D       400.0   石田郁恵   \n",
       "\n",
       "            かな  地域                       メールアドレス         登録日  \n",
       "0      ふかい ななみ  C市      fukai_nanami@example.com  2017-01-26  \n",
       "1      あさだ けんじ  C市       asada_kenji@example.com  2018-04-07  \n",
       "2      なんぶ けいじ  A市      nannbu_keiji@example.com  2018-06-19  \n",
       "3       あそう りお  D市          asou_rio@example.com  2018-07-22  \n",
       "4      ひらた てつじ  D市    hirata_tetsuji@example.com  2017-06-07  \n",
       "...        ...  ..                           ...         ...  \n",
       "2994  ふくしま ともや  B市  fukushima_tomoya@example.com  2017-07-01  \n",
       "2995  おおくら こうじ  E市      ookura_kouji@example.com  2018-03-31  \n",
       "2996   おがた こがん  B市       ogata_kogan@example.com  2017-03-15  \n",
       "2997  あしだ ひろゆき  E市   ashida_hiroyuki@example.com  2018-07-13  \n",
       "2998   いしだ いくえ  B市       ishida_ikue@example.com  2017-02-05  \n",
       "\n",
       "[2999 rows x 9 columns]"
      ]
     },
     "execution_count": 32,
     "metadata": {},
     "output_type": "execute_result"
    }
   ],
   "source": [
    "import_data = pd.read_csv(\"../Datasets/dump_data.csv\")\n",
    "import_data"
   ]
  },
  {
   "cell_type": "code",
   "execution_count": 33,
   "id": "db243156",
   "metadata": {},
   "outputs": [
    {
     "data": {
      "application/vnd.microsoft.datawrangler.viewer.v0+json": {
       "columns": [
        {
         "name": "purchase_month",
         "rawType": "int64",
         "type": "integer"
        },
        {
         "name": "商品A",
         "rawType": "int64",
         "type": "integer"
        },
        {
         "name": "商品B",
         "rawType": "int64",
         "type": "integer"
        },
        {
         "name": "商品C",
         "rawType": "int64",
         "type": "integer"
        },
        {
         "name": "商品D",
         "rawType": "int64",
         "type": "integer"
        },
        {
         "name": "商品E",
         "rawType": "int64",
         "type": "integer"
        },
        {
         "name": "商品F",
         "rawType": "int64",
         "type": "integer"
        },
        {
         "name": "商品G",
         "rawType": "int64",
         "type": "integer"
        },
        {
         "name": "商品H",
         "rawType": "int64",
         "type": "integer"
        },
        {
         "name": "商品I",
         "rawType": "int64",
         "type": "integer"
        },
        {
         "name": "商品J",
         "rawType": "int64",
         "type": "integer"
        },
        {
         "name": "商品K",
         "rawType": "int64",
         "type": "integer"
        },
        {
         "name": "商品L",
         "rawType": "int64",
         "type": "integer"
        },
        {
         "name": "商品M",
         "rawType": "int64",
         "type": "integer"
        },
        {
         "name": "商品N",
         "rawType": "int64",
         "type": "integer"
        },
        {
         "name": "商品O",
         "rawType": "int64",
         "type": "integer"
        },
        {
         "name": "商品P",
         "rawType": "int64",
         "type": "integer"
        },
        {
         "name": "商品Q",
         "rawType": "int64",
         "type": "integer"
        },
        {
         "name": "商品R",
         "rawType": "int64",
         "type": "integer"
        },
        {
         "name": "商品S",
         "rawType": "int64",
         "type": "integer"
        },
        {
         "name": "商品T",
         "rawType": "int64",
         "type": "integer"
        },
        {
         "name": "商品U",
         "rawType": "int64",
         "type": "integer"
        },
        {
         "name": "商品V",
         "rawType": "int64",
         "type": "integer"
        },
        {
         "name": "商品W",
         "rawType": "int64",
         "type": "integer"
        },
        {
         "name": "商品X",
         "rawType": "int64",
         "type": "integer"
        },
        {
         "name": "商品Y",
         "rawType": "int64",
         "type": "integer"
        },
        {
         "name": "商品Z",
         "rawType": "int64",
         "type": "integer"
        }
       ],
       "ref": "0db1efce-af3d-49cf-a894-ef93439dde82",
       "rows": [
        [
         "201901",
         "18",
         "13",
         "19",
         "17",
         "18",
         "15",
         "11",
         "16",
         "18",
         "17",
         "20",
         "19",
         "19",
         "16",
         "24",
         "16",
         "17",
         "21",
         "20",
         "17",
         "7",
         "22",
         "13",
         "14",
         "10",
         "0"
        ],
        [
         "201902",
         "19",
         "14",
         "26",
         "21",
         "16",
         "14",
         "14",
         "17",
         "12",
         "14",
         "16",
         "11",
         "15",
         "20",
         "19",
         "19",
         "22",
         "22",
         "22",
         "23",
         "19",
         "22",
         "24",
         "16",
         "11",
         "1"
        ],
        [
         "201903",
         "17",
         "21",
         "20",
         "17",
         "9",
         "27",
         "14",
         "18",
         "12",
         "16",
         "14",
         "20",
         "22",
         "13",
         "11",
         "21",
         "23",
         "16",
         "20",
         "12",
         "23",
         "18",
         "16",
         "21",
         "16",
         "0"
        ],
        [
         "201904",
         "17",
         "19",
         "24",
         "20",
         "18",
         "17",
         "14",
         "11",
         "18",
         "13",
         "14",
         "15",
         "11",
         "20",
         "15",
         "15",
         "20",
         "20",
         "16",
         "16",
         "11",
         "15",
         "14",
         "16",
         "20",
         "0"
        ],
        [
         "201905",
         "24",
         "14",
         "16",
         "14",
         "19",
         "18",
         "23",
         "15",
         "16",
         "11",
         "18",
         "13",
         "18",
         "19",
         "18",
         "20",
         "13",
         "22",
         "18",
         "16",
         "16",
         "9",
         "21",
         "16",
         "20",
         "0"
        ],
        [
         "201906",
         "24",
         "12",
         "11",
         "19",
         "13",
         "18",
         "15",
         "13",
         "19",
         "22",
         "15",
         "15",
         "17",
         "16",
         "15",
         "18",
         "15",
         "16",
         "21",
         "12",
         "18",
         "20",
         "17",
         "15",
         "13",
         "0"
        ],
        [
         "201907",
         "20",
         "20",
         "17",
         "17",
         "12",
         "17",
         "19",
         "19",
         "19",
         "23",
         "12",
         "17",
         "11",
         "15",
         "22",
         "26",
         "15",
         "19",
         "23",
         "21",
         "13",
         "28",
         "16",
         "18",
         "12",
         "0"
        ]
       ],
       "shape": {
        "columns": 26,
        "rows": 7
       }
      },
      "text/html": [
       "<div>\n",
       "<style scoped>\n",
       "    .dataframe tbody tr th:only-of-type {\n",
       "        vertical-align: middle;\n",
       "    }\n",
       "\n",
       "    .dataframe tbody tr th {\n",
       "        vertical-align: top;\n",
       "    }\n",
       "\n",
       "    .dataframe thead th {\n",
       "        text-align: right;\n",
       "    }\n",
       "</style>\n",
       "<table border=\"1\" class=\"dataframe\">\n",
       "  <thead>\n",
       "    <tr style=\"text-align: right;\">\n",
       "      <th>item_name</th>\n",
       "      <th>商品A</th>\n",
       "      <th>商品B</th>\n",
       "      <th>商品C</th>\n",
       "      <th>商品D</th>\n",
       "      <th>商品E</th>\n",
       "      <th>商品F</th>\n",
       "      <th>商品G</th>\n",
       "      <th>商品H</th>\n",
       "      <th>商品I</th>\n",
       "      <th>商品J</th>\n",
       "      <th>...</th>\n",
       "      <th>商品Q</th>\n",
       "      <th>商品R</th>\n",
       "      <th>商品S</th>\n",
       "      <th>商品T</th>\n",
       "      <th>商品U</th>\n",
       "      <th>商品V</th>\n",
       "      <th>商品W</th>\n",
       "      <th>商品X</th>\n",
       "      <th>商品Y</th>\n",
       "      <th>商品Z</th>\n",
       "    </tr>\n",
       "    <tr>\n",
       "      <th>purchase_month</th>\n",
       "      <th></th>\n",
       "      <th></th>\n",
       "      <th></th>\n",
       "      <th></th>\n",
       "      <th></th>\n",
       "      <th></th>\n",
       "      <th></th>\n",
       "      <th></th>\n",
       "      <th></th>\n",
       "      <th></th>\n",
       "      <th></th>\n",
       "      <th></th>\n",
       "      <th></th>\n",
       "      <th></th>\n",
       "      <th></th>\n",
       "      <th></th>\n",
       "      <th></th>\n",
       "      <th></th>\n",
       "      <th></th>\n",
       "      <th></th>\n",
       "      <th></th>\n",
       "    </tr>\n",
       "  </thead>\n",
       "  <tbody>\n",
       "    <tr>\n",
       "      <th>201901</th>\n",
       "      <td>18</td>\n",
       "      <td>13</td>\n",
       "      <td>19</td>\n",
       "      <td>17</td>\n",
       "      <td>18</td>\n",
       "      <td>15</td>\n",
       "      <td>11</td>\n",
       "      <td>16</td>\n",
       "      <td>18</td>\n",
       "      <td>17</td>\n",
       "      <td>...</td>\n",
       "      <td>17</td>\n",
       "      <td>21</td>\n",
       "      <td>20</td>\n",
       "      <td>17</td>\n",
       "      <td>7</td>\n",
       "      <td>22</td>\n",
       "      <td>13</td>\n",
       "      <td>14</td>\n",
       "      <td>10</td>\n",
       "      <td>0</td>\n",
       "    </tr>\n",
       "    <tr>\n",
       "      <th>201902</th>\n",
       "      <td>19</td>\n",
       "      <td>14</td>\n",
       "      <td>26</td>\n",
       "      <td>21</td>\n",
       "      <td>16</td>\n",
       "      <td>14</td>\n",
       "      <td>14</td>\n",
       "      <td>17</td>\n",
       "      <td>12</td>\n",
       "      <td>14</td>\n",
       "      <td>...</td>\n",
       "      <td>22</td>\n",
       "      <td>22</td>\n",
       "      <td>22</td>\n",
       "      <td>23</td>\n",
       "      <td>19</td>\n",
       "      <td>22</td>\n",
       "      <td>24</td>\n",
       "      <td>16</td>\n",
       "      <td>11</td>\n",
       "      <td>1</td>\n",
       "    </tr>\n",
       "    <tr>\n",
       "      <th>201903</th>\n",
       "      <td>17</td>\n",
       "      <td>21</td>\n",
       "      <td>20</td>\n",
       "      <td>17</td>\n",
       "      <td>9</td>\n",
       "      <td>27</td>\n",
       "      <td>14</td>\n",
       "      <td>18</td>\n",
       "      <td>12</td>\n",
       "      <td>16</td>\n",
       "      <td>...</td>\n",
       "      <td>23</td>\n",
       "      <td>16</td>\n",
       "      <td>20</td>\n",
       "      <td>12</td>\n",
       "      <td>23</td>\n",
       "      <td>18</td>\n",
       "      <td>16</td>\n",
       "      <td>21</td>\n",
       "      <td>16</td>\n",
       "      <td>0</td>\n",
       "    </tr>\n",
       "    <tr>\n",
       "      <th>201904</th>\n",
       "      <td>17</td>\n",
       "      <td>19</td>\n",
       "      <td>24</td>\n",
       "      <td>20</td>\n",
       "      <td>18</td>\n",
       "      <td>17</td>\n",
       "      <td>14</td>\n",
       "      <td>11</td>\n",
       "      <td>18</td>\n",
       "      <td>13</td>\n",
       "      <td>...</td>\n",
       "      <td>20</td>\n",
       "      <td>20</td>\n",
       "      <td>16</td>\n",
       "      <td>16</td>\n",
       "      <td>11</td>\n",
       "      <td>15</td>\n",
       "      <td>14</td>\n",
       "      <td>16</td>\n",
       "      <td>20</td>\n",
       "      <td>0</td>\n",
       "    </tr>\n",
       "    <tr>\n",
       "      <th>201905</th>\n",
       "      <td>24</td>\n",
       "      <td>14</td>\n",
       "      <td>16</td>\n",
       "      <td>14</td>\n",
       "      <td>19</td>\n",
       "      <td>18</td>\n",
       "      <td>23</td>\n",
       "      <td>15</td>\n",
       "      <td>16</td>\n",
       "      <td>11</td>\n",
       "      <td>...</td>\n",
       "      <td>13</td>\n",
       "      <td>22</td>\n",
       "      <td>18</td>\n",
       "      <td>16</td>\n",
       "      <td>16</td>\n",
       "      <td>9</td>\n",
       "      <td>21</td>\n",
       "      <td>16</td>\n",
       "      <td>20</td>\n",
       "      <td>0</td>\n",
       "    </tr>\n",
       "    <tr>\n",
       "      <th>201906</th>\n",
       "      <td>24</td>\n",
       "      <td>12</td>\n",
       "      <td>11</td>\n",
       "      <td>19</td>\n",
       "      <td>13</td>\n",
       "      <td>18</td>\n",
       "      <td>15</td>\n",
       "      <td>13</td>\n",
       "      <td>19</td>\n",
       "      <td>22</td>\n",
       "      <td>...</td>\n",
       "      <td>15</td>\n",
       "      <td>16</td>\n",
       "      <td>21</td>\n",
       "      <td>12</td>\n",
       "      <td>18</td>\n",
       "      <td>20</td>\n",
       "      <td>17</td>\n",
       "      <td>15</td>\n",
       "      <td>13</td>\n",
       "      <td>0</td>\n",
       "    </tr>\n",
       "    <tr>\n",
       "      <th>201907</th>\n",
       "      <td>20</td>\n",
       "      <td>20</td>\n",
       "      <td>17</td>\n",
       "      <td>17</td>\n",
       "      <td>12</td>\n",
       "      <td>17</td>\n",
       "      <td>19</td>\n",
       "      <td>19</td>\n",
       "      <td>19</td>\n",
       "      <td>23</td>\n",
       "      <td>...</td>\n",
       "      <td>15</td>\n",
       "      <td>19</td>\n",
       "      <td>23</td>\n",
       "      <td>21</td>\n",
       "      <td>13</td>\n",
       "      <td>28</td>\n",
       "      <td>16</td>\n",
       "      <td>18</td>\n",
       "      <td>12</td>\n",
       "      <td>0</td>\n",
       "    </tr>\n",
       "  </tbody>\n",
       "</table>\n",
       "<p>7 rows × 26 columns</p>\n",
       "</div>"
      ],
      "text/plain": [
       "item_name       商品A  商品B  商品C  商品D  商品E  商品F  商品G  商品H  商品I  商品J  ...  商品Q  \\\n",
       "purchase_month                                                    ...        \n",
       "201901           18   13   19   17   18   15   11   16   18   17  ...   17   \n",
       "201902           19   14   26   21   16   14   14   17   12   14  ...   22   \n",
       "201903           17   21   20   17    9   27   14   18   12   16  ...   23   \n",
       "201904           17   19   24   20   18   17   14   11   18   13  ...   20   \n",
       "201905           24   14   16   14   19   18   23   15   16   11  ...   13   \n",
       "201906           24   12   11   19   13   18   15   13   19   22  ...   15   \n",
       "201907           20   20   17   17   12   17   19   19   19   23  ...   15   \n",
       "\n",
       "item_name       商品R  商品S  商品T  商品U  商品V  商品W  商品X  商品Y  商品Z  \n",
       "purchase_month                                               \n",
       "201901           21   20   17    7   22   13   14   10    0  \n",
       "201902           22   22   23   19   22   24   16   11    1  \n",
       "201903           16   20   12   23   18   16   21   16    0  \n",
       "201904           20   16   16   11   15   14   16   20    0  \n",
       "201905           22   18   16   16    9   21   16   20    0  \n",
       "201906           16   21   12   18   20   17   15   13    0  \n",
       "201907           19   23   21   13   28   16   18   12    0  \n",
       "\n",
       "[7 rows x 26 columns]"
      ]
     },
     "execution_count": 33,
     "metadata": {},
     "output_type": "execute_result"
    }
   ],
   "source": [
    "byitem =import_data.pivot_table(index=\"purchase_month\", columns=\"item_name\", aggfunc=\"size\", fill_value=0)\n",
    "byitem"
   ]
  },
  {
   "cell_type": "code",
   "execution_count": 34,
   "id": "5744ce67",
   "metadata": {},
   "outputs": [
    {
     "data": {
      "application/vnd.microsoft.datawrangler.viewer.v0+json": {
       "columns": [
        {
         "name": "purchase_month",
         "rawType": "int64",
         "type": "integer"
        },
        {
         "name": "商品A",
         "rawType": "float64",
         "type": "float"
        },
        {
         "name": "商品B",
         "rawType": "float64",
         "type": "float"
        },
        {
         "name": "商品C",
         "rawType": "float64",
         "type": "float"
        },
        {
         "name": "商品D",
         "rawType": "float64",
         "type": "float"
        },
        {
         "name": "商品E",
         "rawType": "float64",
         "type": "float"
        },
        {
         "name": "商品F",
         "rawType": "float64",
         "type": "float"
        },
        {
         "name": "商品G",
         "rawType": "float64",
         "type": "float"
        },
        {
         "name": "商品H",
         "rawType": "float64",
         "type": "float"
        },
        {
         "name": "商品I",
         "rawType": "float64",
         "type": "float"
        },
        {
         "name": "商品J",
         "rawType": "float64",
         "type": "float"
        },
        {
         "name": "商品K",
         "rawType": "float64",
         "type": "float"
        },
        {
         "name": "商品L",
         "rawType": "float64",
         "type": "float"
        },
        {
         "name": "商品M",
         "rawType": "float64",
         "type": "float"
        },
        {
         "name": "商品N",
         "rawType": "float64",
         "type": "float"
        },
        {
         "name": "商品O",
         "rawType": "float64",
         "type": "float"
        },
        {
         "name": "商品P",
         "rawType": "float64",
         "type": "float"
        },
        {
         "name": "商品Q",
         "rawType": "float64",
         "type": "float"
        },
        {
         "name": "商品R",
         "rawType": "float64",
         "type": "float"
        },
        {
         "name": "商品S",
         "rawType": "float64",
         "type": "float"
        },
        {
         "name": "商品T",
         "rawType": "float64",
         "type": "float"
        },
        {
         "name": "商品U",
         "rawType": "float64",
         "type": "float"
        },
        {
         "name": "商品V",
         "rawType": "float64",
         "type": "float"
        },
        {
         "name": "商品W",
         "rawType": "float64",
         "type": "float"
        },
        {
         "name": "商品X",
         "rawType": "float64",
         "type": "float"
        },
        {
         "name": "商品Y",
         "rawType": "float64",
         "type": "float"
        },
        {
         "name": "商品Z",
         "rawType": "float64",
         "type": "float"
        }
       ],
       "ref": "62ca168a-025d-4a03-ab67-6b7f54a1ffac",
       "rows": [
        [
         "201901",
         "1800.0",
         "2600.0",
         "5700.0",
         "6800.0",
         "9000.0",
         "9000.0",
         "7700.0",
         "12800.0",
         "16200.0",
         "17000.0",
         "22000.0",
         "22800.0",
         "24700.0",
         "22400.0",
         "36000.0",
         "25600.0",
         "28900.0",
         "37800.0",
         "38000.0",
         "34000.0",
         "14700.0",
         "48400.0",
         "29900.0",
         "33600.0",
         "25000.0",
         "0.0"
        ],
        [
         "201902",
         "1900.0",
         "2800.0",
         "7800.0",
         "8400.0",
         "8000.0",
         "8400.0",
         "9800.0",
         "13600.0",
         "10800.0",
         "14000.0",
         "17600.0",
         "13200.0",
         "19500.0",
         "28000.0",
         "28500.0",
         "30400.0",
         "37400.0",
         "39600.0",
         "41800.0",
         "46000.0",
         "39900.0",
         "48400.0",
         "55200.0",
         "38400.0",
         "27500.0",
         "2600.0"
        ],
        [
         "201903",
         "1700.0",
         "4200.0",
         "6000.0",
         "6800.0",
         "4500.0",
         "16200.0",
         "9800.0",
         "14400.0",
         "10800.0",
         "16000.0",
         "15400.0",
         "24000.0",
         "28600.0",
         "18200.0",
         "16500.0",
         "33600.0",
         "39100.0",
         "28800.0",
         "38000.0",
         "24000.0",
         "48300.0",
         "39600.0",
         "36800.0",
         "50400.0",
         "40000.0",
         "0.0"
        ],
        [
         "201904",
         "1700.0",
         "3800.0",
         "7200.0",
         "8000.0",
         "9000.0",
         "10200.0",
         "9800.0",
         "8800.0",
         "16200.0",
         "13000.0",
         "15400.0",
         "18000.0",
         "14300.0",
         "28000.0",
         "22500.0",
         "24000.0",
         "34000.0",
         "36000.0",
         "30400.0",
         "32000.0",
         "23100.0",
         "33000.0",
         "32200.0",
         "38400.0",
         "50000.0",
         "0.0"
        ],
        [
         "201905",
         "2400.0",
         "2800.0",
         "4800.0",
         "5600.0",
         "9500.0",
         "10800.0",
         "16100.0",
         "12000.0",
         "14400.0",
         "11000.0",
         "19800.0",
         "15600.0",
         "23400.0",
         "26600.0",
         "27000.0",
         "32000.0",
         "22100.0",
         "39600.0",
         "34200.0",
         "32000.0",
         "33600.0",
         "19800.0",
         "48300.0",
         "38400.0",
         "50000.0",
         "0.0"
        ],
        [
         "201906",
         "2400.0",
         "2400.0",
         "3300.0",
         "7600.0",
         "6500.0",
         "10800.0",
         "10500.0",
         "10400.0",
         "17100.0",
         "22000.0",
         "16500.0",
         "18000.0",
         "22100.0",
         "22400.0",
         "22500.0",
         "28800.0",
         "25500.0",
         "28800.0",
         "39900.0",
         "24000.0",
         "37800.0",
         "44000.0",
         "39100.0",
         "36000.0",
         "32500.0",
         "0.0"
        ],
        [
         "201907",
         "2000.0",
         "4000.0",
         "5100.0",
         "6800.0",
         "6000.0",
         "10200.0",
         "13300.0",
         "15200.0",
         "17100.0",
         "23000.0",
         "13200.0",
         "20400.0",
         "14300.0",
         "21000.0",
         "33000.0",
         "41600.0",
         "25500.0",
         "34200.0",
         "43700.0",
         "42000.0",
         "27300.0",
         "61600.0",
         "36800.0",
         "43200.0",
         "30000.0",
         "0.0"
        ]
       ],
       "shape": {
        "columns": 26,
        "rows": 7
       }
      },
      "text/html": [
       "<div>\n",
       "<style scoped>\n",
       "    .dataframe tbody tr th:only-of-type {\n",
       "        vertical-align: middle;\n",
       "    }\n",
       "\n",
       "    .dataframe tbody tr th {\n",
       "        vertical-align: top;\n",
       "    }\n",
       "\n",
       "    .dataframe thead th {\n",
       "        text-align: right;\n",
       "    }\n",
       "</style>\n",
       "<table border=\"1\" class=\"dataframe\">\n",
       "  <thead>\n",
       "    <tr style=\"text-align: right;\">\n",
       "      <th>item_name</th>\n",
       "      <th>商品A</th>\n",
       "      <th>商品B</th>\n",
       "      <th>商品C</th>\n",
       "      <th>商品D</th>\n",
       "      <th>商品E</th>\n",
       "      <th>商品F</th>\n",
       "      <th>商品G</th>\n",
       "      <th>商品H</th>\n",
       "      <th>商品I</th>\n",
       "      <th>商品J</th>\n",
       "      <th>...</th>\n",
       "      <th>商品Q</th>\n",
       "      <th>商品R</th>\n",
       "      <th>商品S</th>\n",
       "      <th>商品T</th>\n",
       "      <th>商品U</th>\n",
       "      <th>商品V</th>\n",
       "      <th>商品W</th>\n",
       "      <th>商品X</th>\n",
       "      <th>商品Y</th>\n",
       "      <th>商品Z</th>\n",
       "    </tr>\n",
       "    <tr>\n",
       "      <th>purchase_month</th>\n",
       "      <th></th>\n",
       "      <th></th>\n",
       "      <th></th>\n",
       "      <th></th>\n",
       "      <th></th>\n",
       "      <th></th>\n",
       "      <th></th>\n",
       "      <th></th>\n",
       "      <th></th>\n",
       "      <th></th>\n",
       "      <th></th>\n",
       "      <th></th>\n",
       "      <th></th>\n",
       "      <th></th>\n",
       "      <th></th>\n",
       "      <th></th>\n",
       "      <th></th>\n",
       "      <th></th>\n",
       "      <th></th>\n",
       "      <th></th>\n",
       "      <th></th>\n",
       "    </tr>\n",
       "  </thead>\n",
       "  <tbody>\n",
       "    <tr>\n",
       "      <th>201901</th>\n",
       "      <td>1800.0</td>\n",
       "      <td>2600.0</td>\n",
       "      <td>5700.0</td>\n",
       "      <td>6800.0</td>\n",
       "      <td>9000.0</td>\n",
       "      <td>9000.0</td>\n",
       "      <td>7700.0</td>\n",
       "      <td>12800.0</td>\n",
       "      <td>16200.0</td>\n",
       "      <td>17000.0</td>\n",
       "      <td>...</td>\n",
       "      <td>28900.0</td>\n",
       "      <td>37800.0</td>\n",
       "      <td>38000.0</td>\n",
       "      <td>34000.0</td>\n",
       "      <td>14700.0</td>\n",
       "      <td>48400.0</td>\n",
       "      <td>29900.0</td>\n",
       "      <td>33600.0</td>\n",
       "      <td>25000.0</td>\n",
       "      <td>0.0</td>\n",
       "    </tr>\n",
       "    <tr>\n",
       "      <th>201902</th>\n",
       "      <td>1900.0</td>\n",
       "      <td>2800.0</td>\n",
       "      <td>7800.0</td>\n",
       "      <td>8400.0</td>\n",
       "      <td>8000.0</td>\n",
       "      <td>8400.0</td>\n",
       "      <td>9800.0</td>\n",
       "      <td>13600.0</td>\n",
       "      <td>10800.0</td>\n",
       "      <td>14000.0</td>\n",
       "      <td>...</td>\n",
       "      <td>37400.0</td>\n",
       "      <td>39600.0</td>\n",
       "      <td>41800.0</td>\n",
       "      <td>46000.0</td>\n",
       "      <td>39900.0</td>\n",
       "      <td>48400.0</td>\n",
       "      <td>55200.0</td>\n",
       "      <td>38400.0</td>\n",
       "      <td>27500.0</td>\n",
       "      <td>2600.0</td>\n",
       "    </tr>\n",
       "    <tr>\n",
       "      <th>201903</th>\n",
       "      <td>1700.0</td>\n",
       "      <td>4200.0</td>\n",
       "      <td>6000.0</td>\n",
       "      <td>6800.0</td>\n",
       "      <td>4500.0</td>\n",
       "      <td>16200.0</td>\n",
       "      <td>9800.0</td>\n",
       "      <td>14400.0</td>\n",
       "      <td>10800.0</td>\n",
       "      <td>16000.0</td>\n",
       "      <td>...</td>\n",
       "      <td>39100.0</td>\n",
       "      <td>28800.0</td>\n",
       "      <td>38000.0</td>\n",
       "      <td>24000.0</td>\n",
       "      <td>48300.0</td>\n",
       "      <td>39600.0</td>\n",
       "      <td>36800.0</td>\n",
       "      <td>50400.0</td>\n",
       "      <td>40000.0</td>\n",
       "      <td>0.0</td>\n",
       "    </tr>\n",
       "    <tr>\n",
       "      <th>201904</th>\n",
       "      <td>1700.0</td>\n",
       "      <td>3800.0</td>\n",
       "      <td>7200.0</td>\n",
       "      <td>8000.0</td>\n",
       "      <td>9000.0</td>\n",
       "      <td>10200.0</td>\n",
       "      <td>9800.0</td>\n",
       "      <td>8800.0</td>\n",
       "      <td>16200.0</td>\n",
       "      <td>13000.0</td>\n",
       "      <td>...</td>\n",
       "      <td>34000.0</td>\n",
       "      <td>36000.0</td>\n",
       "      <td>30400.0</td>\n",
       "      <td>32000.0</td>\n",
       "      <td>23100.0</td>\n",
       "      <td>33000.0</td>\n",
       "      <td>32200.0</td>\n",
       "      <td>38400.0</td>\n",
       "      <td>50000.0</td>\n",
       "      <td>0.0</td>\n",
       "    </tr>\n",
       "    <tr>\n",
       "      <th>201905</th>\n",
       "      <td>2400.0</td>\n",
       "      <td>2800.0</td>\n",
       "      <td>4800.0</td>\n",
       "      <td>5600.0</td>\n",
       "      <td>9500.0</td>\n",
       "      <td>10800.0</td>\n",
       "      <td>16100.0</td>\n",
       "      <td>12000.0</td>\n",
       "      <td>14400.0</td>\n",
       "      <td>11000.0</td>\n",
       "      <td>...</td>\n",
       "      <td>22100.0</td>\n",
       "      <td>39600.0</td>\n",
       "      <td>34200.0</td>\n",
       "      <td>32000.0</td>\n",
       "      <td>33600.0</td>\n",
       "      <td>19800.0</td>\n",
       "      <td>48300.0</td>\n",
       "      <td>38400.0</td>\n",
       "      <td>50000.0</td>\n",
       "      <td>0.0</td>\n",
       "    </tr>\n",
       "    <tr>\n",
       "      <th>201906</th>\n",
       "      <td>2400.0</td>\n",
       "      <td>2400.0</td>\n",
       "      <td>3300.0</td>\n",
       "      <td>7600.0</td>\n",
       "      <td>6500.0</td>\n",
       "      <td>10800.0</td>\n",
       "      <td>10500.0</td>\n",
       "      <td>10400.0</td>\n",
       "      <td>17100.0</td>\n",
       "      <td>22000.0</td>\n",
       "      <td>...</td>\n",
       "      <td>25500.0</td>\n",
       "      <td>28800.0</td>\n",
       "      <td>39900.0</td>\n",
       "      <td>24000.0</td>\n",
       "      <td>37800.0</td>\n",
       "      <td>44000.0</td>\n",
       "      <td>39100.0</td>\n",
       "      <td>36000.0</td>\n",
       "      <td>32500.0</td>\n",
       "      <td>0.0</td>\n",
       "    </tr>\n",
       "    <tr>\n",
       "      <th>201907</th>\n",
       "      <td>2000.0</td>\n",
       "      <td>4000.0</td>\n",
       "      <td>5100.0</td>\n",
       "      <td>6800.0</td>\n",
       "      <td>6000.0</td>\n",
       "      <td>10200.0</td>\n",
       "      <td>13300.0</td>\n",
       "      <td>15200.0</td>\n",
       "      <td>17100.0</td>\n",
       "      <td>23000.0</td>\n",
       "      <td>...</td>\n",
       "      <td>25500.0</td>\n",
       "      <td>34200.0</td>\n",
       "      <td>43700.0</td>\n",
       "      <td>42000.0</td>\n",
       "      <td>27300.0</td>\n",
       "      <td>61600.0</td>\n",
       "      <td>36800.0</td>\n",
       "      <td>43200.0</td>\n",
       "      <td>30000.0</td>\n",
       "      <td>0.0</td>\n",
       "    </tr>\n",
       "  </tbody>\n",
       "</table>\n",
       "<p>7 rows × 26 columns</p>\n",
       "</div>"
      ],
      "text/plain": [
       "item_name          商品A     商品B     商品C     商品D     商品E      商品F      商品G  \\\n",
       "purchase_month                                                             \n",
       "201901          1800.0  2600.0  5700.0  6800.0  9000.0   9000.0   7700.0   \n",
       "201902          1900.0  2800.0  7800.0  8400.0  8000.0   8400.0   9800.0   \n",
       "201903          1700.0  4200.0  6000.0  6800.0  4500.0  16200.0   9800.0   \n",
       "201904          1700.0  3800.0  7200.0  8000.0  9000.0  10200.0   9800.0   \n",
       "201905          2400.0  2800.0  4800.0  5600.0  9500.0  10800.0  16100.0   \n",
       "201906          2400.0  2400.0  3300.0  7600.0  6500.0  10800.0  10500.0   \n",
       "201907          2000.0  4000.0  5100.0  6800.0  6000.0  10200.0  13300.0   \n",
       "\n",
       "item_name           商品H      商品I      商品J  ...      商品Q      商品R      商品S  \\\n",
       "purchase_month                             ...                              \n",
       "201901          12800.0  16200.0  17000.0  ...  28900.0  37800.0  38000.0   \n",
       "201902          13600.0  10800.0  14000.0  ...  37400.0  39600.0  41800.0   \n",
       "201903          14400.0  10800.0  16000.0  ...  39100.0  28800.0  38000.0   \n",
       "201904           8800.0  16200.0  13000.0  ...  34000.0  36000.0  30400.0   \n",
       "201905          12000.0  14400.0  11000.0  ...  22100.0  39600.0  34200.0   \n",
       "201906          10400.0  17100.0  22000.0  ...  25500.0  28800.0  39900.0   \n",
       "201907          15200.0  17100.0  23000.0  ...  25500.0  34200.0  43700.0   \n",
       "\n",
       "item_name           商品T      商品U      商品V      商品W      商品X      商品Y     商品Z  \n",
       "purchase_month                                                                \n",
       "201901          34000.0  14700.0  48400.0  29900.0  33600.0  25000.0     0.0  \n",
       "201902          46000.0  39900.0  48400.0  55200.0  38400.0  27500.0  2600.0  \n",
       "201903          24000.0  48300.0  39600.0  36800.0  50400.0  40000.0     0.0  \n",
       "201904          32000.0  23100.0  33000.0  32200.0  38400.0  50000.0     0.0  \n",
       "201905          32000.0  33600.0  19800.0  48300.0  38400.0  50000.0     0.0  \n",
       "201906          24000.0  37800.0  44000.0  39100.0  36000.0  32500.0     0.0  \n",
       "201907          42000.0  27300.0  61600.0  36800.0  43200.0  30000.0     0.0  \n",
       "\n",
       "[7 rows x 26 columns]"
      ]
     },
     "execution_count": 34,
     "metadata": {},
     "output_type": "execute_result"
    }
   ],
   "source": [
    "byPrice =import_data.pivot_table(index=\"purchase_month\", columns=\"item_name\", values=\"item_price\", aggfunc=\"sum\", fill_value=0)\n",
    "byPrice"
   ]
  },
  {
   "cell_type": "code",
   "execution_count": 36,
   "id": "26da1a6c",
   "metadata": {},
   "outputs": [
    {
     "data": {
      "application/vnd.microsoft.datawrangler.viewer.v0+json": {
       "columns": [
        {
         "name": "purchase_month",
         "rawType": "int64",
         "type": "integer"
        },
        {
         "name": "さだ千佳子",
         "rawType": "int64",
         "type": "integer"
        },
        {
         "name": "中仁晶",
         "rawType": "int64",
         "type": "integer"
        },
        {
         "name": "中田美智子",
         "rawType": "int64",
         "type": "integer"
        },
        {
         "name": "丸山光臣",
         "rawType": "int64",
         "type": "integer"
        },
        {
         "name": "久保田倫子",
         "rawType": "int64",
         "type": "integer"
        },
        {
         "name": "亀井一徳",
         "rawType": "int64",
         "type": "integer"
        },
        {
         "name": "五十嵐春樹",
         "rawType": "int64",
         "type": "integer"
        },
        {
         "name": "井上桃子",
         "rawType": "int64",
         "type": "integer"
        },
        {
         "name": "井口寛治",
         "rawType": "int64",
         "type": "integer"
        },
        {
         "name": "井川真悠子",
         "rawType": "int64",
         "type": "integer"
        },
        {
         "name": "井川里穂",
         "rawType": "int64",
         "type": "integer"
        },
        {
         "name": "井本マサカズ",
         "rawType": "int64",
         "type": "integer"
        },
        {
         "name": "井村俊二",
         "rawType": "int64",
         "type": "integer"
        },
        {
         "name": "今茜",
         "rawType": "int64",
         "type": "integer"
        },
        {
         "name": "佐藤慶二",
         "rawType": "int64",
         "type": "integer"
        },
        {
         "name": "八木雅彦",
         "rawType": "int64",
         "type": "integer"
        },
        {
         "name": "内村まさみ",
         "rawType": "int64",
         "type": "integer"
        },
        {
         "name": "内田聡",
         "rawType": "int64",
         "type": "integer"
        },
        {
         "name": "南部慶二",
         "rawType": "int64",
         "type": "integer"
        },
        {
         "name": "原口俊二",
         "rawType": "int64",
         "type": "integer"
        },
        {
         "name": "古川信吾",
         "rawType": "int64",
         "type": "integer"
        },
        {
         "name": "合田光",
         "rawType": "int64",
         "type": "integer"
        },
        {
         "name": "吉岡サダヲ",
         "rawType": "int64",
         "type": "integer"
        },
        {
         "name": "吉村愛梨",
         "rawType": "int64",
         "type": "integer"
        },
        {
         "name": "和泉直人",
         "rawType": "int64",
         "type": "integer"
        },
        {
         "name": "唐沢景子",
         "rawType": "int64",
         "type": "integer"
        },
        {
         "name": "唐沢涼",
         "rawType": "int64",
         "type": "integer"
        },
        {
         "name": "土屋朝陽",
         "rawType": "int64",
         "type": "integer"
        },
        {
         "name": "城戸芳正",
         "rawType": "int64",
         "type": "integer"
        },
        {
         "name": "堀サンタマリア",
         "rawType": "int64",
         "type": "integer"
        },
        {
         "name": "堀内聡",
         "rawType": "int64",
         "type": "integer"
        },
        {
         "name": "堀北雅彦",
         "rawType": "int64",
         "type": "integer"
        },
        {
         "name": "堀江佑",
         "rawType": "int64",
         "type": "integer"
        },
        {
         "name": "外山広司",
         "rawType": "int64",
         "type": "integer"
        },
        {
         "name": "大倉晃司",
         "rawType": "int64",
         "type": "integer"
        },
        {
         "name": "大地礼子",
         "rawType": "int64",
         "type": "integer"
        },
        {
         "name": "大城ケンイチ",
         "rawType": "int64",
         "type": "integer"
        },
        {
         "name": "大山咲",
         "rawType": "int64",
         "type": "integer"
        },
        {
         "name": "大崎ヒカル",
         "rawType": "int64",
         "type": "integer"
        },
        {
         "name": "大滝麗奈",
         "rawType": "int64",
         "type": "integer"
        },
        {
         "name": "大西隆之介",
         "rawType": "int64",
         "type": "integer"
        },
        {
         "name": "奥光洋",
         "rawType": "int64",
         "type": "integer"
        },
        {
         "name": "宇野秀樹",
         "rawType": "int64",
         "type": "integer"
        },
        {
         "name": "小口豊",
         "rawType": "int64",
         "type": "integer"
        },
        {
         "name": "小川美菜",
         "rawType": "int64",
         "type": "integer"
        },
        {
         "name": "小平陽子",
         "rawType": "int64",
         "type": "integer"
        },
        {
         "name": "小松季衣",
         "rawType": "int64",
         "type": "integer"
        },
        {
         "name": "小松隼士",
         "rawType": "int64",
         "type": "integer"
        },
        {
         "name": "小栗正義",
         "rawType": "int64",
         "type": "integer"
        },
        {
         "name": "小町瞬",
         "rawType": "int64",
         "type": "integer"
        },
        {
         "name": "尾上勝久",
         "rawType": "int64",
         "type": "integer"
        },
        {
         "name": "尾形小雁",
         "rawType": "int64",
         "type": "integer"
        },
        {
         "name": "山口法子",
         "rawType": "int64",
         "type": "integer"
        },
        {
         "name": "山西花",
         "rawType": "int64",
         "type": "integer"
        },
        {
         "name": "岡慶太",
         "rawType": "int64",
         "type": "integer"
        },
        {
         "name": "岡村希",
         "rawType": "int64",
         "type": "integer"
        },
        {
         "name": "岡田敏也",
         "rawType": "int64",
         "type": "integer"
        },
        {
         "name": "岩井莉緒",
         "rawType": "int64",
         "type": "integer"
        },
        {
         "name": "岩佐孝太郎",
         "rawType": "int64",
         "type": "integer"
        },
        {
         "name": "岩城徹平",
         "rawType": "int64",
         "type": "integer"
        },
        {
         "name": "岩沢那奈",
         "rawType": "int64",
         "type": "integer"
        },
        {
         "name": "島孝太郎",
         "rawType": "int64",
         "type": "integer"
        },
        {
         "name": "島崎礼子",
         "rawType": "int64",
         "type": "integer"
        },
        {
         "name": "島本研二",
         "rawType": "int64",
         "type": "integer"
        },
        {
         "name": "島英嗣",
         "rawType": "int64",
         "type": "integer"
        },
        {
         "name": "島袋友以乃",
         "rawType": "int64",
         "type": "integer"
        },
        {
         "name": "川上りえ",
         "rawType": "int64",
         "type": "integer"
        },
        {
         "name": "川島友以乃",
         "rawType": "int64",
         "type": "integer"
        },
        {
         "name": "市田寿明",
         "rawType": "int64",
         "type": "integer"
        },
        {
         "name": "平田鉄二",
         "rawType": "int64",
         "type": "integer"
        },
        {
         "name": "平賀一哉",
         "rawType": "int64",
         "type": "integer"
        },
        {
         "name": "影山輝信",
         "rawType": "int64",
         "type": "integer"
        },
        {
         "name": "徳重優",
         "rawType": "int64",
         "type": "integer"
        },
        {
         "name": "志村サダヲ",
         "rawType": "int64",
         "type": "integer"
        },
        {
         "name": "戸塚美幸",
         "rawType": "int64",
         "type": "integer"
        },
        {
         "name": "手塚進",
         "rawType": "int64",
         "type": "integer"
        },
        {
         "name": "手塚雅之",
         "rawType": "int64",
         "type": "integer"
        },
        {
         "name": "新村丈史",
         "rawType": "int64",
         "type": "integer"
        },
        {
         "name": "新村美月",
         "rawType": "int64",
         "type": "integer"
        },
        {
         "name": "新谷智花",
         "rawType": "int64",
         "type": "integer"
        },
        {
         "name": "日比野徹",
         "rawType": "int64",
         "type": "integer"
        },
        {
         "name": "日野夏希",
         "rawType": "int64",
         "type": "integer"
        },
        {
         "name": "明石家明",
         "rawType": "int64",
         "type": "integer"
        },
        {
         "name": "星野美嘉",
         "rawType": "int64",
         "type": "integer"
        },
        {
         "name": "有馬徹平",
         "rawType": "int64",
         "type": "integer"
        },
        {
         "name": "望月真悠子",
         "rawType": "int64",
         "type": "integer"
        },
        {
         "name": "本多フミヤ",
         "rawType": "int64",
         "type": "integer"
        },
        {
         "name": "本橋直人",
         "rawType": "int64",
         "type": "integer"
        },
        {
         "name": "杉下悟志",
         "rawType": "int64",
         "type": "integer"
        },
        {
         "name": "杉田将也",
         "rawType": "int64",
         "type": "integer"
        },
        {
         "name": "村山知世",
         "rawType": "int64",
         "type": "integer"
        },
        {
         "name": "東光博",
         "rawType": "int64",
         "type": "integer"
        },
        {
         "name": "松元翔太",
         "rawType": "int64",
         "type": "integer"
        },
        {
         "name": "松居満",
         "rawType": "int64",
         "type": "integer"
        },
        {
         "name": "松岡ノブヒコ",
         "rawType": "int64",
         "type": "integer"
        },
        {
         "name": "松川綾女",
         "rawType": "int64",
         "type": "integer"
        },
        {
         "name": "松村聡",
         "rawType": "int64",
         "type": "integer"
        },
        {
         "name": "松沢育二",
         "rawType": "int64",
         "type": "integer"
        },
        {
         "name": "松田浩正",
         "rawType": "int64",
         "type": "integer"
        },
        {
         "name": "松谷愛子",
         "rawType": "int64",
         "type": "integer"
        },
        {
         "name": "板橋隆",
         "rawType": "int64",
         "type": "integer"
        },
        {
         "name": "林勇",
         "rawType": "int64",
         "type": "integer"
        },
        {
         "name": "栗田憲一",
         "rawType": "int64",
         "type": "integer"
        },
        {
         "name": "根岸仁晶",
         "rawType": "int64",
         "type": "integer"
        },
        {
         "name": "根岸莉央",
         "rawType": "int64",
         "type": "integer"
        },
        {
         "name": "根本博明",
         "rawType": "int64",
         "type": "integer"
        },
        {
         "name": "桑原桃子",
         "rawType": "int64",
         "type": "integer"
        },
        {
         "name": "梅村秀樹",
         "rawType": "int64",
         "type": "integer"
        },
        {
         "name": "梅沢麻緒",
         "rawType": "int64",
         "type": "integer"
        },
        {
         "name": "梅津淳子",
         "rawType": "int64",
         "type": "integer"
        },
        {
         "name": "森岡季衣",
         "rawType": "int64",
         "type": "integer"
        },
        {
         "name": "植木沙知絵",
         "rawType": "int64",
         "type": "integer"
        },
        {
         "name": "植村遥",
         "rawType": "int64",
         "type": "integer"
        },
        {
         "name": "楠哲平",
         "rawType": "int64",
         "type": "integer"
        },
        {
         "name": "楠高史",
         "rawType": "int64",
         "type": "integer"
        },
        {
         "name": "榊原しぼり",
         "rawType": "int64",
         "type": "integer"
        },
        {
         "name": "榎本薫",
         "rawType": "int64",
         "type": "integer"
        },
        {
         "name": "横田遥",
         "rawType": "int64",
         "type": "integer"
        },
        {
         "name": "水野メイサ",
         "rawType": "int64",
         "type": "integer"
        },
        {
         "name": "沖遥",
         "rawType": "int64",
         "type": "integer"
        },
        {
         "name": "河内さとみ",
         "rawType": "int64",
         "type": "integer"
        },
        {
         "name": "河村由樹",
         "rawType": "int64",
         "type": "integer"
        },
        {
         "name": "浅田賢二",
         "rawType": "int64",
         "type": "integer"
        },
        {
         "name": "浅見広司",
         "rawType": "int64",
         "type": "integer"
        },
        {
         "name": "浜田未華子",
         "rawType": "int64",
         "type": "integer"
        },
        {
         "name": "深井照生",
         "rawType": "int64",
         "type": "integer"
        },
        {
         "name": "深井菜々美",
         "rawType": "int64",
         "type": "integer"
        },
        {
         "name": "深沢ひろ子",
         "rawType": "int64",
         "type": "integer"
        },
        {
         "name": "深田信輔",
         "rawType": "int64",
         "type": "integer"
        },
        {
         "name": "清水佑",
         "rawType": "int64",
         "type": "integer"
        },
        {
         "name": "清水裕次郎",
         "rawType": "int64",
         "type": "integer"
        },
        {
         "name": "熊井憲史",
         "rawType": "int64",
         "type": "integer"
        },
        {
         "name": "熊倉明日",
         "rawType": "int64",
         "type": "integer"
        },
        {
         "name": "熊倉綾",
         "rawType": "int64",
         "type": "integer"
        },
        {
         "name": "片瀬長利",
         "rawType": "int64",
         "type": "integer"
        },
        {
         "name": "牧田玲那",
         "rawType": "int64",
         "type": "integer"
        },
        {
         "name": "田上美佐子",
         "rawType": "int64",
         "type": "integer"
        },
        {
         "name": "田崎菜々美",
         "rawType": "int64",
         "type": "integer"
        },
        {
         "name": "田畑正敏",
         "rawType": "int64",
         "type": "integer"
        },
        {
         "name": "田辺きみまろ",
         "rawType": "int64",
         "type": "integer"
        },
        {
         "name": "田辺光洋",
         "rawType": "int64",
         "type": "integer"
        },
        {
         "name": "白井俊二",
         "rawType": "int64",
         "type": "integer"
        },
        {
         "name": "白鳥りえ",
         "rawType": "int64",
         "type": "integer"
        },
        {
         "name": "相原ひとり",
         "rawType": "int64",
         "type": "integer"
        },
        {
         "name": "相川良介",
         "rawType": "int64",
         "type": "integer"
        },
        {
         "name": "矢沢恵梨香",
         "rawType": "int64",
         "type": "integer"
        },
        {
         "name": "矢部夏空",
         "rawType": "int64",
         "type": "integer"
        },
        {
         "name": "矢部惇",
         "rawType": "int64",
         "type": "integer"
        },
        {
         "name": "矢部美幸",
         "rawType": "int64",
         "type": "integer"
        },
        {
         "name": "石崎幸子",
         "rawType": "int64",
         "type": "integer"
        },
        {
         "name": "石川まさみ",
         "rawType": "int64",
         "type": "integer"
        },
        {
         "name": "石渡小雁",
         "rawType": "int64",
         "type": "integer"
        },
        {
         "name": "石田佑",
         "rawType": "int64",
         "type": "integer"
        },
        {
         "name": "石田花",
         "rawType": "int64",
         "type": "integer"
        },
        {
         "name": "石田郁恵",
         "rawType": "int64",
         "type": "integer"
        },
        {
         "name": "石野仁",
         "rawType": "int64",
         "type": "integer"
        },
        {
         "name": "磯野希",
         "rawType": "int64",
         "type": "integer"
        },
        {
         "name": "神原美嘉",
         "rawType": "int64",
         "type": "integer"
        },
        {
         "name": "福島友也",
         "rawType": "int64",
         "type": "integer"
        },
        {
         "name": "福本美幸",
         "rawType": "int64",
         "type": "integer"
        },
        {
         "name": "秋葉あき",
         "rawType": "int64",
         "type": "integer"
        },
        {
         "name": "稲田将也",
         "rawType": "int64",
         "type": "integer"
        },
        {
         "name": "立石茜",
         "rawType": "int64",
         "type": "integer"
        },
        {
         "name": "笹原しぼり",
         "rawType": "int64",
         "type": "integer"
        },
        {
         "name": "笹川照生",
         "rawType": "int64",
         "type": "integer"
        },
        {
         "name": "篠山雅功",
         "rawType": "int64",
         "type": "integer"
        },
        {
         "name": "米沢仁晶",
         "rawType": "int64",
         "type": "integer"
        },
        {
         "name": "綾瀬俊介",
         "rawType": "int64",
         "type": "integer"
        },
        {
         "name": "芦田博之",
         "rawType": "int64",
         "type": "integer"
        },
        {
         "name": "芳賀希",
         "rawType": "int64",
         "type": "integer"
        },
        {
         "name": "若杉徹",
         "rawType": "int64",
         "type": "integer"
        },
        {
         "name": "荻野愛",
         "rawType": "int64",
         "type": "integer"
        },
        {
         "name": "荻野愛菜",
         "rawType": "int64",
         "type": "integer"
        },
        {
         "name": "菅原誠治",
         "rawType": "int64",
         "type": "integer"
        },
        {
         "name": "藤広之",
         "rawType": "int64",
         "type": "integer"
        },
        {
         "name": "藤木一恵",
         "rawType": "int64",
         "type": "integer"
        },
        {
         "name": "西原未華子",
         "rawType": "int64",
         "type": "integer"
        },
        {
         "name": "西島知世",
         "rawType": "int64",
         "type": "integer"
        },
        {
         "name": "西脇礼子",
         "rawType": "int64",
         "type": "integer"
        },
        {
         "name": "谷本愛梨",
         "rawType": "int64",
         "type": "integer"
        },
        {
         "name": "赤木だん吉",
         "rawType": "int64",
         "type": "integer"
        },
        {
         "name": "赤木愛梨",
         "rawType": "int64",
         "type": "integer"
        },
        {
         "name": "進藤瞬",
         "rawType": "int64",
         "type": "integer"
        },
        {
         "name": "那須蒼甫",
         "rawType": "int64",
         "type": "integer"
        },
        {
         "name": "野本仁晶",
         "rawType": "int64",
         "type": "integer"
        },
        {
         "name": "金森なつみ",
         "rawType": "int64",
         "type": "integer"
        },
        {
         "name": "鈴木一哉",
         "rawType": "int64",
         "type": "integer"
        },
        {
         "name": "青山鉄洋",
         "rawType": "int64",
         "type": "integer"
        },
        {
         "name": "須賀ひとみ",
         "rawType": "int64",
         "type": "integer"
        },
        {
         "name": "香椎優一",
         "rawType": "int64",
         "type": "integer"
        },
        {
         "name": "高原充則",
         "rawType": "int64",
         "type": "integer"
        },
        {
         "name": "高梨結衣",
         "rawType": "int64",
         "type": "integer"
        },
        {
         "name": "高沢美咲",
         "rawType": "int64",
         "type": "integer"
        },
        {
         "name": "高田さんま",
         "rawType": "int64",
         "type": "integer"
        },
        {
         "name": "鳥居広司",
         "rawType": "int64",
         "type": "integer"
        },
        {
         "name": "鶴岡薫",
         "rawType": "int64",
         "type": "integer"
        },
        {
         "name": "麻生莉緒",
         "rawType": "int64",
         "type": "integer"
        },
        {
         "name": "黄川田博之",
         "rawType": "int64",
         "type": "integer"
        },
        {
         "name": "黒谷長利",
         "rawType": "int64",
         "type": "integer"
        }
       ],
       "ref": "a5aaa173-0f63-4d00-8ef4-f0145a08f83d",
       "rows": [
        [
         "201901",
         "3",
         "1",
         "4",
         "2",
         "2",
         "0",
         "5",
         "3",
         "3",
         "1",
         "4",
         "1",
         "4",
         "3",
         "4",
         "4",
         "2",
         "1",
         "0",
         "4",
         "2",
         "1",
         "1",
         "2",
         "3",
         "1",
         "0",
         "1",
         "2",
         "2",
         "3",
         "1",
         "4",
         "6",
         "0",
         "4",
         "1",
         "3",
         "2",
         "3",
         "0",
         "2",
         "2",
         "2",
         "3",
         "5",
         "0",
         "5",
         "1",
         "2",
         "3",
         "2",
         "4",
         "4",
         "3",
         "1",
         "2",
         "0",
         "1",
         "2",
         "1",
         "0",
         "1",
         "2",
         "2",
         "5",
         "2",
         "6",
         "3",
         "1",
         "3",
         "0",
         "0",
         "4",
         "5",
         "1",
         "3",
         "1",
         "2",
         "3",
         "1",
         "3",
         "0",
         "3",
         "4",
         "1",
         "3",
         "1",
         "3",
         "4",
         "2",
         "2",
         "1",
         "1",
         "1",
         "1",
         "3",
         "3",
         "2",
         "3",
         "3",
         "1",
         "2",
         "0",
         "1",
         "2",
         "0",
         "2",
         "2",
         "2",
         "0",
         "1",
         "1",
         "1",
         "2",
         "2",
         "2",
         "1",
         "0",
         "2",
         "2",
         "2",
         "3",
         "0",
         "4",
         "3",
         "1",
         "1",
         "3",
         "2",
         "1",
         "0",
         "1",
         "2",
         "1",
         "4",
         "3",
         "2",
         "1",
         "1",
         "2",
         "2",
         "3",
         "1",
         "1",
         "1",
         "1",
         "2",
         "1",
         "3",
         "4",
         "1",
         "3",
         "3",
         "3",
         "3",
         "2",
         "0",
         "4",
         "1",
         "1",
         "2",
         "4",
         "0",
         "1",
         "1",
         "4",
         "4",
         "2",
         "1",
         "2",
         "3",
         "2",
         "4",
         "4",
         "0",
         "7",
         "1",
         "0",
         "2",
         "5",
         "3",
         "2",
         "2",
         "2",
         "2",
         "4",
         "2",
         "2",
         "0",
         "1",
         "1",
         "1",
         "5",
         "2",
         "0",
         "2",
         "2",
         "5"
        ],
        [
         "201902",
         "9",
         "1",
         "2",
         "2",
         "1",
         "4",
         "2",
         "1",
         "0",
         "4",
         "2",
         "3",
         "1",
         "1",
         "3",
         "2",
         "3",
         "2",
         "4",
         "2",
         "1",
         "2",
         "0",
         "1",
         "5",
         "1",
         "1",
         "3",
         "1",
         "3",
         "3",
         "1",
         "3",
         "1",
         "2",
         "2",
         "1",
         "1",
         "1",
         "1",
         "1",
         "3",
         "0",
         "2",
         "1",
         "3",
         "6",
         "1",
         "4",
         "3",
         "2",
         "5",
         "2",
         "2",
         "5",
         "5",
         "4",
         "4",
         "4",
         "1",
         "0",
         "0",
         "0",
         "3",
         "3",
         "1",
         "5",
         "2",
         "3",
         "4",
         "2",
         "2",
         "3",
         "1",
         "5",
         "1",
         "5",
         "1",
         "0",
         "1",
         "5",
         "2",
         "0",
         "0",
         "1",
         "1",
         "2",
         "4",
         "0",
         "0",
         "2",
         "4",
         "5",
         "4",
         "1",
         "4",
         "3",
         "2",
         "3",
         "2",
         "1",
         "4",
         "3",
         "2",
         "1",
         "0",
         "3",
         "1",
         "4",
         "1",
         "3",
         "1",
         "1",
         "2",
         "1",
         "1",
         "3",
         "0",
         "4",
         "3",
         "5",
         "0",
         "2",
         "3",
         "3",
         "3",
         "3",
         "1",
         "0",
         "2",
         "7",
         "4",
         "1",
         "1",
         "3",
         "5",
         "3",
         "2",
         "4",
         "2",
         "0",
         "4",
         "0",
         "2",
         "3",
         "2",
         "0",
         "1",
         "2",
         "3",
         "5",
         "5",
         "3",
         "2",
         "2",
         "5",
         "3",
         "4",
         "2",
         "2",
         "5",
         "2",
         "1",
         "0",
         "1",
         "2",
         "2",
         "3",
         "2",
         "1",
         "1",
         "2",
         "2",
         "7",
         "1",
         "1",
         "2",
         "1",
         "1",
         "1",
         "3",
         "3",
         "2",
         "1",
         "2",
         "4",
         "1",
         "4",
         "3",
         "4",
         "0",
         "3",
         "2",
         "0",
         "1",
         "2",
         "4",
         "0",
         "1"
        ],
        [
         "201903",
         "1",
         "2",
         "1",
         "6",
         "1",
         "4",
         "3",
         "3",
         "2",
         "2",
         "1",
         "2",
         "0",
         "3",
         "2",
         "2",
         "3",
         "2",
         "1",
         "5",
         "1",
         "4",
         "2",
         "2",
         "0",
         "3",
         "4",
         "1",
         "0",
         "1",
         "5",
         "2",
         "5",
         "0",
         "1",
         "2",
         "1",
         "3",
         "2",
         "3",
         "0",
         "2",
         "0",
         "4",
         "0",
         "1",
         "0",
         "2",
         "2",
         "0",
         "2",
         "3",
         "3",
         "1",
         "2",
         "5",
         "3",
         "2",
         "2",
         "0",
         "1",
         "1",
         "4",
         "2",
         "3",
         "3",
         "2",
         "2",
         "2",
         "3",
         "0",
         "5",
         "1",
         "3",
         "5",
         "1",
         "2",
         "2",
         "4",
         "2",
         "2",
         "1",
         "4",
         "0",
         "3",
         "0",
         "1",
         "1",
         "1",
         "2",
         "1",
         "5",
         "2",
         "2",
         "0",
         "2",
         "5",
         "6",
         "2",
         "1",
         "0",
         "5",
         "5",
         "2",
         "4",
         "2",
         "0",
         "2",
         "0",
         "2",
         "2",
         "0",
         "3",
         "2",
         "3",
         "5",
         "2",
         "3",
         "0",
         "4",
         "5",
         "1",
         "2",
         "3",
         "4",
         "2",
         "4",
         "2",
         "5",
         "2",
         "1",
         "3",
         "2",
         "2",
         "4",
         "1",
         "4",
         "2",
         "2",
         "1",
         "1",
         "3",
         "2",
         "1",
         "2",
         "3",
         "4",
         "2",
         "3",
         "2",
         "4",
         "0",
         "2",
         "0",
         "4",
         "3",
         "3",
         "3",
         "2",
         "2",
         "2",
         "1",
         "1",
         "2",
         "5",
         "5",
         "1",
         "2",
         "1",
         "1",
         "0",
         "1",
         "2",
         "1",
         "5",
         "3",
         "1",
         "3",
         "2",
         "1",
         "3",
         "1",
         "1",
         "5",
         "2",
         "0",
         "1",
         "0",
         "2",
         "3",
         "1",
         "6",
         "2",
         "4",
         "2",
         "4",
         "2",
         "2",
         "1"
        ],
        [
         "201904",
         "0",
         "3",
         "1",
         "2",
         "0",
         "2",
         "2",
         "0",
         "3",
         "2",
         "2",
         "1",
         "4",
         "1",
         "3",
         "1",
         "1",
         "4",
         "5",
         "3",
         "1",
         "2",
         "1",
         "3",
         "4",
         "4",
         "4",
         "6",
         "0",
         "0",
         "1",
         "4",
         "3",
         "1",
         "2",
         "0",
         "2",
         "2",
         "2",
         "1",
         "2",
         "4",
         "1",
         "1",
         "2",
         "2",
         "3",
         "2",
         "2",
         "1",
         "3",
         "4",
         "3",
         "0",
         "1",
         "0",
         "3",
         "3",
         "1",
         "1",
         "1",
         "2",
         "0",
         "3",
         "5",
         "5",
         "3",
         "3",
         "1",
         "3",
         "1",
         "1",
         "2",
         "2",
         "4",
         "2",
         "1",
         "2",
         "1",
         "2",
         "3",
         "1",
         "3",
         "0",
         "1",
         "3",
         "1",
         "1",
         "3",
         "4",
         "1",
         "2",
         "2",
         "1",
         "1",
         "2",
         "4",
         "0",
         "5",
         "3",
         "2",
         "4",
         "1",
         "4",
         "1",
         "1",
         "4",
         "4",
         "0",
         "5",
         "0",
         "1",
         "5",
         "0",
         "6",
         "1",
         "0",
         "3",
         "1",
         "1",
         "5",
         "2",
         "4",
         "4",
         "3",
         "0",
         "1",
         "2",
         "1",
         "4",
         "3",
         "1",
         "2",
         "1",
         "2",
         "5",
         "1",
         "1",
         "2",
         "0",
         "4",
         "2",
         "1",
         "0",
         "4",
         "0",
         "3",
         "1",
         "4",
         "2",
         "0",
         "0",
         "3",
         "1",
         "1",
         "0",
         "1",
         "1",
         "1",
         "2",
         "2",
         "0",
         "2",
         "1",
         "5",
         "2",
         "4",
         "2",
         "1",
         "2",
         "2",
         "4",
         "2",
         "3",
         "1",
         "1",
         "1",
         "4",
         "0",
         "1",
         "1",
         "3",
         "4",
         "3",
         "0",
         "1",
         "3",
         "2",
         "3",
         "2",
         "4",
         "2",
         "3",
         "4",
         "3",
         "2",
         "1",
         "2",
         "0"
        ],
        [
         "201905",
         "3",
         "2",
         "5",
         "2",
         "4",
         "1",
         "2",
         "1",
         "3",
         "3",
         "0",
         "3",
         "1",
         "1",
         "1",
         "3",
         "2",
         "1",
         "2",
         "1",
         "3",
         "1",
         "0",
         "6",
         "0",
         "0",
         "4",
         "3",
         "0",
         "2",
         "1",
         "1",
         "3",
         "0",
         "1",
         "0",
         "1",
         "2",
         "4",
         "4",
         "0",
         "2",
         "1",
         "1",
         "3",
         "1",
         "2",
         "1",
         "1",
         "1",
         "3",
         "2",
         "1",
         "2",
         "3",
         "3",
         "2",
         "2",
         "2",
         "2",
         "3",
         "5",
         "2",
         "1",
         "6",
         "3",
         "0",
         "0",
         "2",
         "2",
         "3",
         "2",
         "3",
         "4",
         "1",
         "3",
         "4",
         "0",
         "5",
         "0",
         "5",
         "6",
         "1",
         "4",
         "3",
         "0",
         "5",
         "4",
         "0",
         "0",
         "2",
         "3",
         "3",
         "2",
         "3",
         "5",
         "2",
         "4",
         "5",
         "1",
         "0",
         "2",
         "2",
         "3",
         "2",
         "4",
         "2",
         "2",
         "1",
         "4",
         "1",
         "2",
         "1",
         "2",
         "0",
         "2",
         "5",
         "1",
         "2",
         "1",
         "1",
         "1",
         "3",
         "1",
         "1",
         "3",
         "0",
         "1",
         "1",
         "1",
         "1",
         "3",
         "1",
         "1",
         "2",
         "2",
         "3",
         "1",
         "3",
         "1",
         "0",
         "2",
         "3",
         "1",
         "4",
         "3",
         "3",
         "2",
         "6",
         "1",
         "6",
         "2",
         "4",
         "1",
         "2",
         "2",
         "3",
         "5",
         "4",
         "6",
         "4",
         "0",
         "2",
         "1",
         "1",
         "2",
         "1",
         "4",
         "2",
         "1",
         "2",
         "4",
         "1",
         "1",
         "0",
         "5",
         "1",
         "2",
         "1",
         "4",
         "2",
         "4",
         "2",
         "0",
         "1",
         "1",
         "6",
         "2",
         "2",
         "1",
         "1",
         "1",
         "0",
         "2",
         "2",
         "3",
         "4",
         "4",
         "1"
        ],
        [
         "201906",
         "1",
         "3",
         "0",
         "4",
         "1",
         "1",
         "1",
         "2",
         "2",
         "3",
         "2",
         "1",
         "1",
         "1",
         "2",
         "4",
         "0",
         "5",
         "2",
         "0",
         "1",
         "0",
         "2",
         "3",
         "1",
         "2",
         "3",
         "1",
         "0",
         "0",
         "2",
         "4",
         "4",
         "2",
         "3",
         "3",
         "4",
         "4",
         "1",
         "2",
         "1",
         "4",
         "2",
         "1",
         "2",
         "2",
         "2",
         "0",
         "4",
         "2",
         "1",
         "1",
         "0",
         "6",
         "1",
         "1",
         "4",
         "2",
         "4",
         "2",
         "4",
         "2",
         "1",
         "2",
         "0",
         "2",
         "1",
         "3",
         "3",
         "3",
         "1",
         "2",
         "1",
         "2",
         "1",
         "1",
         "1",
         "2",
         "3",
         "3",
         "3",
         "0",
         "1",
         "4",
         "2",
         "0",
         "5",
         "2",
         "3",
         "0",
         "1",
         "2",
         "0",
         "3",
         "2",
         "2",
         "3",
         "2",
         "0",
         "2",
         "3",
         "1",
         "1",
         "3",
         "3",
         "0",
         "6",
         "2",
         "1",
         "4",
         "1",
         "2",
         "2",
         "2",
         "3",
         "1",
         "4",
         "3",
         "1",
         "4",
         "5",
         "3",
         "2",
         "1",
         "5",
         "0",
         "5",
         "4",
         "2",
         "1",
         "2",
         "5",
         "3",
         "1",
         "1",
         "0",
         "0",
         "2",
         "2",
         "2",
         "1",
         "1",
         "3",
         "2",
         "0",
         "0",
         "1",
         "4",
         "1",
         "2",
         "3",
         "0",
         "2",
         "0",
         "2",
         "2",
         "2",
         "2",
         "2",
         "6",
         "0",
         "2",
         "1",
         "3",
         "1",
         "3",
         "2",
         "4",
         "1",
         "1",
         "4",
         "3",
         "2",
         "1",
         "5",
         "2",
         "0",
         "1",
         "2",
         "5",
         "1",
         "3",
         "3",
         "1",
         "2",
         "0",
         "3",
         "3",
         "4",
         "7",
         "3",
         "0",
         "2",
         "1",
         "0",
         "2",
         "1",
         "2",
         "4"
        ],
        [
         "201907",
         "3",
         "0",
         "3",
         "2",
         "5",
         "3",
         "5",
         "2",
         "5",
         "5",
         "6",
         "2",
         "0",
         "2",
         "1",
         "1",
         "3",
         "3",
         "0",
         "1",
         "2",
         "2",
         "2",
         "1",
         "2",
         "2",
         "2",
         "1",
         "1",
         "2",
         "0",
         "1",
         "1",
         "2",
         "1",
         "2",
         "1",
         "1",
         "1",
         "1",
         "3",
         "1",
         "4",
         "0",
         "3",
         "2",
         "2",
         "3",
         "1",
         "1",
         "1",
         "2",
         "2",
         "2",
         "0",
         "3",
         "1",
         "1",
         "6",
         "3",
         "0",
         "4",
         "0",
         "0",
         "0",
         "7",
         "3",
         "2",
         "4",
         "3",
         "3",
         "2",
         "5",
         "4",
         "3",
         "4",
         "1",
         "2",
         "5",
         "2",
         "5",
         "2",
         "2",
         "4",
         "4",
         "2",
         "0",
         "0",
         "5",
         "1",
         "3",
         "3",
         "1",
         "0",
         "3",
         "1",
         "1",
         "1",
         "2",
         "2",
         "4",
         "3",
         "5",
         "4",
         "0",
         "4",
         "4",
         "2",
         "5",
         "1",
         "4",
         "2",
         "2",
         "2",
         "1",
         "1",
         "3",
         "4",
         "1",
         "1",
         "1",
         "0",
         "2",
         "1",
         "2",
         "6",
         "3",
         "2",
         "2",
         "2",
         "1",
         "1",
         "4",
         "1",
         "1",
         "2",
         "2",
         "3",
         "1",
         "2",
         "5",
         "1",
         "3",
         "2",
         "4",
         "1",
         "6",
         "0",
         "9",
         "1",
         "3",
         "4",
         "2",
         "3",
         "3",
         "2",
         "0",
         "1",
         "3",
         "4",
         "3",
         "3",
         "1",
         "1",
         "1",
         "2",
         "2",
         "0",
         "2",
         "3",
         "4",
         "2",
         "1",
         "0",
         "1",
         "2",
         "1",
         "1",
         "4",
         "3",
         "4",
         "2",
         "3",
         "4",
         "3",
         "2",
         "0",
         "0",
         "4",
         "2",
         "4",
         "4",
         "2",
         "0",
         "2",
         "4",
         "3",
         "4",
         "1"
        ]
       ],
       "shape": {
        "columns": 199,
        "rows": 7
       }
      },
      "text/html": [
       "<div>\n",
       "<style scoped>\n",
       "    .dataframe tbody tr th:only-of-type {\n",
       "        vertical-align: middle;\n",
       "    }\n",
       "\n",
       "    .dataframe tbody tr th {\n",
       "        vertical-align: top;\n",
       "    }\n",
       "\n",
       "    .dataframe thead th {\n",
       "        text-align: right;\n",
       "    }\n",
       "</style>\n",
       "<table border=\"1\" class=\"dataframe\">\n",
       "  <thead>\n",
       "    <tr style=\"text-align: right;\">\n",
       "      <th>顧客名</th>\n",
       "      <th>さだ千佳子</th>\n",
       "      <th>中仁晶</th>\n",
       "      <th>中田美智子</th>\n",
       "      <th>丸山光臣</th>\n",
       "      <th>久保田倫子</th>\n",
       "      <th>亀井一徳</th>\n",
       "      <th>五十嵐春樹</th>\n",
       "      <th>井上桃子</th>\n",
       "      <th>井口寛治</th>\n",
       "      <th>井川真悠子</th>\n",
       "      <th>...</th>\n",
       "      <th>香椎優一</th>\n",
       "      <th>高原充則</th>\n",
       "      <th>高梨結衣</th>\n",
       "      <th>高沢美咲</th>\n",
       "      <th>高田さんま</th>\n",
       "      <th>鳥居広司</th>\n",
       "      <th>鶴岡薫</th>\n",
       "      <th>麻生莉緒</th>\n",
       "      <th>黄川田博之</th>\n",
       "      <th>黒谷長利</th>\n",
       "    </tr>\n",
       "    <tr>\n",
       "      <th>purchase_month</th>\n",
       "      <th></th>\n",
       "      <th></th>\n",
       "      <th></th>\n",
       "      <th></th>\n",
       "      <th></th>\n",
       "      <th></th>\n",
       "      <th></th>\n",
       "      <th></th>\n",
       "      <th></th>\n",
       "      <th></th>\n",
       "      <th></th>\n",
       "      <th></th>\n",
       "      <th></th>\n",
       "      <th></th>\n",
       "      <th></th>\n",
       "      <th></th>\n",
       "      <th></th>\n",
       "      <th></th>\n",
       "      <th></th>\n",
       "      <th></th>\n",
       "      <th></th>\n",
       "    </tr>\n",
       "  </thead>\n",
       "  <tbody>\n",
       "    <tr>\n",
       "      <th>201901</th>\n",
       "      <td>3</td>\n",
       "      <td>1</td>\n",
       "      <td>4</td>\n",
       "      <td>2</td>\n",
       "      <td>2</td>\n",
       "      <td>0</td>\n",
       "      <td>5</td>\n",
       "      <td>3</td>\n",
       "      <td>3</td>\n",
       "      <td>1</td>\n",
       "      <td>...</td>\n",
       "      <td>0</td>\n",
       "      <td>1</td>\n",
       "      <td>1</td>\n",
       "      <td>1</td>\n",
       "      <td>5</td>\n",
       "      <td>2</td>\n",
       "      <td>0</td>\n",
       "      <td>2</td>\n",
       "      <td>2</td>\n",
       "      <td>5</td>\n",
       "    </tr>\n",
       "    <tr>\n",
       "      <th>201902</th>\n",
       "      <td>9</td>\n",
       "      <td>1</td>\n",
       "      <td>2</td>\n",
       "      <td>2</td>\n",
       "      <td>1</td>\n",
       "      <td>4</td>\n",
       "      <td>2</td>\n",
       "      <td>1</td>\n",
       "      <td>0</td>\n",
       "      <td>4</td>\n",
       "      <td>...</td>\n",
       "      <td>4</td>\n",
       "      <td>0</td>\n",
       "      <td>3</td>\n",
       "      <td>2</td>\n",
       "      <td>0</td>\n",
       "      <td>1</td>\n",
       "      <td>2</td>\n",
       "      <td>4</td>\n",
       "      <td>0</td>\n",
       "      <td>1</td>\n",
       "    </tr>\n",
       "    <tr>\n",
       "      <th>201903</th>\n",
       "      <td>1</td>\n",
       "      <td>2</td>\n",
       "      <td>1</td>\n",
       "      <td>6</td>\n",
       "      <td>1</td>\n",
       "      <td>4</td>\n",
       "      <td>3</td>\n",
       "      <td>3</td>\n",
       "      <td>2</td>\n",
       "      <td>2</td>\n",
       "      <td>...</td>\n",
       "      <td>3</td>\n",
       "      <td>1</td>\n",
       "      <td>6</td>\n",
       "      <td>2</td>\n",
       "      <td>4</td>\n",
       "      <td>2</td>\n",
       "      <td>4</td>\n",
       "      <td>2</td>\n",
       "      <td>2</td>\n",
       "      <td>1</td>\n",
       "    </tr>\n",
       "    <tr>\n",
       "      <th>201904</th>\n",
       "      <td>0</td>\n",
       "      <td>3</td>\n",
       "      <td>1</td>\n",
       "      <td>2</td>\n",
       "      <td>0</td>\n",
       "      <td>2</td>\n",
       "      <td>2</td>\n",
       "      <td>0</td>\n",
       "      <td>3</td>\n",
       "      <td>2</td>\n",
       "      <td>...</td>\n",
       "      <td>2</td>\n",
       "      <td>4</td>\n",
       "      <td>2</td>\n",
       "      <td>3</td>\n",
       "      <td>4</td>\n",
       "      <td>3</td>\n",
       "      <td>2</td>\n",
       "      <td>1</td>\n",
       "      <td>2</td>\n",
       "      <td>0</td>\n",
       "    </tr>\n",
       "    <tr>\n",
       "      <th>201905</th>\n",
       "      <td>3</td>\n",
       "      <td>2</td>\n",
       "      <td>5</td>\n",
       "      <td>2</td>\n",
       "      <td>4</td>\n",
       "      <td>1</td>\n",
       "      <td>2</td>\n",
       "      <td>1</td>\n",
       "      <td>3</td>\n",
       "      <td>3</td>\n",
       "      <td>...</td>\n",
       "      <td>1</td>\n",
       "      <td>1</td>\n",
       "      <td>1</td>\n",
       "      <td>0</td>\n",
       "      <td>2</td>\n",
       "      <td>2</td>\n",
       "      <td>3</td>\n",
       "      <td>4</td>\n",
       "      <td>4</td>\n",
       "      <td>1</td>\n",
       "    </tr>\n",
       "    <tr>\n",
       "      <th>201906</th>\n",
       "      <td>1</td>\n",
       "      <td>3</td>\n",
       "      <td>0</td>\n",
       "      <td>4</td>\n",
       "      <td>1</td>\n",
       "      <td>1</td>\n",
       "      <td>1</td>\n",
       "      <td>2</td>\n",
       "      <td>2</td>\n",
       "      <td>3</td>\n",
       "      <td>...</td>\n",
       "      <td>7</td>\n",
       "      <td>3</td>\n",
       "      <td>0</td>\n",
       "      <td>2</td>\n",
       "      <td>1</td>\n",
       "      <td>0</td>\n",
       "      <td>2</td>\n",
       "      <td>1</td>\n",
       "      <td>2</td>\n",
       "      <td>4</td>\n",
       "    </tr>\n",
       "    <tr>\n",
       "      <th>201907</th>\n",
       "      <td>3</td>\n",
       "      <td>0</td>\n",
       "      <td>3</td>\n",
       "      <td>2</td>\n",
       "      <td>5</td>\n",
       "      <td>3</td>\n",
       "      <td>5</td>\n",
       "      <td>2</td>\n",
       "      <td>5</td>\n",
       "      <td>5</td>\n",
       "      <td>...</td>\n",
       "      <td>2</td>\n",
       "      <td>4</td>\n",
       "      <td>4</td>\n",
       "      <td>2</td>\n",
       "      <td>0</td>\n",
       "      <td>2</td>\n",
       "      <td>4</td>\n",
       "      <td>3</td>\n",
       "      <td>4</td>\n",
       "      <td>1</td>\n",
       "    </tr>\n",
       "  </tbody>\n",
       "</table>\n",
       "<p>7 rows × 199 columns</p>\n",
       "</div>"
      ],
      "text/plain": [
       "顧客名             さだ千佳子  中仁晶  中田美智子  丸山光臣  久保田倫子  亀井一徳  五十嵐春樹  井上桃子  井口寛治  \\\n",
       "purchase_month                                                            \n",
       "201901              3    1      4     2      2     0      5     3     3   \n",
       "201902              9    1      2     2      1     4      2     1     0   \n",
       "201903              1    2      1     6      1     4      3     3     2   \n",
       "201904              0    3      1     2      0     2      2     0     3   \n",
       "201905              3    2      5     2      4     1      2     1     3   \n",
       "201906              1    3      0     4      1     1      1     2     2   \n",
       "201907              3    0      3     2      5     3      5     2     5   \n",
       "\n",
       "顧客名             井川真悠子  ...  香椎優一  高原充則  高梨結衣  高沢美咲  高田さんま  鳥居広司  鶴岡薫  麻生莉緒  \\\n",
       "purchase_month         ...                                                   \n",
       "201901              1  ...     0     1     1     1      5     2    0     2   \n",
       "201902              4  ...     4     0     3     2      0     1    2     4   \n",
       "201903              2  ...     3     1     6     2      4     2    4     2   \n",
       "201904              2  ...     2     4     2     3      4     3    2     1   \n",
       "201905              3  ...     1     1     1     0      2     2    3     4   \n",
       "201906              3  ...     7     3     0     2      1     0    2     1   \n",
       "201907              5  ...     2     4     4     2      0     2    4     3   \n",
       "\n",
       "顧客名             黄川田博之  黒谷長利  \n",
       "purchase_month               \n",
       "201901              2     5  \n",
       "201902              0     1  \n",
       "201903              2     1  \n",
       "201904              2     0  \n",
       "201905              4     1  \n",
       "201906              2     4  \n",
       "201907              4     1  \n",
       "\n",
       "[7 rows x 199 columns]"
      ]
     },
     "execution_count": 36,
     "metadata": {},
     "output_type": "execute_result"
    }
   ],
   "source": [
    "byCustomer =import_data.pivot_table(index=\"purchase_month\", columns=\"顧客名\", aggfunc=\"size\", fill_value=0)\n",
    "byCustomer"
   ]
  },
  {
   "cell_type": "code",
   "execution_count": 37,
   "id": "a1c78e87",
   "metadata": {},
   "outputs": [
    {
     "data": {
      "application/vnd.microsoft.datawrangler.viewer.v0+json": {
       "columns": [
        {
         "name": "purchase_month",
         "rawType": "int64",
         "type": "integer"
        },
        {
         "name": "A市",
         "rawType": "int64",
         "type": "integer"
        },
        {
         "name": "B市",
         "rawType": "int64",
         "type": "integer"
        },
        {
         "name": "C市",
         "rawType": "int64",
         "type": "integer"
        },
        {
         "name": "D市",
         "rawType": "int64",
         "type": "integer"
        },
        {
         "name": "E市",
         "rawType": "int64",
         "type": "integer"
        },
        {
         "name": "F市",
         "rawType": "int64",
         "type": "integer"
        },
        {
         "name": "G市",
         "rawType": "int64",
         "type": "integer"
        },
        {
         "name": "H市",
         "rawType": "int64",
         "type": "integer"
        }
       ],
       "ref": "1574d24a-0c4d-433d-a1e3-e5a09055c5ad",
       "rows": [
        [
         "201901",
         "59",
         "55",
         "72",
         "34",
         "49",
         "57",
         "49",
         "42"
        ],
        [
         "201902",
         "71",
         "46",
         "65",
         "48",
         "61",
         "52",
         "43",
         "63"
        ],
        [
         "201903",
         "64",
         "52",
         "57",
         "43",
         "52",
         "59",
         "51",
         "59"
        ],
        [
         "201904",
         "64",
         "48",
         "54",
         "45",
         "48",
         "58",
         "40",
         "52"
        ],
        [
         "201905",
         "57",
         "52",
         "68",
         "48",
         "59",
         "65",
         "35",
         "43"
        ],
        [
         "201906",
         "53",
         "47",
         "61",
         "30",
         "51",
         "51",
         "58",
         "58"
        ],
        [
         "201907",
         "76",
         "53",
         "61",
         "42",
         "54",
         "64",
         "47",
         "54"
        ]
       ],
       "shape": {
        "columns": 8,
        "rows": 7
       }
      },
      "text/html": [
       "<div>\n",
       "<style scoped>\n",
       "    .dataframe tbody tr th:only-of-type {\n",
       "        vertical-align: middle;\n",
       "    }\n",
       "\n",
       "    .dataframe tbody tr th {\n",
       "        vertical-align: top;\n",
       "    }\n",
       "\n",
       "    .dataframe thead th {\n",
       "        text-align: right;\n",
       "    }\n",
       "</style>\n",
       "<table border=\"1\" class=\"dataframe\">\n",
       "  <thead>\n",
       "    <tr style=\"text-align: right;\">\n",
       "      <th>地域</th>\n",
       "      <th>A市</th>\n",
       "      <th>B市</th>\n",
       "      <th>C市</th>\n",
       "      <th>D市</th>\n",
       "      <th>E市</th>\n",
       "      <th>F市</th>\n",
       "      <th>G市</th>\n",
       "      <th>H市</th>\n",
       "    </tr>\n",
       "    <tr>\n",
       "      <th>purchase_month</th>\n",
       "      <th></th>\n",
       "      <th></th>\n",
       "      <th></th>\n",
       "      <th></th>\n",
       "      <th></th>\n",
       "      <th></th>\n",
       "      <th></th>\n",
       "      <th></th>\n",
       "    </tr>\n",
       "  </thead>\n",
       "  <tbody>\n",
       "    <tr>\n",
       "      <th>201901</th>\n",
       "      <td>59</td>\n",
       "      <td>55</td>\n",
       "      <td>72</td>\n",
       "      <td>34</td>\n",
       "      <td>49</td>\n",
       "      <td>57</td>\n",
       "      <td>49</td>\n",
       "      <td>42</td>\n",
       "    </tr>\n",
       "    <tr>\n",
       "      <th>201902</th>\n",
       "      <td>71</td>\n",
       "      <td>46</td>\n",
       "      <td>65</td>\n",
       "      <td>48</td>\n",
       "      <td>61</td>\n",
       "      <td>52</td>\n",
       "      <td>43</td>\n",
       "      <td>63</td>\n",
       "    </tr>\n",
       "    <tr>\n",
       "      <th>201903</th>\n",
       "      <td>64</td>\n",
       "      <td>52</td>\n",
       "      <td>57</td>\n",
       "      <td>43</td>\n",
       "      <td>52</td>\n",
       "      <td>59</td>\n",
       "      <td>51</td>\n",
       "      <td>59</td>\n",
       "    </tr>\n",
       "    <tr>\n",
       "      <th>201904</th>\n",
       "      <td>64</td>\n",
       "      <td>48</td>\n",
       "      <td>54</td>\n",
       "      <td>45</td>\n",
       "      <td>48</td>\n",
       "      <td>58</td>\n",
       "      <td>40</td>\n",
       "      <td>52</td>\n",
       "    </tr>\n",
       "    <tr>\n",
       "      <th>201905</th>\n",
       "      <td>57</td>\n",
       "      <td>52</td>\n",
       "      <td>68</td>\n",
       "      <td>48</td>\n",
       "      <td>59</td>\n",
       "      <td>65</td>\n",
       "      <td>35</td>\n",
       "      <td>43</td>\n",
       "    </tr>\n",
       "    <tr>\n",
       "      <th>201906</th>\n",
       "      <td>53</td>\n",
       "      <td>47</td>\n",
       "      <td>61</td>\n",
       "      <td>30</td>\n",
       "      <td>51</td>\n",
       "      <td>51</td>\n",
       "      <td>58</td>\n",
       "      <td>58</td>\n",
       "    </tr>\n",
       "    <tr>\n",
       "      <th>201907</th>\n",
       "      <td>76</td>\n",
       "      <td>53</td>\n",
       "      <td>61</td>\n",
       "      <td>42</td>\n",
       "      <td>54</td>\n",
       "      <td>64</td>\n",
       "      <td>47</td>\n",
       "      <td>54</td>\n",
       "    </tr>\n",
       "  </tbody>\n",
       "</table>\n",
       "</div>"
      ],
      "text/plain": [
       "地域              A市  B市  C市  D市  E市  F市  G市  H市\n",
       "purchase_month                                \n",
       "201901          59  55  72  34  49  57  49  42\n",
       "201902          71  46  65  48  61  52  43  63\n",
       "201903          64  52  57  43  52  59  51  59\n",
       "201904          64  48  54  45  48  58  40  52\n",
       "201905          57  52  68  48  59  65  35  43\n",
       "201906          53  47  61  30  51  51  58  58\n",
       "201907          76  53  61  42  54  64  47  54"
      ]
     },
     "execution_count": 37,
     "metadata": {},
     "output_type": "execute_result"
    }
   ],
   "source": [
    "byRegion =import_data.pivot_table(index=\"purchase_month\", columns=\"地域\", aggfunc=\"size\", fill_value=0)\n",
    "byRegion"
   ]
  },
  {
   "cell_type": "code",
   "execution_count": 38,
   "id": "d022dfc7",
   "metadata": {},
   "outputs": [
    {
     "data": {
      "application/vnd.microsoft.datawrangler.viewer.v0+json": {
       "columns": [
        {
         "name": "index",
         "rawType": "int64",
         "type": "integer"
        },
        {
         "name": "顧客名",
         "rawType": "object",
         "type": "string"
        },
        {
         "name": "メールアドレス",
         "rawType": "object",
         "type": "string"
        },
        {
         "name": "登録日",
         "rawType": "datetime64[ns]",
         "type": "datetime"
        }
       ],
       "ref": "67263a01-e153-44d9-a79a-7fa2a6c53e72",
       "rows": [
        [
         "2999",
         "福井美希",
         "fukui_miki1@example.com",
         "2019-04-23 00:00:00"
        ]
       ],
       "shape": {
        "columns": 3,
        "rows": 1
       }
      },
      "text/html": [
       "<div>\n",
       "<style scoped>\n",
       "    .dataframe tbody tr th:only-of-type {\n",
       "        vertical-align: middle;\n",
       "    }\n",
       "\n",
       "    .dataframe tbody tr th {\n",
       "        vertical-align: top;\n",
       "    }\n",
       "\n",
       "    .dataframe thead th {\n",
       "        text-align: right;\n",
       "    }\n",
       "</style>\n",
       "<table border=\"1\" class=\"dataframe\">\n",
       "  <thead>\n",
       "    <tr style=\"text-align: right;\">\n",
       "      <th></th>\n",
       "      <th>顧客名</th>\n",
       "      <th>メールアドレス</th>\n",
       "      <th>登録日</th>\n",
       "    </tr>\n",
       "  </thead>\n",
       "  <tbody>\n",
       "    <tr>\n",
       "      <th>2999</th>\n",
       "      <td>福井美希</td>\n",
       "      <td>fukui_miki1@example.com</td>\n",
       "      <td>2019-04-23</td>\n",
       "    </tr>\n",
       "  </tbody>\n",
       "</table>\n",
       "</div>"
      ],
      "text/plain": [
       "       顧客名                  メールアドレス        登録日\n",
       "2999  福井美希  fukui_miki1@example.com 2019-04-23"
      ]
     },
     "execution_count": 38,
     "metadata": {},
     "output_type": "execute_result"
    }
   ],
   "source": [
    "away_data = pd.merge(uriage_data, kokyaku_data, left_on=\"customer_name\", right_on=\"顧客名\", how=\"right\")\n",
    "away_data[away_data[\"purchase_date\"].isnull()][[\"顧客名\", \"メールアドレス\",\"登録日\"]]"
   ]
  },
  {
   "cell_type": "code",
   "execution_count": null,
   "id": "749999dc",
   "metadata": {},
   "outputs": [],
   "source": []
  }
 ],
 "metadata": {
  "kernelspec": {
   "display_name": "basic",
   "language": "python",
   "name": "python3"
  },
  "language_info": {
   "codemirror_mode": {
    "name": "ipython",
    "version": 3
   },
   "file_extension": ".py",
   "mimetype": "text/x-python",
   "name": "python",
   "nbconvert_exporter": "python",
   "pygments_lexer": "ipython3",
   "version": "3.10.18"
  }
 },
 "nbformat": 4,
 "nbformat_minor": 5
}
