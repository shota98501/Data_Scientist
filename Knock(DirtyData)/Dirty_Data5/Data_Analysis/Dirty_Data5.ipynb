{
 "cells": [
  {
   "cell_type": "code",
   "execution_count": 1,
   "id": "8974a650",
   "metadata": {},
   "outputs": [],
   "source": [
    "import pandas as pd\n",
    "customer = pd.read_csv(\"../Datasets/customer_join.csv\")\n",
    "uselog_months = pd.read_csv(\"../Datasets/use_log_months.csv\")"
   ]
  },
  {
   "cell_type": "code",
   "execution_count": 2,
   "id": "2c2b25b4",
   "metadata": {},
   "outputs": [
    {
     "data": {
      "application/vnd.microsoft.datawrangler.viewer.v0+json": {
       "columns": [
        {
         "name": "index",
         "rawType": "int64",
         "type": "integer"
        },
        {
         "name": "customer_id",
         "rawType": "object",
         "type": "string"
        },
        {
         "name": "name",
         "rawType": "object",
         "type": "string"
        },
        {
         "name": "class",
         "rawType": "object",
         "type": "string"
        },
        {
         "name": "gender",
         "rawType": "object",
         "type": "string"
        },
        {
         "name": "start_date",
         "rawType": "object",
         "type": "string"
        },
        {
         "name": "end_date",
         "rawType": "object",
         "type": "unknown"
        },
        {
         "name": "campaign_id",
         "rawType": "object",
         "type": "string"
        },
        {
         "name": "is_deleted",
         "rawType": "int64",
         "type": "integer"
        },
        {
         "name": "class_name",
         "rawType": "object",
         "type": "string"
        },
        {
         "name": "price",
         "rawType": "int64",
         "type": "integer"
        },
        {
         "name": "campaign_name",
         "rawType": "object",
         "type": "string"
        },
        {
         "name": "mean",
         "rawType": "float64",
         "type": "float"
        },
        {
         "name": "median",
         "rawType": "float64",
         "type": "float"
        },
        {
         "name": "max",
         "rawType": "int64",
         "type": "integer"
        },
        {
         "name": "min",
         "rawType": "int64",
         "type": "integer"
        },
        {
         "name": "routine_flg",
         "rawType": "int64",
         "type": "integer"
        },
        {
         "name": "calc_date",
         "rawType": "object",
         "type": "string"
        },
        {
         "name": "membership_period",
         "rawType": "int64",
         "type": "integer"
        }
       ],
       "ref": "0b1257b7-4b56-4152-90f3-522f7a3b018b",
       "rows": [
        [
         "0",
         "OA832399",
         "XXXX",
         "C01",
         "F",
         "2015-05-01",
         null,
         "CA1",
         "0",
         "オールタイム",
         "10500",
         "通常",
         "4.833333333333333",
         "5.0",
         "8",
         "2",
         "1",
         "2019-04-30",
         "47"
        ],
        [
         "1",
         "PL270116",
         "XXXXX",
         "C01",
         "M",
         "2015-05-01",
         null,
         "CA1",
         "0",
         "オールタイム",
         "10500",
         "通常",
         "5.083333333333333",
         "5.0",
         "7",
         "3",
         "1",
         "2019-04-30",
         "47"
        ],
        [
         "2",
         "OA974876",
         "XXXXX",
         "C01",
         "M",
         "2015-05-01",
         null,
         "CA1",
         "0",
         "オールタイム",
         "10500",
         "通常",
         "4.583333333333333",
         "5.0",
         "6",
         "3",
         "1",
         "2019-04-30",
         "47"
        ],
        [
         "3",
         "HD024127",
         "XXXXX",
         "C01",
         "F",
         "2015-05-01",
         null,
         "CA1",
         "0",
         "オールタイム",
         "10500",
         "通常",
         "4.833333333333333",
         "4.5",
         "7",
         "2",
         "1",
         "2019-04-30",
         "47"
        ],
        [
         "4",
         "HD661448",
         "XXXXX",
         "C03",
         "F",
         "2015-05-01",
         null,
         "CA1",
         "0",
         "ナイト",
         "6000",
         "通常",
         "3.9166666666666665",
         "4.0",
         "6",
         "1",
         "1",
         "2019-04-30",
         "47"
        ]
       ],
       "shape": {
        "columns": 18,
        "rows": 5
       }
      },
      "text/html": [
       "<div>\n",
       "<style scoped>\n",
       "    .dataframe tbody tr th:only-of-type {\n",
       "        vertical-align: middle;\n",
       "    }\n",
       "\n",
       "    .dataframe tbody tr th {\n",
       "        vertical-align: top;\n",
       "    }\n",
       "\n",
       "    .dataframe thead th {\n",
       "        text-align: right;\n",
       "    }\n",
       "</style>\n",
       "<table border=\"1\" class=\"dataframe\">\n",
       "  <thead>\n",
       "    <tr style=\"text-align: right;\">\n",
       "      <th></th>\n",
       "      <th>customer_id</th>\n",
       "      <th>name</th>\n",
       "      <th>class</th>\n",
       "      <th>gender</th>\n",
       "      <th>start_date</th>\n",
       "      <th>end_date</th>\n",
       "      <th>campaign_id</th>\n",
       "      <th>is_deleted</th>\n",
       "      <th>class_name</th>\n",
       "      <th>price</th>\n",
       "      <th>campaign_name</th>\n",
       "      <th>mean</th>\n",
       "      <th>median</th>\n",
       "      <th>max</th>\n",
       "      <th>min</th>\n",
       "      <th>routine_flg</th>\n",
       "      <th>calc_date</th>\n",
       "      <th>membership_period</th>\n",
       "    </tr>\n",
       "  </thead>\n",
       "  <tbody>\n",
       "    <tr>\n",
       "      <th>0</th>\n",
       "      <td>OA832399</td>\n",
       "      <td>XXXX</td>\n",
       "      <td>C01</td>\n",
       "      <td>F</td>\n",
       "      <td>2015-05-01</td>\n",
       "      <td>NaN</td>\n",
       "      <td>CA1</td>\n",
       "      <td>0</td>\n",
       "      <td>オールタイム</td>\n",
       "      <td>10500</td>\n",
       "      <td>通常</td>\n",
       "      <td>4.833333</td>\n",
       "      <td>5.0</td>\n",
       "      <td>8</td>\n",
       "      <td>2</td>\n",
       "      <td>1</td>\n",
       "      <td>2019-04-30</td>\n",
       "      <td>47</td>\n",
       "    </tr>\n",
       "    <tr>\n",
       "      <th>1</th>\n",
       "      <td>PL270116</td>\n",
       "      <td>XXXXX</td>\n",
       "      <td>C01</td>\n",
       "      <td>M</td>\n",
       "      <td>2015-05-01</td>\n",
       "      <td>NaN</td>\n",
       "      <td>CA1</td>\n",
       "      <td>0</td>\n",
       "      <td>オールタイム</td>\n",
       "      <td>10500</td>\n",
       "      <td>通常</td>\n",
       "      <td>5.083333</td>\n",
       "      <td>5.0</td>\n",
       "      <td>7</td>\n",
       "      <td>3</td>\n",
       "      <td>1</td>\n",
       "      <td>2019-04-30</td>\n",
       "      <td>47</td>\n",
       "    </tr>\n",
       "    <tr>\n",
       "      <th>2</th>\n",
       "      <td>OA974876</td>\n",
       "      <td>XXXXX</td>\n",
       "      <td>C01</td>\n",
       "      <td>M</td>\n",
       "      <td>2015-05-01</td>\n",
       "      <td>NaN</td>\n",
       "      <td>CA1</td>\n",
       "      <td>0</td>\n",
       "      <td>オールタイム</td>\n",
       "      <td>10500</td>\n",
       "      <td>通常</td>\n",
       "      <td>4.583333</td>\n",
       "      <td>5.0</td>\n",
       "      <td>6</td>\n",
       "      <td>3</td>\n",
       "      <td>1</td>\n",
       "      <td>2019-04-30</td>\n",
       "      <td>47</td>\n",
       "    </tr>\n",
       "    <tr>\n",
       "      <th>3</th>\n",
       "      <td>HD024127</td>\n",
       "      <td>XXXXX</td>\n",
       "      <td>C01</td>\n",
       "      <td>F</td>\n",
       "      <td>2015-05-01</td>\n",
       "      <td>NaN</td>\n",
       "      <td>CA1</td>\n",
       "      <td>0</td>\n",
       "      <td>オールタイム</td>\n",
       "      <td>10500</td>\n",
       "      <td>通常</td>\n",
       "      <td>4.833333</td>\n",
       "      <td>4.5</td>\n",
       "      <td>7</td>\n",
       "      <td>2</td>\n",
       "      <td>1</td>\n",
       "      <td>2019-04-30</td>\n",
       "      <td>47</td>\n",
       "    </tr>\n",
       "    <tr>\n",
       "      <th>4</th>\n",
       "      <td>HD661448</td>\n",
       "      <td>XXXXX</td>\n",
       "      <td>C03</td>\n",
       "      <td>F</td>\n",
       "      <td>2015-05-01</td>\n",
       "      <td>NaN</td>\n",
       "      <td>CA1</td>\n",
       "      <td>0</td>\n",
       "      <td>ナイト</td>\n",
       "      <td>6000</td>\n",
       "      <td>通常</td>\n",
       "      <td>3.916667</td>\n",
       "      <td>4.0</td>\n",
       "      <td>6</td>\n",
       "      <td>1</td>\n",
       "      <td>1</td>\n",
       "      <td>2019-04-30</td>\n",
       "      <td>47</td>\n",
       "    </tr>\n",
       "  </tbody>\n",
       "</table>\n",
       "</div>"
      ],
      "text/plain": [
       "  customer_id   name class gender  start_date end_date campaign_id  \\\n",
       "0    OA832399   XXXX   C01      F  2015-05-01      NaN         CA1   \n",
       "1    PL270116  XXXXX   C01      M  2015-05-01      NaN         CA1   \n",
       "2    OA974876  XXXXX   C01      M  2015-05-01      NaN         CA1   \n",
       "3    HD024127  XXXXX   C01      F  2015-05-01      NaN         CA1   \n",
       "4    HD661448  XXXXX   C03      F  2015-05-01      NaN         CA1   \n",
       "\n",
       "   is_deleted class_name  price campaign_name      mean  median  max  min  \\\n",
       "0           0     オールタイム  10500            通常  4.833333     5.0    8    2   \n",
       "1           0     オールタイム  10500            通常  5.083333     5.0    7    3   \n",
       "2           0     オールタイム  10500            通常  4.583333     5.0    6    3   \n",
       "3           0     オールタイム  10500            通常  4.833333     4.5    7    2   \n",
       "4           0        ナイト   6000            通常  3.916667     4.0    6    1   \n",
       "\n",
       "   routine_flg   calc_date  membership_period  \n",
       "0            1  2019-04-30                 47  \n",
       "1            1  2019-04-30                 47  \n",
       "2            1  2019-04-30                 47  \n",
       "3            1  2019-04-30                 47  \n",
       "4            1  2019-04-30                 47  "
      ]
     },
     "execution_count": 2,
     "metadata": {},
     "output_type": "execute_result"
    }
   ],
   "source": [
    "customer.head()"
   ]
  },
  {
   "cell_type": "code",
   "execution_count": 3,
   "id": "ae3b902f",
   "metadata": {},
   "outputs": [
    {
     "data": {
      "application/vnd.microsoft.datawrangler.viewer.v0+json": {
       "columns": [
        {
         "name": "index",
         "rawType": "int64",
         "type": "integer"
        },
        {
         "name": "年月",
         "rawType": "int64",
         "type": "integer"
        },
        {
         "name": "customer_id",
         "rawType": "object",
         "type": "string"
        },
        {
         "name": "count",
         "rawType": "int64",
         "type": "integer"
        }
       ],
       "ref": "c939d667-fccf-4a45-9b0e-fb7e1670ccff",
       "rows": [
        [
         "0",
         "201804",
         "AS002855",
         "4"
        ],
        [
         "1",
         "201804",
         "AS009013",
         "2"
        ],
        [
         "2",
         "201804",
         "AS009373",
         "3"
        ],
        [
         "3",
         "201804",
         "AS015315",
         "6"
        ],
        [
         "4",
         "201804",
         "AS015739",
         "7"
        ]
       ],
       "shape": {
        "columns": 3,
        "rows": 5
       }
      },
      "text/html": [
       "<div>\n",
       "<style scoped>\n",
       "    .dataframe tbody tr th:only-of-type {\n",
       "        vertical-align: middle;\n",
       "    }\n",
       "\n",
       "    .dataframe tbody tr th {\n",
       "        vertical-align: top;\n",
       "    }\n",
       "\n",
       "    .dataframe thead th {\n",
       "        text-align: right;\n",
       "    }\n",
       "</style>\n",
       "<table border=\"1\" class=\"dataframe\">\n",
       "  <thead>\n",
       "    <tr style=\"text-align: right;\">\n",
       "      <th></th>\n",
       "      <th>年月</th>\n",
       "      <th>customer_id</th>\n",
       "      <th>count</th>\n",
       "    </tr>\n",
       "  </thead>\n",
       "  <tbody>\n",
       "    <tr>\n",
       "      <th>0</th>\n",
       "      <td>201804</td>\n",
       "      <td>AS002855</td>\n",
       "      <td>4</td>\n",
       "    </tr>\n",
       "    <tr>\n",
       "      <th>1</th>\n",
       "      <td>201804</td>\n",
       "      <td>AS009013</td>\n",
       "      <td>2</td>\n",
       "    </tr>\n",
       "    <tr>\n",
       "      <th>2</th>\n",
       "      <td>201804</td>\n",
       "      <td>AS009373</td>\n",
       "      <td>3</td>\n",
       "    </tr>\n",
       "    <tr>\n",
       "      <th>3</th>\n",
       "      <td>201804</td>\n",
       "      <td>AS015315</td>\n",
       "      <td>6</td>\n",
       "    </tr>\n",
       "    <tr>\n",
       "      <th>4</th>\n",
       "      <td>201804</td>\n",
       "      <td>AS015739</td>\n",
       "      <td>7</td>\n",
       "    </tr>\n",
       "  </tbody>\n",
       "</table>\n",
       "</div>"
      ],
      "text/plain": [
       "       年月 customer_id  count\n",
       "0  201804    AS002855      4\n",
       "1  201804    AS009013      2\n",
       "2  201804    AS009373      3\n",
       "3  201804    AS015315      6\n",
       "4  201804    AS015739      7"
      ]
     },
     "execution_count": 3,
     "metadata": {},
     "output_type": "execute_result"
    }
   ],
   "source": [
    "uselog_months.head()"
   ]
  },
  {
   "cell_type": "code",
   "execution_count": 4,
   "id": "0eb12f03",
   "metadata": {},
   "outputs": [
    {
     "data": {
      "application/vnd.microsoft.datawrangler.viewer.v0+json": {
       "columns": [
        {
         "name": "index",
         "rawType": "int64",
         "type": "integer"
        },
        {
         "name": "年月",
         "rawType": "int64",
         "type": "integer"
        },
        {
         "name": "customer_id",
         "rawType": "object",
         "type": "string"
        },
        {
         "name": "count_0",
         "rawType": "int64",
         "type": "integer"
        },
        {
         "name": "count_1",
         "rawType": "float64",
         "type": "float"
        }
       ],
       "ref": "3dad634d-9827-480e-aefb-be5518303c09",
       "rows": [
        [
         "0",
         "201805",
         "AS002855",
         "5",
         "4.0"
        ],
        [
         "1",
         "201805",
         "AS009373",
         "4",
         "3.0"
        ],
        [
         "2",
         "201805",
         "AS015233",
         "7",
         null
        ],
        [
         "3",
         "201805",
         "AS015315",
         "3",
         "6.0"
        ],
        [
         "4",
         "201805",
         "AS015739",
         "5",
         "7.0"
        ]
       ],
       "shape": {
        "columns": 4,
        "rows": 5
       }
      },
      "text/html": [
       "<div>\n",
       "<style scoped>\n",
       "    .dataframe tbody tr th:only-of-type {\n",
       "        vertical-align: middle;\n",
       "    }\n",
       "\n",
       "    .dataframe tbody tr th {\n",
       "        vertical-align: top;\n",
       "    }\n",
       "\n",
       "    .dataframe thead th {\n",
       "        text-align: right;\n",
       "    }\n",
       "</style>\n",
       "<table border=\"1\" class=\"dataframe\">\n",
       "  <thead>\n",
       "    <tr style=\"text-align: right;\">\n",
       "      <th></th>\n",
       "      <th>年月</th>\n",
       "      <th>customer_id</th>\n",
       "      <th>count_0</th>\n",
       "      <th>count_1</th>\n",
       "    </tr>\n",
       "  </thead>\n",
       "  <tbody>\n",
       "    <tr>\n",
       "      <th>0</th>\n",
       "      <td>201805</td>\n",
       "      <td>AS002855</td>\n",
       "      <td>5</td>\n",
       "      <td>4.0</td>\n",
       "    </tr>\n",
       "    <tr>\n",
       "      <th>1</th>\n",
       "      <td>201805</td>\n",
       "      <td>AS009373</td>\n",
       "      <td>4</td>\n",
       "      <td>3.0</td>\n",
       "    </tr>\n",
       "    <tr>\n",
       "      <th>2</th>\n",
       "      <td>201805</td>\n",
       "      <td>AS015233</td>\n",
       "      <td>7</td>\n",
       "      <td>NaN</td>\n",
       "    </tr>\n",
       "    <tr>\n",
       "      <th>3</th>\n",
       "      <td>201805</td>\n",
       "      <td>AS015315</td>\n",
       "      <td>3</td>\n",
       "      <td>6.0</td>\n",
       "    </tr>\n",
       "    <tr>\n",
       "      <th>4</th>\n",
       "      <td>201805</td>\n",
       "      <td>AS015739</td>\n",
       "      <td>5</td>\n",
       "      <td>7.0</td>\n",
       "    </tr>\n",
       "  </tbody>\n",
       "</table>\n",
       "</div>"
      ],
      "text/plain": [
       "       年月 customer_id  count_0  count_1\n",
       "0  201805    AS002855        5      4.0\n",
       "1  201805    AS009373        4      3.0\n",
       "2  201805    AS015233        7      NaN\n",
       "3  201805    AS015315        3      6.0\n",
       "4  201805    AS015739        5      7.0"
      ]
     },
     "execution_count": 4,
     "metadata": {},
     "output_type": "execute_result"
    }
   ],
   "source": [
    "year_months = list(uselog_months[\"年月\"].unique())\n",
    "uselog = pd.DataFrame()\n",
    "for i in range(1, len(year_months)):\n",
    "    tmp = uselog_months.loc[uselog_months[\"年月\"] == year_months[i]].copy()\n",
    "    tmp.rename(columns={\"count\":\"count_0\"}, inplace=True)\n",
    "    tmp_before = uselog_months.loc[uselog_months[\"年月\"]==year_months[i-1]].copy()\n",
    "    del tmp_before[\"年月\"]\n",
    "    tmp_before.rename(columns={\"count\":\"count_1\"}, inplace=True)\n",
    "    tmp = pd.merge(tmp, tmp_before, on=\"customer_id\", how=\"left\")\n",
    "    uselog = pd.concat([uselog,tmp], ignore_index=True)\n",
    "uselog.head()"
   ]
  },
  {
   "cell_type": "code",
   "execution_count": 5,
   "id": "10b84976",
   "metadata": {},
   "outputs": [
    {
     "name": "stdout",
     "output_type": "stream",
     "text": [
      "33851\n"
     ]
    },
    {
     "data": {
      "application/vnd.microsoft.datawrangler.viewer.v0+json": {
       "columns": [
        {
         "name": "index",
         "rawType": "int64",
         "type": "integer"
        },
        {
         "name": "年月",
         "rawType": "object",
         "type": "string"
        },
        {
         "name": "customer_id",
         "rawType": "object",
         "type": "string"
        },
        {
         "name": "count_0",
         "rawType": "int64",
         "type": "integer"
        },
        {
         "name": "count_1",
         "rawType": "float64",
         "type": "float"
        },
        {
         "name": "name",
         "rawType": "object",
         "type": "unknown"
        },
        {
         "name": "class",
         "rawType": "object",
         "type": "unknown"
        },
        {
         "name": "gender",
         "rawType": "object",
         "type": "unknown"
        },
        {
         "name": "start_date",
         "rawType": "object",
         "type": "unknown"
        },
        {
         "name": "end_date",
         "rawType": "datetime64[ns]",
         "type": "datetime"
        },
        {
         "name": "campaign_id",
         "rawType": "object",
         "type": "unknown"
        },
        {
         "name": "is_deleted",
         "rawType": "float64",
         "type": "float"
        },
        {
         "name": "class_name",
         "rawType": "object",
         "type": "unknown"
        },
        {
         "name": "price",
         "rawType": "float64",
         "type": "float"
        },
        {
         "name": "campaign_name",
         "rawType": "object",
         "type": "unknown"
        },
        {
         "name": "mean",
         "rawType": "float64",
         "type": "float"
        },
        {
         "name": "median",
         "rawType": "float64",
         "type": "float"
        },
        {
         "name": "max",
         "rawType": "float64",
         "type": "float"
        },
        {
         "name": "min",
         "rawType": "float64",
         "type": "float"
        },
        {
         "name": "routine_flg",
         "rawType": "float64",
         "type": "float"
        },
        {
         "name": "calc_date",
         "rawType": "object",
         "type": "unknown"
        },
        {
         "name": "membership_period",
         "rawType": "float64",
         "type": "float"
        },
        {
         "name": "exit_date",
         "rawType": "datetime64[ns]",
         "type": "datetime"
        }
       ],
       "ref": "88b4a9cf-6e73-437b-9992-2a27a799801d",
       "rows": [
        [
         "0",
         "201805",
         "AS002855",
         "5",
         "4.0",
         null,
         null,
         null,
         null,
         null,
         null,
         null,
         null,
         null,
         null,
         null,
         null,
         null,
         null,
         null,
         null,
         null,
         null
        ],
        [
         "1",
         "201805",
         "AS009373",
         "4",
         "3.0",
         null,
         null,
         null,
         null,
         null,
         null,
         null,
         null,
         null,
         null,
         null,
         null,
         null,
         null,
         null,
         null,
         null,
         null
        ],
        [
         "2",
         "201805",
         "AS015233",
         "7",
         null,
         null,
         null,
         null,
         null,
         null,
         null,
         null,
         null,
         null,
         null,
         null,
         null,
         null,
         null,
         null,
         null,
         null,
         null
        ],
        [
         "3",
         "201805",
         "AS015315",
         "3",
         "6.0",
         null,
         null,
         null,
         null,
         null,
         null,
         null,
         null,
         null,
         null,
         null,
         null,
         null,
         null,
         null,
         null,
         null,
         null
        ],
        [
         "4",
         "201805",
         "AS015739",
         "5",
         "7.0",
         null,
         null,
         null,
         null,
         null,
         null,
         null,
         null,
         null,
         null,
         null,
         null,
         null,
         null,
         null,
         null,
         null,
         null
        ]
       ],
       "shape": {
        "columns": 22,
        "rows": 5
       }
      },
      "text/html": [
       "<div>\n",
       "<style scoped>\n",
       "    .dataframe tbody tr th:only-of-type {\n",
       "        vertical-align: middle;\n",
       "    }\n",
       "\n",
       "    .dataframe tbody tr th {\n",
       "        vertical-align: top;\n",
       "    }\n",
       "\n",
       "    .dataframe thead th {\n",
       "        text-align: right;\n",
       "    }\n",
       "</style>\n",
       "<table border=\"1\" class=\"dataframe\">\n",
       "  <thead>\n",
       "    <tr style=\"text-align: right;\">\n",
       "      <th></th>\n",
       "      <th>年月</th>\n",
       "      <th>customer_id</th>\n",
       "      <th>count_0</th>\n",
       "      <th>count_1</th>\n",
       "      <th>name</th>\n",
       "      <th>class</th>\n",
       "      <th>gender</th>\n",
       "      <th>start_date</th>\n",
       "      <th>end_date</th>\n",
       "      <th>campaign_id</th>\n",
       "      <th>...</th>\n",
       "      <th>price</th>\n",
       "      <th>campaign_name</th>\n",
       "      <th>mean</th>\n",
       "      <th>median</th>\n",
       "      <th>max</th>\n",
       "      <th>min</th>\n",
       "      <th>routine_flg</th>\n",
       "      <th>calc_date</th>\n",
       "      <th>membership_period</th>\n",
       "      <th>exit_date</th>\n",
       "    </tr>\n",
       "  </thead>\n",
       "  <tbody>\n",
       "    <tr>\n",
       "      <th>0</th>\n",
       "      <td>201805</td>\n",
       "      <td>AS002855</td>\n",
       "      <td>5</td>\n",
       "      <td>4.0</td>\n",
       "      <td>NaN</td>\n",
       "      <td>NaN</td>\n",
       "      <td>NaN</td>\n",
       "      <td>NaN</td>\n",
       "      <td>NaT</td>\n",
       "      <td>NaN</td>\n",
       "      <td>...</td>\n",
       "      <td>NaN</td>\n",
       "      <td>NaN</td>\n",
       "      <td>NaN</td>\n",
       "      <td>NaN</td>\n",
       "      <td>NaN</td>\n",
       "      <td>NaN</td>\n",
       "      <td>NaN</td>\n",
       "      <td>NaN</td>\n",
       "      <td>NaN</td>\n",
       "      <td>NaT</td>\n",
       "    </tr>\n",
       "    <tr>\n",
       "      <th>1</th>\n",
       "      <td>201805</td>\n",
       "      <td>AS009373</td>\n",
       "      <td>4</td>\n",
       "      <td>3.0</td>\n",
       "      <td>NaN</td>\n",
       "      <td>NaN</td>\n",
       "      <td>NaN</td>\n",
       "      <td>NaN</td>\n",
       "      <td>NaT</td>\n",
       "      <td>NaN</td>\n",
       "      <td>...</td>\n",
       "      <td>NaN</td>\n",
       "      <td>NaN</td>\n",
       "      <td>NaN</td>\n",
       "      <td>NaN</td>\n",
       "      <td>NaN</td>\n",
       "      <td>NaN</td>\n",
       "      <td>NaN</td>\n",
       "      <td>NaN</td>\n",
       "      <td>NaN</td>\n",
       "      <td>NaT</td>\n",
       "    </tr>\n",
       "    <tr>\n",
       "      <th>2</th>\n",
       "      <td>201805</td>\n",
       "      <td>AS015233</td>\n",
       "      <td>7</td>\n",
       "      <td>NaN</td>\n",
       "      <td>NaN</td>\n",
       "      <td>NaN</td>\n",
       "      <td>NaN</td>\n",
       "      <td>NaN</td>\n",
       "      <td>NaT</td>\n",
       "      <td>NaN</td>\n",
       "      <td>...</td>\n",
       "      <td>NaN</td>\n",
       "      <td>NaN</td>\n",
       "      <td>NaN</td>\n",
       "      <td>NaN</td>\n",
       "      <td>NaN</td>\n",
       "      <td>NaN</td>\n",
       "      <td>NaN</td>\n",
       "      <td>NaN</td>\n",
       "      <td>NaN</td>\n",
       "      <td>NaT</td>\n",
       "    </tr>\n",
       "    <tr>\n",
       "      <th>3</th>\n",
       "      <td>201805</td>\n",
       "      <td>AS015315</td>\n",
       "      <td>3</td>\n",
       "      <td>6.0</td>\n",
       "      <td>NaN</td>\n",
       "      <td>NaN</td>\n",
       "      <td>NaN</td>\n",
       "      <td>NaN</td>\n",
       "      <td>NaT</td>\n",
       "      <td>NaN</td>\n",
       "      <td>...</td>\n",
       "      <td>NaN</td>\n",
       "      <td>NaN</td>\n",
       "      <td>NaN</td>\n",
       "      <td>NaN</td>\n",
       "      <td>NaN</td>\n",
       "      <td>NaN</td>\n",
       "      <td>NaN</td>\n",
       "      <td>NaN</td>\n",
       "      <td>NaN</td>\n",
       "      <td>NaT</td>\n",
       "    </tr>\n",
       "    <tr>\n",
       "      <th>4</th>\n",
       "      <td>201805</td>\n",
       "      <td>AS015739</td>\n",
       "      <td>5</td>\n",
       "      <td>7.0</td>\n",
       "      <td>NaN</td>\n",
       "      <td>NaN</td>\n",
       "      <td>NaN</td>\n",
       "      <td>NaN</td>\n",
       "      <td>NaT</td>\n",
       "      <td>NaN</td>\n",
       "      <td>...</td>\n",
       "      <td>NaN</td>\n",
       "      <td>NaN</td>\n",
       "      <td>NaN</td>\n",
       "      <td>NaN</td>\n",
       "      <td>NaN</td>\n",
       "      <td>NaN</td>\n",
       "      <td>NaN</td>\n",
       "      <td>NaN</td>\n",
       "      <td>NaN</td>\n",
       "      <td>NaT</td>\n",
       "    </tr>\n",
       "  </tbody>\n",
       "</table>\n",
       "<p>5 rows × 22 columns</p>\n",
       "</div>"
      ],
      "text/plain": [
       "       年月 customer_id  count_0  count_1 name class gender start_date end_date  \\\n",
       "0  201805    AS002855        5      4.0  NaN   NaN    NaN        NaN      NaT   \n",
       "1  201805    AS009373        4      3.0  NaN   NaN    NaN        NaN      NaT   \n",
       "2  201805    AS015233        7      NaN  NaN   NaN    NaN        NaN      NaT   \n",
       "3  201805    AS015315        3      6.0  NaN   NaN    NaN        NaN      NaT   \n",
       "4  201805    AS015739        5      7.0  NaN   NaN    NaN        NaN      NaT   \n",
       "\n",
       "  campaign_id  ...  price campaign_name  mean median  max  min  routine_flg  \\\n",
       "0         NaN  ...    NaN           NaN   NaN    NaN  NaN  NaN          NaN   \n",
       "1         NaN  ...    NaN           NaN   NaN    NaN  NaN  NaN          NaN   \n",
       "2         NaN  ...    NaN           NaN   NaN    NaN  NaN  NaN          NaN   \n",
       "3         NaN  ...    NaN           NaN   NaN    NaN  NaN  NaN          NaN   \n",
       "4         NaN  ...    NaN           NaN   NaN    NaN  NaN  NaN          NaN   \n",
       "\n",
       "   calc_date  membership_period exit_date  \n",
       "0        NaN                NaN       NaT  \n",
       "1        NaN                NaN       NaT  \n",
       "2        NaN                NaN       NaT  \n",
       "3        NaN                NaN       NaT  \n",
       "4        NaN                NaN       NaT  \n",
       "\n",
       "[5 rows x 22 columns]"
      ]
     },
     "execution_count": 5,
     "metadata": {},
     "output_type": "execute_result"
    }
   ],
   "source": [
    "from dateutil.relativedelta import relativedelta\n",
    "exit_customer = customer.loc[customer[\"is_deleted\"]==1].copy()\n",
    "exit_customer[\"exit_date\"] = None\n",
    "exit_customer[\"end_date\"] = pd.to_datetime(exit_customer[\"end_date\"])\n",
    "for i in exit_customer.index:\n",
    "    exit_customer.loc[i,\"exit_date\"] = exit_customer.loc[i,\"end_date\"] - relativedelta(months=1)\n",
    "exit_customer[\"exit_date\"] = pd.to_datetime(exit_customer[\"exit_date\"])\n",
    "exit_customer[\"年月\"] = exit_customer[\"exit_date\"].dt.strftime(\"%Y%m\")\n",
    "uselog[\"年月\"] = uselog[\"年月\"].astype(str)\n",
    "exit_uselog = pd.merge(uselog, exit_customer, on=[\"customer_id\", \"年月\"],how=\"left\")\n",
    "print(len(uselog))\n",
    "exit_uselog.head()"
   ]
  },
  {
   "cell_type": "code",
   "execution_count": 6,
   "id": "57e2953a",
   "metadata": {},
   "outputs": [
    {
     "name": "stdout",
     "output_type": "stream",
     "text": [
      "1104\n",
      "1104\n"
     ]
    },
    {
     "data": {
      "application/vnd.microsoft.datawrangler.viewer.v0+json": {
       "columns": [
        {
         "name": "index",
         "rawType": "int64",
         "type": "integer"
        },
        {
         "name": "年月",
         "rawType": "object",
         "type": "string"
        },
        {
         "name": "customer_id",
         "rawType": "object",
         "type": "string"
        },
        {
         "name": "count_0",
         "rawType": "int64",
         "type": "integer"
        },
        {
         "name": "count_1",
         "rawType": "float64",
         "type": "float"
        },
        {
         "name": "name",
         "rawType": "object",
         "type": "string"
        },
        {
         "name": "class",
         "rawType": "object",
         "type": "string"
        },
        {
         "name": "gender",
         "rawType": "object",
         "type": "string"
        },
        {
         "name": "start_date",
         "rawType": "object",
         "type": "string"
        },
        {
         "name": "end_date",
         "rawType": "datetime64[ns]",
         "type": "datetime"
        },
        {
         "name": "campaign_id",
         "rawType": "object",
         "type": "string"
        },
        {
         "name": "is_deleted",
         "rawType": "float64",
         "type": "float"
        },
        {
         "name": "class_name",
         "rawType": "object",
         "type": "string"
        },
        {
         "name": "price",
         "rawType": "float64",
         "type": "float"
        },
        {
         "name": "campaign_name",
         "rawType": "object",
         "type": "string"
        },
        {
         "name": "mean",
         "rawType": "float64",
         "type": "float"
        },
        {
         "name": "median",
         "rawType": "float64",
         "type": "float"
        },
        {
         "name": "max",
         "rawType": "float64",
         "type": "float"
        },
        {
         "name": "min",
         "rawType": "float64",
         "type": "float"
        },
        {
         "name": "routine_flg",
         "rawType": "float64",
         "type": "float"
        },
        {
         "name": "calc_date",
         "rawType": "object",
         "type": "string"
        },
        {
         "name": "membership_period",
         "rawType": "float64",
         "type": "float"
        },
        {
         "name": "exit_date",
         "rawType": "datetime64[ns]",
         "type": "datetime"
        }
       ],
       "ref": "896528c5-8ada-4be3-8fa8-f57448184b64",
       "rows": [
        [
         "19",
         "201805",
         "AS055680",
         "3",
         "3.0",
         "XXXXX",
         "C01",
         "M",
         "2018-03-01",
         "2018-06-30 00:00:00",
         "CA1",
         "1.0",
         "オールタイム",
         "10500.0",
         "通常",
         "3.0",
         "3.0",
         "3.0",
         "3.0",
         "0.0",
         "2018-06-30",
         "3.0",
         "2018-05-30 00:00:00"
        ],
        [
         "57",
         "201805",
         "AS169823",
         "2",
         "3.0",
         "XX",
         "C01",
         "M",
         "2017-11-01",
         "2018-06-30 00:00:00",
         "CA1",
         "1.0",
         "オールタイム",
         "10500.0",
         "通常",
         "3.0",
         "3.0",
         "4.0",
         "2.0",
         "1.0",
         "2018-06-30",
         "7.0",
         "2018-05-30 00:00:00"
        ],
        [
         "110",
         "201805",
         "AS305860",
         "5",
         "3.0",
         "XXXX",
         "C01",
         "M",
         "2017-06-01",
         "2018-06-30 00:00:00",
         "CA1",
         "1.0",
         "オールタイム",
         "10500.0",
         "通常",
         "3.333333333333333",
         "3.0",
         "5.0",
         "2.0",
         "0.0",
         "2018-06-30",
         "12.0",
         "2018-05-30 00:00:00"
        ],
        [
         "128",
         "201805",
         "AS363699",
         "5",
         "3.0",
         "XXXXX",
         "C01",
         "M",
         "2018-02-01",
         "2018-06-30 00:00:00",
         "CA1",
         "1.0",
         "オールタイム",
         "10500.0",
         "通常",
         "3.333333333333333",
         "3.0",
         "5.0",
         "2.0",
         "0.0",
         "2018-06-30",
         "4.0",
         "2018-05-30 00:00:00"
        ],
        [
         "147",
         "201805",
         "AS417696",
         "1",
         "4.0",
         "XX",
         "C03",
         "F",
         "2017-09-01",
         "2018-06-30 00:00:00",
         "CA1",
         "1.0",
         "ナイト",
         "6000.0",
         "通常",
         "2.0",
         "1.0",
         "4.0",
         "1.0",
         "0.0",
         "2018-06-30",
         "9.0",
         "2018-05-30 00:00:00"
        ]
       ],
       "shape": {
        "columns": 22,
        "rows": 5
       }
      },
      "text/html": [
       "<div>\n",
       "<style scoped>\n",
       "    .dataframe tbody tr th:only-of-type {\n",
       "        vertical-align: middle;\n",
       "    }\n",
       "\n",
       "    .dataframe tbody tr th {\n",
       "        vertical-align: top;\n",
       "    }\n",
       "\n",
       "    .dataframe thead th {\n",
       "        text-align: right;\n",
       "    }\n",
       "</style>\n",
       "<table border=\"1\" class=\"dataframe\">\n",
       "  <thead>\n",
       "    <tr style=\"text-align: right;\">\n",
       "      <th></th>\n",
       "      <th>年月</th>\n",
       "      <th>customer_id</th>\n",
       "      <th>count_0</th>\n",
       "      <th>count_1</th>\n",
       "      <th>name</th>\n",
       "      <th>class</th>\n",
       "      <th>gender</th>\n",
       "      <th>start_date</th>\n",
       "      <th>end_date</th>\n",
       "      <th>campaign_id</th>\n",
       "      <th>...</th>\n",
       "      <th>price</th>\n",
       "      <th>campaign_name</th>\n",
       "      <th>mean</th>\n",
       "      <th>median</th>\n",
       "      <th>max</th>\n",
       "      <th>min</th>\n",
       "      <th>routine_flg</th>\n",
       "      <th>calc_date</th>\n",
       "      <th>membership_period</th>\n",
       "      <th>exit_date</th>\n",
       "    </tr>\n",
       "  </thead>\n",
       "  <tbody>\n",
       "    <tr>\n",
       "      <th>19</th>\n",
       "      <td>201805</td>\n",
       "      <td>AS055680</td>\n",
       "      <td>3</td>\n",
       "      <td>3.0</td>\n",
       "      <td>XXXXX</td>\n",
       "      <td>C01</td>\n",
       "      <td>M</td>\n",
       "      <td>2018-03-01</td>\n",
       "      <td>2018-06-30</td>\n",
       "      <td>CA1</td>\n",
       "      <td>...</td>\n",
       "      <td>10500.0</td>\n",
       "      <td>通常</td>\n",
       "      <td>3.000000</td>\n",
       "      <td>3.0</td>\n",
       "      <td>3.0</td>\n",
       "      <td>3.0</td>\n",
       "      <td>0.0</td>\n",
       "      <td>2018-06-30</td>\n",
       "      <td>3.0</td>\n",
       "      <td>2018-05-30</td>\n",
       "    </tr>\n",
       "    <tr>\n",
       "      <th>57</th>\n",
       "      <td>201805</td>\n",
       "      <td>AS169823</td>\n",
       "      <td>2</td>\n",
       "      <td>3.0</td>\n",
       "      <td>XX</td>\n",
       "      <td>C01</td>\n",
       "      <td>M</td>\n",
       "      <td>2017-11-01</td>\n",
       "      <td>2018-06-30</td>\n",
       "      <td>CA1</td>\n",
       "      <td>...</td>\n",
       "      <td>10500.0</td>\n",
       "      <td>通常</td>\n",
       "      <td>3.000000</td>\n",
       "      <td>3.0</td>\n",
       "      <td>4.0</td>\n",
       "      <td>2.0</td>\n",
       "      <td>1.0</td>\n",
       "      <td>2018-06-30</td>\n",
       "      <td>7.0</td>\n",
       "      <td>2018-05-30</td>\n",
       "    </tr>\n",
       "    <tr>\n",
       "      <th>110</th>\n",
       "      <td>201805</td>\n",
       "      <td>AS305860</td>\n",
       "      <td>5</td>\n",
       "      <td>3.0</td>\n",
       "      <td>XXXX</td>\n",
       "      <td>C01</td>\n",
       "      <td>M</td>\n",
       "      <td>2017-06-01</td>\n",
       "      <td>2018-06-30</td>\n",
       "      <td>CA1</td>\n",
       "      <td>...</td>\n",
       "      <td>10500.0</td>\n",
       "      <td>通常</td>\n",
       "      <td>3.333333</td>\n",
       "      <td>3.0</td>\n",
       "      <td>5.0</td>\n",
       "      <td>2.0</td>\n",
       "      <td>0.0</td>\n",
       "      <td>2018-06-30</td>\n",
       "      <td>12.0</td>\n",
       "      <td>2018-05-30</td>\n",
       "    </tr>\n",
       "    <tr>\n",
       "      <th>128</th>\n",
       "      <td>201805</td>\n",
       "      <td>AS363699</td>\n",
       "      <td>5</td>\n",
       "      <td>3.0</td>\n",
       "      <td>XXXXX</td>\n",
       "      <td>C01</td>\n",
       "      <td>M</td>\n",
       "      <td>2018-02-01</td>\n",
       "      <td>2018-06-30</td>\n",
       "      <td>CA1</td>\n",
       "      <td>...</td>\n",
       "      <td>10500.0</td>\n",
       "      <td>通常</td>\n",
       "      <td>3.333333</td>\n",
       "      <td>3.0</td>\n",
       "      <td>5.0</td>\n",
       "      <td>2.0</td>\n",
       "      <td>0.0</td>\n",
       "      <td>2018-06-30</td>\n",
       "      <td>4.0</td>\n",
       "      <td>2018-05-30</td>\n",
       "    </tr>\n",
       "    <tr>\n",
       "      <th>147</th>\n",
       "      <td>201805</td>\n",
       "      <td>AS417696</td>\n",
       "      <td>1</td>\n",
       "      <td>4.0</td>\n",
       "      <td>XX</td>\n",
       "      <td>C03</td>\n",
       "      <td>F</td>\n",
       "      <td>2017-09-01</td>\n",
       "      <td>2018-06-30</td>\n",
       "      <td>CA1</td>\n",
       "      <td>...</td>\n",
       "      <td>6000.0</td>\n",
       "      <td>通常</td>\n",
       "      <td>2.000000</td>\n",
       "      <td>1.0</td>\n",
       "      <td>4.0</td>\n",
       "      <td>1.0</td>\n",
       "      <td>0.0</td>\n",
       "      <td>2018-06-30</td>\n",
       "      <td>9.0</td>\n",
       "      <td>2018-05-30</td>\n",
       "    </tr>\n",
       "  </tbody>\n",
       "</table>\n",
       "<p>5 rows × 22 columns</p>\n",
       "</div>"
      ],
      "text/plain": [
       "         年月 customer_id  count_0  count_1   name class gender  start_date  \\\n",
       "19   201805    AS055680        3      3.0  XXXXX   C01      M  2018-03-01   \n",
       "57   201805    AS169823        2      3.0     XX   C01      M  2017-11-01   \n",
       "110  201805    AS305860        5      3.0   XXXX   C01      M  2017-06-01   \n",
       "128  201805    AS363699        5      3.0  XXXXX   C01      M  2018-02-01   \n",
       "147  201805    AS417696        1      4.0     XX   C03      F  2017-09-01   \n",
       "\n",
       "      end_date campaign_id  ...    price campaign_name      mean median  max  \\\n",
       "19  2018-06-30         CA1  ...  10500.0            通常  3.000000    3.0  3.0   \n",
       "57  2018-06-30         CA1  ...  10500.0            通常  3.000000    3.0  4.0   \n",
       "110 2018-06-30         CA1  ...  10500.0            通常  3.333333    3.0  5.0   \n",
       "128 2018-06-30         CA1  ...  10500.0            通常  3.333333    3.0  5.0   \n",
       "147 2018-06-30         CA1  ...   6000.0            通常  2.000000    1.0  4.0   \n",
       "\n",
       "     min  routine_flg   calc_date  membership_period  exit_date  \n",
       "19   3.0          0.0  2018-06-30                3.0 2018-05-30  \n",
       "57   2.0          1.0  2018-06-30                7.0 2018-05-30  \n",
       "110  2.0          0.0  2018-06-30               12.0 2018-05-30  \n",
       "128  2.0          0.0  2018-06-30                4.0 2018-05-30  \n",
       "147  1.0          0.0  2018-06-30                9.0 2018-05-30  \n",
       "\n",
       "[5 rows x 22 columns]"
      ]
     },
     "execution_count": 6,
     "metadata": {},
     "output_type": "execute_result"
    }
   ],
   "source": [
    "exit_uselog = exit_uselog.dropna(subset=[\"name\"])\n",
    "print(len(exit_uselog))\n",
    "print(len(exit_uselog[\"customer_id\"].unique()))\n",
    "exit_uselog.head()"
   ]
  },
  {
   "cell_type": "code",
   "execution_count": 7,
   "id": "0d47b237",
   "metadata": {},
   "outputs": [
    {
     "name": "stdout",
     "output_type": "stream",
     "text": [
      "33851\n",
      "27422\n"
     ]
    }
   ],
   "source": [
    "conti_customer = customer.loc[customer[\"is_deleted\"] == 0]\n",
    "conti_uselog = pd.merge(uselog, conti_customer, on=[\"customer_id\"], how=\"left\")\n",
    "print(len(conti_uselog))\n",
    "conti_uselog = conti_uselog.dropna(subset=[\"name\"])\n",
    "print(len(conti_uselog))"
   ]
  },
  {
   "cell_type": "code",
   "execution_count": 8,
   "id": "c29e4e45",
   "metadata": {},
   "outputs": [
    {
     "name": "stdout",
     "output_type": "stream",
     "text": [
      "2842\n"
     ]
    },
    {
     "data": {
      "application/vnd.microsoft.datawrangler.viewer.v0+json": {
       "columns": [
        {
         "name": "index",
         "rawType": "int64",
         "type": "integer"
        },
        {
         "name": "年月",
         "rawType": "object",
         "type": "string"
        },
        {
         "name": "customer_id",
         "rawType": "object",
         "type": "string"
        },
        {
         "name": "count_0",
         "rawType": "int64",
         "type": "integer"
        },
        {
         "name": "count_1",
         "rawType": "float64",
         "type": "float"
        },
        {
         "name": "name",
         "rawType": "object",
         "type": "string"
        },
        {
         "name": "class",
         "rawType": "object",
         "type": "string"
        },
        {
         "name": "gender",
         "rawType": "object",
         "type": "string"
        },
        {
         "name": "start_date",
         "rawType": "object",
         "type": "string"
        },
        {
         "name": "end_date",
         "rawType": "object",
         "type": "unknown"
        },
        {
         "name": "campaign_id",
         "rawType": "object",
         "type": "string"
        },
        {
         "name": "is_deleted",
         "rawType": "float64",
         "type": "float"
        },
        {
         "name": "class_name",
         "rawType": "object",
         "type": "string"
        },
        {
         "name": "price",
         "rawType": "float64",
         "type": "float"
        },
        {
         "name": "campaign_name",
         "rawType": "object",
         "type": "string"
        },
        {
         "name": "mean",
         "rawType": "float64",
         "type": "float"
        },
        {
         "name": "median",
         "rawType": "float64",
         "type": "float"
        },
        {
         "name": "max",
         "rawType": "float64",
         "type": "float"
        },
        {
         "name": "min",
         "rawType": "float64",
         "type": "float"
        },
        {
         "name": "routine_flg",
         "rawType": "float64",
         "type": "float"
        },
        {
         "name": "calc_date",
         "rawType": "object",
         "type": "string"
        },
        {
         "name": "membership_period",
         "rawType": "float64",
         "type": "float"
        }
       ],
       "ref": "9158abf5-918c-400d-8038-12c2e5358631",
       "rows": [
        [
         "0",
         "201806",
         "AS015233",
         "7",
         "7.0",
         "XXXXX",
         "C01",
         "M",
         "2018-05-13",
         null,
         "CA2",
         "0.0",
         "オールタイム",
         "10500.0",
         "入会費半額",
         "7.545454545454546",
         "7.0",
         "11.0",
         "4.0",
         "1.0",
         "2019-04-30",
         "11.0"
        ],
        [
         "1",
         "201812",
         "AS046594",
         "7",
         "5.0",
         "XXX",
         "C01",
         "M",
         "2018-03-01",
         null,
         "CA1",
         "0.0",
         "オールタイム",
         "10500.0",
         "通常",
         "7.166666666666667",
         "7.0",
         "10.0",
         "5.0",
         "1.0",
         "2019-04-30",
         "13.0"
        ],
        [
         "2",
         "201808",
         "OA769163",
         "6",
         "4.0",
         "XXX",
         "C01",
         "M",
         "2017-05-01",
         null,
         "CA1",
         "0.0",
         "オールタイム",
         "10500.0",
         "通常",
         "6.083333333333333",
         "6.0",
         "8.0",
         "2.0",
         "1.0",
         "2019-04-30",
         "23.0"
        ],
        [
         "3",
         "201805",
         "AS981537",
         "10",
         "6.0",
         "XX",
         "C03",
         "M",
         "2018-02-01",
         null,
         "CA1",
         "0.0",
         "ナイト",
         "6000.0",
         "通常",
         "6.916666666666667",
         "7.0",
         "10.0",
         "5.0",
         "1.0",
         "2019-04-30",
         "14.0"
        ],
        [
         "4",
         "201805",
         "GD065188",
         "6",
         "7.0",
         "XX",
         "C01",
         "M",
         "2017-09-01",
         null,
         "CA1",
         "0.0",
         "オールタイム",
         "10500.0",
         "通常",
         "6.333333333333333",
         "6.5",
         "9.0",
         "3.0",
         "1.0",
         "2019-04-30",
         "19.0"
        ]
       ],
       "shape": {
        "columns": 21,
        "rows": 5
       }
      },
      "text/html": [
       "<div>\n",
       "<style scoped>\n",
       "    .dataframe tbody tr th:only-of-type {\n",
       "        vertical-align: middle;\n",
       "    }\n",
       "\n",
       "    .dataframe tbody tr th {\n",
       "        vertical-align: top;\n",
       "    }\n",
       "\n",
       "    .dataframe thead th {\n",
       "        text-align: right;\n",
       "    }\n",
       "</style>\n",
       "<table border=\"1\" class=\"dataframe\">\n",
       "  <thead>\n",
       "    <tr style=\"text-align: right;\">\n",
       "      <th></th>\n",
       "      <th>年月</th>\n",
       "      <th>customer_id</th>\n",
       "      <th>count_0</th>\n",
       "      <th>count_1</th>\n",
       "      <th>name</th>\n",
       "      <th>class</th>\n",
       "      <th>gender</th>\n",
       "      <th>start_date</th>\n",
       "      <th>end_date</th>\n",
       "      <th>campaign_id</th>\n",
       "      <th>...</th>\n",
       "      <th>class_name</th>\n",
       "      <th>price</th>\n",
       "      <th>campaign_name</th>\n",
       "      <th>mean</th>\n",
       "      <th>median</th>\n",
       "      <th>max</th>\n",
       "      <th>min</th>\n",
       "      <th>routine_flg</th>\n",
       "      <th>calc_date</th>\n",
       "      <th>membership_period</th>\n",
       "    </tr>\n",
       "  </thead>\n",
       "  <tbody>\n",
       "    <tr>\n",
       "      <th>0</th>\n",
       "      <td>201806</td>\n",
       "      <td>AS015233</td>\n",
       "      <td>7</td>\n",
       "      <td>7.0</td>\n",
       "      <td>XXXXX</td>\n",
       "      <td>C01</td>\n",
       "      <td>M</td>\n",
       "      <td>2018-05-13</td>\n",
       "      <td>NaN</td>\n",
       "      <td>CA2</td>\n",
       "      <td>...</td>\n",
       "      <td>オールタイム</td>\n",
       "      <td>10500.0</td>\n",
       "      <td>入会費半額</td>\n",
       "      <td>7.545455</td>\n",
       "      <td>7.0</td>\n",
       "      <td>11.0</td>\n",
       "      <td>4.0</td>\n",
       "      <td>1.0</td>\n",
       "      <td>2019-04-30</td>\n",
       "      <td>11.0</td>\n",
       "    </tr>\n",
       "    <tr>\n",
       "      <th>1</th>\n",
       "      <td>201812</td>\n",
       "      <td>AS046594</td>\n",
       "      <td>7</td>\n",
       "      <td>5.0</td>\n",
       "      <td>XXX</td>\n",
       "      <td>C01</td>\n",
       "      <td>M</td>\n",
       "      <td>2018-03-01</td>\n",
       "      <td>NaN</td>\n",
       "      <td>CA1</td>\n",
       "      <td>...</td>\n",
       "      <td>オールタイム</td>\n",
       "      <td>10500.0</td>\n",
       "      <td>通常</td>\n",
       "      <td>7.166667</td>\n",
       "      <td>7.0</td>\n",
       "      <td>10.0</td>\n",
       "      <td>5.0</td>\n",
       "      <td>1.0</td>\n",
       "      <td>2019-04-30</td>\n",
       "      <td>13.0</td>\n",
       "    </tr>\n",
       "    <tr>\n",
       "      <th>2</th>\n",
       "      <td>201808</td>\n",
       "      <td>OA769163</td>\n",
       "      <td>6</td>\n",
       "      <td>4.0</td>\n",
       "      <td>XXX</td>\n",
       "      <td>C01</td>\n",
       "      <td>M</td>\n",
       "      <td>2017-05-01</td>\n",
       "      <td>NaN</td>\n",
       "      <td>CA1</td>\n",
       "      <td>...</td>\n",
       "      <td>オールタイム</td>\n",
       "      <td>10500.0</td>\n",
       "      <td>通常</td>\n",
       "      <td>6.083333</td>\n",
       "      <td>6.0</td>\n",
       "      <td>8.0</td>\n",
       "      <td>2.0</td>\n",
       "      <td>1.0</td>\n",
       "      <td>2019-04-30</td>\n",
       "      <td>23.0</td>\n",
       "    </tr>\n",
       "    <tr>\n",
       "      <th>3</th>\n",
       "      <td>201805</td>\n",
       "      <td>AS981537</td>\n",
       "      <td>10</td>\n",
       "      <td>6.0</td>\n",
       "      <td>XX</td>\n",
       "      <td>C03</td>\n",
       "      <td>M</td>\n",
       "      <td>2018-02-01</td>\n",
       "      <td>NaN</td>\n",
       "      <td>CA1</td>\n",
       "      <td>...</td>\n",
       "      <td>ナイト</td>\n",
       "      <td>6000.0</td>\n",
       "      <td>通常</td>\n",
       "      <td>6.916667</td>\n",
       "      <td>7.0</td>\n",
       "      <td>10.0</td>\n",
       "      <td>5.0</td>\n",
       "      <td>1.0</td>\n",
       "      <td>2019-04-30</td>\n",
       "      <td>14.0</td>\n",
       "    </tr>\n",
       "    <tr>\n",
       "      <th>4</th>\n",
       "      <td>201805</td>\n",
       "      <td>GD065188</td>\n",
       "      <td>6</td>\n",
       "      <td>7.0</td>\n",
       "      <td>XX</td>\n",
       "      <td>C01</td>\n",
       "      <td>M</td>\n",
       "      <td>2017-09-01</td>\n",
       "      <td>NaN</td>\n",
       "      <td>CA1</td>\n",
       "      <td>...</td>\n",
       "      <td>オールタイム</td>\n",
       "      <td>10500.0</td>\n",
       "      <td>通常</td>\n",
       "      <td>6.333333</td>\n",
       "      <td>6.5</td>\n",
       "      <td>9.0</td>\n",
       "      <td>3.0</td>\n",
       "      <td>1.0</td>\n",
       "      <td>2019-04-30</td>\n",
       "      <td>19.0</td>\n",
       "    </tr>\n",
       "  </tbody>\n",
       "</table>\n",
       "<p>5 rows × 21 columns</p>\n",
       "</div>"
      ],
      "text/plain": [
       "       年月 customer_id  count_0  count_1   name class gender  start_date  \\\n",
       "0  201806    AS015233        7      7.0  XXXXX   C01      M  2018-05-13   \n",
       "1  201812    AS046594        7      5.0    XXX   C01      M  2018-03-01   \n",
       "2  201808    OA769163        6      4.0    XXX   C01      M  2017-05-01   \n",
       "3  201805    AS981537       10      6.0     XX   C03      M  2018-02-01   \n",
       "4  201805    GD065188        6      7.0     XX   C01      M  2017-09-01   \n",
       "\n",
       "  end_date campaign_id  ...  class_name    price  campaign_name      mean  \\\n",
       "0      NaN         CA2  ...      オールタイム  10500.0          入会費半額  7.545455   \n",
       "1      NaN         CA1  ...      オールタイム  10500.0             通常  7.166667   \n",
       "2      NaN         CA1  ...      オールタイム  10500.0             通常  6.083333   \n",
       "3      NaN         CA1  ...         ナイト   6000.0             通常  6.916667   \n",
       "4      NaN         CA1  ...      オールタイム  10500.0             通常  6.333333   \n",
       "\n",
       "   median   max  min  routine_flg   calc_date membership_period  \n",
       "0     7.0  11.0  4.0          1.0  2019-04-30              11.0  \n",
       "1     7.0  10.0  5.0          1.0  2019-04-30              13.0  \n",
       "2     6.0   8.0  2.0          1.0  2019-04-30              23.0  \n",
       "3     7.0  10.0  5.0          1.0  2019-04-30              14.0  \n",
       "4     6.5   9.0  3.0          1.0  2019-04-30              19.0  \n",
       "\n",
       "[5 rows x 21 columns]"
      ]
     },
     "execution_count": 8,
     "metadata": {},
     "output_type": "execute_result"
    }
   ],
   "source": [
    "conti_uselog = conti_uselog.sample(frac=1, random_state=0).reset_index(drop=True)\n",
    "conti_uselog = conti_uselog.drop_duplicates(subset=\"customer_id\")\n",
    "print(len(conti_uselog))\n",
    "conti_uselog.head()"
   ]
  },
  {
   "cell_type": "code",
   "execution_count": 9,
   "id": "f7c316fd",
   "metadata": {},
   "outputs": [
    {
     "name": "stdout",
     "output_type": "stream",
     "text": [
      "3946\n"
     ]
    },
    {
     "name": "stderr",
     "output_type": "stream",
     "text": [
      "C:\\Users\\sho_taso\\AppData\\Local\\Temp\\ipykernel_16104\\2208580704.py:1: FutureWarning: The behavior of DataFrame concatenation with empty or all-NA entries is deprecated. In a future version, this will no longer exclude empty or all-NA columns when determining the result dtypes. To retain the old behavior, exclude the relevant entries before the concat operation.\n",
      "  predict_data = pd.concat([conti_uselog, exit_uselog], ignore_index=True)\n"
     ]
    },
    {
     "data": {
      "application/vnd.microsoft.datawrangler.viewer.v0+json": {
       "columns": [
        {
         "name": "index",
         "rawType": "int64",
         "type": "integer"
        },
        {
         "name": "年月",
         "rawType": "object",
         "type": "string"
        },
        {
         "name": "customer_id",
         "rawType": "object",
         "type": "string"
        },
        {
         "name": "count_0",
         "rawType": "int64",
         "type": "integer"
        },
        {
         "name": "count_1",
         "rawType": "float64",
         "type": "float"
        },
        {
         "name": "name",
         "rawType": "object",
         "type": "string"
        },
        {
         "name": "class",
         "rawType": "object",
         "type": "string"
        },
        {
         "name": "gender",
         "rawType": "object",
         "type": "string"
        },
        {
         "name": "start_date",
         "rawType": "object",
         "type": "string"
        },
        {
         "name": "end_date",
         "rawType": "datetime64[ns]",
         "type": "datetime"
        },
        {
         "name": "campaign_id",
         "rawType": "object",
         "type": "string"
        },
        {
         "name": "is_deleted",
         "rawType": "float64",
         "type": "float"
        },
        {
         "name": "class_name",
         "rawType": "object",
         "type": "string"
        },
        {
         "name": "price",
         "rawType": "float64",
         "type": "float"
        },
        {
         "name": "campaign_name",
         "rawType": "object",
         "type": "string"
        },
        {
         "name": "mean",
         "rawType": "float64",
         "type": "float"
        },
        {
         "name": "median",
         "rawType": "float64",
         "type": "float"
        },
        {
         "name": "max",
         "rawType": "float64",
         "type": "float"
        },
        {
         "name": "min",
         "rawType": "float64",
         "type": "float"
        },
        {
         "name": "routine_flg",
         "rawType": "float64",
         "type": "float"
        },
        {
         "name": "calc_date",
         "rawType": "object",
         "type": "string"
        },
        {
         "name": "membership_period",
         "rawType": "float64",
         "type": "float"
        },
        {
         "name": "exit_date",
         "rawType": "datetime64[ns]",
         "type": "datetime"
        }
       ],
       "ref": "30eae49e-00ec-4c7c-9369-26a0b90e0ee5",
       "rows": [
        [
         "0",
         "201806",
         "AS015233",
         "7",
         "7.0",
         "XXXXX",
         "C01",
         "M",
         "2018-05-13",
         null,
         "CA2",
         "0.0",
         "オールタイム",
         "10500.0",
         "入会費半額",
         "7.545454545454546",
         "7.0",
         "11.0",
         "4.0",
         "1.0",
         "2019-04-30",
         "11.0",
         null
        ],
        [
         "1",
         "201812",
         "AS046594",
         "7",
         "5.0",
         "XXX",
         "C01",
         "M",
         "2018-03-01",
         null,
         "CA1",
         "0.0",
         "オールタイム",
         "10500.0",
         "通常",
         "7.166666666666667",
         "7.0",
         "10.0",
         "5.0",
         "1.0",
         "2019-04-30",
         "13.0",
         null
        ],
        [
         "2",
         "201808",
         "OA769163",
         "6",
         "4.0",
         "XXX",
         "C01",
         "M",
         "2017-05-01",
         null,
         "CA1",
         "0.0",
         "オールタイム",
         "10500.0",
         "通常",
         "6.083333333333333",
         "6.0",
         "8.0",
         "2.0",
         "1.0",
         "2019-04-30",
         "23.0",
         null
        ],
        [
         "3",
         "201805",
         "AS981537",
         "10",
         "6.0",
         "XX",
         "C03",
         "M",
         "2018-02-01",
         null,
         "CA1",
         "0.0",
         "ナイト",
         "6000.0",
         "通常",
         "6.916666666666667",
         "7.0",
         "10.0",
         "5.0",
         "1.0",
         "2019-04-30",
         "14.0",
         null
        ],
        [
         "4",
         "201805",
         "GD065188",
         "6",
         "7.0",
         "XX",
         "C01",
         "M",
         "2017-09-01",
         null,
         "CA1",
         "0.0",
         "オールタイム",
         "10500.0",
         "通常",
         "6.333333333333333",
         "6.5",
         "9.0",
         "3.0",
         "1.0",
         "2019-04-30",
         "19.0",
         null
        ]
       ],
       "shape": {
        "columns": 22,
        "rows": 5
       }
      },
      "text/html": [
       "<div>\n",
       "<style scoped>\n",
       "    .dataframe tbody tr th:only-of-type {\n",
       "        vertical-align: middle;\n",
       "    }\n",
       "\n",
       "    .dataframe tbody tr th {\n",
       "        vertical-align: top;\n",
       "    }\n",
       "\n",
       "    .dataframe thead th {\n",
       "        text-align: right;\n",
       "    }\n",
       "</style>\n",
       "<table border=\"1\" class=\"dataframe\">\n",
       "  <thead>\n",
       "    <tr style=\"text-align: right;\">\n",
       "      <th></th>\n",
       "      <th>年月</th>\n",
       "      <th>customer_id</th>\n",
       "      <th>count_0</th>\n",
       "      <th>count_1</th>\n",
       "      <th>name</th>\n",
       "      <th>class</th>\n",
       "      <th>gender</th>\n",
       "      <th>start_date</th>\n",
       "      <th>end_date</th>\n",
       "      <th>campaign_id</th>\n",
       "      <th>...</th>\n",
       "      <th>price</th>\n",
       "      <th>campaign_name</th>\n",
       "      <th>mean</th>\n",
       "      <th>median</th>\n",
       "      <th>max</th>\n",
       "      <th>min</th>\n",
       "      <th>routine_flg</th>\n",
       "      <th>calc_date</th>\n",
       "      <th>membership_period</th>\n",
       "      <th>exit_date</th>\n",
       "    </tr>\n",
       "  </thead>\n",
       "  <tbody>\n",
       "    <tr>\n",
       "      <th>0</th>\n",
       "      <td>201806</td>\n",
       "      <td>AS015233</td>\n",
       "      <td>7</td>\n",
       "      <td>7.0</td>\n",
       "      <td>XXXXX</td>\n",
       "      <td>C01</td>\n",
       "      <td>M</td>\n",
       "      <td>2018-05-13</td>\n",
       "      <td>NaT</td>\n",
       "      <td>CA2</td>\n",
       "      <td>...</td>\n",
       "      <td>10500.0</td>\n",
       "      <td>入会費半額</td>\n",
       "      <td>7.545455</td>\n",
       "      <td>7.0</td>\n",
       "      <td>11.0</td>\n",
       "      <td>4.0</td>\n",
       "      <td>1.0</td>\n",
       "      <td>2019-04-30</td>\n",
       "      <td>11.0</td>\n",
       "      <td>NaT</td>\n",
       "    </tr>\n",
       "    <tr>\n",
       "      <th>1</th>\n",
       "      <td>201812</td>\n",
       "      <td>AS046594</td>\n",
       "      <td>7</td>\n",
       "      <td>5.0</td>\n",
       "      <td>XXX</td>\n",
       "      <td>C01</td>\n",
       "      <td>M</td>\n",
       "      <td>2018-03-01</td>\n",
       "      <td>NaT</td>\n",
       "      <td>CA1</td>\n",
       "      <td>...</td>\n",
       "      <td>10500.0</td>\n",
       "      <td>通常</td>\n",
       "      <td>7.166667</td>\n",
       "      <td>7.0</td>\n",
       "      <td>10.0</td>\n",
       "      <td>5.0</td>\n",
       "      <td>1.0</td>\n",
       "      <td>2019-04-30</td>\n",
       "      <td>13.0</td>\n",
       "      <td>NaT</td>\n",
       "    </tr>\n",
       "    <tr>\n",
       "      <th>2</th>\n",
       "      <td>201808</td>\n",
       "      <td>OA769163</td>\n",
       "      <td>6</td>\n",
       "      <td>4.0</td>\n",
       "      <td>XXX</td>\n",
       "      <td>C01</td>\n",
       "      <td>M</td>\n",
       "      <td>2017-05-01</td>\n",
       "      <td>NaT</td>\n",
       "      <td>CA1</td>\n",
       "      <td>...</td>\n",
       "      <td>10500.0</td>\n",
       "      <td>通常</td>\n",
       "      <td>6.083333</td>\n",
       "      <td>6.0</td>\n",
       "      <td>8.0</td>\n",
       "      <td>2.0</td>\n",
       "      <td>1.0</td>\n",
       "      <td>2019-04-30</td>\n",
       "      <td>23.0</td>\n",
       "      <td>NaT</td>\n",
       "    </tr>\n",
       "    <tr>\n",
       "      <th>3</th>\n",
       "      <td>201805</td>\n",
       "      <td>AS981537</td>\n",
       "      <td>10</td>\n",
       "      <td>6.0</td>\n",
       "      <td>XX</td>\n",
       "      <td>C03</td>\n",
       "      <td>M</td>\n",
       "      <td>2018-02-01</td>\n",
       "      <td>NaT</td>\n",
       "      <td>CA1</td>\n",
       "      <td>...</td>\n",
       "      <td>6000.0</td>\n",
       "      <td>通常</td>\n",
       "      <td>6.916667</td>\n",
       "      <td>7.0</td>\n",
       "      <td>10.0</td>\n",
       "      <td>5.0</td>\n",
       "      <td>1.0</td>\n",
       "      <td>2019-04-30</td>\n",
       "      <td>14.0</td>\n",
       "      <td>NaT</td>\n",
       "    </tr>\n",
       "    <tr>\n",
       "      <th>4</th>\n",
       "      <td>201805</td>\n",
       "      <td>GD065188</td>\n",
       "      <td>6</td>\n",
       "      <td>7.0</td>\n",
       "      <td>XX</td>\n",
       "      <td>C01</td>\n",
       "      <td>M</td>\n",
       "      <td>2017-09-01</td>\n",
       "      <td>NaT</td>\n",
       "      <td>CA1</td>\n",
       "      <td>...</td>\n",
       "      <td>10500.0</td>\n",
       "      <td>通常</td>\n",
       "      <td>6.333333</td>\n",
       "      <td>6.5</td>\n",
       "      <td>9.0</td>\n",
       "      <td>3.0</td>\n",
       "      <td>1.0</td>\n",
       "      <td>2019-04-30</td>\n",
       "      <td>19.0</td>\n",
       "      <td>NaT</td>\n",
       "    </tr>\n",
       "  </tbody>\n",
       "</table>\n",
       "<p>5 rows × 22 columns</p>\n",
       "</div>"
      ],
      "text/plain": [
       "       年月 customer_id  count_0  count_1   name class gender  start_date  \\\n",
       "0  201806    AS015233        7      7.0  XXXXX   C01      M  2018-05-13   \n",
       "1  201812    AS046594        7      5.0    XXX   C01      M  2018-03-01   \n",
       "2  201808    OA769163        6      4.0    XXX   C01      M  2017-05-01   \n",
       "3  201805    AS981537       10      6.0     XX   C03      M  2018-02-01   \n",
       "4  201805    GD065188        6      7.0     XX   C01      M  2017-09-01   \n",
       "\n",
       "  end_date campaign_id  ...    price campaign_name      mean median   max  \\\n",
       "0      NaT         CA2  ...  10500.0         入会費半額  7.545455    7.0  11.0   \n",
       "1      NaT         CA1  ...  10500.0            通常  7.166667    7.0  10.0   \n",
       "2      NaT         CA1  ...  10500.0            通常  6.083333    6.0   8.0   \n",
       "3      NaT         CA1  ...   6000.0            通常  6.916667    7.0  10.0   \n",
       "4      NaT         CA1  ...  10500.0            通常  6.333333    6.5   9.0   \n",
       "\n",
       "   min  routine_flg   calc_date  membership_period exit_date  \n",
       "0  4.0          1.0  2019-04-30               11.0       NaT  \n",
       "1  5.0          1.0  2019-04-30               13.0       NaT  \n",
       "2  2.0          1.0  2019-04-30               23.0       NaT  \n",
       "3  5.0          1.0  2019-04-30               14.0       NaT  \n",
       "4  3.0          1.0  2019-04-30               19.0       NaT  \n",
       "\n",
       "[5 rows x 22 columns]"
      ]
     },
     "execution_count": 9,
     "metadata": {},
     "output_type": "execute_result"
    }
   ],
   "source": [
    "predict_data = pd.concat([conti_uselog, exit_uselog], ignore_index=True)\n",
    "print(len(predict_data))\n",
    "predict_data.head()"
   ]
  },
  {
   "cell_type": "code",
   "execution_count": 10,
   "id": "32696af4",
   "metadata": {},
   "outputs": [
    {
     "data": {
      "application/vnd.microsoft.datawrangler.viewer.v0+json": {
       "columns": [
        {
         "name": "index",
         "rawType": "int64",
         "type": "integer"
        },
        {
         "name": "年月",
         "rawType": "object",
         "type": "string"
        },
        {
         "name": "customer_id",
         "rawType": "object",
         "type": "string"
        },
        {
         "name": "count_0",
         "rawType": "int64",
         "type": "integer"
        },
        {
         "name": "count_1",
         "rawType": "float64",
         "type": "float"
        },
        {
         "name": "name",
         "rawType": "object",
         "type": "string"
        },
        {
         "name": "class",
         "rawType": "object",
         "type": "string"
        },
        {
         "name": "gender",
         "rawType": "object",
         "type": "string"
        },
        {
         "name": "start_date",
         "rawType": "datetime64[ns]",
         "type": "datetime"
        },
        {
         "name": "end_date",
         "rawType": "datetime64[ns]",
         "type": "datetime"
        },
        {
         "name": "campaign_id",
         "rawType": "object",
         "type": "string"
        },
        {
         "name": "is_deleted",
         "rawType": "float64",
         "type": "float"
        },
        {
         "name": "class_name",
         "rawType": "object",
         "type": "string"
        },
        {
         "name": "price",
         "rawType": "float64",
         "type": "float"
        },
        {
         "name": "campaign_name",
         "rawType": "object",
         "type": "string"
        },
        {
         "name": "mean",
         "rawType": "float64",
         "type": "float"
        },
        {
         "name": "median",
         "rawType": "float64",
         "type": "float"
        },
        {
         "name": "max",
         "rawType": "float64",
         "type": "float"
        },
        {
         "name": "min",
         "rawType": "float64",
         "type": "float"
        },
        {
         "name": "routine_flg",
         "rawType": "float64",
         "type": "float"
        },
        {
         "name": "calc_date",
         "rawType": "object",
         "type": "string"
        },
        {
         "name": "membership_period",
         "rawType": "float64",
         "type": "float"
        },
        {
         "name": "exit_date",
         "rawType": "datetime64[ns]",
         "type": "datetime"
        },
        {
         "name": "period",
         "rawType": "int64",
         "type": "integer"
        },
        {
         "name": "now_date",
         "rawType": "datetime64[ns]",
         "type": "datetime"
        }
       ],
       "ref": "c39c4fb6-f3ee-4393-b614-1475dab9df16",
       "rows": [
        [
         "0",
         "201806",
         "AS015233",
         "7",
         "7.0",
         "XXXXX",
         "C01",
         "M",
         "2018-05-13 00:00:00",
         null,
         "CA2",
         "0.0",
         "オールタイム",
         "10500.0",
         "入会費半額",
         "7.545454545454546",
         "7.0",
         "11.0",
         "4.0",
         "1.0",
         "2019-04-30",
         "11.0",
         null,
         "-4",
         "2018-01-01 00:06:00"
        ],
        [
         "1",
         "201812",
         "AS046594",
         "7",
         "5.0",
         "XXX",
         "C01",
         "M",
         "2018-03-01 00:00:00",
         null,
         "CA1",
         "0.0",
         "オールタイム",
         "10500.0",
         "通常",
         "7.166666666666667",
         "7.0",
         "10.0",
         "5.0",
         "1.0",
         "2019-04-30",
         "13.0",
         null,
         "-1",
         "2018-01-01 00:12:00"
        ],
        [
         "2",
         "201808",
         "OA769163",
         "6",
         "4.0",
         "XXX",
         "C01",
         "M",
         "2017-05-01 00:00:00",
         null,
         "CA1",
         "0.0",
         "オールタイム",
         "10500.0",
         "通常",
         "6.083333333333333",
         "6.0",
         "8.0",
         "2.0",
         "1.0",
         "2019-04-30",
         "23.0",
         null,
         "8",
         "2018-01-01 00:08:00"
        ],
        [
         "3",
         "201805",
         "AS981537",
         "10",
         "6.0",
         "XX",
         "C03",
         "M",
         "2018-02-01 00:00:00",
         null,
         "CA1",
         "0.0",
         "ナイト",
         "6000.0",
         "通常",
         "6.916666666666667",
         "7.0",
         "10.0",
         "5.0",
         "1.0",
         "2019-04-30",
         "14.0",
         null,
         "0",
         "2018-01-01 00:05:00"
        ],
        [
         "4",
         "201805",
         "GD065188",
         "6",
         "7.0",
         "XX",
         "C01",
         "M",
         "2017-09-01 00:00:00",
         null,
         "CA1",
         "0.0",
         "オールタイム",
         "10500.0",
         "通常",
         "6.333333333333333",
         "6.5",
         "9.0",
         "3.0",
         "1.0",
         "2019-04-30",
         "19.0",
         null,
         "4",
         "2018-01-01 00:05:00"
        ]
       ],
       "shape": {
        "columns": 24,
        "rows": 5
       }
      },
      "text/html": [
       "<div>\n",
       "<style scoped>\n",
       "    .dataframe tbody tr th:only-of-type {\n",
       "        vertical-align: middle;\n",
       "    }\n",
       "\n",
       "    .dataframe tbody tr th {\n",
       "        vertical-align: top;\n",
       "    }\n",
       "\n",
       "    .dataframe thead th {\n",
       "        text-align: right;\n",
       "    }\n",
       "</style>\n",
       "<table border=\"1\" class=\"dataframe\">\n",
       "  <thead>\n",
       "    <tr style=\"text-align: right;\">\n",
       "      <th></th>\n",
       "      <th>年月</th>\n",
       "      <th>customer_id</th>\n",
       "      <th>count_0</th>\n",
       "      <th>count_1</th>\n",
       "      <th>name</th>\n",
       "      <th>class</th>\n",
       "      <th>gender</th>\n",
       "      <th>start_date</th>\n",
       "      <th>end_date</th>\n",
       "      <th>campaign_id</th>\n",
       "      <th>...</th>\n",
       "      <th>mean</th>\n",
       "      <th>median</th>\n",
       "      <th>max</th>\n",
       "      <th>min</th>\n",
       "      <th>routine_flg</th>\n",
       "      <th>calc_date</th>\n",
       "      <th>membership_period</th>\n",
       "      <th>exit_date</th>\n",
       "      <th>period</th>\n",
       "      <th>now_date</th>\n",
       "    </tr>\n",
       "  </thead>\n",
       "  <tbody>\n",
       "    <tr>\n",
       "      <th>0</th>\n",
       "      <td>201806</td>\n",
       "      <td>AS015233</td>\n",
       "      <td>7</td>\n",
       "      <td>7.0</td>\n",
       "      <td>XXXXX</td>\n",
       "      <td>C01</td>\n",
       "      <td>M</td>\n",
       "      <td>2018-05-13</td>\n",
       "      <td>NaT</td>\n",
       "      <td>CA2</td>\n",
       "      <td>...</td>\n",
       "      <td>7.545455</td>\n",
       "      <td>7.0</td>\n",
       "      <td>11.0</td>\n",
       "      <td>4.0</td>\n",
       "      <td>1.0</td>\n",
       "      <td>2019-04-30</td>\n",
       "      <td>11.0</td>\n",
       "      <td>NaT</td>\n",
       "      <td>-4</td>\n",
       "      <td>2018-01-01 00:06:00</td>\n",
       "    </tr>\n",
       "    <tr>\n",
       "      <th>1</th>\n",
       "      <td>201812</td>\n",
       "      <td>AS046594</td>\n",
       "      <td>7</td>\n",
       "      <td>5.0</td>\n",
       "      <td>XXX</td>\n",
       "      <td>C01</td>\n",
       "      <td>M</td>\n",
       "      <td>2018-03-01</td>\n",
       "      <td>NaT</td>\n",
       "      <td>CA1</td>\n",
       "      <td>...</td>\n",
       "      <td>7.166667</td>\n",
       "      <td>7.0</td>\n",
       "      <td>10.0</td>\n",
       "      <td>5.0</td>\n",
       "      <td>1.0</td>\n",
       "      <td>2019-04-30</td>\n",
       "      <td>13.0</td>\n",
       "      <td>NaT</td>\n",
       "      <td>-1</td>\n",
       "      <td>2018-01-01 00:12:00</td>\n",
       "    </tr>\n",
       "    <tr>\n",
       "      <th>2</th>\n",
       "      <td>201808</td>\n",
       "      <td>OA769163</td>\n",
       "      <td>6</td>\n",
       "      <td>4.0</td>\n",
       "      <td>XXX</td>\n",
       "      <td>C01</td>\n",
       "      <td>M</td>\n",
       "      <td>2017-05-01</td>\n",
       "      <td>NaT</td>\n",
       "      <td>CA1</td>\n",
       "      <td>...</td>\n",
       "      <td>6.083333</td>\n",
       "      <td>6.0</td>\n",
       "      <td>8.0</td>\n",
       "      <td>2.0</td>\n",
       "      <td>1.0</td>\n",
       "      <td>2019-04-30</td>\n",
       "      <td>23.0</td>\n",
       "      <td>NaT</td>\n",
       "      <td>8</td>\n",
       "      <td>2018-01-01 00:08:00</td>\n",
       "    </tr>\n",
       "    <tr>\n",
       "      <th>3</th>\n",
       "      <td>201805</td>\n",
       "      <td>AS981537</td>\n",
       "      <td>10</td>\n",
       "      <td>6.0</td>\n",
       "      <td>XX</td>\n",
       "      <td>C03</td>\n",
       "      <td>M</td>\n",
       "      <td>2018-02-01</td>\n",
       "      <td>NaT</td>\n",
       "      <td>CA1</td>\n",
       "      <td>...</td>\n",
       "      <td>6.916667</td>\n",
       "      <td>7.0</td>\n",
       "      <td>10.0</td>\n",
       "      <td>5.0</td>\n",
       "      <td>1.0</td>\n",
       "      <td>2019-04-30</td>\n",
       "      <td>14.0</td>\n",
       "      <td>NaT</td>\n",
       "      <td>0</td>\n",
       "      <td>2018-01-01 00:05:00</td>\n",
       "    </tr>\n",
       "    <tr>\n",
       "      <th>4</th>\n",
       "      <td>201805</td>\n",
       "      <td>GD065188</td>\n",
       "      <td>6</td>\n",
       "      <td>7.0</td>\n",
       "      <td>XX</td>\n",
       "      <td>C01</td>\n",
       "      <td>M</td>\n",
       "      <td>2017-09-01</td>\n",
       "      <td>NaT</td>\n",
       "      <td>CA1</td>\n",
       "      <td>...</td>\n",
       "      <td>6.333333</td>\n",
       "      <td>6.5</td>\n",
       "      <td>9.0</td>\n",
       "      <td>3.0</td>\n",
       "      <td>1.0</td>\n",
       "      <td>2019-04-30</td>\n",
       "      <td>19.0</td>\n",
       "      <td>NaT</td>\n",
       "      <td>4</td>\n",
       "      <td>2018-01-01 00:05:00</td>\n",
       "    </tr>\n",
       "  </tbody>\n",
       "</table>\n",
       "<p>5 rows × 24 columns</p>\n",
       "</div>"
      ],
      "text/plain": [
       "       年月 customer_id  count_0  count_1   name class gender start_date  \\\n",
       "0  201806    AS015233        7      7.0  XXXXX   C01      M 2018-05-13   \n",
       "1  201812    AS046594        7      5.0    XXX   C01      M 2018-03-01   \n",
       "2  201808    OA769163        6      4.0    XXX   C01      M 2017-05-01   \n",
       "3  201805    AS981537       10      6.0     XX   C03      M 2018-02-01   \n",
       "4  201805    GD065188        6      7.0     XX   C01      M 2017-09-01   \n",
       "\n",
       "  end_date campaign_id  ...      mean median   max  min  routine_flg  \\\n",
       "0      NaT         CA2  ...  7.545455    7.0  11.0  4.0          1.0   \n",
       "1      NaT         CA1  ...  7.166667    7.0  10.0  5.0          1.0   \n",
       "2      NaT         CA1  ...  6.083333    6.0   8.0  2.0          1.0   \n",
       "3      NaT         CA1  ...  6.916667    7.0  10.0  5.0          1.0   \n",
       "4      NaT         CA1  ...  6.333333    6.5   9.0  3.0          1.0   \n",
       "\n",
       "    calc_date  membership_period  exit_date  period            now_date  \n",
       "0  2019-04-30               11.0        NaT      -4 2018-01-01 00:06:00  \n",
       "1  2019-04-30               13.0        NaT      -1 2018-01-01 00:12:00  \n",
       "2  2019-04-30               23.0        NaT       8 2018-01-01 00:08:00  \n",
       "3  2019-04-30               14.0        NaT       0 2018-01-01 00:05:00  \n",
       "4  2019-04-30               19.0        NaT       4 2018-01-01 00:05:00  \n",
       "\n",
       "[5 rows x 24 columns]"
      ]
     },
     "execution_count": 10,
     "metadata": {},
     "output_type": "execute_result"
    }
   ],
   "source": [
    "predict_data[\"period\"] = 0\n",
    "predict_data[\"now_date\"] = pd.to_datetime(predict_data[\"年月\"], format=\"%Y%M\")\n",
    "predict_data[\"start_date\"] = pd.to_datetime(predict_data[\"start_date\"], format=\"mixed\")\n",
    "for i in range(len(predict_data)):\n",
    "    delta = relativedelta(predict_data.loc[i, \"now_date\"], predict_data.loc[i , \"start_date\"])\n",
    "    predict_data.loc[i, \"period\"] = int(delta.years*12 + delta.months)\n",
    "predict_data.head()"
   ]
  },
  {
   "cell_type": "code",
   "execution_count": 11,
   "id": "8c0597fa",
   "metadata": {},
   "outputs": [
    {
     "data": {
      "application/vnd.microsoft.datawrangler.viewer.v0+json": {
       "columns": [
        {
         "name": "index",
         "rawType": "object",
         "type": "string"
        },
        {
         "name": "0",
         "rawType": "int64",
         "type": "integer"
        }
       ],
       "ref": "19d07bd0-4193-46ad-b393-b610620d638a",
       "rows": [
        [
         "年月",
         "0"
        ],
        [
         "customer_id",
         "0"
        ],
        [
         "count_0",
         "0"
        ],
        [
         "count_1",
         "255"
        ],
        [
         "name",
         "0"
        ],
        [
         "class",
         "0"
        ],
        [
         "gender",
         "0"
        ],
        [
         "start_date",
         "0"
        ],
        [
         "end_date",
         "2842"
        ],
        [
         "campaign_id",
         "0"
        ],
        [
         "is_deleted",
         "0"
        ],
        [
         "class_name",
         "0"
        ],
        [
         "price",
         "0"
        ],
        [
         "campaign_name",
         "0"
        ],
        [
         "mean",
         "0"
        ],
        [
         "median",
         "0"
        ],
        [
         "max",
         "0"
        ],
        [
         "min",
         "0"
        ],
        [
         "routine_flg",
         "0"
        ],
        [
         "calc_date",
         "0"
        ],
        [
         "membership_period",
         "0"
        ],
        [
         "exit_date",
         "2842"
        ],
        [
         "period",
         "0"
        ],
        [
         "now_date",
         "0"
        ]
       ],
       "shape": {
        "columns": 1,
        "rows": 24
       }
      },
      "text/plain": [
       "年月                      0\n",
       "customer_id             0\n",
       "count_0                 0\n",
       "count_1               255\n",
       "name                    0\n",
       "class                   0\n",
       "gender                  0\n",
       "start_date              0\n",
       "end_date             2842\n",
       "campaign_id             0\n",
       "is_deleted              0\n",
       "class_name              0\n",
       "price                   0\n",
       "campaign_name           0\n",
       "mean                    0\n",
       "median                  0\n",
       "max                     0\n",
       "min                     0\n",
       "routine_flg             0\n",
       "calc_date               0\n",
       "membership_period       0\n",
       "exit_date            2842\n",
       "period                  0\n",
       "now_date                0\n",
       "dtype: int64"
      ]
     },
     "execution_count": 11,
     "metadata": {},
     "output_type": "execute_result"
    }
   ],
   "source": [
    "predict_data.isna().sum()"
   ]
  },
  {
   "cell_type": "code",
   "execution_count": 12,
   "id": "81e4f237",
   "metadata": {},
   "outputs": [
    {
     "data": {
      "application/vnd.microsoft.datawrangler.viewer.v0+json": {
       "columns": [
        {
         "name": "index",
         "rawType": "object",
         "type": "string"
        },
        {
         "name": "0",
         "rawType": "int64",
         "type": "integer"
        }
       ],
       "ref": "5cae558c-f1ca-4a31-809b-b2c7f6f7fe56",
       "rows": [
        [
         "年月",
         "0"
        ],
        [
         "customer_id",
         "0"
        ],
        [
         "count_0",
         "0"
        ],
        [
         "count_1",
         "0"
        ],
        [
         "name",
         "0"
        ],
        [
         "class",
         "0"
        ],
        [
         "gender",
         "0"
        ],
        [
         "start_date",
         "0"
        ],
        [
         "end_date",
         "2639"
        ],
        [
         "campaign_id",
         "0"
        ],
        [
         "is_deleted",
         "0"
        ],
        [
         "class_name",
         "0"
        ],
        [
         "price",
         "0"
        ],
        [
         "campaign_name",
         "0"
        ],
        [
         "mean",
         "0"
        ],
        [
         "median",
         "0"
        ],
        [
         "max",
         "0"
        ],
        [
         "min",
         "0"
        ],
        [
         "routine_flg",
         "0"
        ],
        [
         "calc_date",
         "0"
        ],
        [
         "membership_period",
         "0"
        ],
        [
         "exit_date",
         "2639"
        ],
        [
         "period",
         "0"
        ],
        [
         "now_date",
         "0"
        ]
       ],
       "shape": {
        "columns": 1,
        "rows": 24
       }
      },
      "text/plain": [
       "年月                      0\n",
       "customer_id             0\n",
       "count_0                 0\n",
       "count_1                 0\n",
       "name                    0\n",
       "class                   0\n",
       "gender                  0\n",
       "start_date              0\n",
       "end_date             2639\n",
       "campaign_id             0\n",
       "is_deleted              0\n",
       "class_name              0\n",
       "price                   0\n",
       "campaign_name           0\n",
       "mean                    0\n",
       "median                  0\n",
       "max                     0\n",
       "min                     0\n",
       "routine_flg             0\n",
       "calc_date               0\n",
       "membership_period       0\n",
       "exit_date            2639\n",
       "period                  0\n",
       "now_date                0\n",
       "dtype: int64"
      ]
     },
     "execution_count": 12,
     "metadata": {},
     "output_type": "execute_result"
    }
   ],
   "source": [
    "predict_data = predict_data.dropna(subset=[\"count_1\"])\n",
    "predict_data.isna().sum()"
   ]
  },
  {
   "cell_type": "code",
   "execution_count": 13,
   "id": "f0c19ca5",
   "metadata": {},
   "outputs": [
    {
     "data": {
      "application/vnd.microsoft.datawrangler.viewer.v0+json": {
       "columns": [
        {
         "name": "index",
         "rawType": "int64",
         "type": "integer"
        },
        {
         "name": "campaign_name",
         "rawType": "object",
         "type": "string"
        },
        {
         "name": "class_name",
         "rawType": "object",
         "type": "string"
        },
        {
         "name": "gender",
         "rawType": "object",
         "type": "string"
        },
        {
         "name": "count_1",
         "rawType": "float64",
         "type": "float"
        },
        {
         "name": "routine_flg",
         "rawType": "float64",
         "type": "float"
        },
        {
         "name": "period",
         "rawType": "int64",
         "type": "integer"
        },
        {
         "name": "is_deleted",
         "rawType": "float64",
         "type": "float"
        }
       ],
       "ref": "fbbdb6e1-ac92-49d1-a7f5-6cac5ddd7158",
       "rows": [
        [
         "0",
         "入会費半額",
         "オールタイム",
         "M",
         "7.0",
         "1.0",
         "-4",
         "0.0"
        ],
        [
         "1",
         "通常",
         "オールタイム",
         "M",
         "5.0",
         "1.0",
         "-1",
         "0.0"
        ],
        [
         "2",
         "通常",
         "オールタイム",
         "M",
         "4.0",
         "1.0",
         "8",
         "0.0"
        ],
        [
         "3",
         "通常",
         "ナイト",
         "M",
         "6.0",
         "1.0",
         "0",
         "0.0"
        ],
        [
         "4",
         "通常",
         "オールタイム",
         "M",
         "7.0",
         "1.0",
         "4",
         "0.0"
        ]
       ],
       "shape": {
        "columns": 7,
        "rows": 5
       }
      },
      "text/html": [
       "<div>\n",
       "<style scoped>\n",
       "    .dataframe tbody tr th:only-of-type {\n",
       "        vertical-align: middle;\n",
       "    }\n",
       "\n",
       "    .dataframe tbody tr th {\n",
       "        vertical-align: top;\n",
       "    }\n",
       "\n",
       "    .dataframe thead th {\n",
       "        text-align: right;\n",
       "    }\n",
       "</style>\n",
       "<table border=\"1\" class=\"dataframe\">\n",
       "  <thead>\n",
       "    <tr style=\"text-align: right;\">\n",
       "      <th></th>\n",
       "      <th>campaign_name</th>\n",
       "      <th>class_name</th>\n",
       "      <th>gender</th>\n",
       "      <th>count_1</th>\n",
       "      <th>routine_flg</th>\n",
       "      <th>period</th>\n",
       "      <th>is_deleted</th>\n",
       "    </tr>\n",
       "  </thead>\n",
       "  <tbody>\n",
       "    <tr>\n",
       "      <th>0</th>\n",
       "      <td>入会費半額</td>\n",
       "      <td>オールタイム</td>\n",
       "      <td>M</td>\n",
       "      <td>7.0</td>\n",
       "      <td>1.0</td>\n",
       "      <td>-4</td>\n",
       "      <td>0.0</td>\n",
       "    </tr>\n",
       "    <tr>\n",
       "      <th>1</th>\n",
       "      <td>通常</td>\n",
       "      <td>オールタイム</td>\n",
       "      <td>M</td>\n",
       "      <td>5.0</td>\n",
       "      <td>1.0</td>\n",
       "      <td>-1</td>\n",
       "      <td>0.0</td>\n",
       "    </tr>\n",
       "    <tr>\n",
       "      <th>2</th>\n",
       "      <td>通常</td>\n",
       "      <td>オールタイム</td>\n",
       "      <td>M</td>\n",
       "      <td>4.0</td>\n",
       "      <td>1.0</td>\n",
       "      <td>8</td>\n",
       "      <td>0.0</td>\n",
       "    </tr>\n",
       "    <tr>\n",
       "      <th>3</th>\n",
       "      <td>通常</td>\n",
       "      <td>ナイト</td>\n",
       "      <td>M</td>\n",
       "      <td>6.0</td>\n",
       "      <td>1.0</td>\n",
       "      <td>0</td>\n",
       "      <td>0.0</td>\n",
       "    </tr>\n",
       "    <tr>\n",
       "      <th>4</th>\n",
       "      <td>通常</td>\n",
       "      <td>オールタイム</td>\n",
       "      <td>M</td>\n",
       "      <td>7.0</td>\n",
       "      <td>1.0</td>\n",
       "      <td>4</td>\n",
       "      <td>0.0</td>\n",
       "    </tr>\n",
       "  </tbody>\n",
       "</table>\n",
       "</div>"
      ],
      "text/plain": [
       "  campaign_name class_name gender  count_1  routine_flg  period  is_deleted\n",
       "0         入会費半額     オールタイム      M      7.0          1.0      -4         0.0\n",
       "1            通常     オールタイム      M      5.0          1.0      -1         0.0\n",
       "2            通常     オールタイム      M      4.0          1.0       8         0.0\n",
       "3            通常        ナイト      M      6.0          1.0       0         0.0\n",
       "4            通常     オールタイム      M      7.0          1.0       4         0.0"
      ]
     },
     "execution_count": 13,
     "metadata": {},
     "output_type": "execute_result"
    }
   ],
   "source": [
    "target_col = [\"campaign_name\", \"class_name\", \"gender\", \"count_1\", \"routine_flg\", \"period\", \"is_deleted\"]\n",
    "predict_data = predict_data[target_col]\n",
    "predict_data.head()"
   ]
  },
  {
   "cell_type": "code",
   "execution_count": 14,
   "id": "85a05a65",
   "metadata": {},
   "outputs": [
    {
     "data": {
      "application/vnd.microsoft.datawrangler.viewer.v0+json": {
       "columns": [
        {
         "name": "index",
         "rawType": "int64",
         "type": "integer"
        },
        {
         "name": "count_1",
         "rawType": "float64",
         "type": "float"
        },
        {
         "name": "routine_flg",
         "rawType": "float64",
         "type": "float"
        },
        {
         "name": "period",
         "rawType": "int64",
         "type": "integer"
        },
        {
         "name": "is_deleted",
         "rawType": "float64",
         "type": "float"
        },
        {
         "name": "campaign_name_入会費半額",
         "rawType": "bool",
         "type": "boolean"
        },
        {
         "name": "campaign_name_入会費無料",
         "rawType": "bool",
         "type": "boolean"
        },
        {
         "name": "campaign_name_通常",
         "rawType": "bool",
         "type": "boolean"
        },
        {
         "name": "class_name_オールタイム",
         "rawType": "bool",
         "type": "boolean"
        },
        {
         "name": "class_name_デイタイム",
         "rawType": "bool",
         "type": "boolean"
        },
        {
         "name": "class_name_ナイト",
         "rawType": "bool",
         "type": "boolean"
        },
        {
         "name": "gender_F",
         "rawType": "bool",
         "type": "boolean"
        },
        {
         "name": "gender_M",
         "rawType": "bool",
         "type": "boolean"
        }
       ],
       "ref": "5b600852-881f-4dc0-867b-bbad8b11ddf1",
       "rows": [
        [
         "0",
         "7.0",
         "1.0",
         "-4",
         "0.0",
         "True",
         "False",
         "False",
         "True",
         "False",
         "False",
         "False",
         "True"
        ],
        [
         "1",
         "5.0",
         "1.0",
         "-1",
         "0.0",
         "False",
         "False",
         "True",
         "True",
         "False",
         "False",
         "False",
         "True"
        ],
        [
         "2",
         "4.0",
         "1.0",
         "8",
         "0.0",
         "False",
         "False",
         "True",
         "True",
         "False",
         "False",
         "False",
         "True"
        ],
        [
         "3",
         "6.0",
         "1.0",
         "0",
         "0.0",
         "False",
         "False",
         "True",
         "False",
         "False",
         "True",
         "False",
         "True"
        ],
        [
         "4",
         "7.0",
         "1.0",
         "4",
         "0.0",
         "False",
         "False",
         "True",
         "True",
         "False",
         "False",
         "False",
         "True"
        ]
       ],
       "shape": {
        "columns": 12,
        "rows": 5
       }
      },
      "text/html": [
       "<div>\n",
       "<style scoped>\n",
       "    .dataframe tbody tr th:only-of-type {\n",
       "        vertical-align: middle;\n",
       "    }\n",
       "\n",
       "    .dataframe tbody tr th {\n",
       "        vertical-align: top;\n",
       "    }\n",
       "\n",
       "    .dataframe thead th {\n",
       "        text-align: right;\n",
       "    }\n",
       "</style>\n",
       "<table border=\"1\" class=\"dataframe\">\n",
       "  <thead>\n",
       "    <tr style=\"text-align: right;\">\n",
       "      <th></th>\n",
       "      <th>count_1</th>\n",
       "      <th>routine_flg</th>\n",
       "      <th>period</th>\n",
       "      <th>is_deleted</th>\n",
       "      <th>campaign_name_入会費半額</th>\n",
       "      <th>campaign_name_入会費無料</th>\n",
       "      <th>campaign_name_通常</th>\n",
       "      <th>class_name_オールタイム</th>\n",
       "      <th>class_name_デイタイム</th>\n",
       "      <th>class_name_ナイト</th>\n",
       "      <th>gender_F</th>\n",
       "      <th>gender_M</th>\n",
       "    </tr>\n",
       "  </thead>\n",
       "  <tbody>\n",
       "    <tr>\n",
       "      <th>0</th>\n",
       "      <td>7.0</td>\n",
       "      <td>1.0</td>\n",
       "      <td>-4</td>\n",
       "      <td>0.0</td>\n",
       "      <td>True</td>\n",
       "      <td>False</td>\n",
       "      <td>False</td>\n",
       "      <td>True</td>\n",
       "      <td>False</td>\n",
       "      <td>False</td>\n",
       "      <td>False</td>\n",
       "      <td>True</td>\n",
       "    </tr>\n",
       "    <tr>\n",
       "      <th>1</th>\n",
       "      <td>5.0</td>\n",
       "      <td>1.0</td>\n",
       "      <td>-1</td>\n",
       "      <td>0.0</td>\n",
       "      <td>False</td>\n",
       "      <td>False</td>\n",
       "      <td>True</td>\n",
       "      <td>True</td>\n",
       "      <td>False</td>\n",
       "      <td>False</td>\n",
       "      <td>False</td>\n",
       "      <td>True</td>\n",
       "    </tr>\n",
       "    <tr>\n",
       "      <th>2</th>\n",
       "      <td>4.0</td>\n",
       "      <td>1.0</td>\n",
       "      <td>8</td>\n",
       "      <td>0.0</td>\n",
       "      <td>False</td>\n",
       "      <td>False</td>\n",
       "      <td>True</td>\n",
       "      <td>True</td>\n",
       "      <td>False</td>\n",
       "      <td>False</td>\n",
       "      <td>False</td>\n",
       "      <td>True</td>\n",
       "    </tr>\n",
       "    <tr>\n",
       "      <th>3</th>\n",
       "      <td>6.0</td>\n",
       "      <td>1.0</td>\n",
       "      <td>0</td>\n",
       "      <td>0.0</td>\n",
       "      <td>False</td>\n",
       "      <td>False</td>\n",
       "      <td>True</td>\n",
       "      <td>False</td>\n",
       "      <td>False</td>\n",
       "      <td>True</td>\n",
       "      <td>False</td>\n",
       "      <td>True</td>\n",
       "    </tr>\n",
       "    <tr>\n",
       "      <th>4</th>\n",
       "      <td>7.0</td>\n",
       "      <td>1.0</td>\n",
       "      <td>4</td>\n",
       "      <td>0.0</td>\n",
       "      <td>False</td>\n",
       "      <td>False</td>\n",
       "      <td>True</td>\n",
       "      <td>True</td>\n",
       "      <td>False</td>\n",
       "      <td>False</td>\n",
       "      <td>False</td>\n",
       "      <td>True</td>\n",
       "    </tr>\n",
       "  </tbody>\n",
       "</table>\n",
       "</div>"
      ],
      "text/plain": [
       "   count_1  routine_flg  period  is_deleted  campaign_name_入会費半額  \\\n",
       "0      7.0          1.0      -4         0.0                 True   \n",
       "1      5.0          1.0      -1         0.0                False   \n",
       "2      4.0          1.0       8         0.0                False   \n",
       "3      6.0          1.0       0         0.0                False   \n",
       "4      7.0          1.0       4         0.0                False   \n",
       "\n",
       "   campaign_name_入会費無料  campaign_name_通常  class_name_オールタイム  class_name_デイタイム  \\\n",
       "0                False             False               True             False   \n",
       "1                False              True               True             False   \n",
       "2                False              True               True             False   \n",
       "3                False              True              False             False   \n",
       "4                False              True               True             False   \n",
       "\n",
       "   class_name_ナイト  gender_F  gender_M  \n",
       "0           False     False      True  \n",
       "1           False     False      True  \n",
       "2           False     False      True  \n",
       "3            True     False      True  \n",
       "4           False     False      True  "
      ]
     },
     "execution_count": 14,
     "metadata": {},
     "output_type": "execute_result"
    }
   ],
   "source": [
    "predict_data = pd.get_dummies(predict_data)\n",
    "predict_data.head()"
   ]
  },
  {
   "cell_type": "code",
   "execution_count": 15,
   "id": "48626c59",
   "metadata": {},
   "outputs": [
    {
     "data": {
      "application/vnd.microsoft.datawrangler.viewer.v0+json": {
       "columns": [
        {
         "name": "index",
         "rawType": "int64",
         "type": "integer"
        },
        {
         "name": "count_1",
         "rawType": "float64",
         "type": "float"
        },
        {
         "name": "routine_flg",
         "rawType": "float64",
         "type": "float"
        },
        {
         "name": "period",
         "rawType": "int64",
         "type": "integer"
        },
        {
         "name": "is_deleted",
         "rawType": "float64",
         "type": "float"
        },
        {
         "name": "campaign_name_入会費半額",
         "rawType": "bool",
         "type": "boolean"
        },
        {
         "name": "campaign_name_入会費無料",
         "rawType": "bool",
         "type": "boolean"
        },
        {
         "name": "class_name_オールタイム",
         "rawType": "bool",
         "type": "boolean"
        },
        {
         "name": "class_name_デイタイム",
         "rawType": "bool",
         "type": "boolean"
        },
        {
         "name": "gender_F",
         "rawType": "bool",
         "type": "boolean"
        }
       ],
       "ref": "11948792-604c-4621-8f95-37c8c99618c8",
       "rows": [
        [
         "0",
         "7.0",
         "1.0",
         "-4",
         "0.0",
         "True",
         "False",
         "True",
         "False",
         "False"
        ],
        [
         "1",
         "5.0",
         "1.0",
         "-1",
         "0.0",
         "False",
         "False",
         "True",
         "False",
         "False"
        ],
        [
         "2",
         "4.0",
         "1.0",
         "8",
         "0.0",
         "False",
         "False",
         "True",
         "False",
         "False"
        ],
        [
         "3",
         "6.0",
         "1.0",
         "0",
         "0.0",
         "False",
         "False",
         "False",
         "False",
         "False"
        ],
        [
         "4",
         "7.0",
         "1.0",
         "4",
         "0.0",
         "False",
         "False",
         "True",
         "False",
         "False"
        ]
       ],
       "shape": {
        "columns": 9,
        "rows": 5
       }
      },
      "text/html": [
       "<div>\n",
       "<style scoped>\n",
       "    .dataframe tbody tr th:only-of-type {\n",
       "        vertical-align: middle;\n",
       "    }\n",
       "\n",
       "    .dataframe tbody tr th {\n",
       "        vertical-align: top;\n",
       "    }\n",
       "\n",
       "    .dataframe thead th {\n",
       "        text-align: right;\n",
       "    }\n",
       "</style>\n",
       "<table border=\"1\" class=\"dataframe\">\n",
       "  <thead>\n",
       "    <tr style=\"text-align: right;\">\n",
       "      <th></th>\n",
       "      <th>count_1</th>\n",
       "      <th>routine_flg</th>\n",
       "      <th>period</th>\n",
       "      <th>is_deleted</th>\n",
       "      <th>campaign_name_入会費半額</th>\n",
       "      <th>campaign_name_入会費無料</th>\n",
       "      <th>class_name_オールタイム</th>\n",
       "      <th>class_name_デイタイム</th>\n",
       "      <th>gender_F</th>\n",
       "    </tr>\n",
       "  </thead>\n",
       "  <tbody>\n",
       "    <tr>\n",
       "      <th>0</th>\n",
       "      <td>7.0</td>\n",
       "      <td>1.0</td>\n",
       "      <td>-4</td>\n",
       "      <td>0.0</td>\n",
       "      <td>True</td>\n",
       "      <td>False</td>\n",
       "      <td>True</td>\n",
       "      <td>False</td>\n",
       "      <td>False</td>\n",
       "    </tr>\n",
       "    <tr>\n",
       "      <th>1</th>\n",
       "      <td>5.0</td>\n",
       "      <td>1.0</td>\n",
       "      <td>-1</td>\n",
       "      <td>0.0</td>\n",
       "      <td>False</td>\n",
       "      <td>False</td>\n",
       "      <td>True</td>\n",
       "      <td>False</td>\n",
       "      <td>False</td>\n",
       "    </tr>\n",
       "    <tr>\n",
       "      <th>2</th>\n",
       "      <td>4.0</td>\n",
       "      <td>1.0</td>\n",
       "      <td>8</td>\n",
       "      <td>0.0</td>\n",
       "      <td>False</td>\n",
       "      <td>False</td>\n",
       "      <td>True</td>\n",
       "      <td>False</td>\n",
       "      <td>False</td>\n",
       "    </tr>\n",
       "    <tr>\n",
       "      <th>3</th>\n",
       "      <td>6.0</td>\n",
       "      <td>1.0</td>\n",
       "      <td>0</td>\n",
       "      <td>0.0</td>\n",
       "      <td>False</td>\n",
       "      <td>False</td>\n",
       "      <td>False</td>\n",
       "      <td>False</td>\n",
       "      <td>False</td>\n",
       "    </tr>\n",
       "    <tr>\n",
       "      <th>4</th>\n",
       "      <td>7.0</td>\n",
       "      <td>1.0</td>\n",
       "      <td>4</td>\n",
       "      <td>0.0</td>\n",
       "      <td>False</td>\n",
       "      <td>False</td>\n",
       "      <td>True</td>\n",
       "      <td>False</td>\n",
       "      <td>False</td>\n",
       "    </tr>\n",
       "  </tbody>\n",
       "</table>\n",
       "</div>"
      ],
      "text/plain": [
       "   count_1  routine_flg  period  is_deleted  campaign_name_入会費半額  \\\n",
       "0      7.0          1.0      -4         0.0                 True   \n",
       "1      5.0          1.0      -1         0.0                False   \n",
       "2      4.0          1.0       8         0.0                False   \n",
       "3      6.0          1.0       0         0.0                False   \n",
       "4      7.0          1.0       4         0.0                False   \n",
       "\n",
       "   campaign_name_入会費無料  class_name_オールタイム  class_name_デイタイム  gender_F  \n",
       "0                False               True             False     False  \n",
       "1                False               True             False     False  \n",
       "2                False               True             False     False  \n",
       "3                False              False             False     False  \n",
       "4                False               True             False     False  "
      ]
     },
     "execution_count": 15,
     "metadata": {},
     "output_type": "execute_result"
    }
   ],
   "source": [
    "del predict_data[\"campaign_name_通常\"]\n",
    "del predict_data[\"class_name_ナイト\"]\n",
    "del predict_data[\"gender_M\"]\n",
    "predict_data.head()"
   ]
  },
  {
   "cell_type": "code",
   "execution_count": 16,
   "id": "b4fab064",
   "metadata": {},
   "outputs": [
    {
     "name": "stdout",
     "output_type": "stream",
     "text": [
      "[0. 0. 0. 1. 1. 1. 0. 1. 1. 0. 1. 1. 1. 1. 0. 1. 0. 0. 0. 1. 1. 1. 1. 1.\n",
      " 0. 1. 1. 1. 0. 0. 1. 0. 0. 0. 1. 1. 1. 1. 0. 0. 1. 0. 0. 1. 1. 0. 1. 1.\n",
      " 1. 0. 1. 0. 1. 0. 0. 1. 0. 1. 1. 1. 0. 0. 1. 0. 1. 1. 0. 0. 1. 0. 1. 1.\n",
      " 1. 0. 1. 0. 1. 1. 1. 1. 1. 1. 1. 0. 1. 0. 0. 1. 0. 1. 0. 1. 0. 0. 1. 1.\n",
      " 1. 0. 1. 0. 0. 0. 1. 1. 1. 0. 1. 0. 1. 0. 0. 0. 0. 1. 1. 1. 0. 1. 0. 0.\n",
      " 0. 1. 1. 1. 1. 1. 0. 1. 1. 1. 1. 0. 1. 1. 1. 1. 1. 1. 0. 0. 0. 0. 0. 1.\n",
      " 0. 1. 0. 1. 1. 0. 0. 1. 0. 1. 0. 1. 1. 1. 1. 0. 1. 1. 0. 0. 0. 1. 1. 1.\n",
      " 1. 0. 1. 1. 0. 1. 0. 0. 1. 1. 1. 0. 0. 0. 0. 0. 0. 1. 0. 0. 1. 1. 1. 1.\n",
      " 0. 1. 1. 0. 1. 0. 0. 0. 1. 0. 1. 0. 1. 1. 1. 0. 1. 0. 1. 1. 0. 0. 1. 0.\n",
      " 1. 1. 1. 1. 1. 1. 0. 0. 0. 0. 1. 0. 0. 0. 1. 0. 0. 1. 0. 0. 1. 1. 0. 1.\n",
      " 1. 0. 1. 0. 1. 0. 0. 0. 0. 0. 0. 1. 0. 0. 1. 0. 0. 1. 1. 1. 0. 0. 0. 1.\n",
      " 0. 0. 0. 0. 0. 1. 1. 1. 1. 1. 1. 0. 1. 0. 0. 0. 0. 1. 1. 0. 0. 0. 0. 0.\n",
      " 0. 1. 0. 1. 1. 1. 1. 1. 1. 0. 1. 1. 0. 1. 0. 0. 1. 0. 0. 0. 1. 0. 0. 1.\n",
      " 0. 1. 1. 0. 0. 1. 0. 0. 0. 0. 0. 0. 1. 0. 0. 1. 1. 1. 1. 0. 0. 0. 0. 0.\n",
      " 1. 1. 1. 1. 0. 1. 1. 0. 0. 0. 0. 0. 0. 1. 1. 0. 1. 1. 0. 0. 1. 1. 0. 0.\n",
      " 0. 0. 0. 1. 0. 0. 1. 1. 1. 1. 1. 0. 1. 1. 0. 0. 1. 1. 1. 1. 1. 0. 0. 1.\n",
      " 0. 1. 1. 0. 0. 1. 0. 1. 0. 0. 1. 1. 0. 1. 1. 0. 0. 1. 0. 1. 1. 1. 0. 1.\n",
      " 0. 1. 0. 0. 0. 0. 0. 1. 0. 0. 1. 0. 0. 1. 1. 0. 1. 1. 1. 0. 1. 1. 1. 0.\n",
      " 1. 0. 1. 0. 1. 0. 0. 0. 0. 0. 1. 0. 0. 1. 1. 1. 0. 0. 1. 1. 0. 0. 1. 1.\n",
      " 1. 0. 0. 0. 0. 1. 0. 0. 0. 0. 1. 0. 1. 0. 0. 0. 0. 1. 1. 0. 0. 0. 0. 0.\n",
      " 0. 0. 0. 1. 0. 0. 0. 1. 0. 1. 1. 0. 1. 1. 0. 1. 0. 1. 0. 1. 0. 0. 0. 0.\n",
      " 0. 0. 1. 0. 0. 0. 1. 0. 1. 0. 0. 0. 0. 1. 0. 0. 1. 1. 1. 0. 1. 1.]\n"
     ]
    }
   ],
   "source": [
    "from sklearn.tree import DecisionTreeClassifier\n",
    "import sklearn.model_selection\n",
    "\n",
    "exit = predict_data.loc[predict_data[\"is_deleted\"]==1]\n",
    "conti = predict_data.loc[predict_data[\"is_deleted\"]==0].sample(len(exit), random_state=0)\n",
    "\n",
    "X= pd.concat([exit,conti], ignore_index=True)\n",
    "y = X[\"is_deleted\"]\n",
    "del X[\"is_deleted\"]\n",
    "X_train, X_test, y_train, y_test = sklearn.model_selection.train_test_split(X,y,random_state=0)\n",
    "\n",
    "model = DecisionTreeClassifier(random_state=0)\n",
    "model.fit(X_train, y_train)\n",
    "y_test_pred = model.predict(X_test)\n",
    "print(y_test_pred)"
   ]
  },
  {
   "cell_type": "code",
   "execution_count": 17,
   "id": "ad1f476e",
   "metadata": {},
   "outputs": [
    {
     "data": {
      "application/vnd.microsoft.datawrangler.viewer.v0+json": {
       "columns": [
        {
         "name": "index",
         "rawType": "int64",
         "type": "integer"
        },
        {
         "name": "y_test",
         "rawType": "float64",
         "type": "float"
        },
        {
         "name": "y_pred",
         "rawType": "float64",
         "type": "float"
        }
       ],
       "ref": "44e0dc22-1cbb-4cc3-8cd6-63009a368c05",
       "rows": [
        [
         "1091",
         "0.0",
         "0.0"
        ],
        [
         "1786",
         "0.0",
         "0.0"
        ],
        [
         "1439",
         "0.0",
         "0.0"
        ],
        [
         "745",
         "1.0",
         "1.0"
        ],
        [
         "820",
         "1.0",
         "1.0"
        ]
       ],
       "shape": {
        "columns": 2,
        "rows": 5
       }
      },
      "text/html": [
       "<div>\n",
       "<style scoped>\n",
       "    .dataframe tbody tr th:only-of-type {\n",
       "        vertical-align: middle;\n",
       "    }\n",
       "\n",
       "    .dataframe tbody tr th {\n",
       "        vertical-align: top;\n",
       "    }\n",
       "\n",
       "    .dataframe thead th {\n",
       "        text-align: right;\n",
       "    }\n",
       "</style>\n",
       "<table border=\"1\" class=\"dataframe\">\n",
       "  <thead>\n",
       "    <tr style=\"text-align: right;\">\n",
       "      <th></th>\n",
       "      <th>y_test</th>\n",
       "      <th>y_pred</th>\n",
       "    </tr>\n",
       "  </thead>\n",
       "  <tbody>\n",
       "    <tr>\n",
       "      <th>1091</th>\n",
       "      <td>0.0</td>\n",
       "      <td>0.0</td>\n",
       "    </tr>\n",
       "    <tr>\n",
       "      <th>1786</th>\n",
       "      <td>0.0</td>\n",
       "      <td>0.0</td>\n",
       "    </tr>\n",
       "    <tr>\n",
       "      <th>1439</th>\n",
       "      <td>0.0</td>\n",
       "      <td>0.0</td>\n",
       "    </tr>\n",
       "    <tr>\n",
       "      <th>745</th>\n",
       "      <td>1.0</td>\n",
       "      <td>1.0</td>\n",
       "    </tr>\n",
       "    <tr>\n",
       "      <th>820</th>\n",
       "      <td>1.0</td>\n",
       "      <td>1.0</td>\n",
       "    </tr>\n",
       "  </tbody>\n",
       "</table>\n",
       "</div>"
      ],
      "text/plain": [
       "      y_test  y_pred\n",
       "1091     0.0     0.0\n",
       "1786     0.0     0.0\n",
       "1439     0.0     0.0\n",
       "745      1.0     1.0\n",
       "820      1.0     1.0"
      ]
     },
     "execution_count": 17,
     "metadata": {},
     "output_type": "execute_result"
    }
   ],
   "source": [
    "results_test = pd.DataFrame({\"y_test\":y_test, \"y_pred\":y_test_pred})\n",
    "results_test.head()"
   ]
  },
  {
   "cell_type": "code",
   "execution_count": 18,
   "id": "24c78a26",
   "metadata": {},
   "outputs": [
    {
     "name": "stdout",
     "output_type": "stream",
     "text": [
      "0.8802281368821293\n"
     ]
    }
   ],
   "source": [
    "correct = len(results_test.loc[results_test[\"y_test\"]==results_test[\"y_pred\"]])\n",
    "data_count = len(results_test)\n",
    "score_test = correct / data_count\n",
    "print(score_test)"
   ]
  },
  {
   "cell_type": "code",
   "execution_count": 19,
   "id": "eee2c66c",
   "metadata": {},
   "outputs": [
    {
     "name": "stdout",
     "output_type": "stream",
     "text": [
      "0.8802281368821293\n",
      "0.9727503168567807\n"
     ]
    }
   ],
   "source": [
    "print(model.score(X_test, y_test))\n",
    "print(model.score(X_train, y_train))"
   ]
  },
  {
   "cell_type": "code",
   "execution_count": 20,
   "id": "e897ce44",
   "metadata": {},
   "outputs": [
    {
     "name": "stdout",
     "output_type": "stream",
     "text": [
      "0.9106463878326996\n",
      "0.9201520912547528\n"
     ]
    }
   ],
   "source": [
    "X = pd.concat([exit, conti], ignore_index=True)\n",
    "y = X[\"is_deleted\"]\n",
    "del X[\"is_deleted\"]\n",
    "X_train, X_test, y_train, y_test = sklearn.model_selection.train_test_split(X,y,random_state=0)\n",
    "\n",
    "model = DecisionTreeClassifier(random_state=0, max_depth=5)\n",
    "model.fit(X_train, y_train)\n",
    "print(model.score(X_test, y_test))\n",
    "print(model.score(X_train, y_train))"
   ]
  },
  {
   "cell_type": "code",
   "execution_count": 21,
   "id": "43644782",
   "metadata": {},
   "outputs": [
    {
     "data": {
      "application/vnd.microsoft.datawrangler.viewer.v0+json": {
       "columns": [
        {
         "name": "index",
         "rawType": "int64",
         "type": "integer"
        },
        {
         "name": "feature_names",
         "rawType": "object",
         "type": "string"
        },
        {
         "name": "coefficient",
         "rawType": "float64",
         "type": "float"
        }
       ],
       "ref": "6544f2a7-502c-455a-8e20-fe2bc92893d5",
       "rows": [
        [
         "0",
         "count_1",
         "0.2681954076175485"
        ],
        [
         "1",
         "routine_flg",
         "0.3762386275744588"
        ],
        [
         "2",
         "period",
         "0.35121159022855847"
        ],
        [
         "3",
         "campaign_name_入会費半額",
         "0.0"
        ],
        [
         "4",
         "campaign_name_入会費無料",
         "0.0"
        ],
        [
         "5",
         "class_name_オールタイム",
         "0.0"
        ],
        [
         "6",
         "class_name_デイタイム",
         "0.0007751301267783252"
        ],
        [
         "7",
         "gender_F",
         "0.003579244452656038"
        ]
       ],
       "shape": {
        "columns": 2,
        "rows": 8
       }
      },
      "text/html": [
       "<div>\n",
       "<style scoped>\n",
       "    .dataframe tbody tr th:only-of-type {\n",
       "        vertical-align: middle;\n",
       "    }\n",
       "\n",
       "    .dataframe tbody tr th {\n",
       "        vertical-align: top;\n",
       "    }\n",
       "\n",
       "    .dataframe thead th {\n",
       "        text-align: right;\n",
       "    }\n",
       "</style>\n",
       "<table border=\"1\" class=\"dataframe\">\n",
       "  <thead>\n",
       "    <tr style=\"text-align: right;\">\n",
       "      <th></th>\n",
       "      <th>feature_names</th>\n",
       "      <th>coefficient</th>\n",
       "    </tr>\n",
       "  </thead>\n",
       "  <tbody>\n",
       "    <tr>\n",
       "      <th>0</th>\n",
       "      <td>count_1</td>\n",
       "      <td>0.268195</td>\n",
       "    </tr>\n",
       "    <tr>\n",
       "      <th>1</th>\n",
       "      <td>routine_flg</td>\n",
       "      <td>0.376239</td>\n",
       "    </tr>\n",
       "    <tr>\n",
       "      <th>2</th>\n",
       "      <td>period</td>\n",
       "      <td>0.351212</td>\n",
       "    </tr>\n",
       "    <tr>\n",
       "      <th>3</th>\n",
       "      <td>campaign_name_入会費半額</td>\n",
       "      <td>0.000000</td>\n",
       "    </tr>\n",
       "    <tr>\n",
       "      <th>4</th>\n",
       "      <td>campaign_name_入会費無料</td>\n",
       "      <td>0.000000</td>\n",
       "    </tr>\n",
       "    <tr>\n",
       "      <th>5</th>\n",
       "      <td>class_name_オールタイム</td>\n",
       "      <td>0.000000</td>\n",
       "    </tr>\n",
       "    <tr>\n",
       "      <th>6</th>\n",
       "      <td>class_name_デイタイム</td>\n",
       "      <td>0.000775</td>\n",
       "    </tr>\n",
       "    <tr>\n",
       "      <th>7</th>\n",
       "      <td>gender_F</td>\n",
       "      <td>0.003579</td>\n",
       "    </tr>\n",
       "  </tbody>\n",
       "</table>\n",
       "</div>"
      ],
      "text/plain": [
       "         feature_names  coefficient\n",
       "0              count_1     0.268195\n",
       "1          routine_flg     0.376239\n",
       "2               period     0.351212\n",
       "3  campaign_name_入会費半額     0.000000\n",
       "4  campaign_name_入会費無料     0.000000\n",
       "5    class_name_オールタイム     0.000000\n",
       "6     class_name_デイタイム     0.000775\n",
       "7             gender_F     0.003579"
      ]
     },
     "execution_count": 21,
     "metadata": {},
     "output_type": "execute_result"
    }
   ],
   "source": [
    "importance = pd.DataFrame({\"feature_names\": X.columns, \"coefficient\":model.feature_importances_})\n",
    "importance"
   ]
  },
  {
   "cell_type": "code",
   "execution_count": 22,
   "id": "51369c79",
   "metadata": {},
   "outputs": [
    {
     "data": {
      "text/plain": [
       "[Text(0.3108108108108108, 0.9166666666666666, 'routine_flg <= 0.5\\ngini = 0.5\\nsamples = 1578\\nvalue = [792.0, 786.0]'),\n",
       " Text(0.05405405405405406, 0.75, 'count_1 <= 6.5\\ngini = 0.006\\nsamples = 353\\nvalue = [1, 352]'),\n",
       " Text(0.18243243243243243, 0.8333333333333333, 'True  '),\n",
       " Text(0.02702702702702703, 0.5833333333333334, 'gini = 0.0\\nsamples = 294\\nvalue = [0, 294]'),\n",
       " Text(0.08108108108108109, 0.5833333333333334, 'count_1 <= 7.5\\ngini = 0.033\\nsamples = 59\\nvalue = [1, 58]'),\n",
       " Text(0.05405405405405406, 0.4166666666666667, 'class_name_デイタイム <= 0.5\\ngini = 0.18\\nsamples = 10\\nvalue = [1, 9]'),\n",
       " Text(0.02702702702702703, 0.25, 'gini = 0.0\\nsamples = 7\\nvalue = [0, 7]'),\n",
       " Text(0.08108108108108109, 0.25, 'period <= -0.5\\ngini = 0.444\\nsamples = 3\\nvalue = [1, 2]'),\n",
       " Text(0.05405405405405406, 0.08333333333333333, 'gini = 0.0\\nsamples = 1\\nvalue = [1, 0]'),\n",
       " Text(0.10810810810810811, 0.08333333333333333, 'gini = 0.0\\nsamples = 2\\nvalue = [0, 2]'),\n",
       " Text(0.10810810810810811, 0.4166666666666667, 'gini = 0.0\\nsamples = 49\\nvalue = [0, 49]'),\n",
       " Text(0.5675675675675675, 0.75, 'count_1 <= 4.5\\ngini = 0.458\\nsamples = 1225\\nvalue = [791.0, 434.0]'),\n",
       " Text(0.43918918918918914, 0.8333333333333333, '  False'),\n",
       " Text(0.35135135135135137, 0.5833333333333334, 'period <= 12.5\\ngini = 0.473\\nsamples = 531\\nvalue = [204, 327]'),\n",
       " Text(0.24324324324324326, 0.4166666666666667, 'period <= 8.5\\ngini = 0.174\\nsamples = 323\\nvalue = [31, 292]'),\n",
       " Text(0.1891891891891892, 0.25, 'period <= 3.5\\ngini = 0.095\\nsamples = 281\\nvalue = [14, 267]'),\n",
       " Text(0.16216216216216217, 0.08333333333333333, 'gini = 0.021\\nsamples = 189\\nvalue = [2, 187]'),\n",
       " Text(0.21621621621621623, 0.08333333333333333, 'gini = 0.227\\nsamples = 92\\nvalue = [12, 80]'),\n",
       " Text(0.2972972972972973, 0.25, 'count_1 <= 3.5\\ngini = 0.482\\nsamples = 42\\nvalue = [17, 25]'),\n",
       " Text(0.2702702702702703, 0.08333333333333333, 'gini = 0.375\\nsamples = 28\\nvalue = [7, 21]'),\n",
       " Text(0.32432432432432434, 0.08333333333333333, 'gini = 0.408\\nsamples = 14\\nvalue = [10, 4]'),\n",
       " Text(0.4594594594594595, 0.4166666666666667, 'period <= 21.5\\ngini = 0.28\\nsamples = 208\\nvalue = [173, 35]'),\n",
       " Text(0.40540540540540543, 0.25, 'count_1 <= 2.5\\ngini = 0.472\\nsamples = 89\\nvalue = [55.0, 34.0]'),\n",
       " Text(0.3783783783783784, 0.08333333333333333, 'gini = 0.472\\nsamples = 21\\nvalue = [8, 13]'),\n",
       " Text(0.43243243243243246, 0.08333333333333333, 'gini = 0.427\\nsamples = 68\\nvalue = [47, 21]'),\n",
       " Text(0.5135135135135135, 0.25, 'period <= 22.5\\ngini = 0.017\\nsamples = 119\\nvalue = [118, 1]'),\n",
       " Text(0.4864864864864865, 0.08333333333333333, 'gini = 0.198\\nsamples = 9\\nvalue = [8, 1]'),\n",
       " Text(0.5405405405405406, 0.08333333333333333, 'gini = 0.0\\nsamples = 110\\nvalue = [110, 0]'),\n",
       " Text(0.7837837837837838, 0.5833333333333334, 'period <= -1.5\\ngini = 0.261\\nsamples = 694\\nvalue = [587.0, 107.0]'),\n",
       " Text(0.6756756756756757, 0.4166666666666667, 'count_1 <= 6.5\\ngini = 0.488\\nsamples = 104\\nvalue = [44.0, 60.0]'),\n",
       " Text(0.6216216216216216, 0.25, 'period <= -4.5\\ngini = 0.165\\nsamples = 44\\nvalue = [4, 40]'),\n",
       " Text(0.5945945945945946, 0.08333333333333333, 'gini = 0.332\\nsamples = 19\\nvalue = [4, 15]'),\n",
       " Text(0.6486486486486487, 0.08333333333333333, 'gini = 0.0\\nsamples = 25\\nvalue = [0, 25]'),\n",
       " Text(0.7297297297297297, 0.25, 'gender_F <= 0.5\\ngini = 0.444\\nsamples = 60\\nvalue = [40, 20]'),\n",
       " Text(0.7027027027027027, 0.08333333333333333, 'gini = 0.499\\nsamples = 27\\nvalue = [14, 13]'),\n",
       " Text(0.7567567567567568, 0.08333333333333333, 'gini = 0.334\\nsamples = 33\\nvalue = [26, 7]'),\n",
       " Text(0.8918918918918919, 0.4166666666666667, 'period <= 8.5\\ngini = 0.147\\nsamples = 590\\nvalue = [543.0, 47.0]'),\n",
       " Text(0.8378378378378378, 0.25, 'count_1 <= 6.5\\ngini = 0.228\\nsamples = 289\\nvalue = [251, 38]'),\n",
       " Text(0.8108108108108109, 0.08333333333333333, 'gini = 0.414\\nsamples = 106\\nvalue = [75, 31]'),\n",
       " Text(0.8648648648648649, 0.08333333333333333, 'gini = 0.074\\nsamples = 183\\nvalue = [176, 7]'),\n",
       " Text(0.9459459459459459, 0.25, 'count_1 <= 5.5\\ngini = 0.058\\nsamples = 301\\nvalue = [292, 9]'),\n",
       " Text(0.918918918918919, 0.08333333333333333, 'gini = 0.113\\nsamples = 133\\nvalue = [125, 8]'),\n",
       " Text(0.972972972972973, 0.08333333333333333, 'gini = 0.012\\nsamples = 168\\nvalue = [167, 1]')]"
      ]
     },
     "execution_count": 22,
     "metadata": {},
     "output_type": "execute_result"
    },
    {
     "data": {
      "image/png": "[encoded data removed]",
      "text/plain": [
       "<Figure size 2000x800 with 1 Axes>"
      ]
     },
     "metadata": {},
     "output_type": "display_data"
    }
   ],
   "source": [
    "from sklearn import tree\n",
    "import matplotlib.pyplot as plt\n",
    "import japanize_matplotlib\n",
    "\n",
    "plt.figure(figsize=(20,8))\n",
    "tree.plot_tree(model, feature_names=X.columns, fontsize=8)"
   ]
  },
  {
   "cell_type": "code",
   "execution_count": 23,
   "id": "821cddc0",
   "metadata": {},
   "outputs": [],
   "source": [
    "count_1 = 3\n",
    "routine_flg = 1\n",
    "period = 10\n",
    "campaign_name = \"入会費無料\"\n",
    "class_name = \"オールタイム\"\n",
    "gender = \"M\""
   ]
  },
  {
   "cell_type": "code",
   "execution_count": 24,
   "id": "064204af",
   "metadata": {},
   "outputs": [],
   "source": [
    "if campaign_name == \"入会費半額\":\n",
    "    campaign_name_list = [1,0]\n",
    "elif campaign_name == \"入会費無料\":\n",
    "    campaign_name_list = [0,1]\n",
    "elif campaign_name == \"通常\":\n",
    "    campaign_name_list = [0,0]\n",
    "if class_name == \"オールタイム\":\n",
    "    class_name_list = [1,0]\n",
    "elif class_name == \"デイタイム\":\n",
    "    class_name_list = [0,1]\n",
    "elif class_name == \"ナイト\":\n",
    "    class_name_list = [0,0]\n",
    "if gender == \"F\":\n",
    "    gender_list = [1]\n",
    "elif gender == \"M\":\n",
    "    gender_list = [0]\n",
    "input_data = [count_1, routine_flg, period]\n",
    "input_data.extend(campaign_name_list)\n",
    "input_data.extend(class_name_list)\n",
    "input_data.extend(gender_list)\n",
    "input_data = pd.DataFrame(data=[input_data], columns=X.columns)"
   ]
  },
  {
   "cell_type": "code",
   "execution_count": 25,
   "id": "2099c3fa",
   "metadata": {},
   "outputs": [
    {
     "name": "stdout",
     "output_type": "stream",
     "text": [
      "[1.]\n",
      "[[0.25 0.75]]\n"
     ]
    }
   ],
   "source": [
    "print(model.predict(input_data))\n",
    "print(model.predict_proba(input_data))"
   ]
  },
  {
   "cell_type": "code",
   "execution_count": null,
   "id": "6c3cdb0c",
   "metadata": {},
   "outputs": [],
   "source": []
  }
 ],
 "metadata": {
  "kernelspec": {
   "display_name": "basic2",
   "language": "python",
   "name": "python3"
  },
  "language_info": {
   "codemirror_mode": {
    "name": "ipython",
    "version": 3
   },
   "file_extension": ".py",
   "mimetype": "text/x-python",
   "name": "python",
   "nbconvert_exporter": "python",
   "pygments_lexer": "ipython3",
   "version": "3.11.13"
  }
 },
 "nbformat": 4,
 "nbformat_minor": 5
}
