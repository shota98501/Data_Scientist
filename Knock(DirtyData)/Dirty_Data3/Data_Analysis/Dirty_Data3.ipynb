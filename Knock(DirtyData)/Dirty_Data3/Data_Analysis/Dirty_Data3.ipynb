{
 "cells": [
  {
   "cell_type": "code",
   "execution_count": 1,
   "id": "7330f8cc",
   "metadata": {},
   "outputs": [],
   "source": [
    "import pandas as pd"
   ]
  },
  {
   "cell_type": "code",
   "execution_count": 2,
   "id": "7dbd970d",
   "metadata": {},
   "outputs": [
    {
     "name": "stdout",
     "output_type": "stream",
     "text": [
      "197428\n"
     ]
    },
    {
     "data": {
      "application/vnd.microsoft.datawrangler.viewer.v0+json": {
       "columns": [
        {
         "name": "index",
         "rawType": "int64",
         "type": "integer"
        },
        {
         "name": "log_id",
         "rawType": "object",
         "type": "string"
        },
        {
         "name": "customer_id",
         "rawType": "object",
         "type": "string"
        },
        {
         "name": "usedate",
         "rawType": "object",
         "type": "string"
        }
       ],
       "ref": "0fdf165c-5259-4ae3-b328-e9937b47b9b6",
       "rows": [
        [
         "0",
         "L00000049012330",
         "AS009373",
         "2018-04-01"
        ],
        [
         "1",
         "L00000049012331",
         "AS015315",
         "2018-04-01"
        ],
        [
         "2",
         "L00000049012332",
         "AS040841",
         "2018-04-01"
        ],
        [
         "3",
         "L00000049012333",
         "AS046594",
         "2018-04-01"
        ],
        [
         "4",
         "L00000049012334",
         "AS073285",
         "2018-04-01"
        ]
       ],
       "shape": {
        "columns": 3,
        "rows": 5
       }
      },
      "text/html": [
       "<div>\n",
       "<style scoped>\n",
       "    .dataframe tbody tr th:only-of-type {\n",
       "        vertical-align: middle;\n",
       "    }\n",
       "\n",
       "    .dataframe tbody tr th {\n",
       "        vertical-align: top;\n",
       "    }\n",
       "\n",
       "    .dataframe thead th {\n",
       "        text-align: right;\n",
       "    }\n",
       "</style>\n",
       "<table border=\"1\" class=\"dataframe\">\n",
       "  <thead>\n",
       "    <tr style=\"text-align: right;\">\n",
       "      <th></th>\n",
       "      <th>log_id</th>\n",
       "      <th>customer_id</th>\n",
       "      <th>usedate</th>\n",
       "    </tr>\n",
       "  </thead>\n",
       "  <tbody>\n",
       "    <tr>\n",
       "      <th>0</th>\n",
       "      <td>L00000049012330</td>\n",
       "      <td>AS009373</td>\n",
       "      <td>2018-04-01</td>\n",
       "    </tr>\n",
       "    <tr>\n",
       "      <th>1</th>\n",
       "      <td>L00000049012331</td>\n",
       "      <td>AS015315</td>\n",
       "      <td>2018-04-01</td>\n",
       "    </tr>\n",
       "    <tr>\n",
       "      <th>2</th>\n",
       "      <td>L00000049012332</td>\n",
       "      <td>AS040841</td>\n",
       "      <td>2018-04-01</td>\n",
       "    </tr>\n",
       "    <tr>\n",
       "      <th>3</th>\n",
       "      <td>L00000049012333</td>\n",
       "      <td>AS046594</td>\n",
       "      <td>2018-04-01</td>\n",
       "    </tr>\n",
       "    <tr>\n",
       "      <th>4</th>\n",
       "      <td>L00000049012334</td>\n",
       "      <td>AS073285</td>\n",
       "      <td>2018-04-01</td>\n",
       "    </tr>\n",
       "  </tbody>\n",
       "</table>\n",
       "</div>"
      ],
      "text/plain": [
       "            log_id customer_id     usedate\n",
       "0  L00000049012330    AS009373  2018-04-01\n",
       "1  L00000049012331    AS015315  2018-04-01\n",
       "2  L00000049012332    AS040841  2018-04-01\n",
       "3  L00000049012333    AS046594  2018-04-01\n",
       "4  L00000049012334    AS073285  2018-04-01"
      ]
     },
     "execution_count": 2,
     "metadata": {},
     "output_type": "execute_result"
    }
   ],
   "source": [
    "uselog = pd.read_csv(\"../Datasets/use_log.csv\")\n",
    "print(len(uselog))\n",
    "uselog.head()"
   ]
  },
  {
   "cell_type": "code",
   "execution_count": 3,
   "id": "33cd0932",
   "metadata": {},
   "outputs": [
    {
     "name": "stdout",
     "output_type": "stream",
     "text": [
      "4192\n"
     ]
    },
    {
     "data": {
      "application/vnd.microsoft.datawrangler.viewer.v0+json": {
       "columns": [
        {
         "name": "index",
         "rawType": "int64",
         "type": "integer"
        },
        {
         "name": "customer_id",
         "rawType": "object",
         "type": "string"
        },
        {
         "name": "name",
         "rawType": "object",
         "type": "string"
        },
        {
         "name": "class",
         "rawType": "object",
         "type": "string"
        },
        {
         "name": "gender",
         "rawType": "object",
         "type": "string"
        },
        {
         "name": "start_date",
         "rawType": "object",
         "type": "string"
        },
        {
         "name": "end_date",
         "rawType": "object",
         "type": "unknown"
        },
        {
         "name": "campaign_id",
         "rawType": "object",
         "type": "string"
        },
        {
         "name": "is_deleted",
         "rawType": "int64",
         "type": "integer"
        }
       ],
       "ref": "5a3e5325-279b-404c-8118-923bbe59861a",
       "rows": [
        [
         "0",
         "OA832399",
         "XXXX",
         "C01",
         "F",
         "2015-05-01 00:00:00",
         null,
         "CA1",
         "0"
        ],
        [
         "1",
         "PL270116",
         "XXXXX",
         "C01",
         "M",
         "2015-05-01 00:00:00",
         null,
         "CA1",
         "0"
        ],
        [
         "2",
         "OA974876",
         "XXXXX",
         "C01",
         "M",
         "2015-05-01 00:00:00",
         null,
         "CA1",
         "0"
        ],
        [
         "3",
         "HD024127",
         "XXXXX",
         "C01",
         "F",
         "2015-05-01 00:00:00",
         null,
         "CA1",
         "0"
        ],
        [
         "4",
         "HD661448",
         "XXXXX",
         "C03",
         "F",
         "2015-05-01 00:00:00",
         null,
         "CA1",
         "0"
        ]
       ],
       "shape": {
        "columns": 8,
        "rows": 5
       }
      },
      "text/html": [
       "<div>\n",
       "<style scoped>\n",
       "    .dataframe tbody tr th:only-of-type {\n",
       "        vertical-align: middle;\n",
       "    }\n",
       "\n",
       "    .dataframe tbody tr th {\n",
       "        vertical-align: top;\n",
       "    }\n",
       "\n",
       "    .dataframe thead th {\n",
       "        text-align: right;\n",
       "    }\n",
       "</style>\n",
       "<table border=\"1\" class=\"dataframe\">\n",
       "  <thead>\n",
       "    <tr style=\"text-align: right;\">\n",
       "      <th></th>\n",
       "      <th>customer_id</th>\n",
       "      <th>name</th>\n",
       "      <th>class</th>\n",
       "      <th>gender</th>\n",
       "      <th>start_date</th>\n",
       "      <th>end_date</th>\n",
       "      <th>campaign_id</th>\n",
       "      <th>is_deleted</th>\n",
       "    </tr>\n",
       "  </thead>\n",
       "  <tbody>\n",
       "    <tr>\n",
       "      <th>0</th>\n",
       "      <td>OA832399</td>\n",
       "      <td>XXXX</td>\n",
       "      <td>C01</td>\n",
       "      <td>F</td>\n",
       "      <td>2015-05-01 00:00:00</td>\n",
       "      <td>NaN</td>\n",
       "      <td>CA1</td>\n",
       "      <td>0</td>\n",
       "    </tr>\n",
       "    <tr>\n",
       "      <th>1</th>\n",
       "      <td>PL270116</td>\n",
       "      <td>XXXXX</td>\n",
       "      <td>C01</td>\n",
       "      <td>M</td>\n",
       "      <td>2015-05-01 00:00:00</td>\n",
       "      <td>NaN</td>\n",
       "      <td>CA1</td>\n",
       "      <td>0</td>\n",
       "    </tr>\n",
       "    <tr>\n",
       "      <th>2</th>\n",
       "      <td>OA974876</td>\n",
       "      <td>XXXXX</td>\n",
       "      <td>C01</td>\n",
       "      <td>M</td>\n",
       "      <td>2015-05-01 00:00:00</td>\n",
       "      <td>NaN</td>\n",
       "      <td>CA1</td>\n",
       "      <td>0</td>\n",
       "    </tr>\n",
       "    <tr>\n",
       "      <th>3</th>\n",
       "      <td>HD024127</td>\n",
       "      <td>XXXXX</td>\n",
       "      <td>C01</td>\n",
       "      <td>F</td>\n",
       "      <td>2015-05-01 00:00:00</td>\n",
       "      <td>NaN</td>\n",
       "      <td>CA1</td>\n",
       "      <td>0</td>\n",
       "    </tr>\n",
       "    <tr>\n",
       "      <th>4</th>\n",
       "      <td>HD661448</td>\n",
       "      <td>XXXXX</td>\n",
       "      <td>C03</td>\n",
       "      <td>F</td>\n",
       "      <td>2015-05-01 00:00:00</td>\n",
       "      <td>NaN</td>\n",
       "      <td>CA1</td>\n",
       "      <td>0</td>\n",
       "    </tr>\n",
       "  </tbody>\n",
       "</table>\n",
       "</div>"
      ],
      "text/plain": [
       "  customer_id   name class gender           start_date end_date campaign_id  \\\n",
       "0    OA832399   XXXX   C01      F  2015-05-01 00:00:00      NaN         CA1   \n",
       "1    PL270116  XXXXX   C01      M  2015-05-01 00:00:00      NaN         CA1   \n",
       "2    OA974876  XXXXX   C01      M  2015-05-01 00:00:00      NaN         CA1   \n",
       "3    HD024127  XXXXX   C01      F  2015-05-01 00:00:00      NaN         CA1   \n",
       "4    HD661448  XXXXX   C03      F  2015-05-01 00:00:00      NaN         CA1   \n",
       "\n",
       "   is_deleted  \n",
       "0           0  \n",
       "1           0  \n",
       "2           0  \n",
       "3           0  \n",
       "4           0  "
      ]
     },
     "execution_count": 3,
     "metadata": {},
     "output_type": "execute_result"
    }
   ],
   "source": [
    "customer = pd.read_csv(\"../Datasets/customer_master.csv\")\n",
    "print(len(customer))\n",
    "customer.head()"
   ]
  },
  {
   "cell_type": "code",
   "execution_count": 4,
   "id": "ce3cf054",
   "metadata": {},
   "outputs": [
    {
     "name": "stdout",
     "output_type": "stream",
     "text": [
      "3\n"
     ]
    },
    {
     "data": {
      "application/vnd.microsoft.datawrangler.viewer.v0+json": {
       "columns": [
        {
         "name": "index",
         "rawType": "int64",
         "type": "integer"
        },
        {
         "name": "class",
         "rawType": "object",
         "type": "string"
        },
        {
         "name": "class_name",
         "rawType": "object",
         "type": "string"
        },
        {
         "name": "price",
         "rawType": "int64",
         "type": "integer"
        }
       ],
       "ref": "f24b6337-c29d-4713-937a-cb4b2d77e534",
       "rows": [
        [
         "0",
         "C01",
         "オールタイム",
         "10500"
        ],
        [
         "1",
         "C02",
         "デイタイム",
         "7500"
        ],
        [
         "2",
         "C03",
         "ナイト",
         "6000"
        ]
       ],
       "shape": {
        "columns": 3,
        "rows": 3
       }
      },
      "text/html": [
       "<div>\n",
       "<style scoped>\n",
       "    .dataframe tbody tr th:only-of-type {\n",
       "        vertical-align: middle;\n",
       "    }\n",
       "\n",
       "    .dataframe tbody tr th {\n",
       "        vertical-align: top;\n",
       "    }\n",
       "\n",
       "    .dataframe thead th {\n",
       "        text-align: right;\n",
       "    }\n",
       "</style>\n",
       "<table border=\"1\" class=\"dataframe\">\n",
       "  <thead>\n",
       "    <tr style=\"text-align: right;\">\n",
       "      <th></th>\n",
       "      <th>class</th>\n",
       "      <th>class_name</th>\n",
       "      <th>price</th>\n",
       "    </tr>\n",
       "  </thead>\n",
       "  <tbody>\n",
       "    <tr>\n",
       "      <th>0</th>\n",
       "      <td>C01</td>\n",
       "      <td>オールタイム</td>\n",
       "      <td>10500</td>\n",
       "    </tr>\n",
       "    <tr>\n",
       "      <th>1</th>\n",
       "      <td>C02</td>\n",
       "      <td>デイタイム</td>\n",
       "      <td>7500</td>\n",
       "    </tr>\n",
       "    <tr>\n",
       "      <th>2</th>\n",
       "      <td>C03</td>\n",
       "      <td>ナイト</td>\n",
       "      <td>6000</td>\n",
       "    </tr>\n",
       "  </tbody>\n",
       "</table>\n",
       "</div>"
      ],
      "text/plain": [
       "  class class_name  price\n",
       "0   C01     オールタイム  10500\n",
       "1   C02      デイタイム   7500\n",
       "2   C03        ナイト   6000"
      ]
     },
     "execution_count": 4,
     "metadata": {},
     "output_type": "execute_result"
    }
   ],
   "source": [
    "class_master = pd.read_csv(\"../Datasets/class_master.csv\")\n",
    "print(len(class_master))\n",
    "class_master.head()"
   ]
  },
  {
   "cell_type": "code",
   "execution_count": 5,
   "id": "2910a717",
   "metadata": {},
   "outputs": [
    {
     "name": "stdout",
     "output_type": "stream",
     "text": [
      "3\n"
     ]
    },
    {
     "data": {
      "application/vnd.microsoft.datawrangler.viewer.v0+json": {
       "columns": [
        {
         "name": "index",
         "rawType": "int64",
         "type": "integer"
        },
        {
         "name": "campaign_id",
         "rawType": "object",
         "type": "string"
        },
        {
         "name": "campaign_name",
         "rawType": "object",
         "type": "string"
        }
       ],
       "ref": "4bb6cc42-fc7b-40d3-8917-b34df70eeb92",
       "rows": [
        [
         "0",
         "CA1",
         "通常"
        ],
        [
         "1",
         "CA2",
         "入会費半額"
        ],
        [
         "2",
         "CA3",
         "入会費無料"
        ]
       ],
       "shape": {
        "columns": 2,
        "rows": 3
       }
      },
      "text/html": [
       "<div>\n",
       "<style scoped>\n",
       "    .dataframe tbody tr th:only-of-type {\n",
       "        vertical-align: middle;\n",
       "    }\n",
       "\n",
       "    .dataframe tbody tr th {\n",
       "        vertical-align: top;\n",
       "    }\n",
       "\n",
       "    .dataframe thead th {\n",
       "        text-align: right;\n",
       "    }\n",
       "</style>\n",
       "<table border=\"1\" class=\"dataframe\">\n",
       "  <thead>\n",
       "    <tr style=\"text-align: right;\">\n",
       "      <th></th>\n",
       "      <th>campaign_id</th>\n",
       "      <th>campaign_name</th>\n",
       "    </tr>\n",
       "  </thead>\n",
       "  <tbody>\n",
       "    <tr>\n",
       "      <th>0</th>\n",
       "      <td>CA1</td>\n",
       "      <td>通常</td>\n",
       "    </tr>\n",
       "    <tr>\n",
       "      <th>1</th>\n",
       "      <td>CA2</td>\n",
       "      <td>入会費半額</td>\n",
       "    </tr>\n",
       "    <tr>\n",
       "      <th>2</th>\n",
       "      <td>CA3</td>\n",
       "      <td>入会費無料</td>\n",
       "    </tr>\n",
       "  </tbody>\n",
       "</table>\n",
       "</div>"
      ],
      "text/plain": [
       "  campaign_id campaign_name\n",
       "0         CA1            通常\n",
       "1         CA2         入会費半額\n",
       "2         CA3         入会費無料"
      ]
     },
     "execution_count": 5,
     "metadata": {},
     "output_type": "execute_result"
    }
   ],
   "source": [
    "campaign_master = pd.read_csv(\"../Datasets/campaign_master.csv\")\n",
    "print(len(campaign_master))\n",
    "campaign_master.head()"
   ]
  },
  {
   "cell_type": "code",
   "execution_count": 6,
   "id": "c99d61c6",
   "metadata": {},
   "outputs": [
    {
     "data": {
      "application/vnd.microsoft.datawrangler.viewer.v0+json": {
       "columns": [
        {
         "name": "index",
         "rawType": "int64",
         "type": "integer"
        },
        {
         "name": "customer_id",
         "rawType": "object",
         "type": "string"
        },
        {
         "name": "name",
         "rawType": "object",
         "type": "string"
        },
        {
         "name": "class",
         "rawType": "object",
         "type": "string"
        },
        {
         "name": "gender",
         "rawType": "object",
         "type": "string"
        },
        {
         "name": "start_date",
         "rawType": "object",
         "type": "string"
        },
        {
         "name": "end_date",
         "rawType": "object",
         "type": "unknown"
        },
        {
         "name": "campaign_id",
         "rawType": "object",
         "type": "string"
        },
        {
         "name": "is_deleted",
         "rawType": "int64",
         "type": "integer"
        },
        {
         "name": "class_name",
         "rawType": "object",
         "type": "string"
        },
        {
         "name": "price",
         "rawType": "int64",
         "type": "integer"
        },
        {
         "name": "campaign_name",
         "rawType": "object",
         "type": "string"
        }
       ],
       "ref": "0967d6c8-db71-4577-9aa4-e53c93c2a1e9",
       "rows": [
        [
         "0",
         "OA832399",
         "XXXX",
         "C01",
         "F",
         "2015-05-01 00:00:00",
         null,
         "CA1",
         "0",
         "オールタイム",
         "10500",
         "通常"
        ],
        [
         "1",
         "PL270116",
         "XXXXX",
         "C01",
         "M",
         "2015-05-01 00:00:00",
         null,
         "CA1",
         "0",
         "オールタイム",
         "10500",
         "通常"
        ],
        [
         "2",
         "OA974876",
         "XXXXX",
         "C01",
         "M",
         "2015-05-01 00:00:00",
         null,
         "CA1",
         "0",
         "オールタイム",
         "10500",
         "通常"
        ],
        [
         "3",
         "HD024127",
         "XXXXX",
         "C01",
         "F",
         "2015-05-01 00:00:00",
         null,
         "CA1",
         "0",
         "オールタイム",
         "10500",
         "通常"
        ],
        [
         "4",
         "HD661448",
         "XXXXX",
         "C03",
         "F",
         "2015-05-01 00:00:00",
         null,
         "CA1",
         "0",
         "ナイト",
         "6000",
         "通常"
        ]
       ],
       "shape": {
        "columns": 11,
        "rows": 5
       }
      },
      "text/html": [
       "<div>\n",
       "<style scoped>\n",
       "    .dataframe tbody tr th:only-of-type {\n",
       "        vertical-align: middle;\n",
       "    }\n",
       "\n",
       "    .dataframe tbody tr th {\n",
       "        vertical-align: top;\n",
       "    }\n",
       "\n",
       "    .dataframe thead th {\n",
       "        text-align: right;\n",
       "    }\n",
       "</style>\n",
       "<table border=\"1\" class=\"dataframe\">\n",
       "  <thead>\n",
       "    <tr style=\"text-align: right;\">\n",
       "      <th></th>\n",
       "      <th>customer_id</th>\n",
       "      <th>name</th>\n",
       "      <th>class</th>\n",
       "      <th>gender</th>\n",
       "      <th>start_date</th>\n",
       "      <th>end_date</th>\n",
       "      <th>campaign_id</th>\n",
       "      <th>is_deleted</th>\n",
       "      <th>class_name</th>\n",
       "      <th>price</th>\n",
       "      <th>campaign_name</th>\n",
       "    </tr>\n",
       "  </thead>\n",
       "  <tbody>\n",
       "    <tr>\n",
       "      <th>0</th>\n",
       "      <td>OA832399</td>\n",
       "      <td>XXXX</td>\n",
       "      <td>C01</td>\n",
       "      <td>F</td>\n",
       "      <td>2015-05-01 00:00:00</td>\n",
       "      <td>NaN</td>\n",
       "      <td>CA1</td>\n",
       "      <td>0</td>\n",
       "      <td>オールタイム</td>\n",
       "      <td>10500</td>\n",
       "      <td>通常</td>\n",
       "    </tr>\n",
       "    <tr>\n",
       "      <th>1</th>\n",
       "      <td>PL270116</td>\n",
       "      <td>XXXXX</td>\n",
       "      <td>C01</td>\n",
       "      <td>M</td>\n",
       "      <td>2015-05-01 00:00:00</td>\n",
       "      <td>NaN</td>\n",
       "      <td>CA1</td>\n",
       "      <td>0</td>\n",
       "      <td>オールタイム</td>\n",
       "      <td>10500</td>\n",
       "      <td>通常</td>\n",
       "    </tr>\n",
       "    <tr>\n",
       "      <th>2</th>\n",
       "      <td>OA974876</td>\n",
       "      <td>XXXXX</td>\n",
       "      <td>C01</td>\n",
       "      <td>M</td>\n",
       "      <td>2015-05-01 00:00:00</td>\n",
       "      <td>NaN</td>\n",
       "      <td>CA1</td>\n",
       "      <td>0</td>\n",
       "      <td>オールタイム</td>\n",
       "      <td>10500</td>\n",
       "      <td>通常</td>\n",
       "    </tr>\n",
       "    <tr>\n",
       "      <th>3</th>\n",
       "      <td>HD024127</td>\n",
       "      <td>XXXXX</td>\n",
       "      <td>C01</td>\n",
       "      <td>F</td>\n",
       "      <td>2015-05-01 00:00:00</td>\n",
       "      <td>NaN</td>\n",
       "      <td>CA1</td>\n",
       "      <td>0</td>\n",
       "      <td>オールタイム</td>\n",
       "      <td>10500</td>\n",
       "      <td>通常</td>\n",
       "    </tr>\n",
       "    <tr>\n",
       "      <th>4</th>\n",
       "      <td>HD661448</td>\n",
       "      <td>XXXXX</td>\n",
       "      <td>C03</td>\n",
       "      <td>F</td>\n",
       "      <td>2015-05-01 00:00:00</td>\n",
       "      <td>NaN</td>\n",
       "      <td>CA1</td>\n",
       "      <td>0</td>\n",
       "      <td>ナイト</td>\n",
       "      <td>6000</td>\n",
       "      <td>通常</td>\n",
       "    </tr>\n",
       "  </tbody>\n",
       "</table>\n",
       "</div>"
      ],
      "text/plain": [
       "  customer_id   name class gender           start_date end_date campaign_id  \\\n",
       "0    OA832399   XXXX   C01      F  2015-05-01 00:00:00      NaN         CA1   \n",
       "1    PL270116  XXXXX   C01      M  2015-05-01 00:00:00      NaN         CA1   \n",
       "2    OA974876  XXXXX   C01      M  2015-05-01 00:00:00      NaN         CA1   \n",
       "3    HD024127  XXXXX   C01      F  2015-05-01 00:00:00      NaN         CA1   \n",
       "4    HD661448  XXXXX   C03      F  2015-05-01 00:00:00      NaN         CA1   \n",
       "\n",
       "   is_deleted class_name  price campaign_name  \n",
       "0           0     オールタイム  10500            通常  \n",
       "1           0     オールタイム  10500            通常  \n",
       "2           0     オールタイム  10500            通常  \n",
       "3           0     オールタイム  10500            通常  \n",
       "4           0        ナイト   6000            通常  "
      ]
     },
     "execution_count": 6,
     "metadata": {},
     "output_type": "execute_result"
    }
   ],
   "source": [
    "customer_join = pd.merge(customer, class_master, on=\"class\", how=\"left\")\n",
    "customer_join = pd.merge(customer_join, campaign_master, on=\"campaign_id\", how=\"left\")\n",
    "customer_join.head()"
   ]
  },
  {
   "cell_type": "code",
   "execution_count": 7,
   "id": "c43df196",
   "metadata": {},
   "outputs": [
    {
     "name": "stdout",
     "output_type": "stream",
     "text": [
      "4192\n",
      "4192\n"
     ]
    }
   ],
   "source": [
    "print(len(customer))\n",
    "print(len(customer_join))"
   ]
  },
  {
   "cell_type": "code",
   "execution_count": 8,
   "id": "856a4db8",
   "metadata": {},
   "outputs": [
    {
     "data": {
      "application/vnd.microsoft.datawrangler.viewer.v0+json": {
       "columns": [
        {
         "name": "index",
         "rawType": "object",
         "type": "string"
        },
        {
         "name": "0",
         "rawType": "int64",
         "type": "integer"
        }
       ],
       "ref": "378b9abc-0e9c-4cc8-85f6-813722509603",
       "rows": [
        [
         "customer_id",
         "0"
        ],
        [
         "name",
         "0"
        ],
        [
         "class",
         "0"
        ],
        [
         "gender",
         "0"
        ],
        [
         "start_date",
         "0"
        ],
        [
         "end_date",
         "2842"
        ],
        [
         "campaign_id",
         "0"
        ],
        [
         "is_deleted",
         "0"
        ],
        [
         "class_name",
         "0"
        ],
        [
         "price",
         "0"
        ],
        [
         "campaign_name",
         "0"
        ]
       ],
       "shape": {
        "columns": 1,
        "rows": 11
       }
      },
      "text/plain": [
       "customer_id         0\n",
       "name                0\n",
       "class               0\n",
       "gender              0\n",
       "start_date          0\n",
       "end_date         2842\n",
       "campaign_id         0\n",
       "is_deleted          0\n",
       "class_name          0\n",
       "price               0\n",
       "campaign_name       0\n",
       "dtype: int64"
      ]
     },
     "execution_count": 8,
     "metadata": {},
     "output_type": "execute_result"
    }
   ],
   "source": [
    "customer_join.isnull().sum()"
   ]
  },
  {
   "cell_type": "code",
   "execution_count": 9,
   "id": "112cdfac",
   "metadata": {},
   "outputs": [
    {
     "data": {
      "application/vnd.microsoft.datawrangler.viewer.v0+json": {
       "columns": [
        {
         "name": "class_name",
         "rawType": "object",
         "type": "string"
        },
        {
         "name": "customer_id",
         "rawType": "int64",
         "type": "integer"
        }
       ],
       "ref": "5f9b3e29-4ec3-4623-a179-fe6ac2893e53",
       "rows": [
        [
         "オールタイム",
         "2045"
        ],
        [
         "デイタイム",
         "1019"
        ],
        [
         "ナイト",
         "1128"
        ]
       ],
       "shape": {
        "columns": 1,
        "rows": 3
       }
      },
      "text/plain": [
       "class_name\n",
       "オールタイム    2045\n",
       "デイタイム     1019\n",
       "ナイト       1128\n",
       "Name: customer_id, dtype: int64"
      ]
     },
     "execution_count": 9,
     "metadata": {},
     "output_type": "execute_result"
    }
   ],
   "source": [
    "customer_join.groupby(\"class_name\").count()[\"customer_id\"]"
   ]
  },
  {
   "cell_type": "code",
   "execution_count": 10,
   "id": "63f515a3",
   "metadata": {},
   "outputs": [
    {
     "data": {
      "application/vnd.microsoft.datawrangler.viewer.v0+json": {
       "columns": [
        {
         "name": "campaign_name",
         "rawType": "object",
         "type": "string"
        },
        {
         "name": "customer_id",
         "rawType": "int64",
         "type": "integer"
        }
       ],
       "ref": "86baa820-7036-4f7a-8fa8-afa283bc0073",
       "rows": [
        [
         "入会費半額",
         "650"
        ],
        [
         "入会費無料",
         "492"
        ],
        [
         "通常",
         "3050"
        ]
       ],
       "shape": {
        "columns": 1,
        "rows": 3
       }
      },
      "text/plain": [
       "campaign_name\n",
       "入会費半額     650\n",
       "入会費無料     492\n",
       "通常       3050\n",
       "Name: customer_id, dtype: int64"
      ]
     },
     "execution_count": 10,
     "metadata": {},
     "output_type": "execute_result"
    }
   ],
   "source": [
    "customer_join.groupby(\"campaign_name\").count()[\"customer_id\"]"
   ]
  },
  {
   "cell_type": "code",
   "execution_count": 11,
   "id": "f918f611",
   "metadata": {},
   "outputs": [
    {
     "data": {
      "application/vnd.microsoft.datawrangler.viewer.v0+json": {
       "columns": [
        {
         "name": "gender",
         "rawType": "object",
         "type": "string"
        },
        {
         "name": "customer_id",
         "rawType": "int64",
         "type": "integer"
        }
       ],
       "ref": "241fdeed-9278-4d53-902d-2b35b1975a7a",
       "rows": [
        [
         "F",
         "1983"
        ],
        [
         "M",
         "2209"
        ]
       ],
       "shape": {
        "columns": 1,
        "rows": 2
       }
      },
      "text/plain": [
       "gender\n",
       "F    1983\n",
       "M    2209\n",
       "Name: customer_id, dtype: int64"
      ]
     },
     "execution_count": 11,
     "metadata": {},
     "output_type": "execute_result"
    }
   ],
   "source": [
    "customer_join.groupby(\"gender\").count()[\"customer_id\"]"
   ]
  },
  {
   "cell_type": "code",
   "execution_count": 12,
   "id": "87c9dc08",
   "metadata": {},
   "outputs": [
    {
     "data": {
      "application/vnd.microsoft.datawrangler.viewer.v0+json": {
       "columns": [
        {
         "name": "is_deleted",
         "rawType": "int64",
         "type": "integer"
        },
        {
         "name": "customer_id",
         "rawType": "int64",
         "type": "integer"
        }
       ],
       "ref": "503ef98e-5423-4a4c-bce2-1abc2342d29d",
       "rows": [
        [
         "0",
         "2842"
        ],
        [
         "1",
         "1350"
        ]
       ],
       "shape": {
        "columns": 1,
        "rows": 2
       }
      },
      "text/plain": [
       "is_deleted\n",
       "0    2842\n",
       "1    1350\n",
       "Name: customer_id, dtype: int64"
      ]
     },
     "execution_count": 12,
     "metadata": {},
     "output_type": "execute_result"
    }
   ],
   "source": [
    "customer_join.groupby(\"is_deleted\").count()[\"customer_id\"]"
   ]
  },
  {
   "cell_type": "code",
   "execution_count": 13,
   "id": "6dca1ccf",
   "metadata": {},
   "outputs": [
    {
     "name": "stdout",
     "output_type": "stream",
     "text": [
      "1361\n"
     ]
    }
   ],
   "source": [
    "customer_join[\"start_date\"] = pd.to_datetime(customer_join[\"start_date\"])\n",
    "customer_start = customer_join.loc[customer_join[\"start_date\"]>pd.to_datetime(\"20180401\")]\n",
    "print(len(customer_start))"
   ]
  },
  {
   "cell_type": "code",
   "execution_count": 14,
   "id": "6fb22222",
   "metadata": {},
   "outputs": [
    {
     "name": "stdout",
     "output_type": "stream",
     "text": [
      "2953\n"
     ]
    },
    {
     "data": {
      "text/plain": [
       "<DatetimeArray>\n",
       "['NaT', '2019-03-31 00:00:00']\n",
       "Length: 2, dtype: datetime64[ns]"
      ]
     },
     "execution_count": 14,
     "metadata": {},
     "output_type": "execute_result"
    }
   ],
   "source": [
    "customer_join[\"end_date\"] = pd.to_datetime(customer_join[\"end_date\"])\n",
    "customer_newer = customer_join.loc[(customer_join[\"end_date\"]>=pd.to_datetime(\"20190331\"))|(customer_join[\"end_date\"].isna())]\n",
    "print(len(customer_newer))\n",
    "customer_newer[\"end_date\"].unique()"
   ]
  },
  {
   "cell_type": "code",
   "execution_count": 15,
   "id": "7aa8fc97",
   "metadata": {},
   "outputs": [
    {
     "data": {
      "application/vnd.microsoft.datawrangler.viewer.v0+json": {
       "columns": [
        {
         "name": "class_name",
         "rawType": "object",
         "type": "string"
        },
        {
         "name": "customer_id",
         "rawType": "int64",
         "type": "integer"
        }
       ],
       "ref": "ea031990-1d9b-41ad-a2dc-7e9270677ec3",
       "rows": [
        [
         "オールタイム",
         "1444"
        ],
        [
         "デイタイム",
         "696"
        ],
        [
         "ナイト",
         "813"
        ]
       ],
       "shape": {
        "columns": 1,
        "rows": 3
       }
      },
      "text/plain": [
       "class_name\n",
       "オールタイム    1444\n",
       "デイタイム      696\n",
       "ナイト        813\n",
       "Name: customer_id, dtype: int64"
      ]
     },
     "execution_count": 15,
     "metadata": {},
     "output_type": "execute_result"
    }
   ],
   "source": [
    "customer_newer.groupby(\"class_name\").count()[\"customer_id\"]"
   ]
  },
  {
   "cell_type": "code",
   "execution_count": 16,
   "id": "76e506a9",
   "metadata": {},
   "outputs": [
    {
     "data": {
      "application/vnd.microsoft.datawrangler.viewer.v0+json": {
       "columns": [
        {
         "name": "campaign_name",
         "rawType": "object",
         "type": "string"
        },
        {
         "name": "customer_id",
         "rawType": "int64",
         "type": "integer"
        }
       ],
       "ref": "d8d734fb-f8b6-47c1-a3a8-e1a1e147d905",
       "rows": [
        [
         "入会費半額",
         "311"
        ],
        [
         "入会費無料",
         "242"
        ],
        [
         "通常",
         "2400"
        ]
       ],
       "shape": {
        "columns": 1,
        "rows": 3
       }
      },
      "text/plain": [
       "campaign_name\n",
       "入会費半額     311\n",
       "入会費無料     242\n",
       "通常       2400\n",
       "Name: customer_id, dtype: int64"
      ]
     },
     "execution_count": 16,
     "metadata": {},
     "output_type": "execute_result"
    }
   ],
   "source": [
    "customer_newer.groupby(\"campaign_name\").count()[\"customer_id\"]"
   ]
  },
  {
   "cell_type": "code",
   "execution_count": 17,
   "id": "29555dcd",
   "metadata": {},
   "outputs": [
    {
     "data": {
      "application/vnd.microsoft.datawrangler.viewer.v0+json": {
       "columns": [
        {
         "name": "gender",
         "rawType": "object",
         "type": "string"
        },
        {
         "name": "customer_id",
         "rawType": "int64",
         "type": "integer"
        }
       ],
       "ref": "dc31064f-ad28-4ab4-9ecb-8575aefa2a50",
       "rows": [
        [
         "F",
         "1400"
        ],
        [
         "M",
         "1553"
        ]
       ],
       "shape": {
        "columns": 1,
        "rows": 2
       }
      },
      "text/plain": [
       "gender\n",
       "F    1400\n",
       "M    1553\n",
       "Name: customer_id, dtype: int64"
      ]
     },
     "execution_count": 17,
     "metadata": {},
     "output_type": "execute_result"
    }
   ],
   "source": [
    "customer_newer.groupby(\"gender\").count()[\"customer_id\"]"
   ]
  },
  {
   "cell_type": "code",
   "execution_count": 18,
   "id": "7ed1de4b",
   "metadata": {},
   "outputs": [
    {
     "data": {
      "application/vnd.microsoft.datawrangler.viewer.v0+json": {
       "columns": [
        {
         "name": "index",
         "rawType": "int64",
         "type": "integer"
        },
        {
         "name": "年月",
         "rawType": "object",
         "type": "string"
        },
        {
         "name": "customer_id",
         "rawType": "object",
         "type": "string"
        },
        {
         "name": "count",
         "rawType": "int64",
         "type": "integer"
        }
       ],
       "ref": "7d7754e1-4316-4ae2-90ba-598fbed3f89b",
       "rows": [
        [
         "0",
         "201804",
         "AS002855",
         "4"
        ],
        [
         "1",
         "201804",
         "AS009013",
         "2"
        ],
        [
         "2",
         "201804",
         "AS009373",
         "3"
        ],
        [
         "3",
         "201804",
         "AS015315",
         "6"
        ],
        [
         "4",
         "201804",
         "AS015739",
         "7"
        ]
       ],
       "shape": {
        "columns": 3,
        "rows": 5
       }
      },
      "text/html": [
       "<div>\n",
       "<style scoped>\n",
       "    .dataframe tbody tr th:only-of-type {\n",
       "        vertical-align: middle;\n",
       "    }\n",
       "\n",
       "    .dataframe tbody tr th {\n",
       "        vertical-align: top;\n",
       "    }\n",
       "\n",
       "    .dataframe thead th {\n",
       "        text-align: right;\n",
       "    }\n",
       "</style>\n",
       "<table border=\"1\" class=\"dataframe\">\n",
       "  <thead>\n",
       "    <tr style=\"text-align: right;\">\n",
       "      <th></th>\n",
       "      <th>年月</th>\n",
       "      <th>customer_id</th>\n",
       "      <th>count</th>\n",
       "    </tr>\n",
       "  </thead>\n",
       "  <tbody>\n",
       "    <tr>\n",
       "      <th>0</th>\n",
       "      <td>201804</td>\n",
       "      <td>AS002855</td>\n",
       "      <td>4</td>\n",
       "    </tr>\n",
       "    <tr>\n",
       "      <th>1</th>\n",
       "      <td>201804</td>\n",
       "      <td>AS009013</td>\n",
       "      <td>2</td>\n",
       "    </tr>\n",
       "    <tr>\n",
       "      <th>2</th>\n",
       "      <td>201804</td>\n",
       "      <td>AS009373</td>\n",
       "      <td>3</td>\n",
       "    </tr>\n",
       "    <tr>\n",
       "      <th>3</th>\n",
       "      <td>201804</td>\n",
       "      <td>AS015315</td>\n",
       "      <td>6</td>\n",
       "    </tr>\n",
       "    <tr>\n",
       "      <th>4</th>\n",
       "      <td>201804</td>\n",
       "      <td>AS015739</td>\n",
       "      <td>7</td>\n",
       "    </tr>\n",
       "  </tbody>\n",
       "</table>\n",
       "</div>"
      ],
      "text/plain": [
       "       年月 customer_id  count\n",
       "0  201804    AS002855      4\n",
       "1  201804    AS009013      2\n",
       "2  201804    AS009373      3\n",
       "3  201804    AS015315      6\n",
       "4  201804    AS015739      7"
      ]
     },
     "execution_count": 18,
     "metadata": {},
     "output_type": "execute_result"
    }
   ],
   "source": [
    "uselog[\"usedate\"] = pd.to_datetime(uselog[\"usedate\"])\n",
    "uselog[\"年月\"] = uselog[\"usedate\"].dt.strftime(\"%Y%m\")\n",
    "uselog_months = uselog.groupby([\"年月\", \"customer_id\"], as_index=False).count()\n",
    "uselog_months.rename(columns={\"log_id\":\"count\"}, inplace=True)\n",
    "del uselog_months[\"usedate\"]\n",
    "uselog_months.head()"
   ]
  },
  {
   "cell_type": "code",
   "execution_count": 19,
   "id": "8414eacf",
   "metadata": {},
   "outputs": [
    {
     "data": {
      "application/vnd.microsoft.datawrangler.viewer.v0+json": {
       "columns": [
        {
         "name": "index",
         "rawType": "int64",
         "type": "integer"
        },
        {
         "name": "customer_id",
         "rawType": "object",
         "type": "string"
        },
        {
         "name": "mean",
         "rawType": "float64",
         "type": "float"
        },
        {
         "name": "median",
         "rawType": "float64",
         "type": "float"
        },
        {
         "name": "max",
         "rawType": "int64",
         "type": "integer"
        },
        {
         "name": "min",
         "rawType": "int64",
         "type": "integer"
        }
       ],
       "ref": "02dd6ba8-f0e9-42ae-a404-d1c6e567c3eb",
       "rows": [
        [
         "0",
         "AS002855",
         "4.5",
         "5.0",
         "7",
         "2"
        ],
        [
         "1",
         "AS008805",
         "4.0",
         "4.0",
         "8",
         "1"
        ],
        [
         "2",
         "AS009013",
         "2.0",
         "2.0",
         "2",
         "2"
        ],
        [
         "3",
         "AS009373",
         "5.083333333333333",
         "5.0",
         "7",
         "3"
        ],
        [
         "4",
         "AS015233",
         "7.545454545454546",
         "7.0",
         "11",
         "4"
        ]
       ],
       "shape": {
        "columns": 5,
        "rows": 5
       }
      },
      "text/html": [
       "<div>\n",
       "<style scoped>\n",
       "    .dataframe tbody tr th:only-of-type {\n",
       "        vertical-align: middle;\n",
       "    }\n",
       "\n",
       "    .dataframe tbody tr th {\n",
       "        vertical-align: top;\n",
       "    }\n",
       "\n",
       "    .dataframe thead th {\n",
       "        text-align: right;\n",
       "    }\n",
       "</style>\n",
       "<table border=\"1\" class=\"dataframe\">\n",
       "  <thead>\n",
       "    <tr style=\"text-align: right;\">\n",
       "      <th></th>\n",
       "      <th>customer_id</th>\n",
       "      <th>mean</th>\n",
       "      <th>median</th>\n",
       "      <th>max</th>\n",
       "      <th>min</th>\n",
       "    </tr>\n",
       "  </thead>\n",
       "  <tbody>\n",
       "    <tr>\n",
       "      <th>0</th>\n",
       "      <td>AS002855</td>\n",
       "      <td>4.500000</td>\n",
       "      <td>5.0</td>\n",
       "      <td>7</td>\n",
       "      <td>2</td>\n",
       "    </tr>\n",
       "    <tr>\n",
       "      <th>1</th>\n",
       "      <td>AS008805</td>\n",
       "      <td>4.000000</td>\n",
       "      <td>4.0</td>\n",
       "      <td>8</td>\n",
       "      <td>1</td>\n",
       "    </tr>\n",
       "    <tr>\n",
       "      <th>2</th>\n",
       "      <td>AS009013</td>\n",
       "      <td>2.000000</td>\n",
       "      <td>2.0</td>\n",
       "      <td>2</td>\n",
       "      <td>2</td>\n",
       "    </tr>\n",
       "    <tr>\n",
       "      <th>3</th>\n",
       "      <td>AS009373</td>\n",
       "      <td>5.083333</td>\n",
       "      <td>5.0</td>\n",
       "      <td>7</td>\n",
       "      <td>3</td>\n",
       "    </tr>\n",
       "    <tr>\n",
       "      <th>4</th>\n",
       "      <td>AS015233</td>\n",
       "      <td>7.545455</td>\n",
       "      <td>7.0</td>\n",
       "      <td>11</td>\n",
       "      <td>4</td>\n",
       "    </tr>\n",
       "  </tbody>\n",
       "</table>\n",
       "</div>"
      ],
      "text/plain": [
       "  customer_id      mean  median  max  min\n",
       "0    AS002855  4.500000     5.0    7    2\n",
       "1    AS008805  4.000000     4.0    8    1\n",
       "2    AS009013  2.000000     2.0    2    2\n",
       "3    AS009373  5.083333     5.0    7    3\n",
       "4    AS015233  7.545455     7.0   11    4"
      ]
     },
     "execution_count": 19,
     "metadata": {},
     "output_type": "execute_result"
    }
   ],
   "source": [
    "uselog_customer = uselog_months.groupby(\"customer_id\")[\"count\"].agg([\"mean\",\"median\",\"max\",\"min\"])\n",
    "uselog_customer = uselog_customer.reset_index(drop=False)\n",
    "uselog_customer.head()"
   ]
  },
  {
   "cell_type": "code",
   "execution_count": 20,
   "id": "776f39ef",
   "metadata": {},
   "outputs": [
    {
     "data": {
      "application/vnd.microsoft.datawrangler.viewer.v0+json": {
       "columns": [
        {
         "name": "index",
         "rawType": "int64",
         "type": "integer"
        },
        {
         "name": "customer_id",
         "rawType": "object",
         "type": "string"
        },
        {
         "name": "年月",
         "rawType": "object",
         "type": "string"
        },
        {
         "name": "weekday",
         "rawType": "int32",
         "type": "integer"
        },
        {
         "name": "count",
         "rawType": "int64",
         "type": "integer"
        }
       ],
       "ref": "8a7b6fc8-18bd-4f60-b9e1-81d7a368f44f",
       "rows": [
        [
         "0",
         "AS002855",
         "201804",
         "5",
         "4"
        ],
        [
         "1",
         "AS002855",
         "201805",
         "2",
         "1"
        ],
        [
         "2",
         "AS002855",
         "201805",
         "5",
         "4"
        ],
        [
         "3",
         "AS002855",
         "201806",
         "5",
         "5"
        ],
        [
         "4",
         "AS002855",
         "201807",
         "1",
         "1"
        ]
       ],
       "shape": {
        "columns": 4,
        "rows": 5
       }
      },
      "text/html": [
       "<div>\n",
       "<style scoped>\n",
       "    .dataframe tbody tr th:only-of-type {\n",
       "        vertical-align: middle;\n",
       "    }\n",
       "\n",
       "    .dataframe tbody tr th {\n",
       "        vertical-align: top;\n",
       "    }\n",
       "\n",
       "    .dataframe thead th {\n",
       "        text-align: right;\n",
       "    }\n",
       "</style>\n",
       "<table border=\"1\" class=\"dataframe\">\n",
       "  <thead>\n",
       "    <tr style=\"text-align: right;\">\n",
       "      <th></th>\n",
       "      <th>customer_id</th>\n",
       "      <th>年月</th>\n",
       "      <th>weekday</th>\n",
       "      <th>count</th>\n",
       "    </tr>\n",
       "  </thead>\n",
       "  <tbody>\n",
       "    <tr>\n",
       "      <th>0</th>\n",
       "      <td>AS002855</td>\n",
       "      <td>201804</td>\n",
       "      <td>5</td>\n",
       "      <td>4</td>\n",
       "    </tr>\n",
       "    <tr>\n",
       "      <th>1</th>\n",
       "      <td>AS002855</td>\n",
       "      <td>201805</td>\n",
       "      <td>2</td>\n",
       "      <td>1</td>\n",
       "    </tr>\n",
       "    <tr>\n",
       "      <th>2</th>\n",
       "      <td>AS002855</td>\n",
       "      <td>201805</td>\n",
       "      <td>5</td>\n",
       "      <td>4</td>\n",
       "    </tr>\n",
       "    <tr>\n",
       "      <th>3</th>\n",
       "      <td>AS002855</td>\n",
       "      <td>201806</td>\n",
       "      <td>5</td>\n",
       "      <td>5</td>\n",
       "    </tr>\n",
       "    <tr>\n",
       "      <th>4</th>\n",
       "      <td>AS002855</td>\n",
       "      <td>201807</td>\n",
       "      <td>1</td>\n",
       "      <td>1</td>\n",
       "    </tr>\n",
       "  </tbody>\n",
       "</table>\n",
       "</div>"
      ],
      "text/plain": [
       "  customer_id      年月  weekday  count\n",
       "0    AS002855  201804        5      4\n",
       "1    AS002855  201805        2      1\n",
       "2    AS002855  201805        5      4\n",
       "3    AS002855  201806        5      5\n",
       "4    AS002855  201807        1      1"
      ]
     },
     "execution_count": 20,
     "metadata": {},
     "output_type": "execute_result"
    }
   ],
   "source": [
    "uselog[\"weekday\"] = uselog[\"usedate\"].dt.weekday\n",
    "uselog_weekday = uselog.groupby([\"customer_id\", \"年月\", \"weekday\"], as_index=False).count()[[\"customer_id\", \"年月\", \"weekday\", \"log_id\"]]\n",
    "uselog_weekday.rename(columns={\"log_id\": \"count\"}, inplace=True)\n",
    "uselog_weekday.head()"
   ]
  },
  {
   "cell_type": "code",
   "execution_count": 21,
   "id": "6b3f87ca",
   "metadata": {},
   "outputs": [
    {
     "data": {
      "application/vnd.microsoft.datawrangler.viewer.v0+json": {
       "columns": [
        {
         "name": "index",
         "rawType": "int64",
         "type": "integer"
        },
        {
         "name": "customer_id",
         "rawType": "object",
         "type": "string"
        },
        {
         "name": "count",
         "rawType": "int64",
         "type": "integer"
        },
        {
         "name": "routine_flg",
         "rawType": "int64",
         "type": "integer"
        }
       ],
       "ref": "a6eac3d9-fe35-4680-8c48-6299a54be7b3",
       "rows": [
        [
         "0",
         "AS002855",
         "5",
         "1"
        ],
        [
         "1",
         "AS008805",
         "4",
         "1"
        ],
        [
         "2",
         "AS009013",
         "2",
         "0"
        ],
        [
         "3",
         "AS009373",
         "5",
         "1"
        ],
        [
         "4",
         "AS015233",
         "5",
         "1"
        ]
       ],
       "shape": {
        "columns": 3,
        "rows": 5
       }
      },
      "text/html": [
       "<div>\n",
       "<style scoped>\n",
       "    .dataframe tbody tr th:only-of-type {\n",
       "        vertical-align: middle;\n",
       "    }\n",
       "\n",
       "    .dataframe tbody tr th {\n",
       "        vertical-align: top;\n",
       "    }\n",
       "\n",
       "    .dataframe thead th {\n",
       "        text-align: right;\n",
       "    }\n",
       "</style>\n",
       "<table border=\"1\" class=\"dataframe\">\n",
       "  <thead>\n",
       "    <tr style=\"text-align: right;\">\n",
       "      <th></th>\n",
       "      <th>customer_id</th>\n",
       "      <th>count</th>\n",
       "      <th>routine_flg</th>\n",
       "    </tr>\n",
       "  </thead>\n",
       "  <tbody>\n",
       "    <tr>\n",
       "      <th>0</th>\n",
       "      <td>AS002855</td>\n",
       "      <td>5</td>\n",
       "      <td>1</td>\n",
       "    </tr>\n",
       "    <tr>\n",
       "      <th>1</th>\n",
       "      <td>AS008805</td>\n",
       "      <td>4</td>\n",
       "      <td>1</td>\n",
       "    </tr>\n",
       "    <tr>\n",
       "      <th>2</th>\n",
       "      <td>AS009013</td>\n",
       "      <td>2</td>\n",
       "      <td>0</td>\n",
       "    </tr>\n",
       "    <tr>\n",
       "      <th>3</th>\n",
       "      <td>AS009373</td>\n",
       "      <td>5</td>\n",
       "      <td>1</td>\n",
       "    </tr>\n",
       "    <tr>\n",
       "      <th>4</th>\n",
       "      <td>AS015233</td>\n",
       "      <td>5</td>\n",
       "      <td>1</td>\n",
       "    </tr>\n",
       "  </tbody>\n",
       "</table>\n",
       "</div>"
      ],
      "text/plain": [
       "  customer_id  count  routine_flg\n",
       "0    AS002855      5            1\n",
       "1    AS008805      4            1\n",
       "2    AS009013      2            0\n",
       "3    AS009373      5            1\n",
       "4    AS015233      5            1"
      ]
     },
     "execution_count": 21,
     "metadata": {},
     "output_type": "execute_result"
    }
   ],
   "source": [
    "uselog_weekday = uselog_weekday.groupby(\"customer_id\", as_index=False).max()[[\"customer_id\", \"count\"]]\n",
    "uselog_weekday[\"routine_flg\"] = 0\n",
    "uselog_weekday[\"routine_flg\"] = uselog_weekday[\"routine_flg\"].where(uselog_weekday[\"count\"] < 4, 1)\n",
    "uselog_weekday.head()"
   ]
  },
  {
   "cell_type": "code",
   "execution_count": 22,
   "id": "437cf564",
   "metadata": {},
   "outputs": [
    {
     "data": {
      "application/vnd.microsoft.datawrangler.viewer.v0+json": {
       "columns": [
        {
         "name": "index",
         "rawType": "int64",
         "type": "integer"
        },
        {
         "name": "customer_id",
         "rawType": "object",
         "type": "string"
        },
        {
         "name": "name",
         "rawType": "object",
         "type": "string"
        },
        {
         "name": "class",
         "rawType": "object",
         "type": "string"
        },
        {
         "name": "gender",
         "rawType": "object",
         "type": "string"
        },
        {
         "name": "start_date",
         "rawType": "datetime64[ns]",
         "type": "datetime"
        },
        {
         "name": "end_date",
         "rawType": "datetime64[ns]",
         "type": "datetime"
        },
        {
         "name": "campaign_id",
         "rawType": "object",
         "type": "string"
        },
        {
         "name": "is_deleted",
         "rawType": "int64",
         "type": "integer"
        },
        {
         "name": "class_name",
         "rawType": "object",
         "type": "string"
        },
        {
         "name": "price",
         "rawType": "int64",
         "type": "integer"
        },
        {
         "name": "campaign_name",
         "rawType": "object",
         "type": "string"
        },
        {
         "name": "mean",
         "rawType": "float64",
         "type": "float"
        },
        {
         "name": "median",
         "rawType": "float64",
         "type": "float"
        },
        {
         "name": "max",
         "rawType": "int64",
         "type": "integer"
        },
        {
         "name": "min",
         "rawType": "int64",
         "type": "integer"
        },
        {
         "name": "routine_flg",
         "rawType": "int64",
         "type": "integer"
        }
       ],
       "ref": "63e7c823-615e-4327-a49c-57718989bb7a",
       "rows": [
        [
         "0",
         "OA832399",
         "XXXX",
         "C01",
         "F",
         "2015-05-01 00:00:00",
         null,
         "CA1",
         "0",
         "オールタイム",
         "10500",
         "通常",
         "4.833333333333333",
         "5.0",
         "8",
         "2",
         "1"
        ],
        [
         "1",
         "PL270116",
         "XXXXX",
         "C01",
         "M",
         "2015-05-01 00:00:00",
         null,
         "CA1",
         "0",
         "オールタイム",
         "10500",
         "通常",
         "5.083333333333333",
         "5.0",
         "7",
         "3",
         "1"
        ],
        [
         "2",
         "OA974876",
         "XXXXX",
         "C01",
         "M",
         "2015-05-01 00:00:00",
         null,
         "CA1",
         "0",
         "オールタイム",
         "10500",
         "通常",
         "4.583333333333333",
         "5.0",
         "6",
         "3",
         "1"
        ],
        [
         "3",
         "HD024127",
         "XXXXX",
         "C01",
         "F",
         "2015-05-01 00:00:00",
         null,
         "CA1",
         "0",
         "オールタイム",
         "10500",
         "通常",
         "4.833333333333333",
         "4.5",
         "7",
         "2",
         "1"
        ],
        [
         "4",
         "HD661448",
         "XXXXX",
         "C03",
         "F",
         "2015-05-01 00:00:00",
         null,
         "CA1",
         "0",
         "ナイト",
         "6000",
         "通常",
         "3.9166666666666665",
         "4.0",
         "6",
         "1",
         "1"
        ]
       ],
       "shape": {
        "columns": 16,
        "rows": 5
       }
      },
      "text/html": [
       "<div>\n",
       "<style scoped>\n",
       "    .dataframe tbody tr th:only-of-type {\n",
       "        vertical-align: middle;\n",
       "    }\n",
       "\n",
       "    .dataframe tbody tr th {\n",
       "        vertical-align: top;\n",
       "    }\n",
       "\n",
       "    .dataframe thead th {\n",
       "        text-align: right;\n",
       "    }\n",
       "</style>\n",
       "<table border=\"1\" class=\"dataframe\">\n",
       "  <thead>\n",
       "    <tr style=\"text-align: right;\">\n",
       "      <th></th>\n",
       "      <th>customer_id</th>\n",
       "      <th>name</th>\n",
       "      <th>class</th>\n",
       "      <th>gender</th>\n",
       "      <th>start_date</th>\n",
       "      <th>end_date</th>\n",
       "      <th>campaign_id</th>\n",
       "      <th>is_deleted</th>\n",
       "      <th>class_name</th>\n",
       "      <th>price</th>\n",
       "      <th>campaign_name</th>\n",
       "      <th>mean</th>\n",
       "      <th>median</th>\n",
       "      <th>max</th>\n",
       "      <th>min</th>\n",
       "      <th>routine_flg</th>\n",
       "    </tr>\n",
       "  </thead>\n",
       "  <tbody>\n",
       "    <tr>\n",
       "      <th>0</th>\n",
       "      <td>OA832399</td>\n",
       "      <td>XXXX</td>\n",
       "      <td>C01</td>\n",
       "      <td>F</td>\n",
       "      <td>2015-05-01</td>\n",
       "      <td>NaT</td>\n",
       "      <td>CA1</td>\n",
       "      <td>0</td>\n",
       "      <td>オールタイム</td>\n",
       "      <td>10500</td>\n",
       "      <td>通常</td>\n",
       "      <td>4.833333</td>\n",
       "      <td>5.0</td>\n",
       "      <td>8</td>\n",
       "      <td>2</td>\n",
       "      <td>1</td>\n",
       "    </tr>\n",
       "    <tr>\n",
       "      <th>1</th>\n",
       "      <td>PL270116</td>\n",
       "      <td>XXXXX</td>\n",
       "      <td>C01</td>\n",
       "      <td>M</td>\n",
       "      <td>2015-05-01</td>\n",
       "      <td>NaT</td>\n",
       "      <td>CA1</td>\n",
       "      <td>0</td>\n",
       "      <td>オールタイム</td>\n",
       "      <td>10500</td>\n",
       "      <td>通常</td>\n",
       "      <td>5.083333</td>\n",
       "      <td>5.0</td>\n",
       "      <td>7</td>\n",
       "      <td>3</td>\n",
       "      <td>1</td>\n",
       "    </tr>\n",
       "    <tr>\n",
       "      <th>2</th>\n",
       "      <td>OA974876</td>\n",
       "      <td>XXXXX</td>\n",
       "      <td>C01</td>\n",
       "      <td>M</td>\n",
       "      <td>2015-05-01</td>\n",
       "      <td>NaT</td>\n",
       "      <td>CA1</td>\n",
       "      <td>0</td>\n",
       "      <td>オールタイム</td>\n",
       "      <td>10500</td>\n",
       "      <td>通常</td>\n",
       "      <td>4.583333</td>\n",
       "      <td>5.0</td>\n",
       "      <td>6</td>\n",
       "      <td>3</td>\n",
       "      <td>1</td>\n",
       "    </tr>\n",
       "    <tr>\n",
       "      <th>3</th>\n",
       "      <td>HD024127</td>\n",
       "      <td>XXXXX</td>\n",
       "      <td>C01</td>\n",
       "      <td>F</td>\n",
       "      <td>2015-05-01</td>\n",
       "      <td>NaT</td>\n",
       "      <td>CA1</td>\n",
       "      <td>0</td>\n",
       "      <td>オールタイム</td>\n",
       "      <td>10500</td>\n",
       "      <td>通常</td>\n",
       "      <td>4.833333</td>\n",
       "      <td>4.5</td>\n",
       "      <td>7</td>\n",
       "      <td>2</td>\n",
       "      <td>1</td>\n",
       "    </tr>\n",
       "    <tr>\n",
       "      <th>4</th>\n",
       "      <td>HD661448</td>\n",
       "      <td>XXXXX</td>\n",
       "      <td>C03</td>\n",
       "      <td>F</td>\n",
       "      <td>2015-05-01</td>\n",
       "      <td>NaT</td>\n",
       "      <td>CA1</td>\n",
       "      <td>0</td>\n",
       "      <td>ナイト</td>\n",
       "      <td>6000</td>\n",
       "      <td>通常</td>\n",
       "      <td>3.916667</td>\n",
       "      <td>4.0</td>\n",
       "      <td>6</td>\n",
       "      <td>1</td>\n",
       "      <td>1</td>\n",
       "    </tr>\n",
       "  </tbody>\n",
       "</table>\n",
       "</div>"
      ],
      "text/plain": [
       "  customer_id   name class gender start_date end_date campaign_id  is_deleted  \\\n",
       "0    OA832399   XXXX   C01      F 2015-05-01      NaT         CA1           0   \n",
       "1    PL270116  XXXXX   C01      M 2015-05-01      NaT         CA1           0   \n",
       "2    OA974876  XXXXX   C01      M 2015-05-01      NaT         CA1           0   \n",
       "3    HD024127  XXXXX   C01      F 2015-05-01      NaT         CA1           0   \n",
       "4    HD661448  XXXXX   C03      F 2015-05-01      NaT         CA1           0   \n",
       "\n",
       "  class_name  price campaign_name      mean  median  max  min  routine_flg  \n",
       "0     オールタイム  10500            通常  4.833333     5.0    8    2            1  \n",
       "1     オールタイム  10500            通常  5.083333     5.0    7    3            1  \n",
       "2     オールタイム  10500            通常  4.583333     5.0    6    3            1  \n",
       "3     オールタイム  10500            通常  4.833333     4.5    7    2            1  \n",
       "4        ナイト   6000            通常  3.916667     4.0    6    1            1  "
      ]
     },
     "execution_count": 22,
     "metadata": {},
     "output_type": "execute_result"
    }
   ],
   "source": [
    "customer_join = pd.merge(customer_join, uselog_customer, on=\"customer_id\", how=\"left\")\n",
    "customer_join = pd.merge(customer_join, uselog_weekday[[\"customer_id\", \"routine_flg\"]], on=\"customer_id\", how=\"left\")\n",
    "customer_join.head()"
   ]
  },
  {
   "cell_type": "code",
   "execution_count": 23,
   "id": "bdcf7cd3",
   "metadata": {},
   "outputs": [
    {
     "data": {
      "application/vnd.microsoft.datawrangler.viewer.v0+json": {
       "columns": [
        {
         "name": "index",
         "rawType": "object",
         "type": "string"
        },
        {
         "name": "0",
         "rawType": "int64",
         "type": "integer"
        }
       ],
       "ref": "8587436b-936e-4206-9c80-6bb297134f1a",
       "rows": [
        [
         "customer_id",
         "0"
        ],
        [
         "name",
         "0"
        ],
        [
         "class",
         "0"
        ],
        [
         "gender",
         "0"
        ],
        [
         "start_date",
         "0"
        ],
        [
         "end_date",
         "2842"
        ],
        [
         "campaign_id",
         "0"
        ],
        [
         "is_deleted",
         "0"
        ],
        [
         "class_name",
         "0"
        ],
        [
         "price",
         "0"
        ],
        [
         "campaign_name",
         "0"
        ],
        [
         "mean",
         "0"
        ],
        [
         "median",
         "0"
        ],
        [
         "max",
         "0"
        ],
        [
         "min",
         "0"
        ],
        [
         "routine_flg",
         "0"
        ]
       ],
       "shape": {
        "columns": 1,
        "rows": 16
       }
      },
      "text/plain": [
       "customer_id         0\n",
       "name                0\n",
       "class               0\n",
       "gender              0\n",
       "start_date          0\n",
       "end_date         2842\n",
       "campaign_id         0\n",
       "is_deleted          0\n",
       "class_name          0\n",
       "price               0\n",
       "campaign_name       0\n",
       "mean                0\n",
       "median              0\n",
       "max                 0\n",
       "min                 0\n",
       "routine_flg         0\n",
       "dtype: int64"
      ]
     },
     "execution_count": 23,
     "metadata": {},
     "output_type": "execute_result"
    }
   ],
   "source": [
    "customer_join.isnull().sum()"
   ]
  },
  {
   "cell_type": "code",
   "execution_count": 24,
   "id": "dc52ee5e",
   "metadata": {},
   "outputs": [],
   "source": [
    "from dateutil.relativedelta import relativedelta"
   ]
  },
  {
   "cell_type": "code",
   "execution_count": 26,
   "id": "e2bd00cc",
   "metadata": {},
   "outputs": [
    {
     "data": {
      "application/vnd.microsoft.datawrangler.viewer.v0+json": {
       "columns": [
        {
         "name": "index",
         "rawType": "int64",
         "type": "integer"
        },
        {
         "name": "customer_id",
         "rawType": "object",
         "type": "string"
        },
        {
         "name": "name",
         "rawType": "object",
         "type": "string"
        },
        {
         "name": "class",
         "rawType": "object",
         "type": "string"
        },
        {
         "name": "gender",
         "rawType": "object",
         "type": "string"
        },
        {
         "name": "start_date",
         "rawType": "datetime64[ns]",
         "type": "datetime"
        },
        {
         "name": "end_date",
         "rawType": "datetime64[ns]",
         "type": "datetime"
        },
        {
         "name": "campaign_id",
         "rawType": "object",
         "type": "string"
        },
        {
         "name": "is_deleted",
         "rawType": "int64",
         "type": "integer"
        },
        {
         "name": "class_name",
         "rawType": "object",
         "type": "string"
        },
        {
         "name": "price",
         "rawType": "int64",
         "type": "integer"
        },
        {
         "name": "campaign_name",
         "rawType": "object",
         "type": "string"
        },
        {
         "name": "mean",
         "rawType": "float64",
         "type": "float"
        },
        {
         "name": "median",
         "rawType": "float64",
         "type": "float"
        },
        {
         "name": "max",
         "rawType": "int64",
         "type": "integer"
        },
        {
         "name": "min",
         "rawType": "int64",
         "type": "integer"
        },
        {
         "name": "routine_flg",
         "rawType": "int64",
         "type": "integer"
        },
        {
         "name": "calc_date",
         "rawType": "datetime64[ns]",
         "type": "datetime"
        },
        {
         "name": "membership_period",
         "rawType": "int64",
         "type": "integer"
        }
       ],
       "ref": "e8536535-4823-43fb-93cb-be09c2587dac",
       "rows": [
        [
         "0",
         "OA832399",
         "XXXX",
         "C01",
         "F",
         "2015-05-01 00:00:00",
         null,
         "CA1",
         "0",
         "オールタイム",
         "10500",
         "通常",
         "4.833333333333333",
         "5.0",
         "8",
         "2",
         "1",
         "2019-04-30 00:00:00",
         "47"
        ],
        [
         "1",
         "PL270116",
         "XXXXX",
         "C01",
         "M",
         "2015-05-01 00:00:00",
         null,
         "CA1",
         "0",
         "オールタイム",
         "10500",
         "通常",
         "5.083333333333333",
         "5.0",
         "7",
         "3",
         "1",
         "2019-04-30 00:00:00",
         "47"
        ],
        [
         "2",
         "OA974876",
         "XXXXX",
         "C01",
         "M",
         "2015-05-01 00:00:00",
         null,
         "CA1",
         "0",
         "オールタイム",
         "10500",
         "通常",
         "4.583333333333333",
         "5.0",
         "6",
         "3",
         "1",
         "2019-04-30 00:00:00",
         "47"
        ],
        [
         "3",
         "HD024127",
         "XXXXX",
         "C01",
         "F",
         "2015-05-01 00:00:00",
         null,
         "CA1",
         "0",
         "オールタイム",
         "10500",
         "通常",
         "4.833333333333333",
         "4.5",
         "7",
         "2",
         "1",
         "2019-04-30 00:00:00",
         "47"
        ],
        [
         "4",
         "HD661448",
         "XXXXX",
         "C03",
         "F",
         "2015-05-01 00:00:00",
         null,
         "CA1",
         "0",
         "ナイト",
         "6000",
         "通常",
         "3.9166666666666665",
         "4.0",
         "6",
         "1",
         "1",
         "2019-04-30 00:00:00",
         "47"
        ]
       ],
       "shape": {
        "columns": 18,
        "rows": 5
       }
      },
      "text/html": [
       "<div>\n",
       "<style scoped>\n",
       "    .dataframe tbody tr th:only-of-type {\n",
       "        vertical-align: middle;\n",
       "    }\n",
       "\n",
       "    .dataframe tbody tr th {\n",
       "        vertical-align: top;\n",
       "    }\n",
       "\n",
       "    .dataframe thead th {\n",
       "        text-align: right;\n",
       "    }\n",
       "</style>\n",
       "<table border=\"1\" class=\"dataframe\">\n",
       "  <thead>\n",
       "    <tr style=\"text-align: right;\">\n",
       "      <th></th>\n",
       "      <th>customer_id</th>\n",
       "      <th>name</th>\n",
       "      <th>class</th>\n",
       "      <th>gender</th>\n",
       "      <th>start_date</th>\n",
       "      <th>end_date</th>\n",
       "      <th>campaign_id</th>\n",
       "      <th>is_deleted</th>\n",
       "      <th>class_name</th>\n",
       "      <th>price</th>\n",
       "      <th>campaign_name</th>\n",
       "      <th>mean</th>\n",
       "      <th>median</th>\n",
       "      <th>max</th>\n",
       "      <th>min</th>\n",
       "      <th>routine_flg</th>\n",
       "      <th>calc_date</th>\n",
       "      <th>membership_period</th>\n",
       "    </tr>\n",
       "  </thead>\n",
       "  <tbody>\n",
       "    <tr>\n",
       "      <th>0</th>\n",
       "      <td>OA832399</td>\n",
       "      <td>XXXX</td>\n",
       "      <td>C01</td>\n",
       "      <td>F</td>\n",
       "      <td>2015-05-01</td>\n",
       "      <td>NaT</td>\n",
       "      <td>CA1</td>\n",
       "      <td>0</td>\n",
       "      <td>オールタイム</td>\n",
       "      <td>10500</td>\n",
       "      <td>通常</td>\n",
       "      <td>4.833333</td>\n",
       "      <td>5.0</td>\n",
       "      <td>8</td>\n",
       "      <td>2</td>\n",
       "      <td>1</td>\n",
       "      <td>2019-04-30</td>\n",
       "      <td>47</td>\n",
       "    </tr>\n",
       "    <tr>\n",
       "      <th>1</th>\n",
       "      <td>PL270116</td>\n",
       "      <td>XXXXX</td>\n",
       "      <td>C01</td>\n",
       "      <td>M</td>\n",
       "      <td>2015-05-01</td>\n",
       "      <td>NaT</td>\n",
       "      <td>CA1</td>\n",
       "      <td>0</td>\n",
       "      <td>オールタイム</td>\n",
       "      <td>10500</td>\n",
       "      <td>通常</td>\n",
       "      <td>5.083333</td>\n",
       "      <td>5.0</td>\n",
       "      <td>7</td>\n",
       "      <td>3</td>\n",
       "      <td>1</td>\n",
       "      <td>2019-04-30</td>\n",
       "      <td>47</td>\n",
       "    </tr>\n",
       "    <tr>\n",
       "      <th>2</th>\n",
       "      <td>OA974876</td>\n",
       "      <td>XXXXX</td>\n",
       "      <td>C01</td>\n",
       "      <td>M</td>\n",
       "      <td>2015-05-01</td>\n",
       "      <td>NaT</td>\n",
       "      <td>CA1</td>\n",
       "      <td>0</td>\n",
       "      <td>オールタイム</td>\n",
       "      <td>10500</td>\n",
       "      <td>通常</td>\n",
       "      <td>4.583333</td>\n",
       "      <td>5.0</td>\n",
       "      <td>6</td>\n",
       "      <td>3</td>\n",
       "      <td>1</td>\n",
       "      <td>2019-04-30</td>\n",
       "      <td>47</td>\n",
       "    </tr>\n",
       "    <tr>\n",
       "      <th>3</th>\n",
       "      <td>HD024127</td>\n",
       "      <td>XXXXX</td>\n",
       "      <td>C01</td>\n",
       "      <td>F</td>\n",
       "      <td>2015-05-01</td>\n",
       "      <td>NaT</td>\n",
       "      <td>CA1</td>\n",
       "      <td>0</td>\n",
       "      <td>オールタイム</td>\n",
       "      <td>10500</td>\n",
       "      <td>通常</td>\n",
       "      <td>4.833333</td>\n",
       "      <td>4.5</td>\n",
       "      <td>7</td>\n",
       "      <td>2</td>\n",
       "      <td>1</td>\n",
       "      <td>2019-04-30</td>\n",
       "      <td>47</td>\n",
       "    </tr>\n",
       "    <tr>\n",
       "      <th>4</th>\n",
       "      <td>HD661448</td>\n",
       "      <td>XXXXX</td>\n",
       "      <td>C03</td>\n",
       "      <td>F</td>\n",
       "      <td>2015-05-01</td>\n",
       "      <td>NaT</td>\n",
       "      <td>CA1</td>\n",
       "      <td>0</td>\n",
       "      <td>ナイト</td>\n",
       "      <td>6000</td>\n",
       "      <td>通常</td>\n",
       "      <td>3.916667</td>\n",
       "      <td>4.0</td>\n",
       "      <td>6</td>\n",
       "      <td>1</td>\n",
       "      <td>1</td>\n",
       "      <td>2019-04-30</td>\n",
       "      <td>47</td>\n",
       "    </tr>\n",
       "  </tbody>\n",
       "</table>\n",
       "</div>"
      ],
      "text/plain": [
       "  customer_id   name class gender start_date end_date campaign_id  is_deleted  \\\n",
       "0    OA832399   XXXX   C01      F 2015-05-01      NaT         CA1           0   \n",
       "1    PL270116  XXXXX   C01      M 2015-05-01      NaT         CA1           0   \n",
       "2    OA974876  XXXXX   C01      M 2015-05-01      NaT         CA1           0   \n",
       "3    HD024127  XXXXX   C01      F 2015-05-01      NaT         CA1           0   \n",
       "4    HD661448  XXXXX   C03      F 2015-05-01      NaT         CA1           0   \n",
       "\n",
       "  class_name  price campaign_name      mean  median  max  min  routine_flg  \\\n",
       "0     オールタイム  10500            通常  4.833333     5.0    8    2            1   \n",
       "1     オールタイム  10500            通常  5.083333     5.0    7    3            1   \n",
       "2     オールタイム  10500            通常  4.583333     5.0    6    3            1   \n",
       "3     オールタイム  10500            通常  4.833333     4.5    7    2            1   \n",
       "4        ナイト   6000            通常  3.916667     4.0    6    1            1   \n",
       "\n",
       "   calc_date  membership_period  \n",
       "0 2019-04-30                 47  \n",
       "1 2019-04-30                 47  \n",
       "2 2019-04-30                 47  \n",
       "3 2019-04-30                 47  \n",
       "4 2019-04-30                 47  "
      ]
     },
     "execution_count": 26,
     "metadata": {},
     "output_type": "execute_result"
    }
   ],
   "source": [
    "customer_join[\"calc_date\"] = customer_join[\"end_date\"]\n",
    "customer_join[\"calc_date\"] = customer_join[\"calc_date\"].fillna(pd.to_datetime(\"20190430\"))\n",
    "customer_join[\"membership_period\"] = 0\n",
    "for i in range(len(customer_join)):\n",
    "    delta = relativedelta(customer_join[\"calc_date\"].iloc[i], customer_join[\"start_date\"].iloc[i])\n",
    "    customer_join.loc[i, \"membership_period\"] = delta.years*12 + delta.months\n",
    "customer_join.head()"
   ]
  },
  {
   "cell_type": "code",
   "execution_count": 27,
   "id": "7ca06804",
   "metadata": {},
   "outputs": [
    {
     "data": {
      "application/vnd.microsoft.datawrangler.viewer.v0+json": {
       "columns": [
        {
         "name": "index",
         "rawType": "object",
         "type": "string"
        },
        {
         "name": "mean",
         "rawType": "float64",
         "type": "float"
        },
        {
         "name": "median",
         "rawType": "float64",
         "type": "float"
        },
        {
         "name": "max",
         "rawType": "float64",
         "type": "float"
        },
        {
         "name": "min",
         "rawType": "float64",
         "type": "float"
        }
       ],
       "ref": "31639b69-0cbb-400c-b4ea-a63238803413",
       "rows": [
        [
         "count",
         "4192.0",
         "4192.0",
         "4192.0",
         "4192.0"
        ],
        [
         "mean",
         "5.333126977586662",
         "5.250596374045801",
         "7.823950381679389",
         "3.041269083969466"
        ],
        [
         "std",
         "1.7775332334996437",
         "1.8748736382499618",
         "2.1689593094854556",
         "1.951564566895601"
        ],
        [
         "min",
         "1.0",
         "1.0",
         "1.0",
         "1.0"
        ],
        [
         "25%",
         "4.25",
         "4.0",
         "7.0",
         "2.0"
        ],
        [
         "50%",
         "5.0",
         "5.0",
         "8.0",
         "3.0"
        ],
        [
         "75%",
         "6.416666666666667",
         "6.5",
         "9.0",
         "4.0"
        ],
        [
         "max",
         "12.0",
         "12.0",
         "14.0",
         "12.0"
        ]
       ],
       "shape": {
        "columns": 4,
        "rows": 8
       }
      },
      "text/html": [
       "<div>\n",
       "<style scoped>\n",
       "    .dataframe tbody tr th:only-of-type {\n",
       "        vertical-align: middle;\n",
       "    }\n",
       "\n",
       "    .dataframe tbody tr th {\n",
       "        vertical-align: top;\n",
       "    }\n",
       "\n",
       "    .dataframe thead th {\n",
       "        text-align: right;\n",
       "    }\n",
       "</style>\n",
       "<table border=\"1\" class=\"dataframe\">\n",
       "  <thead>\n",
       "    <tr style=\"text-align: right;\">\n",
       "      <th></th>\n",
       "      <th>mean</th>\n",
       "      <th>median</th>\n",
       "      <th>max</th>\n",
       "      <th>min</th>\n",
       "    </tr>\n",
       "  </thead>\n",
       "  <tbody>\n",
       "    <tr>\n",
       "      <th>count</th>\n",
       "      <td>4192.000000</td>\n",
       "      <td>4192.000000</td>\n",
       "      <td>4192.000000</td>\n",
       "      <td>4192.000000</td>\n",
       "    </tr>\n",
       "    <tr>\n",
       "      <th>mean</th>\n",
       "      <td>5.333127</td>\n",
       "      <td>5.250596</td>\n",
       "      <td>7.823950</td>\n",
       "      <td>3.041269</td>\n",
       "    </tr>\n",
       "    <tr>\n",
       "      <th>std</th>\n",
       "      <td>1.777533</td>\n",
       "      <td>1.874874</td>\n",
       "      <td>2.168959</td>\n",
       "      <td>1.951565</td>\n",
       "    </tr>\n",
       "    <tr>\n",
       "      <th>min</th>\n",
       "      <td>1.000000</td>\n",
       "      <td>1.000000</td>\n",
       "      <td>1.000000</td>\n",
       "      <td>1.000000</td>\n",
       "    </tr>\n",
       "    <tr>\n",
       "      <th>25%</th>\n",
       "      <td>4.250000</td>\n",
       "      <td>4.000000</td>\n",
       "      <td>7.000000</td>\n",
       "      <td>2.000000</td>\n",
       "    </tr>\n",
       "    <tr>\n",
       "      <th>50%</th>\n",
       "      <td>5.000000</td>\n",
       "      <td>5.000000</td>\n",
       "      <td>8.000000</td>\n",
       "      <td>3.000000</td>\n",
       "    </tr>\n",
       "    <tr>\n",
       "      <th>75%</th>\n",
       "      <td>6.416667</td>\n",
       "      <td>6.500000</td>\n",
       "      <td>9.000000</td>\n",
       "      <td>4.000000</td>\n",
       "    </tr>\n",
       "    <tr>\n",
       "      <th>max</th>\n",
       "      <td>12.000000</td>\n",
       "      <td>12.000000</td>\n",
       "      <td>14.000000</td>\n",
       "      <td>12.000000</td>\n",
       "    </tr>\n",
       "  </tbody>\n",
       "</table>\n",
       "</div>"
      ],
      "text/plain": [
       "              mean       median          max          min\n",
       "count  4192.000000  4192.000000  4192.000000  4192.000000\n",
       "mean      5.333127     5.250596     7.823950     3.041269\n",
       "std       1.777533     1.874874     2.168959     1.951565\n",
       "min       1.000000     1.000000     1.000000     1.000000\n",
       "25%       4.250000     4.000000     7.000000     2.000000\n",
       "50%       5.000000     5.000000     8.000000     3.000000\n",
       "75%       6.416667     6.500000     9.000000     4.000000\n",
       "max      12.000000    12.000000    14.000000    12.000000"
      ]
     },
     "execution_count": 27,
     "metadata": {},
     "output_type": "execute_result"
    }
   ],
   "source": [
    "customer_join[[\"mean\", \"median\", \"max\", \"min\"]].describe()"
   ]
  },
  {
   "cell_type": "code",
   "execution_count": 28,
   "id": "b812747e",
   "metadata": {},
   "outputs": [
    {
     "data": {
      "application/vnd.microsoft.datawrangler.viewer.v0+json": {
       "columns": [
        {
         "name": "routine_flg",
         "rawType": "int64",
         "type": "integer"
        },
        {
         "name": "customer_id",
         "rawType": "int64",
         "type": "integer"
        }
       ],
       "ref": "9d3175f2-25a2-4fef-a782-171a4085a2be",
       "rows": [
        [
         "0",
         "779"
        ],
        [
         "1",
         "3413"
        ]
       ],
       "shape": {
        "columns": 1,
        "rows": 2
       }
      },
      "text/plain": [
       "routine_flg\n",
       "0     779\n",
       "1    3413\n",
       "Name: customer_id, dtype: int64"
      ]
     },
     "execution_count": 28,
     "metadata": {},
     "output_type": "execute_result"
    }
   ],
   "source": [
    "customer_join.groupby(\"routine_flg\").count()[\"customer_id\"]"
   ]
  },
  {
   "cell_type": "code",
   "execution_count": 29,
   "id": "fd4d5037",
   "metadata": {},
   "outputs": [],
   "source": [
    "import matplotlib.pyplot as plt"
   ]
  },
  {
   "cell_type": "code",
   "execution_count": 31,
   "id": "e591117f",
   "metadata": {},
   "outputs": [
    {
     "data": {
      "text/plain": [
       "(array([857., 774., 395., 368., 311., 331., 323., 237., 288., 308.]),\n",
       " array([ 1. ,  5.6, 10.2, 14.8, 19.4, 24. , 28.6, 33.2, 37.8, 42.4, 47. ]),\n",
       " <BarContainer object of 10 artists>)"
      ]
     },
     "execution_count": 31,
     "metadata": {},
     "output_type": "execute_result"
    },
    {
     "data": {
      "image/png": "[encoded data removed]",
      "text/plain": [
       "<Figure size 640x480 with 1 Axes>"
      ]
     },
     "metadata": {},
     "output_type": "display_data"
    }
   ],
   "source": [
    "plt.hist(customer_join[\"membership_period\"])"
   ]
  },
  {
   "cell_type": "code",
   "execution_count": 32,
   "id": "d873d42e",
   "metadata": {},
   "outputs": [
    {
     "data": {
      "application/vnd.microsoft.datawrangler.viewer.v0+json": {
       "columns": [
        {
         "name": "index",
         "rawType": "object",
         "type": "string"
        },
        {
         "name": "start_date",
         "rawType": "object",
         "type": "unknown"
        },
        {
         "name": "end_date",
         "rawType": "object",
         "type": "unknown"
        },
        {
         "name": "is_deleted",
         "rawType": "float64",
         "type": "float"
        },
        {
         "name": "price",
         "rawType": "float64",
         "type": "float"
        },
        {
         "name": "mean",
         "rawType": "float64",
         "type": "float"
        },
        {
         "name": "median",
         "rawType": "float64",
         "type": "float"
        },
        {
         "name": "max",
         "rawType": "float64",
         "type": "float"
        },
        {
         "name": "min",
         "rawType": "float64",
         "type": "float"
        },
        {
         "name": "routine_flg",
         "rawType": "float64",
         "type": "float"
        },
        {
         "name": "calc_date",
         "rawType": "object",
         "type": "unknown"
        },
        {
         "name": "membership_period",
         "rawType": "float64",
         "type": "float"
        }
       ],
       "ref": "d60ef63e-102f-46bd-a6f4-37c75b94c4c1",
       "rows": [
        [
         "count",
         "1350",
         "1350",
         "1350.0",
         "1350.0",
         "1350.0",
         "1350.0",
         "1350.0",
         "1350.0",
         "1350.0",
         "1350",
         "1350.0"
        ],
        [
         "mean",
         "2018-01-20 10:45:20",
         "2018-10-17 16:23:28",
         "1.0",
         "8595.555555555555",
         "3.8654737053070387",
         "3.6218518518518517",
         "6.461481481481481",
         "1.8214814814814815",
         "0.4562962962962963",
         "2018-10-17 16:23:28",
         "8.026666666666667"
        ],
        [
         "min",
         "2016-05-01 00:00:00",
         "2018-04-30 00:00:00",
         "1.0",
         "6000.0",
         "1.0",
         "1.0",
         "1.0",
         "1.0",
         "0.0",
         "2018-04-30 00:00:00",
         "1.0"
        ],
        [
         "25%",
         "2017-10-01 00:00:00",
         "2018-06-30 00:00:00",
         "1.0",
         "6000.0",
         "3.0",
         "3.0",
         "4.0",
         "1.0",
         "0.0",
         "2018-06-30 00:00:00",
         "4.0"
        ],
        [
         "50%",
         "2018-03-01 00:00:00",
         "2018-10-31 00:00:00",
         "1.0",
         "7500.0",
         "4.0",
         "4.0",
         "7.0",
         "2.0",
         "0.0",
         "2018-10-31 00:00:00",
         "7.0"
        ],
        [
         "75%",
         "2018-06-03 00:00:00",
         "2019-01-31 00:00:00",
         "1.0",
         "10500.0",
         "4.666666666666667",
         "4.5",
         "8.0",
         "2.0",
         "1.0",
         "2019-01-31 00:00:00",
         "11.0"
        ],
        [
         "max",
         "2019-02-11 00:00:00",
         "2019-03-31 00:00:00",
         "1.0",
         "10500.0",
         "9.0",
         "9.0",
         "13.0",
         "8.0",
         "1.0",
         "2019-03-31 00:00:00",
         "23.0"
        ],
        [
         "std",
         null,
         null,
         "0.0",
         "1949.1636520380964",
         "1.2463854246394106",
         "1.270847026530297",
         "2.584021299521409",
         "0.9763614687174133",
         "0.49827090309377875",
         null,
         "5.033692265187439"
        ]
       ],
       "shape": {
        "columns": 11,
        "rows": 8
       }
      },
      "text/html": [
       "<div>\n",
       "<style scoped>\n",
       "    .dataframe tbody tr th:only-of-type {\n",
       "        vertical-align: middle;\n",
       "    }\n",
       "\n",
       "    .dataframe tbody tr th {\n",
       "        vertical-align: top;\n",
       "    }\n",
       "\n",
       "    .dataframe thead th {\n",
       "        text-align: right;\n",
       "    }\n",
       "</style>\n",
       "<table border=\"1\" class=\"dataframe\">\n",
       "  <thead>\n",
       "    <tr style=\"text-align: right;\">\n",
       "      <th></th>\n",
       "      <th>start_date</th>\n",
       "      <th>end_date</th>\n",
       "      <th>is_deleted</th>\n",
       "      <th>price</th>\n",
       "      <th>mean</th>\n",
       "      <th>median</th>\n",
       "      <th>max</th>\n",
       "      <th>min</th>\n",
       "      <th>routine_flg</th>\n",
       "      <th>calc_date</th>\n",
       "      <th>membership_period</th>\n",
       "    </tr>\n",
       "  </thead>\n",
       "  <tbody>\n",
       "    <tr>\n",
       "      <th>count</th>\n",
       "      <td>1350</td>\n",
       "      <td>1350</td>\n",
       "      <td>1350.0</td>\n",
       "      <td>1350.000000</td>\n",
       "      <td>1350.000000</td>\n",
       "      <td>1350.000000</td>\n",
       "      <td>1350.000000</td>\n",
       "      <td>1350.000000</td>\n",
       "      <td>1350.000000</td>\n",
       "      <td>1350</td>\n",
       "      <td>1350.000000</td>\n",
       "    </tr>\n",
       "    <tr>\n",
       "      <th>mean</th>\n",
       "      <td>2018-01-20 10:45:20</td>\n",
       "      <td>2018-10-17 16:23:28</td>\n",
       "      <td>1.0</td>\n",
       "      <td>8595.555556</td>\n",
       "      <td>3.865474</td>\n",
       "      <td>3.621852</td>\n",
       "      <td>6.461481</td>\n",
       "      <td>1.821481</td>\n",
       "      <td>0.456296</td>\n",
       "      <td>2018-10-17 16:23:28</td>\n",
       "      <td>8.026667</td>\n",
       "    </tr>\n",
       "    <tr>\n",
       "      <th>min</th>\n",
       "      <td>2016-05-01 00:00:00</td>\n",
       "      <td>2018-04-30 00:00:00</td>\n",
       "      <td>1.0</td>\n",
       "      <td>6000.000000</td>\n",
       "      <td>1.000000</td>\n",
       "      <td>1.000000</td>\n",
       "      <td>1.000000</td>\n",
       "      <td>1.000000</td>\n",
       "      <td>0.000000</td>\n",
       "      <td>2018-04-30 00:00:00</td>\n",
       "      <td>1.000000</td>\n",
       "    </tr>\n",
       "    <tr>\n",
       "      <th>25%</th>\n",
       "      <td>2017-10-01 00:00:00</td>\n",
       "      <td>2018-06-30 00:00:00</td>\n",
       "      <td>1.0</td>\n",
       "      <td>6000.000000</td>\n",
       "      <td>3.000000</td>\n",
       "      <td>3.000000</td>\n",
       "      <td>4.000000</td>\n",
       "      <td>1.000000</td>\n",
       "      <td>0.000000</td>\n",
       "      <td>2018-06-30 00:00:00</td>\n",
       "      <td>4.000000</td>\n",
       "    </tr>\n",
       "    <tr>\n",
       "      <th>50%</th>\n",
       "      <td>2018-03-01 00:00:00</td>\n",
       "      <td>2018-10-31 00:00:00</td>\n",
       "      <td>1.0</td>\n",
       "      <td>7500.000000</td>\n",
       "      <td>4.000000</td>\n",
       "      <td>4.000000</td>\n",
       "      <td>7.000000</td>\n",
       "      <td>2.000000</td>\n",
       "      <td>0.000000</td>\n",
       "      <td>2018-10-31 00:00:00</td>\n",
       "      <td>7.000000</td>\n",
       "    </tr>\n",
       "    <tr>\n",
       "      <th>75%</th>\n",
       "      <td>2018-06-03 00:00:00</td>\n",
       "      <td>2019-01-31 00:00:00</td>\n",
       "      <td>1.0</td>\n",
       "      <td>10500.000000</td>\n",
       "      <td>4.666667</td>\n",
       "      <td>4.500000</td>\n",
       "      <td>8.000000</td>\n",
       "      <td>2.000000</td>\n",
       "      <td>1.000000</td>\n",
       "      <td>2019-01-31 00:00:00</td>\n",
       "      <td>11.000000</td>\n",
       "    </tr>\n",
       "    <tr>\n",
       "      <th>max</th>\n",
       "      <td>2019-02-11 00:00:00</td>\n",
       "      <td>2019-03-31 00:00:00</td>\n",
       "      <td>1.0</td>\n",
       "      <td>10500.000000</td>\n",
       "      <td>9.000000</td>\n",
       "      <td>9.000000</td>\n",
       "      <td>13.000000</td>\n",
       "      <td>8.000000</td>\n",
       "      <td>1.000000</td>\n",
       "      <td>2019-03-31 00:00:00</td>\n",
       "      <td>23.000000</td>\n",
       "    </tr>\n",
       "    <tr>\n",
       "      <th>std</th>\n",
       "      <td>NaN</td>\n",
       "      <td>NaN</td>\n",
       "      <td>0.0</td>\n",
       "      <td>1949.163652</td>\n",
       "      <td>1.246385</td>\n",
       "      <td>1.270847</td>\n",
       "      <td>2.584021</td>\n",
       "      <td>0.976361</td>\n",
       "      <td>0.498271</td>\n",
       "      <td>NaN</td>\n",
       "      <td>5.033692</td>\n",
       "    </tr>\n",
       "  </tbody>\n",
       "</table>\n",
       "</div>"
      ],
      "text/plain": [
       "                start_date             end_date  is_deleted         price  \\\n",
       "count                 1350                 1350      1350.0   1350.000000   \n",
       "mean   2018-01-20 10:45:20  2018-10-17 16:23:28         1.0   8595.555556   \n",
       "min    2016-05-01 00:00:00  2018-04-30 00:00:00         1.0   6000.000000   \n",
       "25%    2017-10-01 00:00:00  2018-06-30 00:00:00         1.0   6000.000000   \n",
       "50%    2018-03-01 00:00:00  2018-10-31 00:00:00         1.0   7500.000000   \n",
       "75%    2018-06-03 00:00:00  2019-01-31 00:00:00         1.0  10500.000000   \n",
       "max    2019-02-11 00:00:00  2019-03-31 00:00:00         1.0  10500.000000   \n",
       "std                    NaN                  NaN         0.0   1949.163652   \n",
       "\n",
       "              mean       median          max          min  routine_flg  \\\n",
       "count  1350.000000  1350.000000  1350.000000  1350.000000  1350.000000   \n",
       "mean      3.865474     3.621852     6.461481     1.821481     0.456296   \n",
       "min       1.000000     1.000000     1.000000     1.000000     0.000000   \n",
       "25%       3.000000     3.000000     4.000000     1.000000     0.000000   \n",
       "50%       4.000000     4.000000     7.000000     2.000000     0.000000   \n",
       "75%       4.666667     4.500000     8.000000     2.000000     1.000000   \n",
       "max       9.000000     9.000000    13.000000     8.000000     1.000000   \n",
       "std       1.246385     1.270847     2.584021     0.976361     0.498271   \n",
       "\n",
       "                 calc_date  membership_period  \n",
       "count                 1350        1350.000000  \n",
       "mean   2018-10-17 16:23:28           8.026667  \n",
       "min    2018-04-30 00:00:00           1.000000  \n",
       "25%    2018-06-30 00:00:00           4.000000  \n",
       "50%    2018-10-31 00:00:00           7.000000  \n",
       "75%    2019-01-31 00:00:00          11.000000  \n",
       "max    2019-03-31 00:00:00          23.000000  \n",
       "std                    NaN           5.033692  "
      ]
     },
     "execution_count": 32,
     "metadata": {},
     "output_type": "execute_result"
    }
   ],
   "source": [
    "customer_end = customer_join.loc[customer_join[\"is_deleted\"]==1]\n",
    "customer_end.describe()"
   ]
  },
  {
   "cell_type": "code",
   "execution_count": 33,
   "id": "9bbc6867",
   "metadata": {},
   "outputs": [
    {
     "data": {
      "application/vnd.microsoft.datawrangler.viewer.v0+json": {
       "columns": [
        {
         "name": "index",
         "rawType": "object",
         "type": "string"
        },
        {
         "name": "start_date",
         "rawType": "object",
         "type": "unknown"
        },
        {
         "name": "end_date",
         "rawType": "object",
         "type": "unknown"
        },
        {
         "name": "is_deleted",
         "rawType": "float64",
         "type": "float"
        },
        {
         "name": "price",
         "rawType": "float64",
         "type": "float"
        },
        {
         "name": "mean",
         "rawType": "float64",
         "type": "float"
        },
        {
         "name": "median",
         "rawType": "float64",
         "type": "float"
        },
        {
         "name": "max",
         "rawType": "float64",
         "type": "float"
        },
        {
         "name": "min",
         "rawType": "float64",
         "type": "float"
        },
        {
         "name": "routine_flg",
         "rawType": "float64",
         "type": "float"
        },
        {
         "name": "calc_date",
         "rawType": "object",
         "type": "unknown"
        },
        {
         "name": "membership_period",
         "rawType": "float64",
         "type": "float"
        }
       ],
       "ref": "37030317-0ef0-4f26-b961-a98ebab9d270",
       "rows": [
        [
         "count",
         "2842",
         "0",
         "2842.0",
         "2842.0",
         "2842.0",
         "2842.0",
         "2842.0",
         "2842.0",
         "2842.0",
         "2842",
         "2842.0"
        ],
        [
         "mean",
         "2017-04-03 22:42:28.627726848",
         null,
         "0.0",
         "8542.92751583392",
         "6.030288102701896",
         "6.024278676988037",
         "8.471147079521463",
         "3.6206896551724137",
         "0.9841660802251935",
         "2019-04-30 00:00:00",
         "23.970443349753694"
        ],
        [
         "min",
         "2015-05-01 00:00:00",
         null,
         "0.0",
         "6000.0",
         "3.1666666666666665",
         "3.0",
         "5.0",
         "1.0",
         "0.0",
         "2019-04-30 00:00:00",
         "1.0"
        ],
        [
         "25%",
         "2016-05-01 00:00:00",
         null,
         "0.0",
         "6000.0",
         "4.833333333333333",
         "5.0",
         "7.0",
         "2.0",
         "1.0",
         "2019-04-30 00:00:00",
         "12.0"
        ],
        [
         "50%",
         "2017-04-01 00:00:00",
         null,
         "0.0",
         "7500.0",
         "5.583333333333333",
         "5.5",
         "8.0",
         "3.0",
         "1.0",
         "2019-04-30 00:00:00",
         "24.0"
        ],
        [
         "75%",
         "2018-04-05 00:00:00",
         null,
         "0.0",
         "10500.0",
         "7.178030303030303",
         "7.0",
         "10.0",
         "5.0",
         "1.0",
         "2019-04-30 00:00:00",
         "35.0"
        ],
        [
         "max",
         "2019-03-15 00:00:00",
         null,
         "0.0",
         "10500.0",
         "12.0",
         "12.0",
         "14.0",
         "12.0",
         "1.0",
         "2019-04-30 00:00:00",
         "47.0"
        ],
        [
         "std",
         null,
         null,
         "0.0",
         "1977.1897794138188",
         "1.5535869877828539",
         "1.5997651151165164",
         "1.5710481237545457",
         "2.030487744759296",
         "0.12485468302241265",
         null,
         "13.746760742777774"
        ]
       ],
       "shape": {
        "columns": 11,
        "rows": 8
       }
      },
      "text/html": [
       "<div>\n",
       "<style scoped>\n",
       "    .dataframe tbody tr th:only-of-type {\n",
       "        vertical-align: middle;\n",
       "    }\n",
       "\n",
       "    .dataframe tbody tr th {\n",
       "        vertical-align: top;\n",
       "    }\n",
       "\n",
       "    .dataframe thead th {\n",
       "        text-align: right;\n",
       "    }\n",
       "</style>\n",
       "<table border=\"1\" class=\"dataframe\">\n",
       "  <thead>\n",
       "    <tr style=\"text-align: right;\">\n",
       "      <th></th>\n",
       "      <th>start_date</th>\n",
       "      <th>end_date</th>\n",
       "      <th>is_deleted</th>\n",
       "      <th>price</th>\n",
       "      <th>mean</th>\n",
       "      <th>median</th>\n",
       "      <th>max</th>\n",
       "      <th>min</th>\n",
       "      <th>routine_flg</th>\n",
       "      <th>calc_date</th>\n",
       "      <th>membership_period</th>\n",
       "    </tr>\n",
       "  </thead>\n",
       "  <tbody>\n",
       "    <tr>\n",
       "      <th>count</th>\n",
       "      <td>2842</td>\n",
       "      <td>0</td>\n",
       "      <td>2842.0</td>\n",
       "      <td>2842.000000</td>\n",
       "      <td>2842.000000</td>\n",
       "      <td>2842.000000</td>\n",
       "      <td>2842.000000</td>\n",
       "      <td>2842.000000</td>\n",
       "      <td>2842.000000</td>\n",
       "      <td>2842</td>\n",
       "      <td>2842.000000</td>\n",
       "    </tr>\n",
       "    <tr>\n",
       "      <th>mean</th>\n",
       "      <td>2017-04-03 22:42:28.627726848</td>\n",
       "      <td>NaT</td>\n",
       "      <td>0.0</td>\n",
       "      <td>8542.927516</td>\n",
       "      <td>6.030288</td>\n",
       "      <td>6.024279</td>\n",
       "      <td>8.471147</td>\n",
       "      <td>3.620690</td>\n",
       "      <td>0.984166</td>\n",
       "      <td>2019-04-30 00:00:00</td>\n",
       "      <td>23.970443</td>\n",
       "    </tr>\n",
       "    <tr>\n",
       "      <th>min</th>\n",
       "      <td>2015-05-01 00:00:00</td>\n",
       "      <td>NaT</td>\n",
       "      <td>0.0</td>\n",
       "      <td>6000.000000</td>\n",
       "      <td>3.166667</td>\n",
       "      <td>3.000000</td>\n",
       "      <td>5.000000</td>\n",
       "      <td>1.000000</td>\n",
       "      <td>0.000000</td>\n",
       "      <td>2019-04-30 00:00:00</td>\n",
       "      <td>1.000000</td>\n",
       "    </tr>\n",
       "    <tr>\n",
       "      <th>25%</th>\n",
       "      <td>2016-05-01 00:00:00</td>\n",
       "      <td>NaT</td>\n",
       "      <td>0.0</td>\n",
       "      <td>6000.000000</td>\n",
       "      <td>4.833333</td>\n",
       "      <td>5.000000</td>\n",
       "      <td>7.000000</td>\n",
       "      <td>2.000000</td>\n",
       "      <td>1.000000</td>\n",
       "      <td>2019-04-30 00:00:00</td>\n",
       "      <td>12.000000</td>\n",
       "    </tr>\n",
       "    <tr>\n",
       "      <th>50%</th>\n",
       "      <td>2017-04-01 00:00:00</td>\n",
       "      <td>NaT</td>\n",
       "      <td>0.0</td>\n",
       "      <td>7500.000000</td>\n",
       "      <td>5.583333</td>\n",
       "      <td>5.500000</td>\n",
       "      <td>8.000000</td>\n",
       "      <td>3.000000</td>\n",
       "      <td>1.000000</td>\n",
       "      <td>2019-04-30 00:00:00</td>\n",
       "      <td>24.000000</td>\n",
       "    </tr>\n",
       "    <tr>\n",
       "      <th>75%</th>\n",
       "      <td>2018-04-05 00:00:00</td>\n",
       "      <td>NaT</td>\n",
       "      <td>0.0</td>\n",
       "      <td>10500.000000</td>\n",
       "      <td>7.178030</td>\n",
       "      <td>7.000000</td>\n",
       "      <td>10.000000</td>\n",
       "      <td>5.000000</td>\n",
       "      <td>1.000000</td>\n",
       "      <td>2019-04-30 00:00:00</td>\n",
       "      <td>35.000000</td>\n",
       "    </tr>\n",
       "    <tr>\n",
       "      <th>max</th>\n",
       "      <td>2019-03-15 00:00:00</td>\n",
       "      <td>NaT</td>\n",
       "      <td>0.0</td>\n",
       "      <td>10500.000000</td>\n",
       "      <td>12.000000</td>\n",
       "      <td>12.000000</td>\n",
       "      <td>14.000000</td>\n",
       "      <td>12.000000</td>\n",
       "      <td>1.000000</td>\n",
       "      <td>2019-04-30 00:00:00</td>\n",
       "      <td>47.000000</td>\n",
       "    </tr>\n",
       "    <tr>\n",
       "      <th>std</th>\n",
       "      <td>NaN</td>\n",
       "      <td>NaN</td>\n",
       "      <td>0.0</td>\n",
       "      <td>1977.189779</td>\n",
       "      <td>1.553587</td>\n",
       "      <td>1.599765</td>\n",
       "      <td>1.571048</td>\n",
       "      <td>2.030488</td>\n",
       "      <td>0.124855</td>\n",
       "      <td>NaN</td>\n",
       "      <td>13.746761</td>\n",
       "    </tr>\n",
       "  </tbody>\n",
       "</table>\n",
       "</div>"
      ],
      "text/plain": [
       "                          start_date end_date  is_deleted         price  \\\n",
       "count                           2842        0      2842.0   2842.000000   \n",
       "mean   2017-04-03 22:42:28.627726848      NaT         0.0   8542.927516   \n",
       "min              2015-05-01 00:00:00      NaT         0.0   6000.000000   \n",
       "25%              2016-05-01 00:00:00      NaT         0.0   6000.000000   \n",
       "50%              2017-04-01 00:00:00      NaT         0.0   7500.000000   \n",
       "75%              2018-04-05 00:00:00      NaT         0.0  10500.000000   \n",
       "max              2019-03-15 00:00:00      NaT         0.0  10500.000000   \n",
       "std                              NaN      NaN         0.0   1977.189779   \n",
       "\n",
       "              mean       median          max          min  routine_flg  \\\n",
       "count  2842.000000  2842.000000  2842.000000  2842.000000  2842.000000   \n",
       "mean      6.030288     6.024279     8.471147     3.620690     0.984166   \n",
       "min       3.166667     3.000000     5.000000     1.000000     0.000000   \n",
       "25%       4.833333     5.000000     7.000000     2.000000     1.000000   \n",
       "50%       5.583333     5.500000     8.000000     3.000000     1.000000   \n",
       "75%       7.178030     7.000000    10.000000     5.000000     1.000000   \n",
       "max      12.000000    12.000000    14.000000    12.000000     1.000000   \n",
       "std       1.553587     1.599765     1.571048     2.030488     0.124855   \n",
       "\n",
       "                 calc_date  membership_period  \n",
       "count                 2842        2842.000000  \n",
       "mean   2019-04-30 00:00:00          23.970443  \n",
       "min    2019-04-30 00:00:00           1.000000  \n",
       "25%    2019-04-30 00:00:00          12.000000  \n",
       "50%    2019-04-30 00:00:00          24.000000  \n",
       "75%    2019-04-30 00:00:00          35.000000  \n",
       "max    2019-04-30 00:00:00          47.000000  \n",
       "std                    NaN          13.746761  "
      ]
     },
     "execution_count": 33,
     "metadata": {},
     "output_type": "execute_result"
    }
   ],
   "source": [
    "customer_stay = customer_join.loc[customer_join[\"is_deleted\"]==0]\n",
    "customer_stay.describe()"
   ]
  },
  {
   "cell_type": "code",
   "execution_count": 34,
   "id": "5c9619d6",
   "metadata": {},
   "outputs": [],
   "source": [
    "customer_join.to_csv(\"../Datasets/customer_join.csv\", index=False)"
   ]
  },
  {
   "cell_type": "code",
   "execution_count": null,
   "id": "5851a28f",
   "metadata": {},
   "outputs": [],
   "source": []
  }
 ],
 "metadata": {
  "kernelspec": {
   "display_name": "basic2",
   "language": "python",
   "name": "python3"
  },
  "language_info": {
   "codemirror_mode": {
    "name": "ipython",
    "version": 3
   },
   "file_extension": ".py",
   "mimetype": "text/x-python",
   "name": "python",
   "nbconvert_exporter": "python",
   "pygments_lexer": "ipython3",
   "version": "3.11.13"
  }
 },
 "nbformat": 4,
 "nbformat_minor": 5
}
